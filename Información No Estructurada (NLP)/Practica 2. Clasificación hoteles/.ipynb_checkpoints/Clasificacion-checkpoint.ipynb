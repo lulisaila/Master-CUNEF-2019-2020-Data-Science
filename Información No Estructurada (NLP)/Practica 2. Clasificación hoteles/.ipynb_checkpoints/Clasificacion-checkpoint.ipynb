{
 "cells": [
  {
   "cell_type": "code",
   "execution_count": 1,
   "metadata": {},
   "outputs": [],
   "source": [
    "# Importamos las librerías\n",
    "\n",
    "import pandas as pd\n",
    "import numpy as np\n",
    "from nltk.tokenize import word_tokenize\n",
    "from nltk import pos_tag\n",
    "from nltk.corpus import stopwords\n",
    "from nltk.stem import WordNetLemmatizer\n",
    "from sklearn.preprocessing import LabelEncoder\n",
    "from collections import defaultdict\n",
    "from nltk.corpus import wordnet as wn\n",
    "from sklearn.feature_extraction.text import TfidfVectorizer\n",
    "from sklearn import model_selection, naive_bayes, svm\n",
    "from sklearn.metrics import accuracy_score\n",
    "from sklearn.metrics import confusion_matrix"
   ]
  },
  {
   "cell_type": "code",
   "execution_count": 4,
   "metadata": {},
   "outputs": [
    {
     "name": "stderr",
     "output_type": "stream",
     "text": [
      "[nltk_data] Downloading package punkt to\n",
      "[nltk_data]     C:\\Users\\Luli\\AppData\\Roaming\\nltk_data...\n",
      "[nltk_data]   Unzipping tokenizers\\punkt.zip.\n",
      "[nltk_data] Downloading package wordnet to\n",
      "[nltk_data]     C:\\Users\\Luli\\AppData\\Roaming\\nltk_data...\n",
      "[nltk_data]   Unzipping corpora\\wordnet.zip.\n",
      "[nltk_data] Downloading package averaged_perceptron_tagger to\n",
      "[nltk_data]     C:\\Users\\Luli\\AppData\\Roaming\\nltk_data...\n",
      "[nltk_data]   Unzipping taggers\\averaged_perceptron_tagger.zip.\n"
     ]
    },
    {
     "data": {
      "text/plain": [
       "True"
      ]
     },
     "execution_count": 4,
     "metadata": {},
     "output_type": "execute_result"
    }
   ],
   "source": [
    "#import nltk\n",
    "#nltk.download('punkt')\n",
    "#nltk.download('wordnet')\n",
    "#nltk.download('averaged_perceptron_tagger')"
   ]
  },
  {
   "cell_type": "code",
   "execution_count": 2,
   "metadata": {},
   "outputs": [
    {
     "name": "stdout",
     "output_type": "stream",
     "text": [
      "                                                   text        label\n",
      "0      Stuning even for the non-gamer: This sound tr...  __label__2 \n",
      "1      The best soundtrack ever to anything.: I'm re...  __label__2 \n",
      "2      Amazing!: This soundtrack is my favorite musi...  __label__2 \n",
      "3      Excellent Soundtrack: I truly like this sound...  __label__2 \n",
      "4      Remember, Pull Your Jaw Off The Floor After H...  __label__2 \n",
      "...                                                 ...          ...\n",
      "9995   A revelation of life in small town America in...  __label__2 \n",
      "9996   Great biography of a very interesting journal...  __label__2 \n",
      "9997   Interesting Subject; Poor Presentation: You'd...  __label__1 \n",
      "9998   Don't buy: The box looked used and it is obvi...  __label__1 \n",
      "9999   Beautiful Pen and Fast Delivery.: The pen was...  __label__2 \n",
      "\n",
      "[10000 rows x 2 columns]\n"
     ]
    }
   ],
   "source": [
    "# Constitución del Corpus\n",
    "\n",
    "#Set Random seed\n",
    "np.random.seed(500)\n",
    "\n",
    "# Add the Data using pandas\n",
    "Corpus = pd.read_csv(r\"corpus.csv\",encoding='latin-1')\n",
    "\n",
    "print(Corpus)\n"
   ]
  },
  {
   "cell_type": "code",
   "execution_count": 5,
   "metadata": {},
   "outputs": [
    {
     "name": "stdout",
     "output_type": "stream",
     "text": [
      "0    ['stun', 'even', 'sound', 'track', 'beautiful'...\n",
      "1    ['best', 'soundtrack', 'ever', 'anything', 're...\n",
      "2    ['amaze', 'soundtrack', 'favorite', 'music', '...\n",
      "3    ['excellent', 'soundtrack', 'truly', 'like', '...\n",
      "4    ['remember', 'pull', 'jaw', 'floor', 'hear', '...\n",
      "Name: text_final, dtype: object\n"
     ]
    }
   ],
   "source": [
    "# Preprocesamiento\n",
    "\n",
    "# Paso - 1a : Elimimamos lineas vacías.\n",
    "Corpus['text'].dropna(inplace=True)\n",
    "\n",
    "# Paso - 1b : Conversión a minúsculas\n",
    "Corpus['text'] = [entry.lower() for entry in Corpus['text']]\n",
    "\n",
    "# Paso - 1c : Tokenization\n",
    "Corpus['text']= [word_tokenize(entry) for entry in Corpus['text']]\n",
    "\n",
    "# Paso - 1d : Eliminamos Stop words, Stemming y Lematización.\n",
    "\n",
    "tag_map = defaultdict(lambda : wn.NOUN)\n",
    "tag_map['J'] = wn.ADJ\n",
    "tag_map['V'] = wn.VERB\n",
    "tag_map['R'] = wn.ADV\n",
    "\n",
    "\n",
    "for index,entry in enumerate(Corpus['text']):\n",
    "    # Inicialización de Final_words vacía\n",
    "    Final_words = []\n",
    "    # Inicializacion de WordNetLemmatizer()\n",
    "    word_Lemmatized = WordNetLemmatizer()\n",
    "    # pos_tag\n",
    "    for word, tag in pos_tag(entry):\n",
    "        # Eliminamos Stop words y caracteres no alfabéticos\n",
    "        if word not in stopwords.words('english') and word.isalpha():\n",
    "            word_Final = word_Lemmatized.lemmatize(word,tag_map[tag[0]])\n",
    "            Final_words.append(word_Final)\n",
    "    # El texto preprocesado se almacena en 'text_final'\n",
    "    Corpus.loc[index,'text_final'] = str(Final_words)\n",
    "\n",
    "print(Corpus['text_final'].head())"
   ]
  },
  {
   "cell_type": "code",
   "execution_count": 6,
   "metadata": {},
   "outputs": [],
   "source": [
    "# División en conjunto de entrenamiento y test\n",
    "\n",
    "Train_X, Test_X, Train_Y, Test_Y = model_selection.train_test_split(Corpus['text_final'],Corpus['label'],test_size=0.3)\n"
   ]
  },
  {
   "cell_type": "code",
   "execution_count": 7,
   "metadata": {},
   "outputs": [],
   "source": [
    "# Codificación de etiquetas (categorías)\n",
    "# Las categorías tienen una etiqueta tipo string, pero los algoritmos de clasifiación necesitan un valor numérico\n",
    "\n",
    "Encoder = LabelEncoder()\n",
    "Train_Y = Encoder.fit_transform(Train_Y)\n",
    "Test_Y = Encoder.fit_transform(Test_Y)"
   ]
  },
  {
   "cell_type": "code",
   "execution_count": 8,
   "metadata": {},
   "outputs": [],
   "source": [
    "# Vectorización: consitución de matrices tf-idf a partir de los subconjuntos de entrenamiento y test\n",
    "\n",
    "Tfidf_vect = TfidfVectorizer(max_features=5000)\n",
    "Tfidf_vect.fit(Corpus['text_final'])\n",
    "\n",
    "Train_X_Tfidf = Tfidf_vect.transform(Train_X)\n",
    "Test_X_Tfidf = Tfidf_vect.transform(Test_X)\n"
   ]
  },
  {
   "cell_type": "code",
   "execution_count": 9,
   "metadata": {},
   "outputs": [
    {
     "name": "stdout",
     "output_type": "stream",
     "text": [
      "Naive Bayes Accuracy Score ->  83.23333333333333\n",
      "Naive Bayes Confusion Matrix:\n",
      "[[1312  226]\n",
      " [ 277 1185]]\n",
      "SVM Accuracy Score ->  84.66666666666667\n",
      "SVM Matrix:\n",
      "[[1302  236]\n",
      " [ 224 1238]]\n"
     ]
    }
   ],
   "source": [
    "# Generación de los modelos\n",
    "\n",
    "# Algoritmo - Naive Bayes\n",
    "# Se añade al clasificador el subconjunto de entrenamiento\n",
    "Naive = naive_bayes.MultinomialNB()\n",
    "Naive.fit(Train_X_Tfidf,Train_Y)\n",
    "\n",
    "# Se generan las predicciones\n",
    "predictions_NB = Naive.predict(Test_X_Tfidf)\n",
    "\n",
    "# Y se obtiene la precisión del modelo \n",
    "print(\"Naive Bayes Accuracy Score -> \",accuracy_score(predictions_NB, Test_Y)*100)\n",
    "print(\"Naive Bayes Confusion Matrix:\")\n",
    "print(confusion_matrix(Test_Y,predictions_NB))\n",
    "\n",
    "# Algoritmo - SVM\n",
    "# Se añade al clasificador el subconjunto de entrenamiento\n",
    "SVM = svm.SVC(C=1.0, kernel='linear', degree=3, gamma='auto')\n",
    "SVM.fit(Train_X_Tfidf,Train_Y)\n",
    "\n",
    "# Se generan las predicciones\n",
    "predictions_SVM = SVM.predict(Test_X_Tfidf)\n",
    "\n",
    "# Y se obtiene la precisión del modelo \n",
    "print(\"SVM Accuracy Score -> \",accuracy_score(predictions_SVM, Test_Y)*100)\n",
    "print(\"SVM Matrix:\")\n",
    "print(confusion_matrix(Test_Y,predictions_SVM))"
   ]
  },
  {
   "cell_type": "code",
   "execution_count": null,
   "metadata": {},
   "outputs": [],
   "source": []
  }
 ],
 "metadata": {
  "kernelspec": {
   "display_name": "Python 3",
   "language": "python",
   "name": "python3"
  },
  "language_info": {
   "codemirror_mode": {
    "name": "ipython",
    "version": 3
   },
   "file_extension": ".py",
   "mimetype": "text/x-python",
   "name": "python",
   "nbconvert_exporter": "python",
   "pygments_lexer": "ipython3",
   "version": "3.7.4"
  }
 },
 "nbformat": 4,
 "nbformat_minor": 4
}
