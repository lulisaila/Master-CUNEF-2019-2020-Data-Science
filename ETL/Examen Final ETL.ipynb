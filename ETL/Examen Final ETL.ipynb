{
 "cells": [
  {
   "cell_type": "markdown",
   "metadata": {},
   "source": [
    "__Nombre:__ Lucía Saiz Lapique"
   ]
  },
  {
   "cell_type": "markdown",
   "metadata": {},
   "source": [
    "## 1. The World Bank's international debt data\n",
    "<p>No es que los humanos solo tengamos deudas para administrar nuestras necesidades. Un país también puede endeudarse para administrar su economía. Por ejemplo, el gasto en infraestructura es un ingrediente costoso requerido para que los ciudadanos de un país lleven una vida cómoda. El Banco Mundial es la organización que proporciona deuda a los países.</p>\n",
    "\n",
    "<!-- <p>En este notebook, vamos a analizar los datos de la deuda internacional recopilados por el Banco Mundial. El conjunto de datos contiene información sobre el monto de la deuda (en USD) que deben los países en desarrollo en varias categorías.</p>  -->\n",
    "    "
   ]
  },
  {
   "cell_type": "markdown",
   "metadata": {},
   "source": [
    "\"Disbursements on external debt, long-term (DIS, current US$)\",DT.DIS.DLXF.CD\n",
    "\"Interest payments on external debt, long-term (INT, current US$)\",DT.INT.DLXF.CD\n",
    "\"PPG, bilateral (AMT, current US$)\",DT.AMT.BLAT.CD\n",
    "\"PPG, bilateral (DIS, current US$)\",DT.DIS.BLAT.CD\n",
    "\"PPG, bilateral (INT, current US$)\",DT.INT.BLAT.CD\n",
    "\"PPG, multilateral (AMT, current US$)\",DT.AMT.MLAT.CD\n",
    "\"PPG, multilateral (DIS, current US$)\",DT.DIS.MLAT.CD\n",
    "\"PPG, multilateral (INT, current US$)\",DT.INT.MLAT.CD\n",
    "\"PPG, official creditors (AMT, current US$)\",DT.AMT.OFFT.CD\n",
    "\"PPG, official creditors (DIS, current US$)\",DT.DIS.OFFT.CD\n",
    "\"PPG, official creditors (INT, current US$)\",DT.INT.OFFT.CD\n",
    "\"Principal repayments on external debt, long-term (AMT, current US$)\",DT.AMT.DLXF.CD\n",
    "\"Interest payments on external debt, private nonguaranteed (PNG) (INT, current US$)\",DT.INT.DPNG.CD\n",
    "\"PPG, bonds (AMT, current US$)\",DT.AMT.PBND.CD\n",
    "\"PPG, bonds (INT, current US$)\",DT.INT.PBND.CD\n",
    "\"PPG, commercial banks (AMT, current US$)\",DT.AMT.PCBK.CD\n",
    "\"PPG, commercial banks (DIS, current US$)\",DT.DIS.PCBK.CD\n",
    "\"PPG, commercial banks (INT, current US$)\",DT.INT.PCBK.CD\n",
    "\"PPG, other private creditors (AMT, current US$)\",DT.AMT.PROP.CD\n",
    "\"PPG, other private creditors (DIS, current US$)\",DT.DIS.PROP.CD\n",
    "\"PPG, other private creditors (INT, current US$)\",DT.INT.PROP.CD\n",
    "\"PPG, private creditors (AMT, current US$)\",DT.AMT.PRVT.CD\n",
    "\"PPG, private creditors (DIS, current US$)\",DT.DIS.PRVT.CD\n",
    "\"PPG, private creditors (INT, current US$)\",DT.INT.PRVT.CD\n",
    "\"Principal repayments on external debt, private nonguaranteed (PNG) (AMT, current US$)\",DT.AMT.DPNG.CD"
   ]
  },
  {
   "cell_type": "markdown",
   "metadata": {},
   "source": [
    "<p>Vamos a encontrar las respuestas a preguntas como:\n",
    "\n",
    "<p>¿Cuál es el monto total de la deuda que deben los países enumerados en el conjunto de datos?\n",
    "<p>¿Qué país posee la cantidad máxima de deuda y cómo se ve esa cantidad?\n",
    "<p>¿Cuál es el monto promedio de la deuda de los países a través de diferentes indicadores de deuda?\n",
    "    \n",
    "Además tenemos otro dataset en el que encontramos información histórica de algunos índices de desarrollo, entre los que se encuentran algunos de deuda como son:"
   ]
  },
  {
   "cell_type": "markdown",
   "metadata": {},
   "source": [
    "Series Name,Series Code\n",
    "\"Birth rate, crude (per 1,000 people)\",SP.DYN.CBRT.IN\n",
    "\n",
    "\"Central government debt, total (current LCU)\",GC.DOD.TOTL.CN\n",
    "\n",
    "\"Central government debt, total (% of GDP)\",GC.DOD.TOTL.GD.ZS"
   ]
  },
  {
   "cell_type": "markdown",
   "metadata": {},
   "source": [
    "#### 1. Inicializar y cargar el contexto spark"
   ]
  },
  {
   "cell_type": "code",
   "execution_count": 250,
   "metadata": {
    "collapsed": true
   },
   "outputs": [],
   "source": [
    "from pyspark import SparkContext\n",
    "sc = SparkContext(\"local\", \"First App\") # inicializamos pyspark"
   ]
  },
  {
   "cell_type": "code",
   "execution_count": 251,
   "metadata": {
    "collapsed": true
   },
   "outputs": [],
   "source": [
    "data_file1 = \"./indicadores_deuda2.csv\" # cargamos base de datos modificada\n",
    "deuda = sc.textFile(data_file1)"
   ]
  },
  {
   "cell_type": "code",
   "execution_count": 252,
   "metadata": {
    "collapsed": true
   },
   "outputs": [],
   "source": [
    "data_file2 = \"./indicadores_desarrollo3.csv\"# cargamos base de datos modificada\n",
    "desarrollo = sc.textFile(data_file2)"
   ]
  },
  {
   "cell_type": "markdown",
   "metadata": {},
   "source": [
    "Los dataset han sido alterados con excel ya que algunos nombres tenían comas y estaban estropeando el parseado. Tras el cambio, el nuevo delimitador es un punto y coma, como vemos con el take de ambos a continuacion. \n",
    "\n",
    "Los cambios ejecutados al dataset fueron para modificar el movimiento de las comas y el ajuste de los números para eliminar los puntos de los miles y poder convertirlos en float más adelante."
   ]
  },
  {
   "cell_type": "code",
   "execution_count": 253,
   "metadata": {
    "collapsed": false
   },
   "outputs": [
    {
     "data": {
      "text/plain": [
       "['country_name;country_code;DT.AMT.BLAT.CD;DT.AMT.DLXF.CD;DT.AMT.DPNG.CD;DT.AMT.MLAT.CD;DT.AMT.OFFT.CD;DT.AMT.PBND.CD;DT.AMT.PCBK.CD;DT.AMT.PROP.CD;DT.AMT.PRVT.CD;DT.DIS.BLAT.CD;DT.DIS.DLXF.CD;DT.DIS.MLAT.CD;DT.DIS.OFFT.CD;DT.DIS.PCBK.CD;DT.DIS.PROP.CD;DT.DIS.PRVT.CD;DT.INT.BLAT.CD;DT.INT.DLXF.CD;DT.INT.DPNG.CD;DT.INT.MLAT.CD;DT.INT.OFFT.CD;DT.INT.PBND.CD;DT.INT.PCBK.CD;DT.INT.PROP.CD;DT.INT.PRVT.CD',\n",
       " 'Afghanistan;AFG;61739336.9;100847181.9;;39107845;100847181.9;;;;;49114729.4;72894453.7;23779724.3;72894453.7;;;;39903620.1;53239440.1;;13335820;53239440.1;;;;']"
      ]
     },
     "execution_count": 253,
     "metadata": {},
     "output_type": "execute_result"
    }
   ],
   "source": [
    "deuda.take(2)"
   ]
  },
  {
   "cell_type": "code",
   "execution_count": 254,
   "metadata": {
    "collapsed": false
   },
   "outputs": [
    {
     "data": {
      "text/plain": [
       "['country_name;country_code;anho;GC.DOD.TOTL.CN;GC.DOD.TOTL.GD.ZS;SP.DYN.CBRT.IN',\n",
       " 'Albania;ALB;2014 [YR2014];1023040800000 ;733202469198429 ;12.259']"
      ]
     },
     "execution_count": 254,
     "metadata": {},
     "output_type": "execute_result"
    }
   ],
   "source": [
    "desarrollo.take(2)"
   ]
  },
  {
   "cell_type": "code",
   "execution_count": 255,
   "metadata": {
    "collapsed": false
   },
   "outputs": [
    {
     "data": {
      "text/plain": [
       "[['Afghanistan',\n",
       "  'AFG',\n",
       "  '61739336.9',\n",
       "  '100847181.9',\n",
       "  '',\n",
       "  '39107845',\n",
       "  '100847181.9',\n",
       "  '',\n",
       "  '',\n",
       "  '',\n",
       "  '',\n",
       "  '49114729.4',\n",
       "  '72894453.7',\n",
       "  '23779724.3',\n",
       "  '72894453.7',\n",
       "  '',\n",
       "  '',\n",
       "  '',\n",
       "  '39903620.1',\n",
       "  '53239440.1',\n",
       "  '',\n",
       "  '13335820',\n",
       "  '53239440.1',\n",
       "  '',\n",
       "  '',\n",
       "  '',\n",
       "  ''],\n",
       " ['Albania',\n",
       "  'ALB',\n",
       "  '54250280.6',\n",
       "  '790248675.2',\n",
       "  '514185620',\n",
       "  '182197616.7',\n",
       "  '236447897.3',\n",
       "  '0',\n",
       "  '39445139.5',\n",
       "  '170018.4',\n",
       "  '39615157.9',\n",
       "  '76050616.1',\n",
       "  '317194512.5',\n",
       "  '234321242.3',\n",
       "  '310371858.4',\n",
       "  '4542664.9',\n",
       "  '2279989.2',\n",
       "  '6822654.1',\n",
       "  '13847333.6',\n",
       "  '165602386.9',\n",
       "  '87884000',\n",
       "  '28101536.1',\n",
       "  '41948869.7',\n",
       "  '31030688.2',\n",
       "  '4618504.3',\n",
       "  '120324.7',\n",
       "  '35769517.2']]"
      ]
     },
     "execution_count": 255,
     "metadata": {},
     "output_type": "execute_result"
    }
   ],
   "source": [
    "deuda = deuda.map(lambda x: x.split(';')).filter(lambda x: 'country_name' not in x) # parseamos los datos separando por comas y\n",
    "# eliminamos la linea de titulo\n",
    "deuda.take(2) "
   ]
  },
  {
   "cell_type": "code",
   "execution_count": 256,
   "metadata": {
    "collapsed": false,
    "scrolled": true
   },
   "outputs": [
    {
     "data": {
      "text/plain": [
       "[['Albania',\n",
       "  'ALB',\n",
       "  '2014 [YR2014]',\n",
       "  '1023040800000 ',\n",
       "  '733202469198429 ',\n",
       "  '12.259'],\n",
       " ['Albania',\n",
       "  'ALB',\n",
       "  '2015 [YR2015]',\n",
       "  '1145500940000 ',\n",
       "  '798644448747259 ',\n",
       "  '12.197']]"
      ]
     },
     "execution_count": 256,
     "metadata": {},
     "output_type": "execute_result"
    }
   ],
   "source": [
    "desarrollo = desarrollo.map(lambda x: x.split(';')).filter(lambda x: 'country_name' not in x) # parseamos los datos separando \n",
    "# por comas y eliminamos la linea de titulo\n",
    "desarrollo.take(2)"
   ]
  },
  {
   "cell_type": "markdown",
   "metadata": {},
   "source": [
    "##### 2. Número de países distintos en cada dataset. Coinciden?"
   ]
  },
  {
   "cell_type": "markdown",
   "metadata": {},
   "source": [
    "Para resolver el ejercicio, se hará un conteo de los distintos nombres que aparecen en ambos datasets para asegurar que no haya nombres repetidos y se comparará la cantidad que hay en cada uno."
   ]
  },
  {
   "cell_type": "code",
   "execution_count": 257,
   "metadata": {
    "collapsed": false
   },
   "outputs": [
    {
     "data": {
      "text/plain": [
       "124"
      ]
     },
     "execution_count": 257,
     "metadata": {},
     "output_type": "execute_result"
    }
   ],
   "source": [
    "paises_deuda = deuda.map(lambda x: x[0]).distinct().count()\n",
    "paises_deuda"
   ]
  },
  {
   "cell_type": "code",
   "execution_count": 258,
   "metadata": {
    "collapsed": false
   },
   "outputs": [
    {
     "data": {
      "text/plain": [
       "51"
      ]
     },
     "execution_count": 258,
     "metadata": {},
     "output_type": "execute_result"
    }
   ],
   "source": [
    "paises_desar = desarrollo.map(lambda x: x[0]).distinct().count()\n",
    "paises_desar"
   ]
  },
  {
   "cell_type": "code",
   "execution_count": 259,
   "metadata": {
    "collapsed": false
   },
   "outputs": [
    {
     "name": "stdout",
     "output_type": "stream",
     "text": [
      "En la primera base de datos (deuda) hay 124 países y en la segunda (desarrollo) hay 51 países. No coinciden.\n"
     ]
    }
   ],
   "source": [
    "print('En la primera base de datos (deuda) hay', paises_deuda, 'países y en la segunda (desarrollo) hay', paises_desar, 'países. No coinciden.')"
   ]
  },
  {
   "cell_type": "markdown",
   "metadata": {},
   "source": [
    "##### 3. Total de deuda contraida por cada pais: total amount of debt (in USD) DT.AMT.MLAT.CD"
   ]
  },
  {
   "cell_type": "markdown",
   "metadata": {},
   "source": [
    "Para ver la deuda que tiene cada pais, agrupamos los valores distintos de cada uno tras transformar los datos de la columna en cuestión a de tipo float (numérico y con decimales). El resultado es una lista de todos los países con su deuda. Debemos también eliminar los casos que no sean países (las Naciones Unidas por ejemplo, que también están incluídas)."
   ]
  },
  {
   "cell_type": "code",
   "execution_count": 260,
   "metadata": {
    "collapsed": false
   },
   "outputs": [
    {
     "data": {
      "text/plain": [
       "[('Mauritius', 74568335.5),\n",
       " ('Bolivia', 357721211.5),\n",
       " ('El Salvador', 298939687.1),\n",
       " ('Belize', 29683326.5),\n",
       " ('Jordan', 270498715.5),\n",
       " ('Madagascar', 60669367.3),\n",
       " ('Mozambique', 91225626.1),\n",
       " ('Costa Rica', 272808260.7),\n",
       " ('Georgia', 144062401.5),\n",
       " ('Belarus', 595438826.0),\n",
       " ('India', 4545609909.9),\n",
       " ('Zambia', 53068964.9),\n",
       " ('Azerbaijan', 513623656.5),\n",
       " ('Pakistan', 1578651453.9),\n",
       " ('Djibouti', 34254909.2),\n",
       " ('Tajikistan', 59062982.0),\n",
       " ('Togo', 44198800.7),\n",
       " ('Kenya', 391340889.9),\n",
       " ('Tunisia', 956604000.1),\n",
       " ('Burundi', 16115111.8),\n",
       " ('Angola', 124688691.9),\n",
       " ('Sri Lanka', 449771961.1),\n",
       " ('St. Lucia', 15019216.3),\n",
       " ('Ghana', 130202003.1),\n",
       " ('Serbia', 715223963.7),\n",
       " ('Russian Federation', 141669500.0),\n",
       " ('Moldova', 135842865.5),\n",
       " ('Malawi', 35659831.4),\n",
       " ('Sudan', 217194878.8),\n",
       " ('Gambia', 33231516.7),\n",
       " ('St. Vincent and the Grenadines', 21615600.7),\n",
       " ('Guyana', 34651806.5),\n",
       " ('Thailand', 39071571.5),\n",
       " ('Ukraine', 1072472830.3),\n",
       " ('Bosnia and Herzegovina', 290170946.5),\n",
       " ('Comoros', 2182053.1),\n",
       " ('Colombia', 1100907553.6),\n",
       " ('Least developed countries: UN classification', 4084275524.2),\n",
       " ('Armenia', 94331207.1),\n",
       " ('Morocco', 1381649282.3),\n",
       " ('Paraguay', 207662030.9),\n",
       " ('Uganda', 145310077.2),\n",
       " ('Tanzania', 141436637.0),\n",
       " ('Botswana', 125652344.5),\n",
       " ('Zimbabwe', 26697905.1),\n",
       " ('Guinea', 29819676.8),\n",
       " ('Senegal', 170437929.1),\n",
       " ('Montenegro', 77948064.8),\n",
       " ('Timor-Leste', 825000.0),\n",
       " ('IDA only', 4884095623.3),\n",
       " ('Guatemala', 339822253.6),\n",
       " ('Egypt', 2424904078.0),\n",
       " ('Macedonia', 185952867.2),\n",
       " ('Brazil', 2514318741.6),\n",
       " ('Nepal', 163747512.9),\n",
       " ('Iran', 78354060.8),\n",
       " ('Guinea-Bissau', 6713257.2),\n",
       " ('Solomon Islands', 3952828.9),\n",
       " ('Ethiopia', 171590722.7),\n",
       " ('Mongolia', 75937145.9),\n",
       " ('Fiji', 9082442.6),\n",
       " ('Benin', 91631639.5),\n",
       " ('Samoa', 9987486.6),\n",
       " ('Ecuador', 578894793.9),\n",
       " ('Congo Rep.', 18114469.0),\n",
       " ('Jamaica', 174427648.0),\n",
       " ('Vanuatu', 2593419.3),\n",
       " ('Uzbekistan', 244240575.6),\n",
       " ('Niger', 115132364.5),\n",
       " ('Kyrgyz Republic', 75278037.2),\n",
       " ('Tonga', 2791253.2),\n",
       " ('Turkey', 2932698678.0),\n",
       " ('Kazakhstan', 1079948889.7),\n",
       " ('Grenada', 13740888.8),\n",
       " ('Congo  Dem. Rep.', 143105462.0),\n",
       " ('Central African Republic', 2241813.8),\n",
       " ('Eswatini', 18130218.8),\n",
       " ('Chad', 95738709.5),\n",
       " ('Lao PDR', 80684114.6),\n",
       " ('Afghanistan', 39107845.0),\n",
       " ('Nigeria', 297246686.6),\n",
       " ('Dominica', 11130355.8),\n",
       " ('Vietnam', 947632152.5),\n",
       " ('Eritrea', 15482475.4),\n",
       " ('Maldives', 17896143.5),\n",
       " ('Cambodia', 72307001.8),\n",
       " ('South Africa', 346393763.9),\n",
       " ('Somalia', 24683262.9),\n",
       " ('Indonesia', 2469145824.7),\n",
       " ('Papua New Guinea', 78345326.0),\n",
       " ('Albania', 182197616.7),\n",
       " ('South Asia', 7851739929.5),\n",
       " ('Philippines', 739056427.3),\n",
       " ('Sao Tome and Principe', 2418947.6),\n",
       " ('Haiti', 10087968.8),\n",
       " ('Lesotho', 32459403.7),\n",
       " ('Romania', 1798305095.8),\n",
       " ('Liberia', 7383619.4),\n",
       " ('Yemen', 220743129.9),\n",
       " ('Sierra Leone', 24144262.8),\n",
       " ('Cabo Verde', 39970124.9),\n",
       " ('China', 2615723714.1),\n",
       " ('Dominican Republic', 254728306.1),\n",
       " ('Algeria', 0.0),\n",
       " ('Burkina Faso', 119510893.0),\n",
       " ('Bangladesh', 1039564682.7),\n",
       " ('Nicaragua', 181115898.0),\n",
       " ('Bulgaria', 228993019.8),\n",
       " ('Myanmar', 30569845.2),\n",
       " ('Honduras', 148225048.7),\n",
       " ('Kosovo', 33590154.6),\n",
       " ('Lebanon', 167638089.7),\n",
       " ('Mali', 135472245.9),\n",
       " ('Cameroon', 152095968.1),\n",
       " ('Mexico', 864181883.5),\n",
       " ('Syrian Arab Republic', 147903571.1),\n",
       " ('Gabon', 62404132.3),\n",
       " ('Venezuela', 509512564.6),\n",
       " (\"Cote d'Ivoire\", 84629406.5),\n",
       " ('Turkmenistan', 5831189.2),\n",
       " ('Mauritania', 184408220.2),\n",
       " ('Rwanda', 31090382.5),\n",
       " ('Bhutan', 17390420.5),\n",
       " ('Peru', 553634090.0)]"
      ]
     },
     "execution_count": 260,
     "metadata": {},
     "output_type": "execute_result"
    }
   ],
   "source": [
    "prueba = deuda.map(lambda x: (x[0], float(x[5]))).reduceByKey(lambda x,y: x+y)\n",
    "prueba.collect()"
   ]
  },
  {
   "cell_type": "code",
   "execution_count": 261,
   "metadata": {
    "collapsed": false
   },
   "outputs": [
    {
     "data": {
      "text/plain": [
       "[('Mauritius', 74568335.5),\n",
       " ('Bolivia', 357721211.5),\n",
       " ('El Salvador', 298939687.1),\n",
       " ('Belize', 29683326.5),\n",
       " ('Jordan', 270498715.5),\n",
       " ('Madagascar', 60669367.3),\n",
       " ('Mozambique', 91225626.1),\n",
       " ('Costa Rica', 272808260.7),\n",
       " ('Georgia', 144062401.5),\n",
       " ('Belarus', 595438826.0),\n",
       " ('India', 4545609909.9),\n",
       " ('Zambia', 53068964.9),\n",
       " ('Azerbaijan', 513623656.5),\n",
       " ('Pakistan', 1578651453.9),\n",
       " ('Djibouti', 34254909.2),\n",
       " ('Tajikistan', 59062982.0),\n",
       " ('Togo', 44198800.7),\n",
       " ('Kenya', 391340889.9),\n",
       " ('Tunisia', 956604000.1),\n",
       " ('Burundi', 16115111.8),\n",
       " ('Angola', 124688691.9),\n",
       " ('Sri Lanka', 449771961.1),\n",
       " ('St. Lucia', 15019216.3),\n",
       " ('Ghana', 130202003.1),\n",
       " ('Serbia', 715223963.7),\n",
       " ('Moldova', 135842865.5),\n",
       " ('Malawi', 35659831.4),\n",
       " ('Sudan', 217194878.8),\n",
       " ('Gambia', 33231516.7),\n",
       " ('St. Vincent and the Grenadines', 21615600.7),\n",
       " ('Guyana', 34651806.5),\n",
       " ('Thailand', 39071571.5),\n",
       " ('Ukraine', 1072472830.3),\n",
       " ('Bosnia and Herzegovina', 290170946.5),\n",
       " ('Comoros', 2182053.1),\n",
       " ('Colombia', 1100907553.6),\n",
       " ('Armenia', 94331207.1),\n",
       " ('Morocco', 1381649282.3),\n",
       " ('Paraguay', 207662030.9),\n",
       " ('Uganda', 145310077.2),\n",
       " ('Tanzania', 141436637.0),\n",
       " ('Botswana', 125652344.5),\n",
       " ('Zimbabwe', 26697905.1),\n",
       " ('Guinea', 29819676.8),\n",
       " ('Senegal', 170437929.1),\n",
       " ('Montenegro', 77948064.8),\n",
       " ('Timor-Leste', 825000.0),\n",
       " ('Guatemala', 339822253.6),\n",
       " ('Egypt', 2424904078.0),\n",
       " ('Macedonia', 185952867.2),\n",
       " ('Brazil', 2514318741.6),\n",
       " ('Nepal', 163747512.9),\n",
       " ('Iran', 78354060.8),\n",
       " ('Guinea-Bissau', 6713257.2),\n",
       " ('Solomon Islands', 3952828.9),\n",
       " ('Ethiopia', 171590722.7),\n",
       " ('Mongolia', 75937145.9),\n",
       " ('Fiji', 9082442.6),\n",
       " ('Benin', 91631639.5),\n",
       " ('Samoa', 9987486.6),\n",
       " ('Ecuador', 578894793.9),\n",
       " ('Congo Rep.', 18114469.0),\n",
       " ('Jamaica', 174427648.0),\n",
       " ('Vanuatu', 2593419.3),\n",
       " ('Uzbekistan', 244240575.6),\n",
       " ('Niger', 115132364.5),\n",
       " ('Kyrgyz Republic', 75278037.2),\n",
       " ('Tonga', 2791253.2),\n",
       " ('Turkey', 2932698678.0),\n",
       " ('Kazakhstan', 1079948889.7),\n",
       " ('Grenada', 13740888.8),\n",
       " ('Congo  Dem. Rep.', 143105462.0),\n",
       " ('Central African Republic', 2241813.8),\n",
       " ('Eswatini', 18130218.8),\n",
       " ('Chad', 95738709.5),\n",
       " ('Lao PDR', 80684114.6),\n",
       " ('Afghanistan', 39107845.0),\n",
       " ('Nigeria', 297246686.6),\n",
       " ('Dominica', 11130355.8),\n",
       " ('Vietnam', 947632152.5),\n",
       " ('Eritrea', 15482475.4),\n",
       " ('Maldives', 17896143.5),\n",
       " ('Cambodia', 72307001.8),\n",
       " ('South Africa', 346393763.9),\n",
       " ('Somalia', 24683262.9),\n",
       " ('Indonesia', 2469145824.7),\n",
       " ('Papua New Guinea', 78345326.0),\n",
       " ('Albania', 182197616.7),\n",
       " ('South Asia', 7851739929.5),\n",
       " ('Philippines', 739056427.3),\n",
       " ('Sao Tome and Principe', 2418947.6),\n",
       " ('Haiti', 10087968.8),\n",
       " ('Lesotho', 32459403.7),\n",
       " ('Romania', 1798305095.8),\n",
       " ('Liberia', 7383619.4),\n",
       " ('Yemen', 220743129.9),\n",
       " ('Sierra Leone', 24144262.8),\n",
       " ('Cabo Verde', 39970124.9),\n",
       " ('China', 2615723714.1),\n",
       " ('Dominican Republic', 254728306.1),\n",
       " ('Algeria', 0.0),\n",
       " ('Burkina Faso', 119510893.0),\n",
       " ('Bangladesh', 1039564682.7),\n",
       " ('Nicaragua', 181115898.0),\n",
       " ('Bulgaria', 228993019.8),\n",
       " ('Myanmar', 30569845.2),\n",
       " ('Honduras', 148225048.7),\n",
       " ('Kosovo', 33590154.6),\n",
       " ('Lebanon', 167638089.7),\n",
       " ('Mali', 135472245.9),\n",
       " ('Cameroon', 152095968.1),\n",
       " ('Mexico', 864181883.5),\n",
       " ('Syrian Arab Republic', 147903571.1),\n",
       " ('Gabon', 62404132.3),\n",
       " ('Venezuela', 509512564.6),\n",
       " (\"Cote d'Ivoire\", 84629406.5),\n",
       " ('Turkmenistan', 5831189.2),\n",
       " ('Mauritania', 184408220.2),\n",
       " ('Rwanda', 31090382.5),\n",
       " ('Bhutan', 17390420.5),\n",
       " ('Peru', 553634090.0)]"
      ]
     },
     "execution_count": 261,
     "metadata": {},
     "output_type": "execute_result"
    }
   ],
   "source": [
    "limitado = prueba.filter(lambda x: ('Federation' not in x[0]) and ('UN' not in x[0]) and ('IDA' not in x[0]))\n",
    "limitado.collect()"
   ]
  },
  {
   "cell_type": "markdown",
   "metadata": {},
   "source": [
    "##### 4. Media de los indicadores de deuda (tabla uno): DT.AMT.BLAT.CD, DT.DIS.BLAT.CD, DT.INT.BLAT.CD"
   ]
  },
  {
   "cell_type": "markdown",
   "metadata": {},
   "source": [
    "Para resolver este ejercicio, se coge por separado cada índice y se calcula la media sumando todos los valores de la columna en cuestión y dividiendo por la cantidad que haya en cada una. No incluímos los datos vacíos pues da error, en caso de tener en cuenta los huecos vacíos (que la media saldría diferente) habría que eliminarlo del count, ya que en la suma no influyen (son 0)."
   ]
  },
  {
   "cell_type": "code",
   "execution_count": 262,
   "metadata": {
    "collapsed": false
   },
   "outputs": [],
   "source": [
    "suma1 = deuda.filter(lambda x: '' not in x).map(lambda x: float(x[2])).sum()\n",
    "contar1 = deuda.filter(lambda x: '' not in x).map(lambda x: float(x[2])).count()"
   ]
  },
  {
   "cell_type": "code",
   "execution_count": 263,
   "metadata": {
    "collapsed": false
   },
   "outputs": [],
   "source": [
    "media1 = round((suma1/contar1),2)"
   ]
  },
  {
   "cell_type": "code",
   "execution_count": 264,
   "metadata": {
    "collapsed": false
   },
   "outputs": [
    {
     "name": "stdout",
     "output_type": "stream",
     "text": [
      "La media del indicador DT.AMT.BLAT.CD es 2970822362.39\n"
     ]
    }
   ],
   "source": [
    "print('La media del indicador DT.AMT.BLAT.CD es', media1)"
   ]
  },
  {
   "cell_type": "code",
   "execution_count": 265,
   "metadata": {
    "collapsed": true
   },
   "outputs": [],
   "source": [
    "suma2 = deuda.filter(lambda x: '' not in x).map(lambda x: float(x[11])).sum()\n",
    "contar2 = deuda.filter(lambda x: '' not in x).map(lambda x: float(x[11])).count()"
   ]
  },
  {
   "cell_type": "code",
   "execution_count": 266,
   "metadata": {
    "collapsed": false
   },
   "outputs": [],
   "source": [
    "media2 = suma2/contar2"
   ]
  },
  {
   "cell_type": "code",
   "execution_count": 267,
   "metadata": {
    "collapsed": false
   },
   "outputs": [
    {
     "name": "stdout",
     "output_type": "stream",
     "text": [
      "La media del indicador DT.DIS.BLAT.CD es 5410625976.1\n"
     ]
    }
   ],
   "source": [
    "print('La media del indicador DT.DIS.BLAT.CD es', media2)"
   ]
  },
  {
   "cell_type": "code",
   "execution_count": 268,
   "metadata": {
    "collapsed": true
   },
   "outputs": [],
   "source": [
    "suma3 = deuda.filter(lambda x: '' not in x).map(lambda x: float(x[18])).sum()\n",
    "contar3 = deuda.filter(lambda x: '' not in x).map(lambda x: float(x[18])).count()"
   ]
  },
  {
   "cell_type": "code",
   "execution_count": 269,
   "metadata": {
    "collapsed": false
   },
   "outputs": [],
   "source": [
    "media3 = round((suma3/contar3), 2)"
   ]
  },
  {
   "cell_type": "code",
   "execution_count": 270,
   "metadata": {
    "collapsed": false
   },
   "outputs": [
    {
     "name": "stdout",
     "output_type": "stream",
     "text": [
      "La media del indicador DT.INT.BLAT.CD es 562152096.3\n"
     ]
    }
   ],
   "source": [
    "print('La media del indicador DT.INT.BLAT.CD es', media3)"
   ]
  },
  {
   "cell_type": "markdown",
   "metadata": {},
   "source": [
    "##### 5. Los 20 paises con DT.AMT.DLXF.CD más alto"
   ]
  },
  {
   "cell_type": "markdown",
   "metadata": {},
   "source": [
    "Para resolver el ejercicio, como pide veinte países, debenoms eliminar las asociaciones (como en el ejercicio 3) y luego ordenar los datos del índice en cuestion de forma que devuelvan los datos más altos (orden contrario al ascendente). Después con un take, pedimos los 20 primeros de esa lista, es decir, los 20 mayores. "
   ]
  },
  {
   "cell_type": "code",
   "execution_count": 271,
   "metadata": {
    "collapsed": false
   },
   "outputs": [
    {
     "data": {
      "text/plain": [
       "[('China', 96218620835.7),\n",
       " ('Brazil', 90041840304.1),\n",
       " ('Turkey', 51555031005.8),\n",
       " ('South Asia', 48756295898.2),\n",
       " ('India', 31923507000.8),\n",
       " ('Indonesia', 30916112653.8),\n",
       " ('Kazakhstan', 27482093686.4),\n",
       " ('Mexico', 25218503927.0),\n",
       " ('Romania', 14013783350.4),\n",
       " ('Colombia', 11985674438.7),\n",
       " ('Angola', 11067045628.1),\n",
       " ('Cameroon', 10404814960.2),\n",
       " ('Venezuela', 9878659207.2),\n",
       " ('Egypt', 9692114176.9),\n",
       " ('Lebanon', 9506919669.6),\n",
       " ('South Africa', 9474257551.9),\n",
       " ('Vietnam', 8873505909.2),\n",
       " ('Pakistan', 8336013891.3),\n",
       " ('Ukraine', 8148995625.6),\n",
       " ('Philippines', 6479170917.7)]"
      ]
     },
     "execution_count": 271,
     "metadata": {},
     "output_type": "execute_result"
    }
   ],
   "source": [
    "paises = deuda.map(lambda x: (x[0], float(x[3]))).filter(lambda x: ('Federation' not in x[0]) and ('UN' not in x[0]) and ('IDA' not in x[0]))\n",
    "paises.sortBy(lambda x: x[1], ascending = False).take(20)"
   ]
  },
  {
   "cell_type": "markdown",
   "metadata": {},
   "source": [
    "##### 6. Pais con los datos informados todos los años."
   ]
  },
  {
   "cell_type": "markdown",
   "metadata": {},
   "source": [
    "En primer lugar, los datos informados de por si excluyen a todos los campos vacíos, así que filtramos la base de datos para que se nos eliminen las observaciones que tengan algún campo vacío. Lo siguiente a tener en cuenta son los años sobre los que la base de datos tiene información. Para ello, hacemos un distinct que nos devuelva los años distintos que hay y luego buscamos cuántos países distintos tienen datos de esos años. El resultado es que hay un solo país con datos en 2017, con lo cual se sobreentiende que ese será en país con todos los campos. Filtramos por países que tengan datos en 2017 y obtenemos la respuesta."
   ]
  },
  {
   "cell_type": "code",
   "execution_count": 272,
   "metadata": {
    "collapsed": false,
    "scrolled": false
   },
   "outputs": [
    {
     "data": {
      "text/plain": [
       "[('Albania', '2014'),\n",
       " ('Albania', '2015'),\n",
       " ('Albania', '2016'),\n",
       " ('Australia', '2014'),\n",
       " ('Australia', '2015'),\n",
       " ('Australia', '2016'),\n",
       " ('Bahamas', '2014'),\n",
       " ('Bahamas', '2015'),\n",
       " ('Bahamas', '2016'),\n",
       " ('Barbados', '2014'),\n",
       " ('Barbados', '2015'),\n",
       " ('Belarus', '2014'),\n",
       " ('Belarus', '2015'),\n",
       " ('Belarus', '2016'),\n",
       " ('Belize', '2014'),\n",
       " ('Bhutan', '2014'),\n",
       " ('Bhutan', '2015'),\n",
       " ('Bhutan', '2016'),\n",
       " ('Botswana', '2014'),\n",
       " ('Botswana', '2015'),\n",
       " ('Botswana', '2016'),\n",
       " ('Brazil', '2014'),\n",
       " ('Brazil', '2015'),\n",
       " ('Brazil', '2016'),\n",
       " ('Colombia', '2014'),\n",
       " ('Colombia', '2015'),\n",
       " ('Colombia', '2016'),\n",
       " ('El Salvador', '2014'),\n",
       " ('El Salvador', '2015'),\n",
       " ('El Salvador', '2016'),\n",
       " ('Georgia', '2014'),\n",
       " ('Georgia', '2015'),\n",
       " ('Georgia', '2016'),\n",
       " ('Guatemala', '2014'),\n",
       " ('Guatemala', '2015'),\n",
       " ('Guatemala', '2016'),\n",
       " ('Hungary', '2014'),\n",
       " ('Hungary', '2015'),\n",
       " ('Hungary', '2016'),\n",
       " ('Indonesia', '2014'),\n",
       " ('Indonesia', '2015'),\n",
       " ('Indonesia', '2016'),\n",
       " ('Ireland', '2014'),\n",
       " ('Ireland', '2015'),\n",
       " ('Ireland', '2016'),\n",
       " ('Jamaica', '2014'),\n",
       " ('Jamaica', '2015'),\n",
       " ('Jamaica', '2016'),\n",
       " ('Japan', '2014'),\n",
       " ('Japan', '2015'),\n",
       " ('Japan', '2016'),\n",
       " ('Jordan', '2014'),\n",
       " ('Jordan', '2016'),\n",
       " ('Kazakhstan', '2014'),\n",
       " ('Kazakhstan', '2015'),\n",
       " ('Kazakhstan', '2016'),\n",
       " ('Korea', '2014'),\n",
       " ('Korea', '2015'),\n",
       " ('Korea', '2016'),\n",
       " ('Kyrgyz Republic', '2014'),\n",
       " ('Kyrgyz Republic', '2015'),\n",
       " ('Kyrgyz Republic', '2016'),\n",
       " ('Malawi', '2014'),\n",
       " ('Malawi', '2015'),\n",
       " ('Malawi', '2016'),\n",
       " ('Malawi', '2017'),\n",
       " ('Malaysia', '2014'),\n",
       " ('Malaysia', '2015'),\n",
       " ('Malaysia', '2016'),\n",
       " ('Micronesia', '2014'),\n",
       " ('Micronesia', '2015'),\n",
       " ('Micronesia', '2016'),\n",
       " ('Moldova', '2014'),\n",
       " ('Moldova', '2015'),\n",
       " ('Moldova', '2016'),\n",
       " ('Namibia', '2014'),\n",
       " ('New Zealand', '2014'),\n",
       " ('New Zealand', '2015'),\n",
       " ('New Zealand', '2016'),\n",
       " ('Palau', '2014'),\n",
       " ('Palau', '2015'),\n",
       " ('Palau', '2016'),\n",
       " ('Papua New Guinea', '2014'),\n",
       " ('Papua New Guinea', '2015'),\n",
       " ('Peru', '2014'),\n",
       " ('Peru', '2015'),\n",
       " ('Peru', '2016'),\n",
       " ('Philippines', '2014'),\n",
       " ('Russian Federation', '2014'),\n",
       " ('Russian Federation', '2015'),\n",
       " ('Russian Federation', '2016'),\n",
       " ('San Marino', '2015'),\n",
       " ('San Marino', '2016'),\n",
       " ('Seychelles', '2014'),\n",
       " ('Seychelles', '2015'),\n",
       " ('Singapore', '2014'),\n",
       " ('Singapore', '2015'),\n",
       " ('Singapore', '2016'),\n",
       " ('Solomon Islands', '2014'),\n",
       " ('Solomon Islands', '2015'),\n",
       " ('Solomon Islands', '2016'),\n",
       " ('Spain', '2014'),\n",
       " ('Spain', '2015'),\n",
       " ('Spain', '2016'),\n",
       " ('Sri Lanka', '2014'),\n",
       " ('Sri Lanka', '2015'),\n",
       " ('St. Kitts and Nevis', '2014'),\n",
       " ('St. Lucia', '2014'),\n",
       " ('St. Vincent and the Grenadines', '2014'),\n",
       " ('Switzerland', '2014'),\n",
       " ('Switzerland', '2015'),\n",
       " ('Switzerland', '2016'),\n",
       " ('Thailand', '2014'),\n",
       " ('Thailand', '2015'),\n",
       " ('Tonga', '2014'),\n",
       " ('Tonga', '2015'),\n",
       " ('Tonga', '2016'),\n",
       " ('Turkey', '2014'),\n",
       " ('Turkey', '2015'),\n",
       " ('Turkey', '2016'),\n",
       " ('Ukraine', '2014'),\n",
       " ('Ukraine', '2015'),\n",
       " ('Ukraine', '2016'),\n",
       " ('United Kingdom', '2014'),\n",
       " ('United Kingdom', '2015'),\n",
       " ('United Kingdom', '2016'),\n",
       " ('United States', '2014'),\n",
       " ('United States', '2015'),\n",
       " ('United States', '2016'),\n",
       " ('Uruguay', '2014'),\n",
       " ('Uruguay', '2015'),\n",
       " ('Uruguay', '2016'),\n",
       " ('Zambia', '2014'),\n",
       " ('Zambia', '2015')]"
      ]
     },
     "execution_count": 272,
     "metadata": {},
     "output_type": "execute_result"
    }
   ],
   "source": [
    "informados = desarrollo.filter(lambda x: '' not in x).map(lambda x: (x[0], x[2][0:4]))\n",
    "informados.collect()"
   ]
  },
  {
   "cell_type": "code",
   "execution_count": 273,
   "metadata": {
    "collapsed": false
   },
   "outputs": [
    {
     "data": {
      "text/plain": [
       "['2014', '2015', '2017', '2016']"
      ]
     },
     "execution_count": 273,
     "metadata": {},
     "output_type": "execute_result"
    }
   ],
   "source": [
    "informados.map(lambda x: x[1]).distinct().collect()"
   ]
  },
  {
   "cell_type": "code",
   "execution_count": 274,
   "metadata": {
    "collapsed": false
   },
   "outputs": [
    {
     "data": {
      "text/plain": [
       "50"
      ]
     },
     "execution_count": 274,
     "metadata": {},
     "output_type": "execute_result"
    }
   ],
   "source": [
    "informados.filter(lambda x: x[1] == '2014').count()"
   ]
  },
  {
   "cell_type": "code",
   "execution_count": 275,
   "metadata": {
    "collapsed": false
   },
   "outputs": [
    {
     "data": {
      "text/plain": [
       "44"
      ]
     },
     "execution_count": 275,
     "metadata": {},
     "output_type": "execute_result"
    }
   ],
   "source": [
    "informados.filter(lambda x: x[1] == '2015').count()"
   ]
  },
  {
   "cell_type": "code",
   "execution_count": 276,
   "metadata": {
    "collapsed": false,
    "scrolled": true
   },
   "outputs": [
    {
     "data": {
      "text/plain": [
       "39"
      ]
     },
     "execution_count": 276,
     "metadata": {},
     "output_type": "execute_result"
    }
   ],
   "source": [
    "informados.filter(lambda x: x[1] == '2016').count()"
   ]
  },
  {
   "cell_type": "code",
   "execution_count": 277,
   "metadata": {
    "collapsed": false,
    "scrolled": true
   },
   "outputs": [
    {
     "data": {
      "text/plain": [
       "1"
      ]
     },
     "execution_count": 277,
     "metadata": {},
     "output_type": "execute_result"
    }
   ],
   "source": [
    "informados.filter(lambda x: x[1] == '2017').count()"
   ]
  },
  {
   "cell_type": "code",
   "execution_count": 278,
   "metadata": {
    "collapsed": false
   },
   "outputs": [],
   "source": [
    "informados2 = informados.filter(lambda x: x[1] == '2017')\n",
    "pais = informados2.map(lambda x: x[0]).collect()"
   ]
  },
  {
   "cell_type": "code",
   "execution_count": 279,
   "metadata": {
    "collapsed": false
   },
   "outputs": [
    {
     "name": "stdout",
     "output_type": "stream",
     "text": [
      "El único país que tiene datos en todos los campos todos los años es ['Malawi']\n"
     ]
    }
   ],
   "source": [
    "print('El único país que tiene datos en todos los campos todos los años es', pais)"
   ]
  },
  {
   "cell_type": "markdown",
   "metadata": {},
   "source": [
    "##### 7. Media anual de los distintos indicadores de desarrollo"
   ]
  },
  {
   "cell_type": "markdown",
   "metadata": {},
   "source": [
    "Las medias se calculan por separado, realizando una agrupación de los datos donde se sumen los campos del índice y el número de veces que aparece cada uno (una por país) de forma que la media resultante por año sea la división de uno entre el otro."
   ]
  },
  {
   "cell_type": "code",
   "execution_count": 280,
   "metadata": {
    "collapsed": false
   },
   "outputs": [
    {
     "data": {
      "text/plain": [
       "[('2017 ', 2239858619962.69),\n",
       " ('2015 ', 1.4691377091875821e+21),\n",
       " ('2014 ', 1.245870413323809e+21),\n",
       " ('2016 ', 2.8672938250729105e+20)]"
      ]
     },
     "execution_count": 280,
     "metadata": {},
     "output_type": "execute_result"
    }
   ],
   "source": [
    "media_anual1 = desarrollo.map(lambda x: (x[2][0:5], (float(x[3]), 1))).reduceByKey(lambda x, y: (x[0]+y[0], x[1]+ y[1]))\n",
    "media_anual1.map(lambda x: (x[0], x[1][0]/x[1][1])).collect()  # media del indicador GC.DOD.TOTL.CN en cada año"
   ]
  },
  {
   "cell_type": "code",
   "execution_count": 281,
   "metadata": {
    "collapsed": false
   },
   "outputs": [
    {
     "data": {
      "text/plain": [
       "[('2017 ', 48659564238322.0),\n",
       " ('2015 ', 438817252250091.25),\n",
       " ('2014 ', 357259846506983.7),\n",
       " ('2016 ', 395892633259688.2)]"
      ]
     },
     "execution_count": 281,
     "metadata": {},
     "output_type": "execute_result"
    }
   ],
   "source": [
    "media_anual2 = desarrollo.map(lambda x: (x[2][0:5], (float(x[4]), 1))).reduceByKey(lambda x, y: (x[0]+y[0], x[1]+ y[1]))\n",
    "media_anual2.map(lambda x: (x[0], x[1][0]/x[1][1])).collect() # media del indicador GC.DOD.TOTL.GD.ZS en cada año"
   ]
  },
  {
   "cell_type": "code",
   "execution_count": 298,
   "metadata": {
    "collapsed": false
   },
   "outputs": [
    {
     "data": {
      "text/plain": [
       "[('2017 ', 34.59), ('2015 ', 16.8), ('2014 ', 17.58), ('2016 ', 16.14)]"
      ]
     },
     "execution_count": 298,
     "metadata": {},
     "output_type": "execute_result"
    }
   ],
   "source": [
    "media_anual3 = desarrollo.map(lambda x: (x[2][0:5], (float(x[5]), 1))).reduceByKey(lambda x, y: (x[0]+y[0], x[1]+ y[1]))\n",
    "media_anual3.map(lambda x: (x[0], round((x[1][0]/x[1][1]), 2))).collect() # media del indicador SP.DYN.CBRT.IN en cada año"
   ]
  },
  {
   "cell_type": "markdown",
   "metadata": {},
   "source": [
    "##### 8. Podrías decirme el total de deuda acumulada DT.AMT.MLAT.CD por los 10 países con un valor en media menor de SP.DYN.CBRT.IN"
   ]
  },
  {
   "cell_type": "markdown",
   "metadata": {},
   "source": [
    "Este ejercicio, que es más complicado, se debe llevar a cabo en dos partes. En primer lugar, calculamos la media para cada pais de los cuatro años juntos con la base de datos sobre el desarrollo, como hemos estado haciendo hasta el momento en los ejercicios anteriores. Los ordenamos de menor a mayor media (pues el ejercicio pide los 10 más bajos) y lo guardamos en un objeto.\n",
    "\n",
    "La segunda parte del ejercicio, compara los datos de las medias calculadas con los de la primera base de datos (deudas). A través de un join (de tipo inner), unimos la base de datos de deudas con las columna que nos interesan del objeto anterior (el índice en cuestion y el nombre del país) y buscamos los diez con la media más baja. Por último, nos quedamos con el nombre del pais y su deuda asociada en base a los filtros ejecutados anteriormente."
   ]
  },
  {
   "cell_type": "code",
   "execution_count": 295,
   "metadata": {
    "collapsed": false
   },
   "outputs": [
    {
     "data": {
      "text/plain": [
       "[('Japan', 7.93),\n",
       " ('San Marino', 8.05),\n",
       " ('Korea', 8.37),\n",
       " ('Spain', 9.0),\n",
       " ('Hungary', 9.53),\n",
       " ('Singapore', 9.63),\n",
       " ('Switzerland', 10.47),\n",
       " ('Moldova', 10.6),\n",
       " ('Ukraine', 10.6),\n",
       " ('Barbados', 10.86)]"
      ]
     },
     "execution_count": 295,
     "metadata": {},
     "output_type": "execute_result"
    }
   ],
   "source": [
    "media_pais = desarrollo.map(lambda x: (x[0], (float(x[5]), 1))).reduceByKey(lambda x, y: (x[0]+y[0], x[1]+y[1]))\n",
    "media_pais = media_pais.map(lambda x: (x[0], round((x[1][0]/x[1][1]), 2))).sortBy(lambda x: x[1])\n",
    "media_pais.take(10)"
   ]
  },
  {
   "cell_type": "code",
   "execution_count": 296,
   "metadata": {
    "collapsed": false
   },
   "outputs": [
    {
     "data": {
      "text/plain": [
       "[('El Salvador', (18.73, '298939687.1')),\n",
       " ('Belize', (22.07, '29683326.5')),\n",
       " ('Kyrgyz Republic', (27.03, '75278037.2')),\n",
       " ('Kazakhstan', (22.78, '1079948889.7')),\n",
       " ('Zambia', (38.3, '53068964.9')),\n",
       " ('Botswana', (26.42, '125652344.5')),\n",
       " ('Malawi', (35.56, '35659831.4')),\n",
       " ('Russian Federation', (13.17, '141669500')),\n",
       " ('Philippines', (22.93, '739056427.3')),\n",
       " ('Thailand', (10.92, '39071571.5'))]"
      ]
     },
     "execution_count": 296,
     "metadata": {},
     "output_type": "execute_result"
    }
   ],
   "source": [
    "deudas_filtro = deuda.map(lambda x: (x[0], x[5]))\n",
    "junto = media_pais.join(deudas_filtro)\n",
    "junto.take(10)"
   ]
  },
  {
   "cell_type": "code",
   "execution_count": 297,
   "metadata": {
    "collapsed": false
   },
   "outputs": [
    {
     "data": {
      "text/plain": [
       "[('El Salvador', '298939687.1'),\n",
       " ('Belize', '29683326.5'),\n",
       " ('Kyrgyz Republic', '75278037.2'),\n",
       " ('Kazakhstan', '1079948889.7'),\n",
       " ('Zambia', '53068964.9'),\n",
       " ('Botswana', '125652344.5'),\n",
       " ('Malawi', '35659831.4'),\n",
       " ('Russian Federation', '141669500'),\n",
       " ('Philippines', '739056427.3'),\n",
       " ('Thailand', '39071571.5')]"
      ]
     },
     "execution_count": 297,
     "metadata": {},
     "output_type": "execute_result"
    }
   ],
   "source": [
    "resultado = junto.map(lambda x: (x[0], x[1][1]))\n",
    "resultado.take(10)"
   ]
  },
  {
   "cell_type": "markdown",
   "metadata": {},
   "source": [
    "##### 9. ¿Hay alguna relación entre los nacimientos y el indicador DT.AMT.DLXF.CD? ¿Cómo podrías demostrarlo?"
   ]
  },
  {
   "cell_type": "markdown",
   "metadata": {},
   "source": [
    "Para averiguar la posible relación que existe entre ello, comparamos los dos índices uniendo las bases de datos y teniendo en cuenta solo las columnas en cuestión. Para ver si existe alguna relación clara entre ellos de forma fácil, decidimos ordenar los datos en base a uno de los dos índices y ver si son mayores o menores de la misma forma en ambas bases de datos, es decir, si cuando un indicador es muy alto para un país, también lo es su tasa de nacimiento. \n",
    "\n",
    "Lo verificamos también, viendo el país con la tasa e indicadores máximos y mínimos."
   ]
  },
  {
   "cell_type": "code",
   "execution_count": 243,
   "metadata": {
    "collapsed": false
   },
   "outputs": [
    {
     "data": {
      "text/plain": [
       "['12.259', '12.197', '12.08', '13.2', '12.9']"
      ]
     },
     "execution_count": 243,
     "metadata": {},
     "output_type": "execute_result"
    }
   ],
   "source": [
    "desarrollo.map(lambda x: x[5]).take(5)"
   ]
  },
  {
   "cell_type": "code",
   "execution_count": 244,
   "metadata": {
    "collapsed": false
   },
   "outputs": [
    {
     "data": {
      "text/plain": [
       "['100847181.9', '790248675.2', '171185188.1', '11067045628.1', '845630723.8']"
      ]
     },
     "execution_count": 244,
     "metadata": {},
     "output_type": "execute_result"
    }
   ],
   "source": [
    "deuda.map(lambda x: x[3]).take(5)"
   ]
  },
  {
   "cell_type": "code",
   "execution_count": 289,
   "metadata": {
    "collapsed": false
   },
   "outputs": [
    {
     "data": {
      "text/plain": [
       "[('KGZ', (816419045.1, 27.7)),\n",
       " ('KGZ', (816419045.1, 27.4)),\n",
       " ('KGZ', (816419045.1, 26.0)),\n",
       " ('BLZ', (105609924.9, 22.067)),\n",
       " ('IDN', (30916112653.8, 19.537))]"
      ]
     },
     "execution_count": 289,
     "metadata": {},
     "output_type": "execute_result"
    }
   ],
   "source": [
    "desarrollo_red = desarrollo.map(lambda x: (x[1], float(x[5])))\n",
    "deuda_red = deuda.map(lambda x: (x[1], float(x[3])))\n",
    "union = deuda_red.join(desarrollo_red)\n",
    "union.take(5)"
   ]
  },
  {
   "cell_type": "code",
   "execution_count": 290,
   "metadata": {
    "collapsed": false
   },
   "outputs": [
    {
     "data": {
      "text/plain": [
       "[('UKR', (8148995625.6, 10.3)),\n",
       " ('MDA', (769232867.0, 10.445)),\n",
       " ('MDA', (769232867.0, 10.609)),\n",
       " ('UKR', (8148995625.6, 10.7)),\n",
       " ('MDA', (769232867.0, 10.759)),\n",
       " ('UKR', (8148995625.6, 10.8)),\n",
       " ('THA', (5914706998.3, 10.836)),\n",
       " ('THA', (5914706998.3, 10.999)),\n",
       " ('ALB', (790248675.2, 12.08)),\n",
       " ('ALB', (790248675.2, 12.197)),\n",
       " ('ALB', (790248675.2, 12.259)),\n",
       " ('BLR', (4640037884.2, 12.4)),\n",
       " ('BLR', (4640037884.2, 12.5)),\n",
       " ('BLR', (4640037884.2, 12.5)),\n",
       " ('LCA', (20332673.8, 12.502)),\n",
       " ('RUS', (66589761833.5, 12.9)),\n",
       " ('RUS', (66589761833.5, 13.3)),\n",
       " ('RUS', (66589761833.5, 13.3)),\n",
       " ('GEO', (1552116953.6, 13.925)),\n",
       " ('GEO', (1552116953.6, 14.078)),\n",
       " ('GEO', (1552116953.6, 14.165)),\n",
       " ('BRA', (90041840304.1, 14.307)),\n",
       " ('BRA', (90041840304.1, 14.472)),\n",
       " ('BRA', (90041840304.1, 14.624)),\n",
       " ('VCT', (26411052.2, 15.011)),\n",
       " ('COL', (11985674438.7, 15.308)),\n",
       " ('COL', (11985674438.7, 15.515)),\n",
       " ('COL', (11985674438.7, 15.725)),\n",
       " ('JAM', (559597431.4, 16.46)),\n",
       " ('TUR', (51555031005.8, 16.494)),\n",
       " ('LKA', (5761489255.9, 16.609)),\n",
       " ('JAM', (559597431.4, 16.633)),\n",
       " ('TUR', (51555031005.8, 16.718)),\n",
       " ('JAM', (559597431.4, 16.814)),\n",
       " ('LKA', (5761489255.9, 16.849)),\n",
       " ('TUR', (51555031005.8, 16.94)),\n",
       " ('BTN', (213258536.9, 17.625)),\n",
       " ('BTN', (213258536.9, 17.783)),\n",
       " ('BTN', (213258536.9, 17.965)),\n",
       " ('PER', (5881259974.7, 18.323)),\n",
       " ('PER', (5881259974.7, 18.544)),\n",
       " ('SLV', (2574548482.3, 18.587)),\n",
       " ('SLV', (2574548482.3, 18.734)),\n",
       " ('IDN', (30916112653.8, 18.79)),\n",
       " ('PER', (5881259974.7, 18.827)),\n",
       " ('SLV', (2574548482.3, 18.881)),\n",
       " ('IDN', (30916112653.8, 19.165)),\n",
       " ('IDN', (30916112653.8, 19.537)),\n",
       " ('BLZ', (105609924.9, 22.067)),\n",
       " ('KAZ', (27482093686.4, 22.52)),\n",
       " ('KAZ', (27482093686.4, 22.71)),\n",
       " ('PHL', (6479170917.7, 22.935)),\n",
       " ('KAZ', (27482093686.4, 23.1)),\n",
       " ('JOR', (1990343479.2, 23.396)),\n",
       " ('TON', (10369910.6, 24.977)),\n",
       " ('JOR', (1990343479.2, 25.214)),\n",
       " ('GTM', (2911981987.8, 25.267)),\n",
       " ('TON', (10369910.6, 25.354)),\n",
       " ('GTM', (2911981987.8, 25.627)),\n",
       " ('TON', (10369910.6, 25.756)),\n",
       " ('BWA', (137995908.0, 25.943)),\n",
       " ('GTM', (2911981987.8, 25.992)),\n",
       " ('KGZ', (816419045.1, 26.0)),\n",
       " ('BWA', (137995908.0, 26.44)),\n",
       " ('BWA', (137995908.0, 26.87)),\n",
       " ('KGZ', (816419045.1, 27.4)),\n",
       " ('KGZ', (816419045.1, 27.7)),\n",
       " ('PNG', (2842193842.5, 27.993)),\n",
       " ('PNG', (2842193842.5, 28.344)),\n",
       " ('SLB', (30749703.9, 33.255)),\n",
       " ('SLB', (30749703.9, 33.556)),\n",
       " ('SLB', (30749703.9, 33.766)),\n",
       " ('MWI', (57422373.1, 34.593)),\n",
       " ('MWI', (57422373.1, 35.163)),\n",
       " ('MWI', (57422373.1, 35.839)),\n",
       " ('MWI', (57422373.1, 36.629)),\n",
       " ('ZMB', (1217643471.9, 37.95)),\n",
       " ('ZMB', (1217643471.9, 38.645))]"
      ]
     },
     "execution_count": 290,
     "metadata": {},
     "output_type": "execute_result"
    }
   ],
   "source": [
    "union.sortBy(lambda x: x[1][1]).collect()"
   ]
  },
  {
   "cell_type": "code",
   "execution_count": 292,
   "metadata": {
    "collapsed": false
   },
   "outputs": [
    {
     "data": {
      "text/plain": [
       "(('BRA', (90041840304.1, 14.624)), ('ZMB', (1217643471.9, 38.645)))"
      ]
     },
     "execution_count": 292,
     "metadata": {},
     "output_type": "execute_result"
    }
   ],
   "source": [
    "union.max(lambda x: x[1][0]), union.max(lambda x: x[1][1])"
   ]
  },
  {
   "cell_type": "code",
   "execution_count": 293,
   "metadata": {
    "collapsed": false
   },
   "outputs": [
    {
     "data": {
      "text/plain": [
       "(('TON', (10369910.6, 25.756)), ('UKR', (8148995625.6, 10.3)))"
      ]
     },
     "execution_count": 293,
     "metadata": {},
     "output_type": "execute_result"
    }
   ],
   "source": [
    "union.min(lambda x: x[1][0]), union.min(lambda x: x[1][1])"
   ]
  },
  {
   "cell_type": "markdown",
   "metadata": {},
   "source": [
    "Vemos que, con las pruebas ejecutadas a primera vista, los indicadores no están relacionadas porque, al ordenarlos de menor a mayor, vemos como según aumenta el indicador en cuestión, no lo hace la tasa de nacimientos. Además, los mínimos y máximos muestran mucha variabilidad en ambos casos, ya que no coinciden los países ni el máximo ni del mínimo."
   ]
  },
  {
   "cell_type": "code",
   "execution_count": 247,
   "metadata": {
    "collapsed": true
   },
   "outputs": [],
   "source": [
    "sc.stop()"
   ]
  }
 ],
 "metadata": {
  "kernelspec": {
   "display_name": "Python 3",
   "language": "python",
   "name": "python3"
  },
  "language_info": {
   "codemirror_mode": {
    "name": "ipython",
    "version": 3
   },
   "file_extension": ".py",
   "mimetype": "text/x-python",
   "name": "python",
   "nbconvert_exporter": "python",
   "pygments_lexer": "ipython3",
   "version": "3.5.2"
  }
 },
 "nbformat": 4,
 "nbformat_minor": 2
}
