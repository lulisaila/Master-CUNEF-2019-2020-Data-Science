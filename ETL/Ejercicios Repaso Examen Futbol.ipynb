{
 "cells": [
  {
   "cell_type": "markdown",
   "metadata": {},
   "source": [
    "# Examen ETL: SPARK 09/02"
   ]
  },
  {
   "cell_type": "markdown",
   "metadata": {},
   "source": [
    "Se podrá utilizar toda la información que se encuentra en el campus. \n",
    "\n",
    "El fichero de datos sobre el que se trabajará es el de DataSetPartidos.txt.\n",
    "\n",
    "A cada una de las preguntas hay que responder explicando brevemente que se pretende hacer antes de lanzar el código.\n",
    "\n",
    "Al documento lo llamareís con vuestro nombre y apellido. Debeís enviarlo a mi correo de CUNEF antes del final del examen o en su defecto por email.\n",
    "\n",
    "El lenguaje para trabajar con Spark podrá ser python o R indistintamente."
   ]
  },
  {
   "cell_type": "markdown",
   "metadata": {},
   "source": [
    "## Primera pregunta: ¿ En que se diferencian las acciones de las transformaciones en SPARK? ¿Podrías ponerme un par de ejemplo de cada una de ellas y describir que hacen, para que sirve?"
   ]
  },
  {
   "cell_type": "markdown",
   "metadata": {},
   "source": [
    "## Segunda tarea: Inicializar spark context y cargar los datos desde el fichero."
   ]
  },
  {
   "cell_type": "code",
   "execution_count": 16,
   "metadata": {
    "collapsed": false
   },
   "outputs": [],
   "source": [
    "from pyspark import SparkContext\n",
    "sc = SparkContext(\"local\", \"First App\")"
   ]
  },
  {
   "cell_type": "code",
   "execution_count": 17,
   "metadata": {
    "collapsed": false
   },
   "outputs": [],
   "source": [
    "data_file = \"./DataSetPartidos.txt\"  # direccion en el disco duro \n",
    "partidos = sc.textFile(data_file)\n",
    "partidos = partidos.map(lambda x: x.split(\"::\"))"
   ]
  },
  {
   "cell_type": "markdown",
   "metadata": {},
   "source": [
    "## Tercera pregunta: Calcular el número total de goles que ha marcado el Real Sporting de Gijón."
   ]
  },
  {
   "cell_type": "code",
   "execution_count": 18,
   "metadata": {
    "collapsed": false
   },
   "outputs": [
    {
     "data": {
      "text/plain": [
       "[['1',\n",
       "  '1970-71',\n",
       "  '1',\n",
       "  'Athletic Club',\n",
       "  'Barcelona',\n",
       "  '1',\n",
       "  '1',\n",
       "  '12/09/1970',\n",
       "  '21942000.0'],\n",
       " ['2',\n",
       "  '1970-71',\n",
       "  '1',\n",
       "  'Las Palmas',\n",
       "  'Atletico de Madrid',\n",
       "  '1',\n",
       "  '1',\n",
       "  '12/09/1970',\n",
       "  '21942000.0']]"
      ]
     },
     "execution_count": 18,
     "metadata": {},
     "output_type": "execute_result"
    }
   ],
   "source": [
    "partidos.take(2)"
   ]
  },
  {
   "cell_type": "code",
   "execution_count": 19,
   "metadata": {
    "collapsed": false
   },
   "outputs": [
    {
     "data": {
      "text/plain": [
       "[('Sporting de Gijon', 3),\n",
       " ('Sporting de Gijon', 0),\n",
       " ('Sporting de Gijon', 0),\n",
       " ('Sporting de Gijon', 3),\n",
       " ('Sporting de Gijon', 3)]"
      ]
     },
     "execution_count": 19,
     "metadata": {},
     "output_type": "execute_result"
    }
   ],
   "source": [
    "gijon_local = partidos.filter(lambda x: ('Gijon' in x[3])).map(lambda x: (x[3], int(x[5])))\n",
    "gijon_local.take(5)"
   ]
  },
  {
   "cell_type": "code",
   "execution_count": 20,
   "metadata": {
    "collapsed": false
   },
   "outputs": [
    {
     "data": {
      "text/plain": [
       "[('Sporting de Gijon', 0),\n",
       " ('Sporting de Gijon', 0),\n",
       " ('Sporting de Gijon', 1),\n",
       " ('Sporting de Gijon', 1),\n",
       " ('Sporting de Gijon', 1)]"
      ]
     },
     "execution_count": 20,
     "metadata": {},
     "output_type": "execute_result"
    }
   ],
   "source": [
    "gijon_visit = partidos.filter(lambda x: ('Gijon' in x[4])).map(lambda x: (x[4], int(x[6])))\n",
    "gijon_visit.take(5)"
   ]
  },
  {
   "cell_type": "code",
   "execution_count": 21,
   "metadata": {
    "collapsed": false
   },
   "outputs": [
    {
     "data": {
      "text/plain": [
       "2042"
      ]
     },
     "execution_count": 21,
     "metadata": {},
     "output_type": "execute_result"
    }
   ],
   "source": [
    "gijon_local.map(lambda x: x[1]).sum() + gijon_visit.map(lambda x: x[1]).sum()"
   ]
  },
  {
   "cell_type": "markdown",
   "metadata": {},
   "source": [
    "## Cuarta pregunta: ¿ En que temporada se marcaron más goles?"
   ]
  },
  {
   "cell_type": "code",
   "execution_count": 22,
   "metadata": {
    "collapsed": false
   },
   "outputs": [
    {
     "data": {
      "text/plain": [
       "('2012-13', 2294)"
      ]
     },
     "execution_count": 22,
     "metadata": {},
     "output_type": "execute_result"
    }
   ],
   "source": [
    "mas_goles = partidos.map(lambda x: (x[1], (int(x[5]) + int(x[6]))))\n",
    "mas_goles_key = mas_goles.reduceByKey(lambda x, y: x + y)\n",
    "mas_goles_key.max(lambda x: x[1])"
   ]
  },
  {
   "cell_type": "markdown",
   "metadata": {},
   "source": [
    "## Quinta pregunta: ¿Cúal es el equipo y tiene el record de más goles como local? ¿ y cómo visitante?"
   ]
  },
  {
   "cell_type": "code",
   "execution_count": 23,
   "metadata": {
    "collapsed": false
   },
   "outputs": [
    {
     "data": {
      "text/plain": [
       "('Real Madrid', 2054)"
      ]
     },
     "execution_count": 23,
     "metadata": {},
     "output_type": "execute_result"
    }
   ],
   "source": [
    "mejor_equipo_local = partidos.map(lambda x: (x[3], int(x[5]))).reduceByKey(lambda x, y: x + y)\n",
    "mejor_equipo_local.max(lambda x: x[1])"
   ]
  },
  {
   "cell_type": "code",
   "execution_count": 24,
   "metadata": {
    "collapsed": false
   },
   "outputs": [
    {
     "data": {
      "text/plain": [
       "('Real Madrid', 1296)"
      ]
     },
     "execution_count": 24,
     "metadata": {},
     "output_type": "execute_result"
    }
   ],
   "source": [
    "mejor_equipo_visit = partidos.map(lambda x: (x[4], int(x[6]))).reduceByKey(lambda x, y: x + y)\n",
    "mejor_equipo_visit.max(lambda x: x[1])"
   ]
  },
  {
   "cell_type": "markdown",
   "metadata": {},
   "source": [
    "## Sexta pregunta: ¿Cúales son las 3 décadas en las que más goles se metieron?"
   ]
  },
  {
   "cell_type": "code",
   "execution_count": 25,
   "metadata": {
    "collapsed": true
   },
   "outputs": [],
   "source": [
    "def get_decade(x):\n",
    "    return x[2] + \"0s\""
   ]
  },
  {
   "cell_type": "code",
   "execution_count": 26,
   "metadata": {
    "collapsed": false
   },
   "outputs": [
    {
     "data": {
      "text/plain": [
       "[('00s', 20759),\n",
       " ('90s', 19426),\n",
       " ('80s', 17351),\n",
       " ('70s', 16142),\n",
       " ('10s', 10788)]"
      ]
     },
     "execution_count": 26,
     "metadata": {},
     "output_type": "execute_result"
    }
   ],
   "source": [
    "mas_goles_decada = partidos.map(lambda x: (get_decade(x[1]), (int(x[5]) + int(x[6])))).reduceByKey(lambda x, y: x + y)\n",
    "mas_goles_decada.sortBy(lambda x: x[1], ascending = False).collect()"
   ]
  },
  {
   "cell_type": "markdown",
   "metadata": {},
   "source": [
    "##  Séptima pregunta: ¿Cúal es la media de victorias de los equipos que han estado menos de 10 temporadas en primera división?"
   ]
  },
  {
   "cell_type": "code",
   "execution_count": 31,
   "metadata": {
    "collapsed": false
   },
   "outputs": [
    {
     "data": {
      "text/plain": [
       "[('Athletic Club', 45), ('Almeria', 15), ('Orihuela', 1)]"
      ]
     },
     "execution_count": 31,
     "metadata": {},
     "output_type": "execute_result"
    }
   ],
   "source": [
    "prueba = partidos.map(lambda x: ((x[3], x[1]),1)).reduceByKey(lambda x, y: x + y)\n",
    "prueba2 = prueba.map(lambda x: (x[0][0], (x[0][1], x[1])))\n",
    "prueba3 = prueba2.map(lambda x: (x[0], 1)).reduceByKey(lambda x, y: x + y)\n",
    "prueba3.take(3)"
   ]
  },
  {
   "cell_type": "code",
   "execution_count": 40,
   "metadata": {
    "collapsed": false
   },
   "outputs": [],
   "source": [
    "prueba4 = prueba3.filter(lambda x: x[1] < 10)\n",
    "victorias1 = partidos.filter(lambda x: x[5] > x[6]).map(lambda x: (x[3], 1)).reduceByKey(lambda x, y: x + y)\n",
    "victorias2 = partidos.filter(lambda x: x[6] > x[5]).map(lambda x: (x[4], 1)).reduceByKey(lambda x, y: x + y)"
   ]
  },
  {
   "cell_type": "code",
   "execution_count": 41,
   "metadata": {
    "collapsed": false,
    "scrolled": true
   },
   "outputs": [
    {
     "data": {
      "text/plain": [
       "[('Athletic Club', 658),\n",
       " ('Almeria', 201),\n",
       " ('Orihuela', 12),\n",
       " ('Elche', 529),\n",
       " ('CD Malaga', 276)]"
      ]
     },
     "execution_count": 41,
     "metadata": {},
     "output_type": "execute_result"
    }
   ],
   "source": [
    "total_victorias = victorias1.join(victorias2)\n",
    "total_victorias = total_victorias.map(lambda x: (x[0], x[1][0] + x[1][1]))\n",
    "total_victorias.take(5)"
   ]
  },
  {
   "cell_type": "code",
   "execution_count": 42,
   "metadata": {
    "collapsed": false
   },
   "outputs": [
    {
     "data": {
      "text/plain": [
       "[('Athletic Club', 0.7966101694915254),\n",
       " ('Almeria', 0.6767676767676768),\n",
       " ('Orihuela', 0.631578947368421),\n",
       " ('Moscardo', 0.3157894736842105),\n",
       " ('Palencia CF', 0.631578947368421)]"
      ]
     },
     "execution_count": 42,
     "metadata": {},
     "output_type": "execute_result"
    }
   ],
   "source": [
    "total_partidos = partidos.map(lambda x: (x[3], 1)).reduceByKey(lambda x, y: x + y)\n",
    "total = total_victorias.join(total_partidos)\n",
    "total = total.map(lambda x: (x[0],(x[1][0]/x[1][1])))\n",
    "total.take(5)"
   ]
  },
  {
   "cell_type": "code",
   "execution_count": 43,
   "metadata": {
    "collapsed": false
   },
   "outputs": [
    {
     "data": {
      "text/plain": [
       "[('Sant Andreu', 0.71),\n",
       " ('Orihuela', 0.63),\n",
       " ('Malaga B', 0.49),\n",
       " ('Palamos', 0.58),\n",
       " ('Lorca', 0.53),\n",
       " ('Pontevedra', 0.6),\n",
       " ('Alcorcon', 0.83),\n",
       " ('Terrassa', 0.59),\n",
       " ('Real Union', 0.57),\n",
       " ('Ourense', 0.47),\n",
       " ('Langreo', 0.58),\n",
       " ('Mollerussa', 0.16),\n",
       " ('Sestao', 0.66),\n",
       " ('Calvo Sotelo', 0.59),\n",
       " ('Ciudad de Murcia', 0.7),\n",
       " ('Palencia CF', 0.63),\n",
       " ('FC Cartagena', 0.68),\n",
       " ('AD Almeria', 0.61),\n",
       " ('Alcoyano', 0.43),\n",
       " ('Mirandes', 0.63),\n",
       " ('Guadalajara', 0.62),\n",
       " ('Getafe Deportivo', 0.61),\n",
       " ('Girona', 0.72),\n",
       " ('Granada 74', 0.48),\n",
       " ('Algeciras', 0.46),\n",
       " ('Racing Ferrol', 0.55),\n",
       " ('Alzira', 0.47),\n",
       " ('Ejido', 0.61),\n",
       " ('Barakaldo', 0.68),\n",
       " ('Aviles', 0.5),\n",
       " ('Mestalla', 0.45),\n",
       " ('Linares CF', 0.56),\n",
       " ('Villarreal B', 0.71),\n",
       " ('Lorca Deportiva', 0.67),\n",
       " ('Real Burgos', 0.56),\n",
       " ('Alicante', 0.38),\n",
       " ('Llagostera', 0.71),\n",
       " ('Toledo', 0.73),\n",
       " ('Jaen', 0.59),\n",
       " ('Atletico Marbella', 0.58),\n",
       " ('Cultural Leonesa', 0.6),\n",
       " ('Moscardo', 0.32),\n",
       " ('Huesca', 0.6),\n",
       " ('Merida', 0.76),\n",
       " ('Cartagena', 0.54),\n",
       " ('Ecija', 0.5),\n",
       " ('Sevilla Atletico', 0.38),\n",
       " ('Figueres', 0.72),\n",
       " ('Extremadura', 0.68),\n",
       " ('Mallorca B', 0.57),\n",
       " ('Vecindario', 0.43),\n",
       " ('Lugo', 0.6),\n",
       " ('Ponferradina', 0.6),\n",
       " ('Ensidesa', 0.58),\n",
       " ('Aragon', 0.47),\n",
       " ('Universidad Las Palmas', 0.38)]"
      ]
     },
     "execution_count": 43,
     "metadata": {},
     "output_type": "execute_result"
    }
   ],
   "source": [
    "final = prueba4.join(total)\n",
    "final.map(lambda x: (x[0], round((x[1][1]), 2))).collect()"
   ]
  },
  {
   "cell_type": "markdown",
   "metadata": {},
   "source": [
    "##  Octava pregunta: ¿Cúal es la media de goles como visitante por partido?"
   ]
  },
  {
   "cell_type": "code",
   "execution_count": 46,
   "metadata": {
    "collapsed": false
   },
   "outputs": [
    {
     "data": {
      "text/plain": [
       "0.93"
      ]
     },
     "execution_count": 46,
     "metadata": {},
     "output_type": "execute_result"
    }
   ],
   "source": [
    "gol_visit = partidos.map(lambda x: int(x[6])).sum()\n",
    "partidos2 = partidos.map(lambda x: x[6]).count()\n",
    "round((gol_visit/ partidos2),2)"
   ]
  },
  {
   "cell_type": "code",
   "execution_count": 15,
   "metadata": {
    "collapsed": true
   },
   "outputs": [],
   "source": [
    "sc.stop()"
   ]
  }
 ],
 "metadata": {
  "kernelspec": {
   "display_name": "Python 3",
   "language": "python",
   "name": "python3"
  },
  "language_info": {
   "codemirror_mode": {
    "name": "ipython",
    "version": 3
   },
   "file_extension": ".py",
   "mimetype": "text/x-python",
   "name": "python",
   "nbconvert_exporter": "python",
   "pygments_lexer": "ipython3",
   "version": "3.5.2"
  }
 },
 "nbformat": 4,
 "nbformat_minor": 2
}
