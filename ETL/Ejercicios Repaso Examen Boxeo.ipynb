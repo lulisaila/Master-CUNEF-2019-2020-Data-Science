{
 "cells": [
  {
   "cell_type": "markdown",
   "metadata": {},
   "source": [
    "# Preparación Examen Final"
   ]
  },
  {
   "cell_type": "markdown",
   "metadata": {},
   "source": [
    "__Autor:__ Lucía Saiz Lapique"
   ]
  },
  {
   "cell_type": "code",
   "execution_count": 1,
   "metadata": {
    "collapsed": true
   },
   "outputs": [],
   "source": [
    "from pyspark import SparkContext\n",
    "sc = SparkContext(\"local\", \"First App\")"
   ]
  },
  {
   "cell_type": "code",
   "execution_count": 2,
   "metadata": {
    "collapsed": false
   },
   "outputs": [],
   "source": [
    "data_file1 = \"./fight_data.csv\"  # direccion en el disco duro \n",
    "combates = sc.textFile(data_file1)"
   ]
  },
  {
   "cell_type": "code",
   "execution_count": 3,
   "metadata": {
    "collapsed": false
   },
   "outputs": [
    {
     "data": {
      "text/plain": [
       "['R_fighter;B_fighter;win_by;last_round;last_round_time;Format;Referee;date;location;Winner;weight_class;title_bout']"
      ]
     },
     "execution_count": 3,
     "metadata": {},
     "output_type": "execute_result"
    }
   ],
   "source": [
    "combates.take(1)"
   ]
  },
  {
   "cell_type": "code",
   "execution_count": 4,
   "metadata": {
    "collapsed": true
   },
   "outputs": [],
   "source": [
    "combates = combates.map(lambda x: x.split(\";\"))"
   ]
  },
  {
   "cell_type": "code",
   "execution_count": 5,
   "metadata": {
    "collapsed": false
   },
   "outputs": [
    {
     "data": {
      "text/plain": [
       "[['R_fighter',\n",
       "  'B_fighter',\n",
       "  'win_by',\n",
       "  'last_round',\n",
       "  'last_round_time',\n",
       "  'Format',\n",
       "  'Referee',\n",
       "  'date',\n",
       "  'location',\n",
       "  'Winner',\n",
       "  'weight_class',\n",
       "  'title_bout'],\n",
       " ['Henry Cejudo',\n",
       "  'Marlon Moraes',\n",
       "  'KO/TKO',\n",
       "  '3',\n",
       "  '4:51',\n",
       "  '5 Rnd (5-5-5-5-5)',\n",
       "  'Marc Goddard',\n",
       "  'June 08, 2019',\n",
       "  'Chicago, Illinois, USA',\n",
       "  'Henry Cejudo',\n",
       "  'Bantamweight',\n",
       "  'True'],\n",
       " ['Valentina Shevchenko',\n",
       "  'Jessica Eye',\n",
       "  'KO/TKO',\n",
       "  '2',\n",
       "  '0:26',\n",
       "  '5 Rnd (5-5-5-5-5)',\n",
       "  'Robert Madrigal',\n",
       "  'June 08, 2019',\n",
       "  'Chicago, Illinois, USA',\n",
       "  'Valentina Shevchenko',\n",
       "  \"Women's Flyweight\",\n",
       "  'True']]"
      ]
     },
     "execution_count": 5,
     "metadata": {},
     "output_type": "execute_result"
    }
   ],
   "source": [
    "combates.take(3)"
   ]
  },
  {
   "cell_type": "code",
   "execution_count": 6,
   "metadata": {
    "collapsed": false
   },
   "outputs": [
    {
     "data": {
      "text/plain": [
       "PythonRDD[4] at RDD at PythonRDD.scala:48"
      ]
     },
     "execution_count": 6,
     "metadata": {},
     "output_type": "execute_result"
    }
   ],
   "source": [
    "combates = combates.filter(lambda x: 'R_fighter' not in x)\n",
    "combates.cache()"
   ]
  },
  {
   "cell_type": "code",
   "execution_count": 7,
   "metadata": {
    "collapsed": false
   },
   "outputs": [
    {
     "data": {
      "text/plain": [
       "[['Henry Cejudo',\n",
       "  'Marlon Moraes',\n",
       "  'KO/TKO',\n",
       "  '3',\n",
       "  '4:51',\n",
       "  '5 Rnd (5-5-5-5-5)',\n",
       "  'Marc Goddard',\n",
       "  'June 08, 2019',\n",
       "  'Chicago, Illinois, USA',\n",
       "  'Henry Cejudo',\n",
       "  'Bantamweight',\n",
       "  'True']]"
      ]
     },
     "execution_count": 7,
     "metadata": {},
     "output_type": "execute_result"
    }
   ],
   "source": [
    "combates.take(1)"
   ]
  },
  {
   "cell_type": "markdown",
   "metadata": {},
   "source": [
    "### 1. ¿Qué luchador ha luchado más veces con calzón azul?"
   ]
  },
  {
   "cell_type": "code",
   "execution_count": 8,
   "metadata": {
    "collapsed": false
   },
   "outputs": [
    {
     "data": {
      "text/plain": [
       "[('Paul Sass', 2), ('Sean Sherk', 4), ('Anthony Smith', 10)]"
      ]
     },
     "execution_count": 8,
     "metadata": {},
     "output_type": "execute_result"
    }
   ],
   "source": [
    "## meter contador cuando me pida algo relacionado con la cantidad que hay de alguna variable \n",
    "mas_veces = combates.map(lambda x: (x[1], 1))\n",
    "mas_veces_key = mas_veces.reduceByKey(lambda x, y: x + y)\n",
    "mas_veces_key.take(3)"
   ]
  },
  {
   "cell_type": "code",
   "execution_count": 9,
   "metadata": {
    "collapsed": false
   },
   "outputs": [
    {
     "data": {
      "text/plain": [
       "('Jeremy Stephens', 19)"
      ]
     },
     "execution_count": 9,
     "metadata": {},
     "output_type": "execute_result"
    }
   ],
   "source": [
    "mas_veces_key.max(lambda x: x[1])"
   ]
  },
  {
   "cell_type": "code",
   "execution_count": 10,
   "metadata": {
    "collapsed": false
   },
   "outputs": [
    {
     "data": {
      "text/plain": [
       "[('Jeremy Stephens', 19), ('Charles Oliveira', 17), ('Nik Lentz', 14)]"
      ]
     },
     "execution_count": 10,
     "metadata": {},
     "output_type": "execute_result"
    }
   ],
   "source": [
    "mas_veces_key.sortBy(lambda x: x[1], ascending = False).take(3)"
   ]
  },
  {
   "cell_type": "code",
   "execution_count": 11,
   "metadata": {
    "collapsed": false
   },
   "outputs": [
    {
     "data": {
      "text/plain": [
       "[('Jeremy Stephens', 19), ('Charles Oliveira', 17), ('Nik Lentz', 14)]"
      ]
     },
     "execution_count": 11,
     "metadata": {},
     "output_type": "execute_result"
    }
   ],
   "source": [
    "mas_veces_key.sortBy(lambda x: -x[1]).take(3)"
   ]
  },
  {
   "cell_type": "markdown",
   "metadata": {},
   "source": [
    "### Arbitro que ha dirigido más combates por año"
   ]
  },
  {
   "cell_type": "code",
   "execution_count": 12,
   "metadata": {
    "collapsed": false
   },
   "outputs": [
    {
     "data": {
      "text/plain": [
       "('Herb Dean', 726)"
      ]
     },
     "execution_count": 12,
     "metadata": {},
     "output_type": "execute_result"
    }
   ],
   "source": [
    "## igual que el anterior\n",
    "combates.map(lambda x: (x[6], 1)).reduceByKey(lambda x, y: x + y).max(lambda x: x[1])"
   ]
  },
  {
   "cell_type": "markdown",
   "metadata": {},
   "source": [
    "### Número de combates por año (hay que trabajar sobre la fecha)"
   ]
  },
  {
   "cell_type": "code",
   "execution_count": 13,
   "metadata": {
    "collapsed": false
   },
   "outputs": [
    {
     "data": {
      "text/plain": [
       "[('2019', 1), ('2019', 1), ('2019', 1)]"
      ]
     },
     "execution_count": 13,
     "metadata": {},
     "output_type": "execute_result"
    }
   ],
   "source": [
    "year = combates.map(lambda x: (x[7][-4:], 1))\n",
    "year.take(3)"
   ]
  },
  {
   "cell_type": "code",
   "execution_count": 14,
   "metadata": {
    "collapsed": false
   },
   "outputs": [
    {
     "data": {
      "text/plain": [
       "[('1993', 8),\n",
       " ('1994', 29),\n",
       " ('1995', 33),\n",
       " ('1996', 36),\n",
       " ('1997', 39),\n",
       " ('1998', 20),\n",
       " ('1999', 43),\n",
       " ('2000', 41),\n",
       " ('2001', 40),\n",
       " ('2002', 53),\n",
       " ('2003', 41),\n",
       " ('2004', 39),\n",
       " ('2005', 80),\n",
       " ('2006', 158),\n",
       " ('2007', 171),\n",
       " ('2008', 201),\n",
       " ('2009', 215),\n",
       " ('2010', 253),\n",
       " ('2011', 300),\n",
       " ('2012', 341),\n",
       " ('2013', 386),\n",
       " ('2014', 503),\n",
       " ('2015', 473),\n",
       " ('2016', 493),\n",
       " ('2017', 451),\n",
       " ('2018', 474),\n",
       " ('2019', 223)]"
      ]
     },
     "execution_count": 14,
     "metadata": {},
     "output_type": "execute_result"
    }
   ],
   "source": [
    "year.reduceByKey(lambda x, y: x + y).sortBy(lambda x: x[0]).collect()"
   ]
  },
  {
   "cell_type": "markdown",
   "metadata": {},
   "source": [
    "### Por año y por categoría de peso, lo q pone en la pizarra"
   ]
  },
  {
   "cell_type": "code",
   "execution_count": 15,
   "metadata": {
    "collapsed": false
   },
   "outputs": [
    {
     "data": {
      "text/plain": [
       "[(('2019', 'Bantamweight'), 0.6),\n",
       " (('2019', \"Women's Flyweight\"), 0.4),\n",
       " (('2019', 'Lightweight'), 0.6666666666666666)]"
      ]
     },
     "execution_count": 15,
     "metadata": {},
     "output_type": "execute_result"
    }
   ],
   "source": [
    "combates1 = combates.filter(lambda x: 'No Time Limit' not in x)\n",
    "solucion = combates1.map(lambda x: ((x[7][-4:], x[10]), (int(x[3])/int(x[5][0]))))\n",
    "cantidad = combates1.map(lambda x: ((x[7][-4:], x[10]), 1))\n",
    "solucion.take(3)"
   ]
  },
  {
   "cell_type": "code",
   "execution_count": 16,
   "metadata": {
    "collapsed": false
   },
   "outputs": [],
   "source": [
    "cantidad_key = cantidad.reduceByKey(lambda x, y: x + y)\n",
    "solucion_key = solucion.reduceByKey(lambda x, y: x + y)"
   ]
  },
  {
   "cell_type": "code",
   "execution_count": 17,
   "metadata": {
    "collapsed": false
   },
   "outputs": [],
   "source": [
    "resultado = solucion_key.join(cantidad_key)\n",
    "resultado = resultado.map(lambda x: (x[0], (x[1][0]/x[1][1])))"
   ]
  },
  {
   "cell_type": "code",
   "execution_count": 18,
   "metadata": {
    "collapsed": false
   },
   "outputs": [
    {
     "data": {
      "text/plain": [
       "[(('2001', 'Welterweight'), 0.7407407407407407),\n",
       " (('2016', 'Catch Weight'), 0.5111111111111112),\n",
       " (('1999', 'Open Weight'), 0.8333333333333333),\n",
       " (('2011', 'Lightweight'), 0.7746031746031745),\n",
       " (('2017', 'Light Heavyweight'), 0.6974358974358973)]"
      ]
     },
     "execution_count": 18,
     "metadata": {},
     "output_type": "execute_result"
    }
   ],
   "source": [
    "resultado.take(5)"
   ]
  },
  {
   "cell_type": "markdown",
   "metadata": {
    "collapsed": true
   },
   "source": [
    "### ¿Cómo se han ganado más, de azul o de rojo?"
   ]
  },
  {
   "cell_type": "code",
   "execution_count": 19,
   "metadata": {
    "collapsed": false
   },
   "outputs": [
    {
     "data": {
      "text/plain": [
       "['Henry Cejudo',\n",
       " 'Valentina Shevchenko',\n",
       " 'Tony Ferguson',\n",
       " 'Tatiana Suarez',\n",
       " 'Aljamain Sterling']"
      ]
     },
     "execution_count": 19,
     "metadata": {},
     "output_type": "execute_result"
    }
   ],
   "source": [
    "rojos_ganados = combates.filter(lambda x: x[0] == x[9]).map(lambda x: x[9])\n",
    "rojos_ganados.take(5)"
   ]
  },
  {
   "cell_type": "code",
   "execution_count": 20,
   "metadata": {
    "collapsed": false
   },
   "outputs": [
    {
     "data": {
      "text/plain": [
       "['Petr Yan',\n",
       " 'Blagoy Ivanov',\n",
       " 'Alexa Grasso',\n",
       " 'Calvin Kattar',\n",
       " 'Darren Stewart']"
      ]
     },
     "execution_count": 20,
     "metadata": {},
     "output_type": "execute_result"
    }
   ],
   "source": [
    "azules_ganados = combates.filter(lambda x: x[1] == x[9]).map(lambda x: x[9])\n",
    "azules_ganados.take(5)"
   ]
  },
  {
   "cell_type": "code",
   "execution_count": 21,
   "metadata": {
    "collapsed": false
   },
   "outputs": [
    {
     "data": {
      "text/plain": [
       "1591"
      ]
     },
     "execution_count": 21,
     "metadata": {},
     "output_type": "execute_result"
    }
   ],
   "source": [
    "azules_ganados.count()"
   ]
  },
  {
   "cell_type": "code",
   "execution_count": 22,
   "metadata": {
    "collapsed": false
   },
   "outputs": [
    {
     "data": {
      "text/plain": [
       "3470"
      ]
     },
     "execution_count": 22,
     "metadata": {},
     "output_type": "execute_result"
    }
   ],
   "source": [
    "rojos_ganados.count()"
   ]
  },
  {
   "cell_type": "markdown",
   "metadata": {},
   "source": [
    "### ¿Cuántos combates han celebrado el día 5 o 15 del mes en Chicago?"
   ]
  },
  {
   "cell_type": "code",
   "execution_count": 23,
   "metadata": {
    "collapsed": false
   },
   "outputs": [
    {
     "data": {
      "text/plain": [
       "[('March 23, 2019', 'Nashville, Tennessee, USA'),\n",
       " ('March 23, 2019', 'Nashville, Tennessee, USA'),\n",
       " ('March 23, 2019', 'Nashville, Tennessee, USA'),\n",
       " ('March 23, 2019', 'Nashville, Tennessee, USA'),\n",
       " ('March 23, 2019', 'Nashville, Tennessee, USA')]"
      ]
     },
     "execution_count": 23,
     "metadata": {},
     "output_type": "execute_result"
    }
   ],
   "source": [
    "prueba = combates.filter(lambda x: x[7][-8:-6] == '23' or x[7][-8:-6] == '09').map(lambda x: (x[7], x[8]))\n",
    "prueba.take(5)"
   ]
  },
  {
   "cell_type": "code",
   "execution_count": 24,
   "metadata": {
    "collapsed": false
   },
   "outputs": [
    {
     "data": {
      "text/plain": [
       "24"
      ]
     },
     "execution_count": 24,
     "metadata": {},
     "output_type": "execute_result"
    }
   ],
   "source": [
    "dos = prueba.filter(lambda x: x[1] == 'Chicago, Illinois, USA')\n",
    "dos.count()"
   ]
  },
  {
   "cell_type": "code",
   "execution_count": 25,
   "metadata": {
    "collapsed": false
   },
   "outputs": [
    {
     "data": {
      "text/plain": [
       "24"
      ]
     },
     "execution_count": 25,
     "metadata": {},
     "output_type": "execute_result"
    }
   ],
   "source": [
    "prueba.filter(lambda x: 'Chicago' in x[1]).count()  # otra forma de hacerlo"
   ]
  },
  {
   "cell_type": "code",
   "execution_count": 26,
   "metadata": {
    "collapsed": true
   },
   "outputs": [],
   "source": [
    "data_file2 = \"./fighter_details.csv\"  # direccion en el disco duro \n",
    "luchadores = sc.textFile(data_file2)"
   ]
  },
  {
   "cell_type": "markdown",
   "metadata": {},
   "source": [
    "## Con SQL"
   ]
  },
  {
   "cell_type": "code",
   "execution_count": 27,
   "metadata": {
    "collapsed": true
   },
   "outputs": [],
   "source": [
    "from pyspark.sql import Row, SQLContext  # siempre tal cual\n",
    "from pyspark.sql.functions import *\n",
    "sqlContext = SQLContext(sc)"
   ]
  },
  {
   "cell_type": "code",
   "execution_count": 28,
   "metadata": {
    "collapsed": false
   },
   "outputs": [],
   "source": [
    "combates_sql = combates.map(lambda p: Row( # para facilitar el uso de las variables, no es necesario\n",
    "    rojo = p[0],\n",
    "    azul = p[1],\n",
    "    year = int(p[7][-4:]),\n",
    "    winner = p[9],\n",
    "    categoria = p[10]\n",
    "))"
   ]
  },
  {
   "cell_type": "code",
   "execution_count": 29,
   "metadata": {
    "collapsed": true
   },
   "outputs": [],
   "source": [
    "combates_df = sqlContext.createDataFrame(combates_sql)  # siempre tal cual\n",
    "combates_df.registerTempTable('combates_final')"
   ]
  },
  {
   "cell_type": "code",
   "execution_count": 30,
   "metadata": {
    "collapsed": false
   },
   "outputs": [],
   "source": [
    "#sqlContext.sql(\"\"\"   \n",
    "\n",
    "#\"\"\").show()   ##siempre tal cual"
   ]
  },
  {
   "cell_type": "code",
   "execution_count": 31,
   "metadata": {
    "collapsed": false
   },
   "outputs": [
    {
     "name": "stdout",
     "output_type": "stream",
     "text": [
      "+--------------------+\n",
      "|              winner|\n",
      "+--------------------+\n",
      "|                    |\n",
      "|         Aaron Riley|\n",
      "|          Aaron Rosa|\n",
      "|       Aaron Simpson|\n",
      "|Abdul Razak Alhassan|\n",
      "|  Abdul-Kerim Edilov|\n",
      "|       Abel Trujillo|\n",
      "|         Abu Azaitar|\n",
      "|       Adam Milstead|\n",
      "|      Adam Wieczorek|\n",
      "+--------------------+\n",
      "\n"
     ]
    }
   ],
   "source": [
    "sqlContext.sql(\"\"\"   \n",
    "    SELECT DISTINCT winner\n",
    "    FROM combates_final\n",
    "    ORDER BY winner\n",
    "    LIMIT 10\n",
    "\"\"\").show()"
   ]
  },
  {
   "cell_type": "markdown",
   "metadata": {},
   "source": [
    "### Número de combates por año y por categoría"
   ]
  },
  {
   "cell_type": "code",
   "execution_count": 32,
   "metadata": {
    "collapsed": false,
    "scrolled": true
   },
   "outputs": [
    {
     "name": "stdout",
     "output_type": "stream",
     "text": [
      "+----+-----------------+--------+\n",
      "|year|        categoria|count(1)|\n",
      "+----+-----------------+--------+\n",
      "|1993|     Catch Weight|       1|\n",
      "|1993|      Open Weight|       7|\n",
      "|1994|     Catch Weight|       3|\n",
      "|1994|      Open Weight|      26|\n",
      "|1995|      Open Weight|      26|\n",
      "|1995|     Catch Weight|       7|\n",
      "|1996|     Catch Weight|       5|\n",
      "|1996|      Open Weight|      31|\n",
      "|1997|      Lightweight|      11|\n",
      "|1997|     Middleweight|       1|\n",
      "|1997|      Heavyweight|      26|\n",
      "|1997|Light Heavyweight|       1|\n",
      "+----+-----------------+--------+\n",
      "\n"
     ]
    }
   ],
   "source": [
    "sqlContext.sql(\"\"\"   \n",
    "    SELECT year, categoria, COUNT(*)\n",
    "    FROM combates_final\n",
    "    WHERE year BETWEEN 1993 AND 1997\n",
    "    GROUP BY year, categoria\n",
    "    ORDER BY year \n",
    "\"\"\").show()"
   ]
  },
  {
   "cell_type": "code",
   "execution_count": 33,
   "metadata": {
    "collapsed": false
   },
   "outputs": [
    {
     "name": "stdout",
     "output_type": "stream",
     "text": [
      "+----+-----------------+--------+\n",
      "|year|        categoria|count(1)|\n",
      "+----+-----------------+--------+\n",
      "|1993|     Catch Weight|       1|\n",
      "|1993|      Open Weight|       7|\n",
      "|1994|     Catch Weight|       3|\n",
      "|1994|      Open Weight|      26|\n",
      "|1995|      Open Weight|      26|\n",
      "|1995|     Catch Weight|       7|\n",
      "|1996|     Catch Weight|       5|\n",
      "|1996|      Open Weight|      31|\n",
      "|1997|      Lightweight|      11|\n",
      "|1997|     Middleweight|       1|\n",
      "|1997|      Heavyweight|      26|\n",
      "|1997|Light Heavyweight|       1|\n",
      "+----+-----------------+--------+\n",
      "\n"
     ]
    },
    {
     "data": {
      "text/plain": [
       "['Catch Weight', 'Open Weight', 'Catch Weight', 'Open Weight', 'Open Weight']"
      ]
     },
     "execution_count": 33,
     "metadata": {},
     "output_type": "execute_result"
    }
   ],
   "source": [
    "## para pasar datos de formato sql a rdd\n",
    "\n",
    "prueba_rdd = sqlContext.sql(\"\"\"\n",
    "    SELECT year, categoria, count(*)\n",
    "    FROM combates_final\n",
    "    WHERE year BETWEEN 1993 AND 1997\n",
    "    GROUP BY year, categoria\n",
    "    ORDER BY year\n",
    "\"\"\")\n",
    "prueba_rdd.show()\n",
    "rdd_mio = prueba_rdd.rdd\n",
    "rdd_mio.take(5)\n",
    "jota = rdd_mio.map(lambda x: x.categoria)\n",
    "jota.take(5)"
   ]
  },
  {
   "cell_type": "markdown",
   "metadata": {},
   "source": []
  },
  {
   "cell_type": "code",
   "execution_count": 34,
   "metadata": {
    "collapsed": false
   },
   "outputs": [],
   "source": [
    "sc.stop()"
   ]
  }
 ],
 "metadata": {
  "kernelspec": {
   "display_name": "Python 3",
   "language": "python",
   "name": "python3"
  },
  "language_info": {
   "codemirror_mode": {
    "name": "ipython",
    "version": 3
   },
   "file_extension": ".py",
   "mimetype": "text/x-python",
   "name": "python",
   "nbconvert_exporter": "python",
   "pygments_lexer": "ipython3",
   "version": "3.5.2"
  }
 },
 "nbformat": 4,
 "nbformat_minor": 2
}
