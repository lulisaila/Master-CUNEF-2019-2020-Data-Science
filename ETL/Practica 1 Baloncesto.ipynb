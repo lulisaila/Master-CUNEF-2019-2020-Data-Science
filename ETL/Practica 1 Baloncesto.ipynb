{
 "cells": [
  {
   "cell_type": "markdown",
   "metadata": {},
   "source": [
    "# Práctica ETL: Histograma y Ejercicios Examen"
   ]
  },
  {
   "cell_type": "markdown",
   "metadata": {},
   "source": [
    "### Autor: Lucía Saiz Lapique"
   ]
  },
  {
   "cell_type": "markdown",
   "metadata": {},
   "source": [
    "### Enunciado: \n",
    "Vamos a poner en práctica lo que hemos visto de spark. Para ellos vamos a trabajar con la siguiente fuente de datos: partidosLigaNBA. El enunciado del ejercicio lo tenéis a continuación. \n",
    "\n",
    "Pasos: \n",
    "\n",
    "1 Parsear el dataset para su tratamiento (lo que hemos visto hasta ahora, lo necesario para poder usar la información que se nos pide)\n",
    "\n",
    "2 Breve análisis descriptivo para analizar si el dataset está límpio\n",
    "\n",
    "3 Enunciado\n",
    "\n",
    "4 Generar histograma de los puntos anotados por los visitantes (este último punto será para la semana siguiente)\n",
    "\n",
    "Debéis subir el código, en .py o en .ipynb (sin los datos resultantes que si puede ocupar mucho). El objetivo es aplicar map-reduce, veremos más adelante como se puede hacer de manera más sencilla con sql. Se evaluaran tanto resultados con optimización en el uso.º\n",
    "\n",
    "NOTA: A los que no os funciona docker o spark en vuestro ordenador, podéis hacer el resto de tareas. Con respecto a esta y la siguiente podéis ir desarrollando el código usando jupyter en anaconda."
   ]
  },
  {
   "cell_type": "markdown",
   "metadata": {},
   "source": [
    "Se podrá utilizar toda la información que se encuentra en el campus. \n",
    "\n",
    "El fichero de datos sobre el que se trabajará es el de partidosLigaNBA.txt.\n",
    "\n",
    "A cada una de las preguntas hay que responder explicando brevemente que se pretende hacer antes de lanzar el código.\n",
    "\n",
    "Al documento lo llamareís con vuestro nombre y apellido. Debeís enviarlo a mi correo de CUNEF antes del final del examen.\n",
    "\n",
    "El lenguaje para trabajar con Spark podrá ser python o R indistintamente."
   ]
  },
  {
   "cell_type": "markdown",
   "metadata": {},
   "source": [
    "## Primera pregunta: Describe brevemente que diferencia el persists, cache y collect en spark. Explica brevemente casos en los que es interesante su aplicación"
   ]
  },
  {
   "cell_type": "markdown",
   "metadata": {},
   "source": [
    "Persists y cache son técnicas de optimización para computaciones realizadas en Spark. Se utilizan para almacenar los datos y la única diferencia entre ellos es que cache usa el nivel de MEMORY_ONLY por defecto y con persists puedes seleccionar dónde quieres almacenar las cosas. El uso de uno u otro es prácticamente el mismo, la única ocasión en la que elegiríamos entre uno de ellos es si no queremos usar la memoria de defecto para almacenar los datos seleccionados.\n",
    "\n",
    "Collect es una función distinta, que lleva todos los datos seleccionados del dataset como un array al programa; es útil después de haber ejecutado algún filtro o tras haber reducido el tamaño del datsset y pasarlo a un subset. Nos devuelve el resultado de todos los datos que le pedimos."
   ]
  },
  {
   "cell_type": "markdown",
   "metadata": {},
   "source": [
    "## Segunda pregunta: Explica brevemente los pasos a seguir para realizar la carga de un conjunto de datos (pasos que se siguieron en la práctica con datos de logs)"
   ]
  },
  {
   "cell_type": "markdown",
   "metadata": {},
   "source": [
    "El primer paso para cargar un conjunto de datos que queramos usar en un notebook de Python 3 crear un nuevo Jupyter Notebook y tener la base de datos (ya sea en formato csv, json o yalm) descargada en el mismo directorio en el que está guardado el notebook que se va a utilizar. En caso de querer utilizar una base de datos que se encuentre en una página web, podremos también usarla sin necesidad de decargar y guardarla en nuestro directorio.\n",
    "\n",
    "En segundo lugar, debemos importar el paquete o librería que queramos ejecutar (ya sea pandas en caso de trabajar con pandas o pyspark si trabajamos con Docker) para obtener acceso a las funciones necesarias. En nuestro caso específico, utilizaremos la librería pyspark y un fichero de datos que tenemos descargado con formato csv. Para importar el paquete en cuestión escribimos lo siguiente en el Notebook:\n",
    "\n",
    "from pyspark import SparkContext\n",
    "\n",
    "sc = SparkContext(\"local\", \"First App\")\n",
    "\n",
    "Cuando eso está ejecutado, creamos un nuevo objeto en el que vayamos a guardar la base de datos. Al objeto le ponemos un nombre facil y corto, ya que vamos a estar usando a lo largo de todo el ejercicio. En nuestro caso, aplicamos también la función textFile para que python nos lea los datos y los devuelva como un string de RDD. "
   ]
  },
  {
   "cell_type": "markdown",
   "metadata": {},
   "source": [
    "## Tercera Pregunta: Índica un tipo de problema que puede empeorar los datos. (pe. Que no exista un representante del CDO en todas las áreas de negocio), pon algún ejemplo específico (pe. Datos duplicados) y cómo lo tratarías con técnicas de data cleaning."
   ]
  },
  {
   "cell_type": "markdown",
   "metadata": {},
   "source": [
    "Un problema muy común que puede surgir al importar una base de datos en python y que puede empeorar los datos es que los datos estén introducidos erróneamente; por ejemplo, que un dato que sea igual para varias observaciones esté escrito de distinta forma (si piden profesión y por ejemplo ponen maestro, Profesor, profesora, Maestra, etc.). Es muy difícil interpretar datos y buscar similitudes entre observaciones si lo siguen todos la misma métrica o formato. \n",
    "\n",
    "Para resolverlo habría que buscar todos los datos distintos que hay de las variables y asociar a cada uno que sea distinto pero del mismo tipo, un nombre común. "
   ]
  },
  {
   "cell_type": "markdown",
   "metadata": {},
   "source": [
    "## Cuarta tarea: Inicializar spark context y cargar los datos desde el fichero."
   ]
  },
  {
   "cell_type": "code",
   "execution_count": 2,
   "metadata": {
    "collapsed": false
   },
   "outputs": [],
   "source": [
    "from pyspark import SparkContext\n",
    "sc = SparkContext(\"local\", \"First App\")"
   ]
  },
  {
   "cell_type": "code",
   "execution_count": 3,
   "metadata": {
    "collapsed": false
   },
   "outputs": [],
   "source": [
    "nba = \"./partidosLigaNBA.csv\"\n",
    "nba = sc.textFile(nba)"
   ]
  },
  {
   "cell_type": "code",
   "execution_count": 4,
   "metadata": {
    "collapsed": false
   },
   "outputs": [
    {
     "data": {
      "text/plain": [
       "./partidosLigaNBA.csv MapPartitionsRDD[1] at textFile at NativeMethodAccessorImpl.java:-2"
      ]
     },
     "execution_count": 4,
     "metadata": {},
     "output_type": "execute_result"
    }
   ],
   "source": [
    "nba"
   ]
  },
  {
   "cell_type": "markdown",
   "metadata": {},
   "source": [
    "### Parseamos los datos"
   ]
  },
  {
   "cell_type": "code",
   "execution_count": 5,
   "metadata": {
    "collapsed": false
   },
   "outputs": [],
   "source": [
    "# para quedarme sin el header y poder trabajar con los datos directamente; parseamos separando los datos con el símbolo \":\".\n",
    "nba = nba.filter(lambda x: \"PTS\" not in x).map(lambda x: x.split(\":\"))"
   ]
  },
  {
   "cell_type": "code",
   "execution_count": 6,
   "metadata": {
    "collapsed": false
   },
   "outputs": [
    {
     "data": {
      "text/plain": [
       "[['Tue, Oct 30, 2007',\n",
       "  '\"7',\n",
       "  '30 pm\"',\n",
       "  'Utah Jazz',\n",
       "  '117',\n",
       "  'Golden State Warriors',\n",
       "  '96']]"
      ]
     },
     "execution_count": 6,
     "metadata": {},
     "output_type": "execute_result"
    }
   ],
   "source": [
    "nba.take(1)  # llamamos a la primera línea de datos del dataset para comprobar que está todo correctamente separado.\n",
    "# vemos que contamos con la fecha de cada partido, la hora a la que se jugó, el nombre y puntos del equipo visitante y el del \n",
    "# grupo de casa. "
   ]
  },
  {
   "cell_type": "markdown",
   "metadata": {},
   "source": [
    "### Análisis descriptivo de los datos"
   ]
  },
  {
   "cell_type": "code",
   "execution_count": 7,
   "metadata": {
    "collapsed": false
   },
   "outputs": [
    {
     "data": {
      "text/plain": [
       "12907"
      ]
     },
     "execution_count": 7,
     "metadata": {},
     "output_type": "execute_result"
    }
   ],
   "source": [
    "nba.count() # primero identificamos el número de observaciones con el que contamos"
   ]
  },
  {
   "cell_type": "code",
   "execution_count": 8,
   "metadata": {
    "collapsed": true
   },
   "outputs": [],
   "source": [
    "nba = nba.filter(lambda x: \"Playoffs\" not in x) # hacemos un filtro en el que quitemos las palabras Playoffs"
   ]
  },
  {
   "cell_type": "code",
   "execution_count": 9,
   "metadata": {
    "collapsed": false
   },
   "outputs": [
    {
     "data": {
      "text/plain": [
       "[['Tue, Oct 30, 2007',\n",
       "  '\"7',\n",
       "  '30 pm\"',\n",
       "  'Utah Jazz',\n",
       "  '117',\n",
       "  'Golden State Warriors',\n",
       "  '96']]"
      ]
     },
     "execution_count": 9,
     "metadata": {},
     "output_type": "execute_result"
    }
   ],
   "source": [
    "nba.take(1)"
   ]
  },
  {
   "cell_type": "markdown",
   "metadata": {},
   "source": [
    "Para análizar de manera general los datos, sacamos la media, desviación típica, máximos y mínimos de los puntos de visitantes y de casa. "
   ]
  },
  {
   "cell_type": "code",
   "execution_count": 10,
   "metadata": {
    "collapsed": false
   },
   "outputs": [
    {
     "name": "stdout",
     "output_type": "stream",
     "text": [
      "La media de puntos de los visitantes es 98.74 y la de los de casa es 101.78\n"
     ]
    }
   ],
   "source": [
    "media_visit = round(nba.map(lambda x: int(x[4])).mean(),2)\n",
    "media_casa = round(nba.map(lambda x: int(x[6])).mean(),2)\n",
    "print(\"La media de puntos de los visitantes es\", media_visit, \"y la de los de casa es\", media_casa)"
   ]
  },
  {
   "cell_type": "code",
   "execution_count": 11,
   "metadata": {
    "collapsed": false
   },
   "outputs": [
    {
     "name": "stdout",
     "output_type": "stream",
     "text": [
      "La desviación típica de puntos de los visitantes es 12.13 y la de los de casa es 12.26\n"
     ]
    }
   ],
   "source": [
    "des_visit = round(nba.map(lambda x: int(x[4])).stdev(),2)\n",
    "des_casa = round(nba.map(lambda x: int(x[6])).stdev(),2)\n",
    "print(\"La desviación típica de puntos de los visitantes es\", des_visit, \"y la de los de casa es\", des_casa)"
   ]
  },
  {
   "cell_type": "code",
   "execution_count": 12,
   "metadata": {
    "collapsed": false
   },
   "outputs": [
    {
     "name": "stdout",
     "output_type": "stream",
     "text": [
      "El valor máximo de los puntos de los visitantes es 154 y el de los de casa es 168\n"
     ]
    }
   ],
   "source": [
    "max_visit = nba.map(lambda x: int(x[4])).max()\n",
    "max_casa = nba.map(lambda x: int(x[6])).max()\n",
    "print(\"El valor máximo de los puntos de los visitantes es\", max_visit, \"y el de los de casa es\", max_casa)"
   ]
  },
  {
   "cell_type": "code",
   "execution_count": 13,
   "metadata": {
    "collapsed": false
   },
   "outputs": [
    {
     "name": "stdout",
     "output_type": "stream",
     "text": [
      "El valor mínimo de los puntos de los visitantes es 54 y el de los de casa es 59\n"
     ]
    }
   ],
   "source": [
    "min_visit = nba.map(lambda x: int(x[4])).min()\n",
    "min_casa = nba.map(lambda x: int(x[6])).min()\n",
    "print(\"El valor mínimo de los puntos de los visitantes es\", min_visit, \"y el de los de casa es\", min_casa)"
   ]
  },
  {
   "cell_type": "markdown",
   "metadata": {},
   "source": [
    "## Quinta tarea: Media de la diferencia de puntos por año"
   ]
  },
  {
   "cell_type": "markdown",
   "metadata": {},
   "source": [
    "Para averiguar cual es la media de la diferencia de puntos por año debemos llevar a cabo una serie de pasos. En primer lugar, le asociaremos todos los puntos de visita y de casa que se marcaron por temporada a cada año, por separado. Por un lado tendremos una lista con una tupla por año que esté formada por dos elementos; el año y los puntos de visitante ese año. Por otro lado tendremos el mismo tipo de lista con los puntos adquiridos en casa. Una vez tenemos las dos listas con los puntos de visitante y de casa, buscamos la diferencia entre ellos y se la asociamos a cada año."
   ]
  },
  {
   "cell_type": "code",
   "execution_count": 14,
   "metadata": {
    "collapsed": false,
    "scrolled": true
   },
   "outputs": [],
   "source": [
    "fecha = nba.map(lambda x: x[0][-4:]) # nos piden trabajar con el año"
   ]
  },
  {
   "cell_type": "code",
   "execution_count": 15,
   "metadata": {
    "collapsed": false
   },
   "outputs": [
    {
     "data": {
      "text/plain": [
       "[117, 95, 97, 92, 103, 110, 104, 103, 90, 83]"
      ]
     },
     "execution_count": 15,
     "metadata": {},
     "output_type": "execute_result"
    }
   ],
   "source": [
    "ptos_visita = nba.map(lambda x: int(x[4]))\n",
    "ptos_visita.take(10)"
   ]
  },
  {
   "cell_type": "code",
   "execution_count": 16,
   "metadata": {
    "collapsed": false
   },
   "outputs": [
    {
     "data": {
      "text/plain": [
       "[96, 93, 106, 74, 120]"
      ]
     },
     "execution_count": 16,
     "metadata": {},
     "output_type": "execute_result"
    }
   ],
   "source": [
    "ptos_casa = nba.map(lambda x: int(x[6]))\n",
    "ptos_casa.take(5)"
   ]
  },
  {
   "cell_type": "code",
   "execution_count": 107,
   "metadata": {
    "collapsed": false
   },
   "outputs": [
    {
     "data": {
      "text/plain": [
       "[('2017', 84102),\n",
       " ('2013', 128963),\n",
       " ('2016', 136221),\n",
       " ('2011', 86293),\n",
       " ('2014', 133100)]"
      ]
     },
     "execution_count": 107,
     "metadata": {},
     "output_type": "execute_result"
    }
   ],
   "source": [
    "ptos_fecha_visit = nba.map(lambda x: (x[0][-4:], int(x[4])))\n",
    "ptos_fecha_visit_key = ptos_fecha_visit.reduceByKey(lambda x, y: x + y)\n",
    "ptos_fecha_visit_key.take(5)"
   ]
  },
  {
   "cell_type": "code",
   "execution_count": 18,
   "metadata": {
    "collapsed": false
   },
   "outputs": [
    {
     "data": {
      "text/plain": [
       "[('2017', 86682),\n",
       " ('2013', 132642),\n",
       " ('2016', 140466),\n",
       " ('2011', 88998),\n",
       " ('2014', 136567)]"
      ]
     },
     "execution_count": 18,
     "metadata": {},
     "output_type": "execute_result"
    }
   ],
   "source": [
    "ptos_fecha_casa = nba.map(lambda x: (x[0][-4:], int(x[6])))\n",
    "ptos_fecha_casa_key = ptos_fecha_casa.reduceByKey(lambda x, y: x + y)\n",
    "ptos_fecha_casa_key.take(5)"
   ]
  },
  {
   "cell_type": "code",
   "execution_count": 19,
   "metadata": {
    "collapsed": false
   },
   "outputs": [
    {
     "data": {
      "text/plain": [
       "[('2017', 9172),\n",
       " ('2013', 14659),\n",
       " ('2016', 15397),\n",
       " ('2011', 9435),\n",
       " ('2014', 14547)]"
      ]
     },
     "execution_count": 19,
     "metadata": {},
     "output_type": "execute_result"
    }
   ],
   "source": [
    "ptos_fecha = nba.map(lambda x: (x[0][-4:], abs(int(x[4])-int(x[6]))))\n",
    "ptos_fecha_key = ptos_fecha.reduceByKey(lambda x, y: x + y)\n",
    "ptos_fecha_key.take(5)"
   ]
  },
  {
   "cell_type": "markdown",
   "metadata": {},
   "source": [
    "El siguiente paso, una vez tenemos los puntos totales adquiridos por año, es averiguar cuántos partidos se han jugado en esas temporadas, para después calcular la media. Para ver el número de partidos que se han jugado, hacemos un conteo asociándole un 1 a cada observación que hay según su año. Con ello obtenemos el número total de partidos y podemos calcular la media. "
   ]
  },
  {
   "cell_type": "code",
   "execution_count": 20,
   "metadata": {
    "collapsed": false
   },
   "outputs": [
    {
     "data": {
      "text/plain": [
       "[('2017', 803), ('2013', 1324), ('2016', 1333), ('2011', 885), ('2014', 1334)]"
      ]
     },
     "execution_count": 20,
     "metadata": {},
     "output_type": "execute_result"
    }
   ],
   "source": [
    "partidos = nba.map(lambda x: (x[0][-4:], 1))\n",
    "partidos_key = partidos.reduceByKey(lambda x, y: x + y)\n",
    "partidos_key.take(5)  "
   ]
  },
  {
   "cell_type": "code",
   "execution_count": 21,
   "metadata": {
    "collapsed": false
   },
   "outputs": [
    {
     "data": {
      "text/plain": [
       "[('2017', (9172, 803)),\n",
       " ('2013', (14659, 1324)),\n",
       " ('2016', (15397, 1333)),\n",
       " ('2011', (9435, 885)),\n",
       " ('2014', (14547, 1334))]"
      ]
     },
     "execution_count": 21,
     "metadata": {},
     "output_type": "execute_result"
    }
   ],
   "source": [
    "ptos_partidos = ptos_fecha_key.join(partidos_key)  # join nos junta los puntos y los partidos asociados a cada año en base al \n",
    "# valor común que tienen; la fecha\n",
    "ptos_partidos.take(5)"
   ]
  },
  {
   "cell_type": "code",
   "execution_count": 22,
   "metadata": {
    "collapsed": false
   },
   "outputs": [
    {
     "data": {
      "text/plain": [
       "[('2007', 11.1),\n",
       " ('2008', 11.54),\n",
       " ('2009', 11.09),\n",
       " ('2010', 10.87),\n",
       " ('2011', 10.66),\n",
       " ('2012', 10.85),\n",
       " ('2013', 11.07),\n",
       " ('2014', 10.9),\n",
       " ('2015', 11.16),\n",
       " ('2016', 11.55),\n",
       " ('2017', 11.42)]"
      ]
     },
     "execution_count": 22,
     "metadata": {},
     "output_type": "execute_result"
    }
   ],
   "source": [
    "media = ptos_partidos.map(lambda x: (x[0], round(int(x[1][0])/int(x[1][1]), 2))).sortBy(lambda x: x[0])\n",
    "media.collect()\n",
    "# a continuación, una lista con la media de diferencia de puntos por partido en cada temporada. "
   ]
  },
  {
   "cell_type": "markdown",
   "metadata": {},
   "source": [
    "## Sexta tarea: ¿Han judado todos los equipos el mismo número de partidos? ¿ Si es qué no a que puede deberse?"
   ]
  },
  {
   "cell_type": "markdown",
   "metadata": {},
   "source": [
    "En este caso tenemos que, como en el caso anterior, hacer un conteo para ver cuántos partidos ha jugado cada partido en todas las temporadas. Hay que tener en cuenta los partidos de visitas y los de casa, así que realizamos el conteo sobre el nombre de  cad aequipo, primero de los partidos en los que jugaban como visitantes y luego en los que jugaban en casa, para después con un join, unirlos y sumar el total. "
   ]
  },
  {
   "cell_type": "code",
   "execution_count": 23,
   "metadata": {
    "collapsed": false
   },
   "outputs": [
    {
     "data": {
      "text/plain": [
       "[('New Orleans Pelicans', 166),\n",
       " ('Sacramento Kings', 402),\n",
       " ('Charlotte Hornets', 127),\n",
       " ('Phoenix Suns', 413),\n",
       " ('San Antonio Spurs', 466)]"
      ]
     },
     "execution_count": 23,
     "metadata": {},
     "output_type": "execute_result"
    }
   ],
   "source": [
    "partidos_visita = nba.map(lambda x: (x[3], 1))\n",
    "partidos_visita_key = partidos_visita.reduceByKey(lambda x, y: x + y)\n",
    "partidos_visita_key.take(5)"
   ]
  },
  {
   "cell_type": "code",
   "execution_count": 24,
   "metadata": {
    "collapsed": false
   },
   "outputs": [
    {
     "data": {
      "text/plain": [
       "[('New Orleans Pelicans', 166),\n",
       " ('Sacramento Kings', 402),\n",
       " ('Atlanta Hawks', 448),\n",
       " ('Charlotte Hornets', 126),\n",
       " ('Phoenix Suns', 412)]"
      ]
     },
     "execution_count": 24,
     "metadata": {},
     "output_type": "execute_result"
    }
   ],
   "source": [
    "partidos_casa = nba.map(lambda x: (x[5], 1))\n",
    "partidos_casa_key = partidos_casa.reduceByKey(lambda x, y: x + y)\n",
    "partidos_casa_key.take(5)"
   ]
  },
  {
   "cell_type": "code",
   "execution_count": 25,
   "metadata": {
    "collapsed": false
   },
   "outputs": [
    {
     "data": {
      "text/plain": [
       "[('New Orleans Pelicans', (166, 166)),\n",
       " ('Charlotte Hornets', (127, 126)),\n",
       " ('Phoenix Suns', (413, 412)),\n",
       " ('New Jersey Nets', (197, 197)),\n",
       " ('Golden State Warriors', (440, 445))]"
      ]
     },
     "execution_count": 25,
     "metadata": {},
     "output_type": "execute_result"
    }
   ],
   "source": [
    "partidos_ambos = partidos_visita_key.join(partidos_casa_key)\n",
    "partidos_ambos.take(5)"
   ]
  },
  {
   "cell_type": "code",
   "execution_count": 26,
   "metadata": {
    "collapsed": false
   },
   "outputs": [
    {
     "data": {
      "text/plain": [
       "[('San Antonio Spurs', 933),\n",
       " ('Boston Celtics', 930),\n",
       " ('Miami Heat', 917),\n",
       " ('Cleveland Cavaliers', 901),\n",
       " ('Los Angeles Lakers', 897),\n",
       " ('Atlanta Hawks', 896),\n",
       " ('Golden State Warriors', 885),\n",
       " ('Chicago Bulls', 873),\n",
       " ('Indiana Pacers', 868),\n",
       " ('Houston Rockets', 868),\n",
       " ('Dallas Mavericks', 867),\n",
       " ('Memphis Grizzlies', 867),\n",
       " ('Orlando Magic', 863),\n",
       " ('Los Angeles Clippers', 861),\n",
       " ('Portland Trail Blazers', 853),\n",
       " ('Toronto Raptors', 850),\n",
       " ('Denver Nuggets', 848),\n",
       " ('Utah Jazz', 846),\n",
       " ('Washington Wizards', 844),\n",
       " ('Philadelphia 76ers', 834),\n",
       " ('Detroit Pistons', 829),\n",
       " ('Milwaukee Bucks', 827),\n",
       " ('Phoenix Suns', 825),\n",
       " ('New York Knicks', 825),\n",
       " ('Oklahoma City Thunder', 818),\n",
       " ('Sacramento Kings', 804),\n",
       " ('Minnesota Timberwolves', 804),\n",
       " ('Charlotte Bobcats', 566),\n",
       " ('New Orleans Hornets', 499),\n",
       " ('Brooklyn Nets', 435),\n",
       " ('New Jersey Nets', 394),\n",
       " ('New Orleans Pelicans', 332),\n",
       " ('Charlotte Hornets', 253),\n",
       " ('Seattle SuperSonics', 82)]"
      ]
     },
     "execution_count": 26,
     "metadata": {},
     "output_type": "execute_result"
    }
   ],
   "source": [
    "partidos_total = partidos_ambos.map(lambda x: (x[0], (int(x[1][0]) + int(x[1][1])))).sortBy(lambda x: -x[1])\n",
    "partidos_total.collect()"
   ]
  },
  {
   "cell_type": "markdown",
   "metadata": {},
   "source": [
    "Al imprimir la lista final al completo, vemos como el equipo que más partidos ha jugado ha sido los San Antonio Spurs con un total de partidos jugados de 933. La razón por la que unos equipos juegan más partidos que otros puede ser que hayan cambiado de nombre y nen el dataset salgan los partidos por separado o que, al ser partidos de \"playoffs\", los que pierden mucho se van eliminandi y, por tanto, juegan menos que los mejores equipos. Podemos concluir pues, que los mejores equipos son los que más partidos han jugado."
   ]
  },
  {
   "cell_type": "markdown",
   "metadata": {},
   "source": [
    "## Séptima pregunta: ¿Cuántos partidos ha ganado en enero Cleveland?"
   ]
  },
  {
   "cell_type": "markdown",
   "metadata": {},
   "source": [
    "Para calcular el número de partidos que gana en enero Cleveland, tenemos que coger nuestra base de datos y aplicarle dos filtros: uno que recoja los datos de todos los partidos que se han jugado en todas las temporadas en enero y otro que incluya, de esos, solo los que juegan los Cleveland Cavaliers, tanto en visita como en casa. "
   ]
  },
  {
   "cell_type": "code",
   "execution_count": 27,
   "metadata": {
    "collapsed": false
   },
   "outputs": [
    {
     "data": {
      "text/plain": [
       "[['Tue, Oct 30, 2007',\n",
       "  '\"7',\n",
       "  '30 pm\"',\n",
       "  'Utah Jazz',\n",
       "  '117',\n",
       "  'Golden State Warriors',\n",
       "  '96']]"
      ]
     },
     "execution_count": 27,
     "metadata": {},
     "output_type": "execute_result"
    }
   ],
   "source": [
    "nba.take(1)"
   ]
  },
  {
   "cell_type": "code",
   "execution_count": 28,
   "metadata": {
    "collapsed": false
   },
   "outputs": [
    {
     "data": {
      "text/plain": [
       "['Apr', 'Jan', 'Nov', 'Jun', 'Mar', 'Oct', 'Dec', 'May', 'Feb']"
      ]
     },
     "execution_count": 28,
     "metadata": {},
     "output_type": "execute_result"
    }
   ],
   "source": [
    "nba.map(lambda x: x[0][5:8]).distinct().collect() # sacamos los meses para buscar cuantos caracteres tiene enero y como se escribe,\n",
    "# pues lo necesitamos para el filtro. "
   ]
  },
  {
   "cell_type": "code",
   "execution_count": 29,
   "metadata": {
    "collapsed": false
   },
   "outputs": [
    {
     "data": {
      "text/plain": [
       "[['Wed, Jan 2, 2008',\n",
       "  '\"7',\n",
       "  '30 pm\"',\n",
       "  'Houston Rockets',\n",
       "  '93',\n",
       "  'Boston Celtics',\n",
       "  '97']]"
      ]
     },
     "execution_count": 29,
     "metadata": {},
     "output_type": "execute_result"
    }
   ],
   "source": [
    "partidos_enero = nba.filter(lambda x: x[0][5:8] == 'Jan')  #  el filter recorre todo el dataset, como el map\n",
    "partidos_enero.take(1)"
   ]
  },
  {
   "cell_type": "code",
   "execution_count": 30,
   "metadata": {
    "collapsed": false
   },
   "outputs": [
    {
     "data": {
      "text/plain": [
       "['New Orleans Pelicans',\n",
       " 'Sacramento Kings',\n",
       " 'Charlotte Hornets',\n",
       " 'Phoenix Suns',\n",
       " 'San Antonio Spurs',\n",
       " 'Miami Heat',\n",
       " 'Golden State Warriors',\n",
       " 'Brooklyn Nets',\n",
       " 'Milwaukee Bucks',\n",
       " 'New Jersey Nets',\n",
       " 'Seattle SuperSonics',\n",
       " 'Utah Jazz',\n",
       " 'Los Angeles Lakers',\n",
       " 'Indiana Pacers',\n",
       " 'Houston Rockets',\n",
       " 'Dallas Mavericks',\n",
       " 'Oklahoma City Thunder',\n",
       " 'Washington Wizards',\n",
       " 'Cleveland Cavaliers',\n",
       " 'Chicago Bulls',\n",
       " 'Toronto Raptors',\n",
       " 'Portland Trail Blazers',\n",
       " 'New Orleans Hornets',\n",
       " 'Memphis Grizzlies',\n",
       " 'Denver Nuggets',\n",
       " 'Philadelphia 76ers',\n",
       " 'New York Knicks',\n",
       " 'Orlando Magic',\n",
       " 'Boston Celtics',\n",
       " 'Atlanta Hawks',\n",
       " 'Detroit Pistons',\n",
       " 'Minnesota Timberwolves',\n",
       " 'Charlotte Bobcats',\n",
       " 'Los Angeles Clippers']"
      ]
     },
     "execution_count": 30,
     "metadata": {},
     "output_type": "execute_result"
    }
   ],
   "source": [
    "nba.map(lambda x: x[3]).distinct().collect() # buscamos el nombre exacto del equipo para hacer el filtro como con enero"
   ]
  },
  {
   "cell_type": "code",
   "execution_count": 31,
   "metadata": {
    "collapsed": false
   },
   "outputs": [
    {
     "data": {
      "text/plain": [
       "[['Sun, Jan 6, 2008',\n",
       "  '\"1',\n",
       "  '00 pm\"',\n",
       "  'Cleveland Cavaliers',\n",
       "  '93',\n",
       "  'Toronto Raptors',\n",
       "  '90']]"
      ]
     },
     "execution_count": 31,
     "metadata": {},
     "output_type": "execute_result"
    }
   ],
   "source": [
    "partidos_clev_visita = partidos_enero.filter(lambda x: x[3] == 'Cleveland Cavaliers')  \n",
    "partidos_clev_visita.take(1)"
   ]
  },
  {
   "cell_type": "code",
   "execution_count": 32,
   "metadata": {
    "collapsed": false
   },
   "outputs": [],
   "source": [
    "ganados_visit = partidos_clev_visita.filter(lambda x: int(x[4]) > int(x[6]))\n",
    "ganados_visit_num = ganados_visit.count()"
   ]
  },
  {
   "cell_type": "code",
   "execution_count": 33,
   "metadata": {
    "collapsed": false
   },
   "outputs": [
    {
     "data": {
      "text/plain": [
       "[['Wed, Jan 2, 2008',\n",
       "  '\"7',\n",
       "  '00 pm\"',\n",
       "  'Atlanta Hawks',\n",
       "  '94',\n",
       "  'Cleveland Cavaliers',\n",
       "  '98']]"
      ]
     },
     "execution_count": 33,
     "metadata": {},
     "output_type": "execute_result"
    }
   ],
   "source": [
    "partidos_clev_casa = partidos_enero.filter(lambda x: x[5] == 'Cleveland Cavaliers')  #  el filter tb recorre todo\n",
    "partidos_clev_casa.take(1)"
   ]
  },
  {
   "cell_type": "code",
   "execution_count": 34,
   "metadata": {
    "collapsed": false
   },
   "outputs": [],
   "source": [
    "ganados_casa = partidos_clev_casa.filter(lambda x: int(x[6]) > int(x[4]))\n",
    "ganados_casa_num = ganados_casa.count()"
   ]
  },
  {
   "cell_type": "code",
   "execution_count": 35,
   "metadata": {
    "collapsed": false
   },
   "outputs": [
    {
     "name": "stdout",
     "output_type": "stream",
     "text": [
      "Los Cleveland Cavaliers han ganado en enero 83 partidos.\n"
     ]
    }
   ],
   "source": [
    "ganados_total = ganados_casa_num + ganados_visit_num\n",
    "print(\"Los Cleveland Cavaliers han ganado en enero\", ganados_total, \"partidos.\")"
   ]
  },
  {
   "cell_type": "markdown",
   "metadata": {},
   "source": [
    "## Octava pregunta: ¿Los Warriors son mejores fuera de casa o en casa?"
   ]
  },
  {
   "cell_type": "markdown",
   "metadata": {},
   "source": [
    "Para averiguar donde juegan mejor los warriors, si en casa o fuera, usamos filtros de forma parecida al ejercicio anterior. En este caso no necesitaríamos filtrar por fecha. "
   ]
  },
  {
   "cell_type": "code",
   "execution_count": 36,
   "metadata": {
    "collapsed": false
   },
   "outputs": [
    {
     "data": {
      "text/plain": [
       "[['Fri, Nov 2, 2007',\n",
       "  '\"7',\n",
       "  '30 pm\"',\n",
       "  'Golden State Warriors',\n",
       "  '114',\n",
       "  'Los Angeles Clippers',\n",
       "  '120'],\n",
       " ['Sat, Nov 3, 2007',\n",
       "  '\"7',\n",
       "  '00 pm\"',\n",
       "  'Golden State Warriors',\n",
       "  '110',\n",
       "  'Utah Jazz',\n",
       "  '133'],\n",
       " ['Sun, Nov 18, 2007',\n",
       "  '\"1',\n",
       "  '00 pm\"',\n",
       "  'Golden State Warriors',\n",
       "  '106',\n",
       "  'Toronto Raptors',\n",
       "  '100']]"
      ]
     },
     "execution_count": 36,
     "metadata": {},
     "output_type": "execute_result"
    }
   ],
   "source": [
    "partidos_warriors_visita = nba.filter(lambda x: x[3] == 'Golden State Warriors')\n",
    "partidos_warriors_visita.take(3)"
   ]
  },
  {
   "cell_type": "code",
   "execution_count": 37,
   "metadata": {
    "collapsed": false
   },
   "outputs": [
    {
     "data": {
      "text/plain": [
       "215"
      ]
     },
     "execution_count": 37,
     "metadata": {},
     "output_type": "execute_result"
    }
   ],
   "source": [
    "ganados_visit_war = partidos_warriors_visita.filter(lambda x: int(x[4]) > int(x[6]))\n",
    "ganados_visit_war.count()"
   ]
  },
  {
   "cell_type": "code",
   "execution_count": 38,
   "metadata": {
    "collapsed": false
   },
   "outputs": [
    {
     "data": {
      "text/plain": [
       "[['Tue, Oct 30, 2007',\n",
       "  '\"7',\n",
       "  '30 pm\"',\n",
       "  'Utah Jazz',\n",
       "  '117',\n",
       "  'Golden State Warriors',\n",
       "  '96'],\n",
       " ['Tue, Nov 6, 2007',\n",
       "  '\"7',\n",
       "  '30 pm\"',\n",
       "  'Cleveland Cavaliers',\n",
       "  '108',\n",
       "  'Golden State Warriors',\n",
       "  '104'],\n",
       " ['Thu, Nov 8, 2007',\n",
       "  '\"7',\n",
       "  '30 pm\"',\n",
       "  'Dallas Mavericks',\n",
       "  '120',\n",
       "  'Golden State Warriors',\n",
       "  '115']]"
      ]
     },
     "execution_count": 38,
     "metadata": {},
     "output_type": "execute_result"
    }
   ],
   "source": [
    "partidos_warriors_casa = nba.filter(lambda x: x[5] == 'Golden State Warriors')\n",
    "partidos_warriors_casa.take(3)"
   ]
  },
  {
   "cell_type": "code",
   "execution_count": 39,
   "metadata": {
    "collapsed": false
   },
   "outputs": [
    {
     "data": {
      "text/plain": [
       "308"
      ]
     },
     "execution_count": 39,
     "metadata": {},
     "output_type": "execute_result"
    }
   ],
   "source": [
    "ganados_casa_war = partidos_warriors_casa.filter(lambda x: int(x[6]) > int(x[4]))\n",
    "ganados_casa_war.count()"
   ]
  },
  {
   "cell_type": "code",
   "execution_count": 40,
   "metadata": {
    "collapsed": false,
    "scrolled": true
   },
   "outputs": [
    {
     "data": {
      "text/plain": [
       "308"
      ]
     },
     "execution_count": 40,
     "metadata": {},
     "output_type": "execute_result"
    }
   ],
   "source": [
    "ganados_war = max(ganados_visit_war.count(), ganados_casa_war.count())\n",
    "ganados_war"
   ]
  },
  {
   "cell_type": "code",
   "execution_count": 41,
   "metadata": {
    "collapsed": false
   },
   "outputs": [
    {
     "name": "stdout",
     "output_type": "stream",
     "text": [
      "El equipo de los Golden State Warriors ha ganado más partidos en casa, con un total de 308 partidos.\n"
     ]
    }
   ],
   "source": [
    "def warriors():\n",
    "    if (ganados_casa_war.count() > ganados_visit_war.count()):\n",
    "        print(\"El equipo de los Golden State Warriors ha ganado más partidos en casa, con un total de\", ganados_casa_war.count(), \"partidos.\")\n",
    "    else:\n",
    "        print(\"El equipo de los Golden State Warriors ha ganado más partidos en casa, con un total de\", ganados_visit_war.count(), \"partidos.\")       \n",
    "warriors()"
   ]
  },
  {
   "cell_type": "markdown",
   "metadata": {},
   "source": [
    "## Novena pregunta: Equipo que ha quedado primerio en victorias más temporadas. (si es que hay alguno que más)"
   ]
  },
  {
   "cell_type": "markdown",
   "metadata": {
    "collapsed": true
   },
   "source": [
    "Este es el ejercicio más largo. en este ejercicio hay que averiguar cuantas victorias tiene cada equipo tanto en casa como de visitantes en todos los años, y luego averiguar qué equipo tiene más victorias de todos ellos. "
   ]
  },
  {
   "cell_type": "code",
   "execution_count": 42,
   "metadata": {
    "collapsed": false
   },
   "outputs": [
    {
     "data": {
      "text/plain": [
       "[['Tue, Oct 30, 2007',\n",
       "  '\"7',\n",
       "  '30 pm\"',\n",
       "  'Utah Jazz',\n",
       "  '117',\n",
       "  'Golden State Warriors',\n",
       "  '96']]"
      ]
     },
     "execution_count": 42,
     "metadata": {},
     "output_type": "execute_result"
    }
   ],
   "source": [
    "nba.take(1)"
   ]
  },
  {
   "cell_type": "code",
   "execution_count": 43,
   "metadata": {
    "collapsed": false
   },
   "outputs": [
    {
     "data": {
      "text/plain": [
       "[['Tue, Oct 30, 2007',\n",
       "  '\"7',\n",
       "  '30 pm\"',\n",
       "  'Utah Jazz',\n",
       "  '117',\n",
       "  'Golden State Warriors',\n",
       "  '96']]"
      ]
     },
     "execution_count": 43,
     "metadata": {},
     "output_type": "execute_result"
    }
   ],
   "source": [
    "ganados_visit_total = nba.filter(lambda x: int(x[4]) > int(x[6]))\n",
    "ganados_visit_total.take(1)"
   ]
  },
  {
   "cell_type": "code",
   "execution_count": 44,
   "metadata": {
    "collapsed": false
   },
   "outputs": [
    {
     "data": {
      "text/plain": [
       "[['Tue, Oct 30, 2007',\n",
       "  '\"7',\n",
       "  '00 pm\"',\n",
       "  'Portland Trail Blazers',\n",
       "  '97',\n",
       "  'San Antonio Spurs',\n",
       "  '106']]"
      ]
     },
     "execution_count": 44,
     "metadata": {},
     "output_type": "execute_result"
    }
   ],
   "source": [
    "ganados_casa_total = nba.filter(lambda x: int(x[6]) > int(x[4]))\n",
    "ganados_casa_total.take(1)"
   ]
  },
  {
   "cell_type": "code",
   "execution_count": 45,
   "metadata": {
    "collapsed": false
   },
   "outputs": [
    {
     "data": {
      "text/plain": [
       "['2017',\n",
       " '2013',\n",
       " '2016',\n",
       " '2011',\n",
       " '2014',\n",
       " '2008',\n",
       " '2007',\n",
       " '2015',\n",
       " '2009',\n",
       " '2010',\n",
       " '2012']"
      ]
     },
     "execution_count": 45,
     "metadata": {},
     "output_type": "execute_result"
    }
   ],
   "source": [
    "nba.map(lambda x: x[0][-4:]).distinct().collect()"
   ]
  },
  {
   "cell_type": "markdown",
   "metadata": {},
   "source": [
    "Buscamos los equipos que hayan ganado el mayor número de partidos en 2007."
   ]
  },
  {
   "cell_type": "code",
   "execution_count": 46,
   "metadata": {
    "collapsed": true
   },
   "outputs": [],
   "source": [
    "ganados_2007_visit = ganados_visit_total.filter(lambda x: x[0][-4:] == '2007')\n",
    "ganados_2007_casa = ganados_casa_total.filter(lambda x: x[0][-4:] == '2007')"
   ]
  },
  {
   "cell_type": "code",
   "execution_count": 47,
   "metadata": {
    "collapsed": false
   },
   "outputs": [
    {
     "data": {
      "text/plain": [
       "[('Minnesota Timberwolves', (1, 3)),\n",
       " ('Utah Jazz', (6, 11)),\n",
       " ('Phoenix Suns', (13, 9)),\n",
       " ('New Jersey Nets', (7, 7)),\n",
       " ('Golden State Warriors', (11, 8))]"
      ]
     },
     "execution_count": 47,
     "metadata": {},
     "output_type": "execute_result"
    }
   ],
   "source": [
    "visita_2007 = ganados_2007_visit.map(lambda x: (x[3], 1))\n",
    "visita_2007_key = visita_2007.reduceByKey(lambda x, y: x + y)\n",
    "casa_2007 = ganados_2007_casa.map(lambda x: (x[5], 1))\n",
    "casa_2007_key = casa_2007.reduceByKey(lambda x, y: x + y)\n",
    "juntos_2007 = visita_2007_key.join(casa_2007_key)\n",
    "juntos_2007.take(5)"
   ]
  },
  {
   "cell_type": "code",
   "execution_count": 48,
   "metadata": {
    "collapsed": false
   },
   "outputs": [
    {
     "data": {
      "text/plain": [
       "[('Boston Celtics', 26), ('Detroit Pistons', 24), ('Phoenix Suns', 22)]"
      ]
     },
     "execution_count": 48,
     "metadata": {},
     "output_type": "execute_result"
    }
   ],
   "source": [
    "yr_07 = juntos_2007.map(lambda x: (x[0], (int(x[1][0]) + int(x[1][1])))).sortBy(lambda x: -x[1])\n",
    "yr_07.take(3)"
   ]
  },
  {
   "cell_type": "markdown",
   "metadata": {},
   "source": [
    "Buscamos los equipos que hayan ganado el mayor número de partidos en 2008."
   ]
  },
  {
   "cell_type": "code",
   "execution_count": 49,
   "metadata": {
    "collapsed": true
   },
   "outputs": [],
   "source": [
    "ganados_2008_visit = ganados_visit_total.filter(lambda x: x[0][-4:] == '2008')\n",
    "ganados_2008_casa = ganados_casa_total.filter(lambda x: x[0][-4:] == '2008')"
   ]
  },
  {
   "cell_type": "code",
   "execution_count": 50,
   "metadata": {
    "collapsed": false
   },
   "outputs": [],
   "source": [
    "visita_2008 = ganados_2008_visit.map(lambda x: (x[3], 1))\n",
    "visita_2008_key = visita_2008.reduceByKey(lambda x, y: x + y)\n",
    "casa_2008 = ganados_2008_casa.map(lambda x: (x[5], 1))\n",
    "casa_2008_key = casa_2008.reduceByKey(lambda x, y: x + y)\n",
    "juntos_2008 = visita_2008_key.join(casa_2008_key)"
   ]
  },
  {
   "cell_type": "code",
   "execution_count": 51,
   "metadata": {
    "collapsed": false
   },
   "outputs": [
    {
     "data": {
      "text/plain": [
       "[('Boston Celtics', 84), ('Los Angeles Lakers', 77), ('San Antonio Spurs', 64)]"
      ]
     },
     "execution_count": 51,
     "metadata": {},
     "output_type": "execute_result"
    }
   ],
   "source": [
    "yr_08 = juntos_2008.map(lambda x: (x[0], (int(x[1][0]) + int(x[1][1])))).sortBy(lambda x: -x[1])\n",
    "yr_08.take(3)"
   ]
  },
  {
   "cell_type": "markdown",
   "metadata": {},
   "source": [
    "Equipos que hayan ganado el mayor número de partidos en 2009."
   ]
  },
  {
   "cell_type": "code",
   "execution_count": 52,
   "metadata": {
    "collapsed": false
   },
   "outputs": [
    {
     "data": {
      "text/plain": [
       "[('Boston Celtics', 82),\n",
       " ('Los Angeles Lakers', 79),\n",
       " ('Cleveland Cavaliers', 74)]"
      ]
     },
     "execution_count": 52,
     "metadata": {},
     "output_type": "execute_result"
    }
   ],
   "source": [
    "ganados_2009_visit = ganados_visit_total.filter(lambda x: x[0][-4:] == '2009')\n",
    "ganados_2009_casa = ganados_casa_total.filter(lambda x: x[0][-4:] == '2009')\n",
    "visita_2009 = ganados_2009_visit.map(lambda x: (x[3], 1))\n",
    "visita_2009_key = visita_2009.reduceByKey(lambda x, y: x + y)\n",
    "casa_2009 = ganados_2009_casa.map(lambda x: (x[5], 1))\n",
    "casa_2009_key = casa_2009.reduceByKey(lambda x, y: x + y)\n",
    "juntos_2009 = visita_2009_key.join(casa_2008_key)\n",
    "yr_09 = juntos_2009.map(lambda x: (x[0], (int(x[1][0]) + int(x[1][1])))).sortBy(lambda x: -x[1])\n",
    "yr_09.take(3)"
   ]
  },
  {
   "cell_type": "markdown",
   "metadata": {},
   "source": [
    "Equipos que hayan ganado el mayor número de partidos en 2010."
   ]
  },
  {
   "cell_type": "code",
   "execution_count": 53,
   "metadata": {
    "collapsed": false
   },
   "outputs": [
    {
     "data": {
      "text/plain": [
       "[('Los Angeles Lakers', 71), ('Orlando Magic', 67), ('Boston Celtics', 66)]"
      ]
     },
     "execution_count": 53,
     "metadata": {},
     "output_type": "execute_result"
    }
   ],
   "source": [
    "ganados_2010_visit = ganados_visit_total.filter(lambda x: x[0][-4:] == '2010')\n",
    "ganados_2010_casa = ganados_casa_total.filter(lambda x: x[0][-4:] == '2010')\n",
    "visita_2010 = ganados_2010_visit.map(lambda x: (x[3], 1))\n",
    "visita_2010_key = visita_2010.reduceByKey(lambda x, y: x + y)\n",
    "casa_2010 = ganados_2010_casa.map(lambda x: (x[5], 1))\n",
    "casa_2010_key = casa_2010.reduceByKey(lambda x, y: x + y)\n",
    "juntos_2010 = visita_2010_key.join(casa_2010_key)\n",
    "yr_10 = juntos_2010.map(lambda x: (x[0], (int(x[1][0]) + int(x[1][1])))).sortBy(lambda x: -x[1])\n",
    "yr_10.take(3)"
   ]
  },
  {
   "cell_type": "markdown",
   "metadata": {},
   "source": [
    "Equipos que hayan ganado el mayor número de partidos en 2011."
   ]
  },
  {
   "cell_type": "code",
   "execution_count": 54,
   "metadata": {
    "collapsed": false
   },
   "outputs": [
    {
     "data": {
      "text/plain": [
       "[('Chicago Bulls', 53), ('Miami Heat', 51), ('Dallas Mavericks', 50)]"
      ]
     },
     "execution_count": 54,
     "metadata": {},
     "output_type": "execute_result"
    }
   ],
   "source": [
    "ganados_2011_visit = ganados_visit_total.filter(lambda x: x[0][-4:] == '2011')\n",
    "ganados_2011_casa = ganados_casa_total.filter(lambda x: x[0][-4:] == '2011')\n",
    "visita_2011 = ganados_2011_visit.map(lambda x: (x[3], 1))\n",
    "visita_2011_key = visita_2011.reduceByKey(lambda x, y: x + y)\n",
    "casa_2011 = ganados_2011_casa.map(lambda x: (x[5], 1))\n",
    "casa_2011_key = casa_2011.reduceByKey(lambda x, y: x + y)\n",
    "juntos_2011 = visita_2011_key.join(casa_2011_key)\n",
    "yr_11 = juntos_2011.map(lambda x: (x[0], (int(x[1][0]) + int(x[1][1])))).sortBy(lambda x: -x[1])\n",
    "yr_11.take(3)"
   ]
  },
  {
   "cell_type": "markdown",
   "metadata": {},
   "source": [
    "Equipos que hayan ganado el mayor número de partidos en 2012."
   ]
  },
  {
   "cell_type": "code",
   "execution_count": 55,
   "metadata": {
    "collapsed": false
   },
   "outputs": [
    {
     "data": {
      "text/plain": [
       "[('San Antonio Spurs', 82), ('Miami Heat', 79), ('Oklahoma City Thunder', 79)]"
      ]
     },
     "execution_count": 55,
     "metadata": {},
     "output_type": "execute_result"
    }
   ],
   "source": [
    "ganados_2012_visit = ganados_visit_total.filter(lambda x: x[0][-4:] == '2012')\n",
    "ganados_2012_casa = ganados_casa_total.filter(lambda x: x[0][-4:] == '2012')\n",
    "visita_2012 = ganados_2012_visit.map(lambda x: (x[3], 1))\n",
    "visita_2012_key = visita_2012.reduceByKey(lambda x, y: x + y)\n",
    "casa_2012 = ganados_2012_casa.map(lambda x: (x[5], 1))\n",
    "casa_2012_key = casa_2012.reduceByKey(lambda x, y: x + y)\n",
    "juntos_2012 = visita_2012_key.join(casa_2012_key)\n",
    "yr_12 = juntos_2012.map(lambda x: (x[0], (int(x[1][0]) + int(x[1][1])))).sortBy(lambda x: -x[1])\n",
    "yr_12.take(3)"
   ]
  },
  {
   "cell_type": "markdown",
   "metadata": {},
   "source": [
    "Equipos que hayan ganado el mayor número de partidos en 2013."
   ]
  },
  {
   "cell_type": "code",
   "execution_count": 56,
   "metadata": {
    "collapsed": false
   },
   "outputs": [
    {
     "data": {
      "text/plain": [
       "[('Miami Heat', 85), ('San Antonio Spurs', 73), ('Indiana Pacers', 67)]"
      ]
     },
     "execution_count": 56,
     "metadata": {},
     "output_type": "execute_result"
    }
   ],
   "source": [
    "ganados_2013_visit = ganados_visit_total.filter(lambda x: x[0][-4:] == '2013')\n",
    "ganados_2013_casa = ganados_casa_total.filter(lambda x: x[0][-4:] == '2013')\n",
    "visita_2013 = ganados_2013_visit.map(lambda x: (x[3], 1))\n",
    "visita_2013_key = visita_2013.reduceByKey(lambda x, y: x + y)\n",
    "casa_2013 = ganados_2013_casa.map(lambda x: (x[5], 1))\n",
    "casa_2013_key = casa_2013.reduceByKey(lambda x, y: x + y)\n",
    "juntos_2013 = visita_2013_key.join(casa_2013_key)\n",
    "yr_13 = juntos_2013.map(lambda x: (x[0], (int(x[1][0]) + int(x[1][1])))).sortBy(lambda x: -x[1])\n",
    "yr_13.take(3)"
   ]
  },
  {
   "cell_type": "markdown",
   "metadata": {},
   "source": [
    "Equipos que hayan ganado el mayor número de partidos en 2014."
   ]
  },
  {
   "cell_type": "code",
   "execution_count": 57,
   "metadata": {
    "collapsed": false
   },
   "outputs": [
    {
     "data": {
      "text/plain": [
       "[('San Antonio Spurs', 73),\n",
       " ('Los Angeles Clippers', 64),\n",
       " ('Memphis Grizzlies', 63)]"
      ]
     },
     "execution_count": 57,
     "metadata": {},
     "output_type": "execute_result"
    }
   ],
   "source": [
    "ganados_2014_visit = ganados_visit_total.filter(lambda x: x[0][-4:] == '2014')\n",
    "ganados_2014_casa = ganados_casa_total.filter(lambda x: x[0][-4:] == '2014')\n",
    "visita_2014 = ganados_2014_visit.map(lambda x: (x[3], 1))\n",
    "visita_2014_key = visita_2014.reduceByKey(lambda x, y: x + y)\n",
    "casa_2014 = ganados_2014_casa.map(lambda x: (x[5], 1))\n",
    "casa_2014_key = casa_2014.reduceByKey(lambda x, y: x + y)\n",
    "juntos_2014 = visita_2014_key.join(casa_2014_key)\n",
    "yr_14 = juntos_2014.map(lambda x: (x[0], (int(x[1][0]) + int(x[1][1])))).sortBy(lambda x: -x[1])\n",
    "yr_14.take(3)"
   ]
  },
  {
   "cell_type": "markdown",
   "metadata": {},
   "source": [
    "Equipos que hayan ganado el mayor número de partidos en 2015."
   ]
  },
  {
   "cell_type": "code",
   "execution_count": 58,
   "metadata": {
    "collapsed": false
   },
   "outputs": [
    {
     "data": {
      "text/plain": [
       "[('Golden State Warriors', 88),\n",
       " ('Cleveland Cavaliers', 70),\n",
       " ('San Antonio Spurs', 66)]"
      ]
     },
     "execution_count": 58,
     "metadata": {},
     "output_type": "execute_result"
    }
   ],
   "source": [
    "ganados_2015_visit = ganados_visit_total.filter(lambda x: x[0][-4:] == '2015')\n",
    "ganados_2015_casa = ganados_casa_total.filter(lambda x: x[0][-4:] == '2015')\n",
    "visita_2015 = ganados_2015_visit.map(lambda x: (x[3], 1))\n",
    "visita_2015_key = visita_2015.reduceByKey(lambda x, y: x + y)\n",
    "casa_2015 = ganados_2015_casa.map(lambda x: (x[5], 1))\n",
    "casa_2015_key = casa_2015.reduceByKey(lambda x, y: x + y)\n",
    "juntos_2015 = visita_2015_key.join(casa_2015_key)\n",
    "yr_15 = juntos_2015.map(lambda x: (x[0], (int(x[1][0]) + int(x[1][1])))).sortBy(lambda x: -x[1])\n",
    "yr_15.take(3)"
   ]
  },
  {
   "cell_type": "markdown",
   "metadata": {},
   "source": [
    "Equipos que hayan ganado el mayor número de partidos en 2016."
   ]
  },
  {
   "cell_type": "code",
   "execution_count": 59,
   "metadata": {
    "collapsed": false
   },
   "outputs": [
    {
     "data": {
      "text/plain": [
       "[('Golden State Warriors', 87),\n",
       " ('Cleveland Cavaliers', 77),\n",
       " ('San Antonio Spurs', 72)]"
      ]
     },
     "execution_count": 59,
     "metadata": {},
     "output_type": "execute_result"
    }
   ],
   "source": [
    "ganados_2016_visit = ganados_visit_total.filter(lambda x: x[0][-4:] == '2016')\n",
    "ganados_2016_casa = ganados_casa_total.filter(lambda x: x[0][-4:] == '2016')\n",
    "visita_2016= ganados_2016_visit.map(lambda x: (x[3], 1))\n",
    "visita_2016_key = visita_2016.reduceByKey(lambda x, y: x + y)\n",
    "casa_2016 = ganados_2016_casa.map(lambda x: (x[5], 1))\n",
    "casa_2016_key = casa_2016.reduceByKey(lambda x, y: x + y)\n",
    "juntos_2016 = visita_2016_key.join(casa_2016_key)\n",
    "yr_16 = juntos_2016.map(lambda x: (x[0], (int(x[1][0]) + int(x[1][1])))).sortBy(lambda x: -x[1])\n",
    "yr_16.take(3)"
   ]
  },
  {
   "cell_type": "markdown",
   "metadata": {},
   "source": [
    "Equipos que hayan ganado el mayor número de partidos en 2017."
   ]
  },
  {
   "cell_type": "code",
   "execution_count": 60,
   "metadata": {
    "collapsed": false
   },
   "outputs": [
    {
     "data": {
      "text/plain": [
       "[('Golden State Warriors', 54),\n",
       " ('San Antonio Spurs', 42),\n",
       " ('Boston Celtics', 42)]"
      ]
     },
     "execution_count": 60,
     "metadata": {},
     "output_type": "execute_result"
    }
   ],
   "source": [
    "ganados_2017_visit = ganados_visit_total.filter(lambda x: x[0][-4:] == '2017')\n",
    "ganados_2017_casa = ganados_casa_total.filter(lambda x: x[0][-4:] == '2017')\n",
    "visita_2017 = ganados_2017_visit.map(lambda x: (x[3], 1))\n",
    "visita_2017_key = visita_2017.reduceByKey(lambda x, y: x + y)\n",
    "casa_2017 = ganados_2017_casa.map(lambda x: (x[5], 1))\n",
    "casa_2017_key = casa_2017.reduceByKey(lambda x, y: x + y)\n",
    "juntos_2017 = visita_2017_key.join(casa_2017_key)\n",
    "yr_17 = juntos_2017.map(lambda x: (x[0], (int(x[1][0]) + int(x[1][1])))).sortBy(lambda x: -x[1])\n",
    "yr_17.take(3)"
   ]
  },
  {
   "cell_type": "code",
   "execution_count": 61,
   "metadata": {
    "collapsed": false
   },
   "outputs": [
    {
     "data": {
      "text/plain": [
       "[('2007', 'Boston Celtics'),\n",
       " ('2008', 'Boston Celtics'),\n",
       " ('2009', 'Boston Celtics'),\n",
       " ('2010', 'Los Angeles Lakers'),\n",
       " ('2011', 'Chicago Bulls'),\n",
       " ('2012', 'San Antonio Spurs'),\n",
       " ('2013', 'Miami Heat'),\n",
       " ('2014', 'San Antonio Spurs'),\n",
       " ('2015', 'Golden State Warriors'),\n",
       " ('2016', 'Golden State Warriors'),\n",
       " ('2016', 'Golden State Warriors')]"
      ]
     },
     "execution_count": 61,
     "metadata": {},
     "output_type": "execute_result"
    }
   ],
   "source": [
    "mejores_temp = [('2007', yr_07.take(1)[0][0]), ('2008', yr_08.take(1)[0][0]), ('2009', yr_09.take(1)[0][0]), ('2010', yr_10.take(1)[0][0]), \n",
    "                ('2011', yr_11.take(1)[0][0]), ('2012', yr_12.take(1)[0][0]), ('2013', yr_13.take(1)[0][0]), ('2014', yr_14.take(1)[0][0]),\n",
    "               ('2015', yr_15.take(1)[0][0]), ('2016', yr_16.take(1)[0][0]), ('2016', yr_16.take(1)[0][0])]\n",
    "mejores_temp"
   ]
  },
  {
   "cell_type": "markdown",
   "metadata": {},
   "source": [
    "Los equipos que más victorias han obtenido en más temporadas son los Boston Celtics y los Golden State Warriors. "
   ]
  },
  {
   "cell_type": "markdown",
   "metadata": {},
   "source": [
    "##  Décima pregunta: Escribe la expresión regular correcta que sólo macheen los teléfonos y el correo del siguiente texto."
   ]
  },
  {
   "cell_type": "markdown",
   "metadata": {},
   "source": [
    "Si eres cliente y necesitas información sobre tus posiciones, productos o realizar operaciones: Desde España. Desde el extranjero. Banca telefónica en castellano. Bandera castellano. 902 13 23 13. Banca telefónica en catalán. Bandera catalana. 902 88 30 08. Banca telefónica en inglés. Bandera inglesa. 902 88 88 35. O por correo electrónico a atencioncliente@bankinter.com"
   ]
  },
  {
   "cell_type": "code",
   "execution_count": 62,
   "metadata": {
    "collapsed": true
   },
   "outputs": [],
   "source": [
    "import re"
   ]
  },
  {
   "cell_type": "code",
   "execution_count": 63,
   "metadata": {
    "collapsed": true
   },
   "outputs": [],
   "source": [
    "texto = \"Si eres cliente y necesitas información sobre tus posiciones, productos o realizar operaciones: Desde España. Desde el extranjero. Banca telefónica en castellano. Bandera castellano. 902 13 23 13. Banca telefónica en catalán. Bandera catalana. 902 88 30 08. Banca telefónica en inglés. Bandera inglesa. 902 88 88 35. O por correo electrónico a atencioncliente@bankinter.com\""
   ]
  },
  {
   "cell_type": "code",
   "execution_count": 64,
   "metadata": {
    "collapsed": true
   },
   "outputs": [],
   "source": [
    "exp_telf = '\\d{3} \\d{2} \\d{2} \\d{2}'\n",
    "exp_corr = '\\S+[@]\\S+[.com]'"
   ]
  },
  {
   "cell_type": "code",
   "execution_count": 65,
   "metadata": {
    "collapsed": false
   },
   "outputs": [
    {
     "data": {
      "text/plain": [
       "['902 13 23 13', '902 88 30 08', '902 88 88 35']"
      ]
     },
     "execution_count": 65,
     "metadata": {},
     "output_type": "execute_result"
    }
   ],
   "source": [
    "re.findall(exp_telf, texto)"
   ]
  },
  {
   "cell_type": "code",
   "execution_count": 66,
   "metadata": {
    "collapsed": false
   },
   "outputs": [
    {
     "data": {
      "text/plain": [
       "['atencioncliente@bankinter.com']"
      ]
     },
     "execution_count": 66,
     "metadata": {},
     "output_type": "execute_result"
    }
   ],
   "source": [
    "re.findall(exp_corr, texto)"
   ]
  },
  {
   "cell_type": "code",
   "execution_count": 7,
   "metadata": {
    "collapsed": false
   },
   "outputs": [],
   "source": [
    "sc.stop() # necesario para cerrar pyspark y usarlo en otro sitio"
   ]
  },
  {
   "cell_type": "markdown",
   "metadata": {},
   "source": [
    "## BIBLIOGRAFÍA"
   ]
  },
  {
   "cell_type": "markdown",
   "metadata": {},
   "source": [
    "* https://jaceklaskowski.gitbooks.io/mastering-apache-spark/spark-rdd-caching.html\n",
    "* https://stackoverflow.com/questions/44174747/spark-dataframe-collect-vs-select\n",
    "* https://empresas.blogthinkbig.com/python-para-todos-4-carga-de-datos/"
   ]
  }
 ],
 "metadata": {
  "kernelspec": {
   "display_name": "Python 3",
   "language": "python",
   "name": "python3"
  },
  "language_info": {
   "codemirror_mode": {
    "name": "ipython",
    "version": 3
   },
   "file_extension": ".py",
   "mimetype": "text/x-python",
   "name": "python",
   "nbconvert_exporter": "python",
   "pygments_lexer": "ipython3",
   "version": "3.5.2"
  }
 },
 "nbformat": 4,
 "nbformat_minor": 2
}
