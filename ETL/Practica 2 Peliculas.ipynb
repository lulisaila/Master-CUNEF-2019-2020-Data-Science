{
 "cells": [
  {
   "cell_type": "markdown",
   "metadata": {},
   "source": [
    "# Examen ETL: SPARK 12+1/02"
   ]
  },
  {
   "cell_type": "markdown",
   "metadata": {},
   "source": [
    "## Autor: Lucía Saiz Lapique"
   ]
  },
  {
   "cell_type": "markdown",
   "metadata": {},
   "source": [
    "Se podrá utilizar toda la información que se encuentra en el campus. \n",
    "\n",
    "Se va a trabajar sobre varios ficheros de datos:\n",
    "\n",
    "Usuarios: id_usuario::sexo::edad::id_profesion::codigo_postal\n",
    "\n",
    "Peliculas: id_pelicula::titulo (año)::tipo1|tipo2|tipo3\n",
    "\n",
    "Ratings: id_pelicula::id_usuario::puntuacion::fecha_timestamp\n",
    "\n",
    "A cada una de las preguntas hay que responder explicando brevemente que se pretende hacer antes de lanzar el código.\n",
    "\n",
    "Al documento lo llamareís con vuestro nombre y apellido. Debeís enviarlo a mi correo de CUNEF antes del final del examen.\n",
    "\n",
    "El lenguaje para trabajar con Spark podrá ser python o R indistintamente."
   ]
  },
  {
   "cell_type": "code",
   "execution_count": 2,
   "metadata": {
    "collapsed": true
   },
   "outputs": [],
   "source": [
    "# Nota: Carga de las puntuaciones\n",
    "# Función para parsear la fecha\n",
    "\n",
    "from datetime import datetime\n",
    "dateparse = lambda x: datetime.fromtimestamp(float(x))"
   ]
  },
  {
   "cell_type": "markdown",
   "metadata": {},
   "source": [
    "## Primera tarea: Inicializar spark context y cargar los datos desde los ficheros."
   ]
  },
  {
   "cell_type": "markdown",
   "metadata": {},
   "source": [
    "Para el planteamiento y ejecución de los ejercicios, debemos inicializar spark y cargar las tres bases de datos que se nos han proporcionado: movies (lista de películas con su id y género), users (lista de usuarios que puntúan las películas, con su edad, género, profesión y código postal) y ratings (votaciones a cada película con el id de la película y del usuario asociado, además de la fecha en la que se hizo la valoración). \n",
    "\n",
    "Hacemos también el parseado de los datos, que están separados por ::, usando la función map y split. "
   ]
  },
  {
   "cell_type": "code",
   "execution_count": 3,
   "metadata": {
    "collapsed": true
   },
   "outputs": [],
   "source": [
    "from pyspark import SparkContext\n",
    "sc = SparkContext()"
   ]
  },
  {
   "cell_type": "code",
   "execution_count": 4,
   "metadata": {
    "collapsed": true
   },
   "outputs": [],
   "source": [
    "data_file = \"./movies.dat.txt\"\n",
    "movies = sc.textFile(data_file)"
   ]
  },
  {
   "cell_type": "code",
   "execution_count": 5,
   "metadata": {
    "collapsed": false
   },
   "outputs": [
    {
     "data": {
      "text/plain": [
       "[\"1::Toy Story (1995)::Animation|Children's|Comedy\",\n",
       " \"2::Jumanji (1995)::Adventure|Children's|Fantasy\",\n",
       " '3::Grumpier Old Men (1995)::Comedy|Romance',\n",
       " '4::Waiting to Exhale (1995)::Comedy|Drama',\n",
       " '5::Father of the Bride Part II (1995)::Comedy']"
      ]
     },
     "execution_count": 5,
     "metadata": {},
     "output_type": "execute_result"
    }
   ],
   "source": [
    "movies.take(5)"
   ]
  },
  {
   "cell_type": "code",
   "execution_count": 6,
   "metadata": {
    "collapsed": true
   },
   "outputs": [],
   "source": [
    "data_file = \"./movies.dat.txt\"\n",
    "movies = sc.textFile(data_file)"
   ]
  },
  {
   "cell_type": "code",
   "execution_count": 7,
   "metadata": {
    "collapsed": true
   },
   "outputs": [],
   "source": [
    "data_file2 = \"./users.dat.txt\"\n",
    "users = sc.textFile(data_file2)"
   ]
  },
  {
   "cell_type": "code",
   "execution_count": 8,
   "metadata": {
    "collapsed": true
   },
   "outputs": [],
   "source": [
    "data_file3 = \"./ratings.dat.txt\"\n",
    "ratings = sc.textFile(data_file3)"
   ]
  },
  {
   "cell_type": "code",
   "execution_count": 9,
   "metadata": {
    "collapsed": false
   },
   "outputs": [
    {
     "data": {
      "text/plain": [
       "['1::1193::5::978300760']"
      ]
     },
     "execution_count": 9,
     "metadata": {},
     "output_type": "execute_result"
    }
   ],
   "source": [
    "ratings.take(1)"
   ]
  },
  {
   "cell_type": "code",
   "execution_count": 10,
   "metadata": {
    "collapsed": false
   },
   "outputs": [
    {
     "data": {
      "text/plain": [
       "([['1', 'Toy Story (1995)', \"Animation|Children's|Comedy\"]],\n",
       " [['1', 'F', '1', '10', '48067']],\n",
       " [['1', '1193', 5, 2000]])"
      ]
     },
     "execution_count": 10,
     "metadata": {},
     "output_type": "execute_result"
    }
   ],
   "source": [
    "movies2 = movies.map(lambda x: x.split(\"::\"))\n",
    "users2 = users.map(lambda x: x.split(\"::\"))\n",
    "ratings2 = ratings.map(lambda x: x.split(\"::\")).map(lambda x: [x[0], x[1], int(x[2]), datetime.fromtimestamp(float(x[3])).year])\n",
    "movies2.take(1), users2.take(1), ratings2.take(1)"
   ]
  },
  {
   "cell_type": "markdown",
   "metadata": {},
   "source": [
    "## Segunda tarea: Media de puntuaciones globales por año. ¿Hay algún año significativamente distinto?"
   ]
  },
  {
   "cell_type": "markdown",
   "metadata": {},
   "source": [
    "Para sacar la media de puntuaciones globales por año, debemos seguir una serie de pasos: \n",
    "1. Con un map, reducimos la base de datos ratings para usar solo los que nos interesan en este caso, que son el año y la valoración de la película en cuestión. Es importante poner el año en la primera posición (índice 0) para que al usar reduceByKey en los siguientes pasos, use el año como referencia para agrupar. \n",
    "2. Lo siguiente es agrupar todos los ratings por año, sumándolos con un reduceByKey y así calcular la media de los rating por año más adelante. Con la función distinct cogemos todos los años distintos (únicos) que hay y sumamos todos los ratings asociados a esos años. \n",
    "3. A continuación, queremos averiguar el número de ratings total que hay cada año, cifra sobre la que dividiremos la suma de los ratings calculada en el paso anterior y así obtendremos la media. Para crear el contador, con la función map, le asociamos un 1 a cada vez que se repite un año específico en la base de datos que, con un reduceByKey, nos devolverá el número de veces que se ha hecho un rating en los 4 años posibles. \n",
    "4. Finalmente, uniremos las dos bases de datos que hemos creado en el paso dos y en el paso tres con un join y, una vez juntas, hacemos la media dividiendo los valores de la base de datos del paso dos entre los del paso tres (aplicamos un round para que nos redondee a dos decimales los valores). "
   ]
  },
  {
   "cell_type": "code",
   "execution_count": 11,
   "metadata": {
    "collapsed": false
   },
   "outputs": [
    {
     "data": {
      "text/plain": [
       "[(2000, 5), (2000, 3), (2000, 3), (2000, 4), (2001, 5)]"
      ]
     },
     "execution_count": 11,
     "metadata": {},
     "output_type": "execute_result"
    }
   ],
   "source": [
    "## paso 1\n",
    "rating_yr = ratings2.map(lambda x: (x[3], x[2]))\n",
    "rating_yr.take(5)"
   ]
  },
  {
   "cell_type": "code",
   "execution_count": 12,
   "metadata": {
    "collapsed": false
   },
   "outputs": [
    {
     "data": {
      "text/plain": [
       "[2000, 2001, 2002, 2003]"
      ]
     },
     "execution_count": 12,
     "metadata": {},
     "output_type": "execute_result"
    }
   ],
   "source": [
    "## paso 2\n",
    "rating_yr.map(lambda x: x[0]).distinct().collect()"
   ]
  },
  {
   "cell_type": "code",
   "execution_count": 13,
   "metadata": {
    "collapsed": false
   },
   "outputs": [
    {
     "data": {
      "text/plain": [
       "[(2000, 3248432), (2001, 239037), (2002, 83171), (2003, 11673)]"
      ]
     },
     "execution_count": 13,
     "metadata": {},
     "output_type": "execute_result"
    }
   ],
   "source": [
    "suma_ratings = rating_yr.reduceByKey(lambda x, y: x + y)\n",
    "suma_ratings.take(4)"
   ]
  },
  {
   "cell_type": "code",
   "execution_count": 14,
   "metadata": {
    "collapsed": false
   },
   "outputs": [
    {
     "data": {
      "text/plain": [
       "[(2000, 904757), (2001, 68058), (2002, 24046), (2003, 3348)]"
      ]
     },
     "execution_count": 14,
     "metadata": {},
     "output_type": "execute_result"
    }
   ],
   "source": [
    "## paso 3\n",
    "cantidad = rating_yr.map(lambda x: (x[0], 1))\n",
    "cantidad_key = cantidad.reduceByKey(lambda x, y: x + y)\n",
    "cantidad_key.take(4)"
   ]
  },
  {
   "cell_type": "code",
   "execution_count": 15,
   "metadata": {
    "collapsed": false
   },
   "outputs": [
    {
     "data": {
      "text/plain": [
       "[(2000, (3248432, 904757)),\n",
       " (2001, (239037, 68058)),\n",
       " (2002, (83171, 24046)),\n",
       " (2003, (11673, 3348))]"
      ]
     },
     "execution_count": 15,
     "metadata": {},
     "output_type": "execute_result"
    }
   ],
   "source": [
    "## paso 4\n",
    "juntos = suma_ratings.join(cantidad_key)\n",
    "juntos.take(5)"
   ]
  },
  {
   "cell_type": "code",
   "execution_count": 16,
   "metadata": {
    "collapsed": false
   },
   "outputs": [
    {
     "data": {
      "text/plain": [
       "[(2000, 3.59), (2001, 3.51), (2002, 3.46), (2003, 3.49)]"
      ]
     },
     "execution_count": 16,
     "metadata": {},
     "output_type": "execute_result"
    }
   ],
   "source": [
    "media = juntos.map(lambda x: (x[0], round(x[1][0]/x[1][1], 2)))\n",
    "media.take(4)"
   ]
  },
  {
   "cell_type": "markdown",
   "metadata": {},
   "source": [
    "No hay ningún año que sea significativamente distinto"
   ]
  },
  {
   "cell_type": "markdown",
   "metadata": {},
   "source": [
    "## Tercera pregunta: ¿Cuál es la película más votada por los mayores de 60? "
   ]
  },
  {
   "cell_type": "markdown",
   "metadata": {},
   "source": [
    "No se puede hacer porque no hay observaciones de usuarios que sean mayores de 60 años. Lo vemos sacando el valor de la edad máxima en la base de datos."
   ]
  },
  {
   "cell_type": "code",
   "execution_count": 17,
   "metadata": {
    "collapsed": false
   },
   "outputs": [
    {
     "data": {
      "text/plain": [
       "[['1', 'F', '1', '10', '48067']]"
      ]
     },
     "execution_count": 17,
     "metadata": {},
     "output_type": "execute_result"
    }
   ],
   "source": [
    "users2.take(1)"
   ]
  },
  {
   "cell_type": "code",
   "execution_count": 18,
   "metadata": {
    "collapsed": false
   },
   "outputs": [
    {
     "data": {
      "text/plain": [
       "[('1', 1), ('2', 56), ('3', 25), ('4', 45), ('5', 25)]"
      ]
     },
     "execution_count": 18,
     "metadata": {},
     "output_type": "execute_result"
    }
   ],
   "source": [
    "users_edad = users2.map(lambda x: (x[0], int(x[2])))\n",
    "users_edad.take(5)"
   ]
  },
  {
   "cell_type": "code",
   "execution_count": 19,
   "metadata": {
    "collapsed": false
   },
   "outputs": [
    {
     "data": {
      "text/plain": [
       "[]"
      ]
     },
     "execution_count": 19,
     "metadata": {},
     "output_type": "execute_result"
    }
   ],
   "source": [
    "mayores_60 = users_edad.filter(lambda x: x[1] > 60)\n",
    "mayores_60.take(5)"
   ]
  },
  {
   "cell_type": "code",
   "execution_count": 20,
   "metadata": {
    "collapsed": false
   },
   "outputs": [
    {
     "data": {
      "text/plain": [
       "('2', 56)"
      ]
     },
     "execution_count": 20,
     "metadata": {},
     "output_type": "execute_result"
    }
   ],
   "source": [
    "users_edad.max(lambda x: x[1])"
   ]
  },
  {
   "cell_type": "markdown",
   "metadata": {},
   "source": [
    "## Cuarta pregunta: ¿Cuál es la puntuación media de las peliculas de acción del año 2000?"
   ]
  },
  {
   "cell_type": "markdown",
   "metadata": {},
   "source": [
    "En este caso tenemos que usar dos de las bases de datos (movies y ratings) ya que tenemos que combinar los datos del tipo de género de las películas y los ratings con la fecha en la que se hicieron. \n",
    "1. El primer paso es hacer una nueva base de datos basada en movies que incluya solo las películas que sean de tipo acción. Para ello aplicamos un filtro con la función in.\n",
    "2. En segundo lugar, filtramos la base de datos ratings para tener solo las valoraciones de película que se hicieron en el año 2000. \n",
    "3. Queremos calcular la media de puntuación de cada película de ese año: con un reduceByKey, sumamos para ese año todos los ratings que haya por cada id de película, ya que tenemos que cacular la media de valoración de cada película. De forma parecida al ejercicio anterior, con esa cifra y el número de ratings que haya por película (que averiguamos con un conteo), sacamos la media de estas. \n",
    "4. Antes de ejecutar la media, guardamos los datos en una misma base de datos a la que le agregaremos también las películas que sean del género \"Acción\" con un join a la base de datos que hemos filtrado en el primer paso, donde tendremos en cuenta solo el id de la película y las cifras que hemos calculado en el paso 3.\n",
    "5. No nos interesa el valor medio del rating de cada película, sino la media total de la suma de todos los ratings de todas las películas en ese año; para ello, necesitamos contar cuantas películas hay y cuántos ratings tiene cada una de esas películas, así que creamos un nuevo contador, que llamamos \"Común\". Con común vamos a sumar la cifra de las sumas de los ratings por película por un lado, y por otro lado sumaremos la cantidad de ratings que hay por peícula. \n",
    "6. Finalmente, al juntar estas dos de nuevo con un join, ejecutamos la media.\n"
   ]
  },
  {
   "cell_type": "code",
   "execution_count": 22,
   "metadata": {
    "collapsed": false
   },
   "outputs": [
    {
     "data": {
      "text/plain": [
       "[['1', 'Toy Story (1995)', \"Animation|Children's|Comedy\"]]"
      ]
     },
     "execution_count": 22,
     "metadata": {},
     "output_type": "execute_result"
    }
   ],
   "source": [
    "movies2.take(1)"
   ]
  },
  {
   "cell_type": "code",
   "execution_count": 23,
   "metadata": {
    "collapsed": false,
    "scrolled": true
   },
   "outputs": [
    {
     "data": {
      "text/plain": [
       "[['6', 'Heat (1995)', 'Action|Crime|Thriller'],\n",
       " ['9', 'Sudden Death (1995)', 'Action'],\n",
       " ['10', 'GoldenEye (1995)', 'Action|Adventure|Thriller'],\n",
       " ['15', 'Cutthroat Island (1995)', 'Action|Adventure|Romance'],\n",
       " ['20', 'Money Train (1995)', 'Action']]"
      ]
     },
     "execution_count": 23,
     "metadata": {},
     "output_type": "execute_result"
    }
   ],
   "source": [
    "## paso 1\n",
    "pelis_accion = movies2.filter(lambda x: 'Action' in x[2])\n",
    "pelis_accion.take(5)"
   ]
  },
  {
   "cell_type": "code",
   "execution_count": 49,
   "metadata": {
    "collapsed": false
   },
   "outputs": [
    {
     "data": {
      "text/plain": [
       "[['1', '1193', 5, 2000],\n",
       " ['1', '661', 3, 2000],\n",
       " ['1', '914', 3, 2000],\n",
       " ['1', '3408', 4, 2000],\n",
       " ['1', '1197', 3, 2000]]"
      ]
     },
     "execution_count": 49,
     "metadata": {},
     "output_type": "execute_result"
    }
   ],
   "source": [
    "## paso 2\n",
    "ratings_2000 = ratings2.filter(lambda x: x[3] == 2000)\n",
    "ratings_2000.take(5)"
   ]
  },
  {
   "cell_type": "code",
   "execution_count": 52,
   "metadata": {
    "collapsed": false
   },
   "outputs": [
    {
     "data": {
      "text/plain": [
       "[('4334', 564), ('4986', 118), ('2265', 845), ('5964', 2075), ('3603', 920)]"
      ]
     },
     "execution_count": 52,
     "metadata": {},
     "output_type": "execute_result"
    }
   ],
   "source": [
    "## paso 3\n",
    "ratings_2000_red = ratings_2000.map(lambda x: (x[0], x[2]))\n",
    "ratings_2000_key = ratings_2000_red.reduceByKey(lambda x, y: x + y)\n",
    "ratings_2000_key.take(5)"
   ]
  },
  {
   "cell_type": "code",
   "execution_count": 54,
   "metadata": {
    "collapsed": false
   },
   "outputs": [
    {
     "data": {
      "text/plain": [
       "[('4334', 157), ('4986', 27), ('2265', 232), ('5964', 549), ('3603', 328)]"
      ]
     },
     "execution_count": 54,
     "metadata": {},
     "output_type": "execute_result"
    }
   ],
   "source": [
    "numero_ratings = ratings_2000.map(lambda x: (x[0], 1))\n",
    "numero_rating_key = numero_ratings.reduceByKey(lambda x, y: x + y)\n",
    "numero_rating_key.take(5)"
   ]
  },
  {
   "cell_type": "code",
   "execution_count": 56,
   "metadata": {
    "collapsed": false
   },
   "outputs": [
    {
     "data": {
      "text/plain": [
       "[('4334', (564, 157)),\n",
       " ('4986', (118, 27)),\n",
       " ('2265', (845, 232)),\n",
       " ('5964', (2075, 549)),\n",
       " ('3603', (920, 328))]"
      ]
     },
     "execution_count": 56,
     "metadata": {},
     "output_type": "execute_result"
    }
   ],
   "source": [
    "total = ratings_2000_key.join(numero_rating_key)\n",
    "total.take(5)"
   ]
  },
  {
   "cell_type": "code",
   "execution_count": 59,
   "metadata": {
    "collapsed": false
   },
   "outputs": [
    {
     "data": {
      "text/plain": [
       "[('145', ((117, 39), 'Bad Boys (1995)')),\n",
       " ('1129', ((427, 103), 'Escape from New York (1981)')),\n",
       " ('780', ((1770, 512), 'Independence Day (ID4) (1996)')),\n",
       " ('3624', ((1301, 323), 'Shanghai Noon (2000)')),\n",
       " ('2019',\n",
       "  ((106, 30),\n",
       "   'Seven Samurai (The Magnificent Seven) (Shichinin no samurai) (1954)'))]"
      ]
     },
     "execution_count": 59,
     "metadata": {},
     "output_type": "execute_result"
    }
   ],
   "source": [
    "## paso 4\n",
    "pelis_accion_2000 = total.join(pelis_accion)\n",
    "pelis_accion_2000.take(5)"
   ]
  },
  {
   "cell_type": "code",
   "execution_count": 61,
   "metadata": {
    "collapsed": false
   },
   "outputs": [
    {
     "data": {
      "text/plain": [
       "[('145', (117, 39)),\n",
       " ('1129', (427, 103)),\n",
       " ('780', (1770, 512)),\n",
       " ('3624', (1301, 323)),\n",
       " ('2019', (106, 30))]"
      ]
     },
     "execution_count": 61,
     "metadata": {},
     "output_type": "execute_result"
    }
   ],
   "source": [
    "pelis_final = pelis_accion_2000.map(lambda x: (x[0], x[1][0]))\n",
    "pelis_final.take(5)"
   ]
  },
  {
   "cell_type": "code",
   "execution_count": 62,
   "metadata": {
    "collapsed": false
   },
   "outputs": [
    {
     "data": {
      "text/plain": [
       "[('Comun', 117),\n",
       " ('Comun', 427),\n",
       " ('Comun', 1770),\n",
       " ('Comun', 1301),\n",
       " ('Comun', 106)]"
      ]
     },
     "execution_count": 62,
     "metadata": {},
     "output_type": "execute_result"
    }
   ],
   "source": [
    "## paso 5\n",
    "pelis_final_ratings = pelis_final.map(lambda x: (\"Comun\", x[1][0]))\n",
    "pelis_final_ratings.take(5)"
   ]
  },
  {
   "cell_type": "code",
   "execution_count": 64,
   "metadata": {
    "collapsed": false
   },
   "outputs": [
    {
     "data": {
      "text/plain": [
       "[('Comun', 257798)]"
      ]
     },
     "execution_count": 64,
     "metadata": {},
     "output_type": "execute_result"
    }
   ],
   "source": [
    "pelis_final_ratings_key = pelis_final_ratings.reduceByKey(lambda x, y: x + y)\n",
    "pelis_final_ratings_key.take(1)"
   ]
  },
  {
   "cell_type": "code",
   "execution_count": 65,
   "metadata": {
    "collapsed": false
   },
   "outputs": [
    {
     "data": {
      "text/plain": [
       "[('Comun', 72835)]"
      ]
     },
     "execution_count": 65,
     "metadata": {},
     "output_type": "execute_result"
    }
   ],
   "source": [
    "pelis_final_count = pelis_final.map(lambda x: (\"Comun\", x[1][1]))\n",
    "pelis_final_count_key = pelis_final_count.reduceByKey(lambda x, y: x + y)\n",
    "pelis_final_count_key.take(1)"
   ]
  },
  {
   "cell_type": "code",
   "execution_count": 68,
   "metadata": {
    "collapsed": false
   },
   "outputs": [
    {
     "data": {
      "text/plain": [
       "[('Comun', (257798, 72835))]"
      ]
     },
     "execution_count": 68,
     "metadata": {},
     "output_type": "execute_result"
    }
   ],
   "source": [
    "## paso 6\n",
    "media2 = pelis_final_ratings_key.join(pelis_final_count_key)\n",
    "media2.take(1)"
   ]
  },
  {
   "cell_type": "code",
   "execution_count": 71,
   "metadata": {
    "collapsed": false
   },
   "outputs": [
    {
     "data": {
      "text/plain": [
       "[3.54]"
      ]
     },
     "execution_count": 71,
     "metadata": {},
     "output_type": "execute_result"
    }
   ],
   "source": [
    "media_2000_accion = media2.map(lambda x: round(x[1][0]/x[1][1],2))\n",
    "media_2000_accion.take(1)"
   ]
  },
  {
   "cell_type": "markdown",
   "metadata": {},
   "source": [
    "## Quinta pregunta: ¿Cuál es el año en que mayor número de usuarios votaron?"
   ]
  },
  {
   "cell_type": "markdown",
   "metadata": {},
   "source": [
    "Lo más importante en este ejercicio es coger todos los valors únicos de la fecha y el índice del usuario; muchos usarios hacen varias valoraciones en el mismo año, con lo cual no podemos coger todas las valoraciones que se hayan hecho en cada año. Debemos seleccionar, de la base de datos ratings, todos los usuarios diferentes que hay en cada año y guardarlos en un objeto. Es importante guardar el año en la primera posición (índice 0) para que el reduceByKey agrupe por año. Con ese objeto creado, hacemos un reduceByKey que haga de contador de todos esos valores únicos para saber cuántos usuarios hay en cada año. Por último, para averiguar qué año hay más, usamos la función max sobre el índice 1, que es donde tenemos guardado el número de usuarios que puntúan las películas anualmente. "
   ]
  },
  {
   "cell_type": "code",
   "execution_count": 72,
   "metadata": {
    "collapsed": false
   },
   "outputs": [
    {
     "data": {
      "text/plain": [
       "[['1', '1193', 5, 2000]]"
      ]
     },
     "execution_count": 72,
     "metadata": {},
     "output_type": "execute_result"
    }
   ],
   "source": [
    "ratings2.take(1)"
   ]
  },
  {
   "cell_type": "code",
   "execution_count": 101,
   "metadata": {
    "collapsed": false
   },
   "outputs": [
    {
     "data": {
      "text/plain": [
       "[(2002, '2965'), (2000, '3469'), (2000, '320'), (2002, '2758'), (2000, '2020')]"
      ]
     },
     "execution_count": 101,
     "metadata": {},
     "output_type": "execute_result"
    }
   ],
   "source": [
    "rating_user = ratings2.map(lambda x: (x[3], x[1])).distinct()\n",
    "rating_user.take(5)"
   ]
  },
  {
   "cell_type": "code",
   "execution_count": 102,
   "metadata": {
    "collapsed": false
   },
   "outputs": [],
   "source": [
    "rating_user_map = rating_user.map(lambda x: (x[0], 1))\n",
    "rating_user_key = rating_user_map.reduceByKey(lambda x, y: x + y)"
   ]
  },
  {
   "cell_type": "code",
   "execution_count": 103,
   "metadata": {
    "collapsed": false
   },
   "outputs": [
    {
     "data": {
      "text/plain": [
       "(2000, 3678)"
      ]
     },
     "execution_count": 103,
     "metadata": {},
     "output_type": "execute_result"
    }
   ],
   "source": [
    "rating_user_key.max(lambda x: x[1])"
   ]
  },
  {
   "cell_type": "markdown",
   "metadata": {},
   "source": [
    "## Sexta pregunta: ¿ Cuál es la película con mejor puntación media?"
   ]
  },
  {
   "cell_type": "markdown",
   "metadata": {},
   "source": [
    "En este ejercicio debemos caulcular la media de puntuaciones a lo largo de todos los años que incluye la base de datos específica para cada película. Seguimos los siguientes pasos:\n",
    "1. Como en los ejercicios anteriores, con la función reduceByKey, creando un contador y con un join, sacamos la media de puntuaciones asociado a cada id de película en la base de datos ratings.\n",
    "2. Una vez tenemos la media de cada película asociado a su id, unimos nuestro filtro a la base de datos movies para asociarle la media a su nombre de película respectivo. \n",
    "3. Finalmente, con la función max, obtenemos el nombre de la película con la mayor media de puntuaciones a lo largo de los años. Como ya no nos interesa el valor del id de la película, con un map, lo excluimos del código respuesta al max. "
   ]
  },
  {
   "cell_type": "code",
   "execution_count": 82,
   "metadata": {
    "collapsed": false
   },
   "outputs": [
    {
     "data": {
      "text/plain": [
       "[['1', 'Toy Story (1995)', \"Animation|Children's|Comedy\"]]"
      ]
     },
     "execution_count": 82,
     "metadata": {},
     "output_type": "execute_result"
    }
   ],
   "source": [
    "movies2.take(1)"
   ]
  },
  {
   "cell_type": "code",
   "execution_count": 84,
   "metadata": {
    "collapsed": false
   },
   "outputs": [
    {
     "data": {
      "text/plain": [
       "[['1', '1193', 5, 2000]]"
      ]
     },
     "execution_count": 84,
     "metadata": {},
     "output_type": "execute_result"
    }
   ],
   "source": [
    "ratings2.take(1)"
   ]
  },
  {
   "cell_type": "code",
   "execution_count": 105,
   "metadata": {
    "collapsed": false
   },
   "outputs": [
    {
     "data": {
      "text/plain": [
       "[('4334', 564), ('4986', 118), ('2265', 845), ('5964', 2075), ('3603', 920)]"
      ]
     },
     "execution_count": 105,
     "metadata": {},
     "output_type": "execute_result"
    }
   ],
   "source": [
    "## paso 1\n",
    "ratings_6_suma = ratings2.map(lambda x: (x[0], x[2]))\n",
    "ratings_6_suma_key = ratings_6_suma.reduceByKey(lambda x, y: x + y)\n",
    "ratings_6_suma_key.take(5)"
   ]
  },
  {
   "cell_type": "code",
   "execution_count": 107,
   "metadata": {
    "collapsed": false
   },
   "outputs": [
    {
     "data": {
      "text/plain": [
       "[('4334', 157), ('4986', 27), ('2265', 232), ('5964', 549), ('3603', 328)]"
      ]
     },
     "execution_count": 107,
     "metadata": {},
     "output_type": "execute_result"
    }
   ],
   "source": [
    "ratings_6_count = ratings2.map(lambda x: (x[0], 1))\n",
    "ratings_6_count_key = ratings_6_count.reduceByKey(lambda x, y: x + y)\n",
    "ratings_6_count_key.take(5)"
   ]
  },
  {
   "cell_type": "code",
   "execution_count": 110,
   "metadata": {
    "collapsed": false
   },
   "outputs": [
    {
     "data": {
      "text/plain": [
       "[('4334', 3.59), ('4986', 4.37), ('2265', 3.64), ('5964', 3.78), ('3603', 2.8)]"
      ]
     },
     "execution_count": 110,
     "metadata": {},
     "output_type": "execute_result"
    }
   ],
   "source": [
    "juntitos = ratings_6_suma_key.join(ratings_6_count_key)\n",
    "media = juntitos.map(lambda x: (x[0], round(x[1][0]/x[1][1], 2)))\n",
    "media.take(5)"
   ]
  },
  {
   "cell_type": "code",
   "execution_count": 111,
   "metadata": {
    "collapsed": false
   },
   "outputs": [
    {
     "data": {
      "text/plain": [
       "[('1440', ('Amos & Andrew (1993)', 3.35)),\n",
       " ('2265', ('Nothing But Trouble (1991)', 3.64)),\n",
       " ('3076', ('Irma la Douce (1963)', 3.82)),\n",
       " ('2723', ('Mystery Men (1999)', 3.43)),\n",
       " ('145', ('Bad Boys (1995)', 3.0))]"
      ]
     },
     "execution_count": 111,
     "metadata": {},
     "output_type": "execute_result"
    }
   ],
   "source": [
    "## paso 2\n",
    "movies_red = movies2.map(lambda x: (x[0], x[1]))\n",
    "media_pelis = movies_red.join(media)\n",
    "media_pelis.take(5)                         "
   ]
  },
  {
   "cell_type": "code",
   "execution_count": 116,
   "metadata": {
    "collapsed": false
   },
   "outputs": [
    {
     "data": {
      "text/plain": [
       "('New Jersey Drive (1995)', 4.96)"
      ]
     },
     "execution_count": 116,
     "metadata": {},
     "output_type": "execute_result"
    }
   ],
   "source": [
    "## paso 3\n",
    "media_pelis.map(lambda x: x[1]).max(lambda x: x[1])"
   ]
  },
  {
   "cell_type": "code",
   "execution_count": 24,
   "metadata": {
    "collapsed": true
   },
   "outputs": [],
   "source": [
    "sc.stop()"
   ]
  }
 ],
 "metadata": {
  "kernelspec": {
   "display_name": "Python 3",
   "language": "python",
   "name": "python3"
  },
  "language_info": {
   "codemirror_mode": {
    "name": "ipython",
    "version": 3
   },
   "file_extension": ".py",
   "mimetype": "text/x-python",
   "name": "python",
   "nbconvert_exporter": "python",
   "pygments_lexer": "ipython3",
   "version": "3.5.2"
  }
 },
 "nbformat": 4,
 "nbformat_minor": 2
}
