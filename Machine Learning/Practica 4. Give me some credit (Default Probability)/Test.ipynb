{
 "cells": [
  {
   "cell_type": "markdown",
   "metadata": {
    "colab_type": "text",
    "id": "m6iVJl9fxi3A"
   },
   "source": [
    "# Give me some credit (test)\n",
    "* Máster en Data Science y Finanzas, CUNEF\n",
    "* Subject: Machine learning\n",
    "* Authors: Raquel Fort, Lucía Saiz, María Carrasco\n",
    "* Contact: raquel.fort@cunef.edu, l.saiz@cunef.edu, m.carrascomelendez@cunef.edu"
   ]
  },
  {
   "cell_type": "markdown",
   "metadata": {},
   "source": [
    "## Table of contents:"
   ]
  },
  {
   "cell_type": "markdown",
   "metadata": {},
   "source": [
    "1.  Loading dataset and EDA.\n",
    "    - Histograms \n",
    "    - Correlation matrix\n",
    "2.  Categorical and numerical datasets\n",
    "    - Treatment numerical dataset.\n",
    "    - Treatment categorical dataset: Dummies.\n",
    "3.  Lasso Model (Variable Importance)\n",
    "4.  Support Vector Machine (SVM)\n",
    "5.  Logistic Regression\n",
    "6.  Random Forest\n",
    "7.  XGBOOST\n",
    "8.  ROC Curves. Comparisons.\n",
    "9.  Conclusions\n",
    "10.  References"
   ]
  },
  {
   "cell_type": "markdown",
   "metadata": {},
   "source": [
    "## 1. Loading dataset and EDA"
   ]
  },
  {
   "cell_type": "code",
   "execution_count": 189,
   "metadata": {},
   "outputs": [],
   "source": [
    "import pandas as pd\n",
    "import numpy as np\n",
    "import matplotlib.pyplot as plt\n",
    "import seaborn as sns\n",
    "from numpy import loadtxt\n",
    "from matplotlib import pyplot\n",
    "from sklearn import metrics\n",
    "from sklearn import svm\n",
    "from sklearn import preprocessing\n",
    "from sklearn import linear_model\n",
    "from sklearn import model_selection\n",
    "from sklearn.metrics import r2_score # R^2\n",
    "from sklearn.metrics import mean_squared_error # MSE\n",
    "from sklearn.preprocessing import StandardScaler # estandarization\n",
    "from math import sqrt # sqrt\n",
    "import random\n",
    "from sklearn.utils import resample\n",
    "from sklearn.preprocessing import MinMaxScaler\n",
    "from sklearn.linear_model import Lasso, LassoCV # Lasso\n",
    "from sklearn.metrics import classification_report\n",
    "from sklearn.metrics import confusion_matrix\n",
    "from sklearn.preprocessing import LabelEncoder\n",
    "from sklearn.linear_model import LogisticRegression\n",
    "from sklearn.svm import SVC # SVM\n",
    "from sklearn.ensemble import RandomForestRegressor, RandomForestClassifier\n",
    "import xgboost as xgb # XGBOOST\n",
    "from sklearn.metrics import roc_curve, roc_auc_score, plot_roc_curve # ROC Curve\n",
    "from sklearn.datasets import make_classification\n",
    "from sklearn.model_selection import GridSearchCV\n",
    "from sklearn.model_selection import cross_val_predict\n",
    "from sklearn.model_selection import train_test_split\n",
    "from sklearn.metrics import accuracy_score\n",
    "import pickle\n",
    "%matplotlib inline"
   ]
  },
  {
   "cell_type": "code",
   "execution_count": 190,
   "metadata": {},
   "outputs": [],
   "source": [
    "data_path = './data/test_set.csv'"
   ]
  },
  {
   "cell_type": "code",
   "execution_count": 191,
   "metadata": {},
   "outputs": [],
   "source": [
    "data_orig = pd.read_csv(data_path, low_memory = False) "
   ]
  },
  {
   "cell_type": "code",
   "execution_count": 192,
   "metadata": {},
   "outputs": [],
   "source": [
    "data_orig['default'] = data_orig['target']"
   ]
  },
  {
   "cell_type": "code",
   "execution_count": 193,
   "metadata": {},
   "outputs": [],
   "source": [
    "data = data_orig.loc[:, ['default', 'acc_now_delinq', 'acc_open_past_24mths', 'addr_state', 'all_util', 'annual_inc', \n",
    "                         'application_type','delinq_2yrs','delinq_amnt','desc','dti','emp_length','funded_amnt','grade',\n",
    "                         'home_ownership','initial_list_status','installment','int_rate','last_pymnt_amnt','loan_amnt',\n",
    "                         'mo_sin_rcnt_tl','mths_since_last_delinq','num_accts_ever_120_pd','num_il_tl','num_sats',\n",
    "                         'num_tl_120dpd_2m','out_prncp','pub_rec_bankruptcies','recoveries','term','title','tot_coll_amt',\n",
    "                         'tot_cur_bal','total_acc','total_pymnt','debt_settlement_flag']]"
   ]
  },
  {
   "cell_type": "markdown",
   "metadata": {},
   "source": [
    "The EDA helps us organize the information that \"data\" gives us in order to detect certain patterns of behavior as well as important values to the underlying model.\n",
    "Exploring the data must be the first step of any type of data analysis."
   ]
  },
  {
   "cell_type": "markdown",
   "metadata": {},
   "source": [
    "Up next, we can see a small preview of the database with the first 5 rows and 36 columns."
   ]
  },
  {
   "cell_type": "code",
   "execution_count": 194,
   "metadata": {},
   "outputs": [
    {
     "data": {
      "text/html": [
       "<div>\n",
       "<style scoped>\n",
       "    .dataframe tbody tr th:only-of-type {\n",
       "        vertical-align: middle;\n",
       "    }\n",
       "\n",
       "    .dataframe tbody tr th {\n",
       "        vertical-align: top;\n",
       "    }\n",
       "\n",
       "    .dataframe thead th {\n",
       "        text-align: right;\n",
       "    }\n",
       "</style>\n",
       "<table border=\"1\" class=\"dataframe\">\n",
       "  <thead>\n",
       "    <tr style=\"text-align: right;\">\n",
       "      <th></th>\n",
       "      <th>default</th>\n",
       "      <th>acc_now_delinq</th>\n",
       "      <th>acc_open_past_24mths</th>\n",
       "      <th>addr_state</th>\n",
       "      <th>all_util</th>\n",
       "      <th>annual_inc</th>\n",
       "      <th>application_type</th>\n",
       "      <th>delinq_2yrs</th>\n",
       "      <th>delinq_amnt</th>\n",
       "      <th>desc</th>\n",
       "      <th>...</th>\n",
       "      <th>out_prncp</th>\n",
       "      <th>pub_rec_bankruptcies</th>\n",
       "      <th>recoveries</th>\n",
       "      <th>term</th>\n",
       "      <th>title</th>\n",
       "      <th>tot_coll_amt</th>\n",
       "      <th>tot_cur_bal</th>\n",
       "      <th>total_acc</th>\n",
       "      <th>total_pymnt</th>\n",
       "      <th>debt_settlement_flag</th>\n",
       "    </tr>\n",
       "  </thead>\n",
       "  <tbody>\n",
       "    <tr>\n",
       "      <td>0</td>\n",
       "      <td>0</td>\n",
       "      <td>0.0</td>\n",
       "      <td>0.0</td>\n",
       "      <td>NJ</td>\n",
       "      <td>59.0</td>\n",
       "      <td>120000.0</td>\n",
       "      <td>Individual</td>\n",
       "      <td>0.0</td>\n",
       "      <td>0.0</td>\n",
       "      <td>NaN</td>\n",
       "      <td>...</td>\n",
       "      <td>0.0</td>\n",
       "      <td>0.0</td>\n",
       "      <td>0.00</td>\n",
       "      <td>36 months</td>\n",
       "      <td>Credit card refinancing</td>\n",
       "      <td>0.0</td>\n",
       "      <td>30213.0</td>\n",
       "      <td>14.0</td>\n",
       "      <td>21931.187758</td>\n",
       "      <td>N</td>\n",
       "    </tr>\n",
       "    <tr>\n",
       "      <td>1</td>\n",
       "      <td>0</td>\n",
       "      <td>0.0</td>\n",
       "      <td>3.0</td>\n",
       "      <td>TX</td>\n",
       "      <td>45.0</td>\n",
       "      <td>35000.0</td>\n",
       "      <td>Individual</td>\n",
       "      <td>0.0</td>\n",
       "      <td>0.0</td>\n",
       "      <td>NaN</td>\n",
       "      <td>...</td>\n",
       "      <td>0.0</td>\n",
       "      <td>0.0</td>\n",
       "      <td>0.00</td>\n",
       "      <td>36 months</td>\n",
       "      <td>Credit card refinancing</td>\n",
       "      <td>363.0</td>\n",
       "      <td>26405.0</td>\n",
       "      <td>19.0</td>\n",
       "      <td>2895.089683</td>\n",
       "      <td>N</td>\n",
       "    </tr>\n",
       "    <tr>\n",
       "      <td>2</td>\n",
       "      <td>1</td>\n",
       "      <td>0.0</td>\n",
       "      <td>4.0</td>\n",
       "      <td>IN</td>\n",
       "      <td>76.0</td>\n",
       "      <td>119000.0</td>\n",
       "      <td>Individual</td>\n",
       "      <td>0.0</td>\n",
       "      <td>0.0</td>\n",
       "      <td>NaN</td>\n",
       "      <td>...</td>\n",
       "      <td>0.0</td>\n",
       "      <td>0.0</td>\n",
       "      <td>1574.23</td>\n",
       "      <td>36 months</td>\n",
       "      <td>Debt consolidation</td>\n",
       "      <td>92.0</td>\n",
       "      <td>64210.0</td>\n",
       "      <td>38.0</td>\n",
       "      <td>11962.200000</td>\n",
       "      <td>N</td>\n",
       "    </tr>\n",
       "    <tr>\n",
       "      <td>3</td>\n",
       "      <td>0</td>\n",
       "      <td>0.0</td>\n",
       "      <td>7.0</td>\n",
       "      <td>AZ</td>\n",
       "      <td>NaN</td>\n",
       "      <td>82000.0</td>\n",
       "      <td>Individual</td>\n",
       "      <td>0.0</td>\n",
       "      <td>0.0</td>\n",
       "      <td>NaN</td>\n",
       "      <td>...</td>\n",
       "      <td>0.0</td>\n",
       "      <td>0.0</td>\n",
       "      <td>0.00</td>\n",
       "      <td>36 months</td>\n",
       "      <td>Credit card refinancing</td>\n",
       "      <td>0.0</td>\n",
       "      <td>133179.0</td>\n",
       "      <td>27.0</td>\n",
       "      <td>10058.300000</td>\n",
       "      <td>N</td>\n",
       "    </tr>\n",
       "    <tr>\n",
       "      <td>4</td>\n",
       "      <td>1</td>\n",
       "      <td>0.0</td>\n",
       "      <td>4.0</td>\n",
       "      <td>TX</td>\n",
       "      <td>NaN</td>\n",
       "      <td>66287.0</td>\n",
       "      <td>Individual</td>\n",
       "      <td>0.0</td>\n",
       "      <td>0.0</td>\n",
       "      <td>NaN</td>\n",
       "      <td>...</td>\n",
       "      <td>0.0</td>\n",
       "      <td>1.0</td>\n",
       "      <td>956.61</td>\n",
       "      <td>36 months</td>\n",
       "      <td>Debt consolidation</td>\n",
       "      <td>148.0</td>\n",
       "      <td>26410.0</td>\n",
       "      <td>16.0</td>\n",
       "      <td>11994.890000</td>\n",
       "      <td>N</td>\n",
       "    </tr>\n",
       "  </tbody>\n",
       "</table>\n",
       "<p>5 rows × 36 columns</p>\n",
       "</div>"
      ],
      "text/plain": [
       "   default  acc_now_delinq  acc_open_past_24mths addr_state  all_util  \\\n",
       "0        0             0.0                   0.0         NJ      59.0   \n",
       "1        0             0.0                   3.0         TX      45.0   \n",
       "2        1             0.0                   4.0         IN      76.0   \n",
       "3        0             0.0                   7.0         AZ       NaN   \n",
       "4        1             0.0                   4.0         TX       NaN   \n",
       "\n",
       "   annual_inc application_type  delinq_2yrs  delinq_amnt desc  ...  out_prncp  \\\n",
       "0    120000.0       Individual          0.0          0.0  NaN  ...        0.0   \n",
       "1     35000.0       Individual          0.0          0.0  NaN  ...        0.0   \n",
       "2    119000.0       Individual          0.0          0.0  NaN  ...        0.0   \n",
       "3     82000.0       Individual          0.0          0.0  NaN  ...        0.0   \n",
       "4     66287.0       Individual          0.0          0.0  NaN  ...        0.0   \n",
       "\n",
       "  pub_rec_bankruptcies  recoveries        term                    title  \\\n",
       "0                  0.0        0.00   36 months  Credit card refinancing   \n",
       "1                  0.0        0.00   36 months  Credit card refinancing   \n",
       "2                  0.0     1574.23   36 months       Debt consolidation   \n",
       "3                  0.0        0.00   36 months  Credit card refinancing   \n",
       "4                  1.0      956.61   36 months       Debt consolidation   \n",
       "\n",
       "  tot_coll_amt  tot_cur_bal  total_acc   total_pymnt  debt_settlement_flag  \n",
       "0          0.0      30213.0       14.0  21931.187758                     N  \n",
       "1        363.0      26405.0       19.0   2895.089683                     N  \n",
       "2         92.0      64210.0       38.0  11962.200000                     N  \n",
       "3          0.0     133179.0       27.0  10058.300000                     N  \n",
       "4        148.0      26410.0       16.0  11994.890000                     N  \n",
       "\n",
       "[5 rows x 36 columns]"
      ]
     },
     "execution_count": 194,
     "metadata": {},
     "output_type": "execute_result"
    }
   ],
   "source": [
    "data.head()"
   ]
  },
  {
   "cell_type": "markdown",
   "metadata": {},
   "source": [
    "We use the function info() to generate general information about the data frame. The data types of our variables range from int32, int64, float64 and object. Here is where we can clearly differentiate our categorical and numerical variables."
   ]
  },
  {
   "cell_type": "code",
   "execution_count": 195,
   "metadata": {},
   "outputs": [
    {
     "name": "stdout",
     "output_type": "stream",
     "text": [
      "<class 'pandas.core.frame.DataFrame'>\n",
      "RangeIndex: 332020 entries, 0 to 332019\n",
      "Data columns (total 36 columns):\n",
      "default                   332020 non-null int64\n",
      "acc_now_delinq            332016 non-null float64\n",
      "acc_open_past_24mths      319615 non-null float64\n",
      "addr_state                332020 non-null object\n",
      "all_util                  130089 non-null float64\n",
      "annual_inc                332020 non-null float64\n",
      "application_type          332020 non-null object\n",
      "delinq_2yrs               332016 non-null float64\n",
      "delinq_amnt               332016 non-null float64\n",
      "desc                      31445 non-null object\n",
      "dti                       331934 non-null float64\n",
      "emp_length                312662 non-null object\n",
      "funded_amnt               332020 non-null int64\n",
      "grade                     332020 non-null object\n",
      "home_ownership            332020 non-null object\n",
      "initial_list_status       332020 non-null object\n",
      "installment               332020 non-null float64\n",
      "int_rate                  332020 non-null float64\n",
      "last_pymnt_amnt           332020 non-null float64\n",
      "loan_amnt                 332020 non-null int64\n",
      "mo_sin_rcnt_tl            314544 non-null float64\n",
      "mths_since_last_delinq    164252 non-null float64\n",
      "num_accts_ever_120_pd     314544 non-null float64\n",
      "num_il_tl                 314544 non-null float64\n",
      "num_sats                  317414 non-null float64\n",
      "num_tl_120dpd_2m          302265 non-null float64\n",
      "out_prncp                 332020 non-null float64\n",
      "pub_rec_bankruptcies      331674 non-null float64\n",
      "recoveries                332020 non-null float64\n",
      "term                      332020 non-null object\n",
      "title                     328143 non-null object\n",
      "tot_coll_amt              314544 non-null float64\n",
      "tot_cur_bal               314544 non-null float64\n",
      "total_acc                 332016 non-null float64\n",
      "total_pymnt               332020 non-null float64\n",
      "debt_settlement_flag      332020 non-null object\n",
      "dtypes: float64(23), int64(3), object(10)\n",
      "memory usage: 91.2+ MB\n"
     ]
    }
   ],
   "source": [
    "data.info()"
   ]
  },
  {
   "cell_type": "markdown",
   "metadata": {},
   "source": [
    "The described method shows the basic statistical characteristics of each numerical variable: the number of observations of each variable, mean, standard deviation, minimum and maximum values, mediana and quartiles 0.25 and 0.75."
   ]
  },
  {
   "cell_type": "code",
   "execution_count": 196,
   "metadata": {},
   "outputs": [
    {
     "data": {
      "text/html": [
       "<div>\n",
       "<style scoped>\n",
       "    .dataframe tbody tr th:only-of-type {\n",
       "        vertical-align: middle;\n",
       "    }\n",
       "\n",
       "    .dataframe tbody tr th {\n",
       "        vertical-align: top;\n",
       "    }\n",
       "\n",
       "    .dataframe thead th {\n",
       "        text-align: right;\n",
       "    }\n",
       "</style>\n",
       "<table border=\"1\" class=\"dataframe\">\n",
       "  <thead>\n",
       "    <tr style=\"text-align: right;\">\n",
       "      <th></th>\n",
       "      <th>default</th>\n",
       "      <th>acc_now_delinq</th>\n",
       "      <th>acc_open_past_24mths</th>\n",
       "      <th>all_util</th>\n",
       "      <th>annual_inc</th>\n",
       "      <th>delinq_2yrs</th>\n",
       "      <th>delinq_amnt</th>\n",
       "      <th>dti</th>\n",
       "      <th>funded_amnt</th>\n",
       "      <th>installment</th>\n",
       "      <th>...</th>\n",
       "      <th>num_il_tl</th>\n",
       "      <th>num_sats</th>\n",
       "      <th>num_tl_120dpd_2m</th>\n",
       "      <th>out_prncp</th>\n",
       "      <th>pub_rec_bankruptcies</th>\n",
       "      <th>recoveries</th>\n",
       "      <th>tot_coll_amt</th>\n",
       "      <th>tot_cur_bal</th>\n",
       "      <th>total_acc</th>\n",
       "      <th>total_pymnt</th>\n",
       "    </tr>\n",
       "  </thead>\n",
       "  <tbody>\n",
       "    <tr>\n",
       "      <td>count</td>\n",
       "      <td>332020.000000</td>\n",
       "      <td>332016.000000</td>\n",
       "      <td>319615.000000</td>\n",
       "      <td>130089.000000</td>\n",
       "      <td>3.320200e+05</td>\n",
       "      <td>332016.000000</td>\n",
       "      <td>332016.000000</td>\n",
       "      <td>331934.000000</td>\n",
       "      <td>332020.000000</td>\n",
       "      <td>332020.000000</td>\n",
       "      <td>...</td>\n",
       "      <td>314544.000000</td>\n",
       "      <td>317414.000000</td>\n",
       "      <td>302265.000000</td>\n",
       "      <td>332020.000000</td>\n",
       "      <td>331674.000000</td>\n",
       "      <td>332020.000000</td>\n",
       "      <td>3.145440e+05</td>\n",
       "      <td>3.145440e+05</td>\n",
       "      <td>332016.000000</td>\n",
       "      <td>332020.000000</td>\n",
       "    </tr>\n",
       "    <tr>\n",
       "      <td>mean</td>\n",
       "      <td>0.215698</td>\n",
       "      <td>0.004858</td>\n",
       "      <td>4.704463</td>\n",
       "      <td>58.273190</td>\n",
       "      <td>7.593191e+04</td>\n",
       "      <td>0.316997</td>\n",
       "      <td>14.810066</td>\n",
       "      <td>18.289033</td>\n",
       "      <td>14429.829830</td>\n",
       "      <td>438.313558</td>\n",
       "      <td>...</td>\n",
       "      <td>8.564678</td>\n",
       "      <td>11.634392</td>\n",
       "      <td>0.000801</td>\n",
       "      <td>217.124184</td>\n",
       "      <td>0.134138</td>\n",
       "      <td>230.334655</td>\n",
       "      <td>2.566787e+02</td>\n",
       "      <td>1.405774e+05</td>\n",
       "      <td>24.972682</td>\n",
       "      <td>14657.949376</td>\n",
       "    </tr>\n",
       "    <tr>\n",
       "      <td>std</td>\n",
       "      <td>0.411306</td>\n",
       "      <td>0.078676</td>\n",
       "      <td>3.188625</td>\n",
       "      <td>20.939497</td>\n",
       "      <td>6.247035e+04</td>\n",
       "      <td>0.883355</td>\n",
       "      <td>749.912831</td>\n",
       "      <td>11.682787</td>\n",
       "      <td>8709.248061</td>\n",
       "      <td>261.219744</td>\n",
       "      <td>...</td>\n",
       "      <td>7.387388</td>\n",
       "      <td>5.478129</td>\n",
       "      <td>0.030964</td>\n",
       "      <td>1947.344141</td>\n",
       "      <td>0.377575</td>\n",
       "      <td>932.722425</td>\n",
       "      <td>1.135791e+04</td>\n",
       "      <td>1.559375e+05</td>\n",
       "      <td>12.000979</td>\n",
       "      <td>10300.599688</td>\n",
       "    </tr>\n",
       "    <tr>\n",
       "      <td>min</td>\n",
       "      <td>0.000000</td>\n",
       "      <td>0.000000</td>\n",
       "      <td>0.000000</td>\n",
       "      <td>0.000000</td>\n",
       "      <td>0.000000e+00</td>\n",
       "      <td>0.000000</td>\n",
       "      <td>0.000000</td>\n",
       "      <td>0.000000</td>\n",
       "      <td>500.000000</td>\n",
       "      <td>15.690000</td>\n",
       "      <td>...</td>\n",
       "      <td>0.000000</td>\n",
       "      <td>0.000000</td>\n",
       "      <td>0.000000</td>\n",
       "      <td>0.000000</td>\n",
       "      <td>0.000000</td>\n",
       "      <td>0.000000</td>\n",
       "      <td>0.000000e+00</td>\n",
       "      <td>0.000000e+00</td>\n",
       "      <td>1.000000</td>\n",
       "      <td>0.000000</td>\n",
       "    </tr>\n",
       "    <tr>\n",
       "      <td>25%</td>\n",
       "      <td>0.000000</td>\n",
       "      <td>0.000000</td>\n",
       "      <td>2.000000</td>\n",
       "      <td>44.000000</td>\n",
       "      <td>4.560000e+04</td>\n",
       "      <td>0.000000</td>\n",
       "      <td>0.000000</td>\n",
       "      <td>11.800000</td>\n",
       "      <td>8000.000000</td>\n",
       "      <td>249.300000</td>\n",
       "      <td>...</td>\n",
       "      <td>4.000000</td>\n",
       "      <td>8.000000</td>\n",
       "      <td>0.000000</td>\n",
       "      <td>0.000000</td>\n",
       "      <td>0.000000</td>\n",
       "      <td>0.000000</td>\n",
       "      <td>0.000000e+00</td>\n",
       "      <td>2.947300e+04</td>\n",
       "      <td>16.000000</td>\n",
       "      <td>6723.355078</td>\n",
       "    </tr>\n",
       "    <tr>\n",
       "      <td>50%</td>\n",
       "      <td>0.000000</td>\n",
       "      <td>0.000000</td>\n",
       "      <td>4.000000</td>\n",
       "      <td>60.000000</td>\n",
       "      <td>6.500000e+04</td>\n",
       "      <td>0.000000</td>\n",
       "      <td>0.000000</td>\n",
       "      <td>17.610000</td>\n",
       "      <td>12000.000000</td>\n",
       "      <td>375.430000</td>\n",
       "      <td>...</td>\n",
       "      <td>7.000000</td>\n",
       "      <td>11.000000</td>\n",
       "      <td>0.000000</td>\n",
       "      <td>0.000000</td>\n",
       "      <td>0.000000</td>\n",
       "      <td>0.000000</td>\n",
       "      <td>0.000000e+00</td>\n",
       "      <td>7.983500e+04</td>\n",
       "      <td>23.000000</td>\n",
       "      <td>12003.324015</td>\n",
       "    </tr>\n",
       "    <tr>\n",
       "      <td>75%</td>\n",
       "      <td>0.000000</td>\n",
       "      <td>0.000000</td>\n",
       "      <td>6.000000</td>\n",
       "      <td>73.000000</td>\n",
       "      <td>9.000000e+04</td>\n",
       "      <td>0.000000</td>\n",
       "      <td>0.000000</td>\n",
       "      <td>24.040000</td>\n",
       "      <td>20000.000000</td>\n",
       "      <td>579.960000</td>\n",
       "      <td>...</td>\n",
       "      <td>11.000000</td>\n",
       "      <td>14.000000</td>\n",
       "      <td>0.000000</td>\n",
       "      <td>0.000000</td>\n",
       "      <td>0.000000</td>\n",
       "      <td>0.000000</td>\n",
       "      <td>0.000000e+00</td>\n",
       "      <td>2.098070e+05</td>\n",
       "      <td>32.000000</td>\n",
       "      <td>20348.306895</td>\n",
       "    </tr>\n",
       "    <tr>\n",
       "      <td>max</td>\n",
       "      <td>1.000000</td>\n",
       "      <td>14.000000</td>\n",
       "      <td>64.000000</td>\n",
       "      <td>198.000000</td>\n",
       "      <td>9.000000e+06</td>\n",
       "      <td>29.000000</td>\n",
       "      <td>97619.000000</td>\n",
       "      <td>999.000000</td>\n",
       "      <td>40000.000000</td>\n",
       "      <td>1719.830000</td>\n",
       "      <td>...</td>\n",
       "      <td>110.000000</td>\n",
       "      <td>81.000000</td>\n",
       "      <td>6.000000</td>\n",
       "      <td>40000.000000</td>\n",
       "      <td>8.000000</td>\n",
       "      <td>39444.370000</td>\n",
       "      <td>6.214661e+06</td>\n",
       "      <td>4.447397e+06</td>\n",
       "      <td>127.000000</td>\n",
       "      <td>63296.877868</td>\n",
       "    </tr>\n",
       "  </tbody>\n",
       "</table>\n",
       "<p>8 rows × 26 columns</p>\n",
       "</div>"
      ],
      "text/plain": [
       "             default  acc_now_delinq  acc_open_past_24mths       all_util  \\\n",
       "count  332020.000000   332016.000000         319615.000000  130089.000000   \n",
       "mean        0.215698        0.004858              4.704463      58.273190   \n",
       "std         0.411306        0.078676              3.188625      20.939497   \n",
       "min         0.000000        0.000000              0.000000       0.000000   \n",
       "25%         0.000000        0.000000              2.000000      44.000000   \n",
       "50%         0.000000        0.000000              4.000000      60.000000   \n",
       "75%         0.000000        0.000000              6.000000      73.000000   \n",
       "max         1.000000       14.000000             64.000000     198.000000   \n",
       "\n",
       "         annual_inc    delinq_2yrs    delinq_amnt            dti  \\\n",
       "count  3.320200e+05  332016.000000  332016.000000  331934.000000   \n",
       "mean   7.593191e+04       0.316997      14.810066      18.289033   \n",
       "std    6.247035e+04       0.883355     749.912831      11.682787   \n",
       "min    0.000000e+00       0.000000       0.000000       0.000000   \n",
       "25%    4.560000e+04       0.000000       0.000000      11.800000   \n",
       "50%    6.500000e+04       0.000000       0.000000      17.610000   \n",
       "75%    9.000000e+04       0.000000       0.000000      24.040000   \n",
       "max    9.000000e+06      29.000000   97619.000000     999.000000   \n",
       "\n",
       "         funded_amnt    installment  ...      num_il_tl       num_sats  \\\n",
       "count  332020.000000  332020.000000  ...  314544.000000  317414.000000   \n",
       "mean    14429.829830     438.313558  ...       8.564678      11.634392   \n",
       "std      8709.248061     261.219744  ...       7.387388       5.478129   \n",
       "min       500.000000      15.690000  ...       0.000000       0.000000   \n",
       "25%      8000.000000     249.300000  ...       4.000000       8.000000   \n",
       "50%     12000.000000     375.430000  ...       7.000000      11.000000   \n",
       "75%     20000.000000     579.960000  ...      11.000000      14.000000   \n",
       "max     40000.000000    1719.830000  ...     110.000000      81.000000   \n",
       "\n",
       "       num_tl_120dpd_2m      out_prncp  pub_rec_bankruptcies     recoveries  \\\n",
       "count     302265.000000  332020.000000         331674.000000  332020.000000   \n",
       "mean           0.000801     217.124184              0.134138     230.334655   \n",
       "std            0.030964    1947.344141              0.377575     932.722425   \n",
       "min            0.000000       0.000000              0.000000       0.000000   \n",
       "25%            0.000000       0.000000              0.000000       0.000000   \n",
       "50%            0.000000       0.000000              0.000000       0.000000   \n",
       "75%            0.000000       0.000000              0.000000       0.000000   \n",
       "max            6.000000   40000.000000              8.000000   39444.370000   \n",
       "\n",
       "       tot_coll_amt   tot_cur_bal      total_acc    total_pymnt  \n",
       "count  3.145440e+05  3.145440e+05  332016.000000  332020.000000  \n",
       "mean   2.566787e+02  1.405774e+05      24.972682   14657.949376  \n",
       "std    1.135791e+04  1.559375e+05      12.000979   10300.599688  \n",
       "min    0.000000e+00  0.000000e+00       1.000000       0.000000  \n",
       "25%    0.000000e+00  2.947300e+04      16.000000    6723.355078  \n",
       "50%    0.000000e+00  7.983500e+04      23.000000   12003.324015  \n",
       "75%    0.000000e+00  2.098070e+05      32.000000   20348.306895  \n",
       "max    6.214661e+06  4.447397e+06     127.000000   63296.877868  \n",
       "\n",
       "[8 rows x 26 columns]"
      ]
     },
     "execution_count": 196,
     "metadata": {},
     "output_type": "execute_result"
    }
   ],
   "source": [
    "data.describe()"
   ]
  },
  {
   "cell_type": "markdown",
   "metadata": {},
   "source": [
    "With the function is.na() we can easily see if there are missing values to help us decide how to treat them."
   ]
  },
  {
   "cell_type": "code",
   "execution_count": 197,
   "metadata": {},
   "outputs": [
    {
     "data": {
      "text/plain": [
       "default                        0\n",
       "acc_now_delinq                 4\n",
       "acc_open_past_24mths       12405\n",
       "addr_state                     0\n",
       "all_util                  201931\n",
       "annual_inc                     0\n",
       "application_type               0\n",
       "delinq_2yrs                    4\n",
       "delinq_amnt                    4\n",
       "desc                      300575\n",
       "dti                           86\n",
       "emp_length                 19358\n",
       "funded_amnt                    0\n",
       "grade                          0\n",
       "home_ownership                 0\n",
       "initial_list_status            0\n",
       "installment                    0\n",
       "int_rate                       0\n",
       "last_pymnt_amnt                0\n",
       "loan_amnt                      0\n",
       "mo_sin_rcnt_tl             17476\n",
       "mths_since_last_delinq    167768\n",
       "num_accts_ever_120_pd      17476\n",
       "num_il_tl                  17476\n",
       "num_sats                   14606\n",
       "num_tl_120dpd_2m           29755\n",
       "out_prncp                      0\n",
       "pub_rec_bankruptcies         346\n",
       "recoveries                     0\n",
       "term                           0\n",
       "title                       3877\n",
       "tot_coll_amt               17476\n",
       "tot_cur_bal                17476\n",
       "total_acc                      4\n",
       "total_pymnt                    0\n",
       "debt_settlement_flag           0\n",
       "dtype: int64"
      ]
     },
     "execution_count": 197,
     "metadata": {},
     "output_type": "execute_result"
    }
   ],
   "source": [
    "data.isna().sum()"
   ]
  },
  {
   "cell_type": "markdown",
   "metadata": {},
   "source": [
    "Columns of the dataset. "
   ]
  },
  {
   "cell_type": "code",
   "execution_count": 198,
   "metadata": {},
   "outputs": [
    {
     "data": {
      "text/plain": [
       "Index(['default', 'acc_now_delinq', 'acc_open_past_24mths', 'addr_state',\n",
       "       'all_util', 'annual_inc', 'application_type', 'delinq_2yrs',\n",
       "       'delinq_amnt', 'desc', 'dti', 'emp_length', 'funded_amnt', 'grade',\n",
       "       'home_ownership', 'initial_list_status', 'installment', 'int_rate',\n",
       "       'last_pymnt_amnt', 'loan_amnt', 'mo_sin_rcnt_tl',\n",
       "       'mths_since_last_delinq', 'num_accts_ever_120_pd', 'num_il_tl',\n",
       "       'num_sats', 'num_tl_120dpd_2m', 'out_prncp', 'pub_rec_bankruptcies',\n",
       "       'recoveries', 'term', 'title', 'tot_coll_amt', 'tot_cur_bal',\n",
       "       'total_acc', 'total_pymnt', 'debt_settlement_flag'],\n",
       "      dtype='object')"
      ]
     },
     "execution_count": 198,
     "metadata": {},
     "output_type": "execute_result"
    }
   ],
   "source": [
    "data.columns"
   ]
  },
  {
   "cell_type": "markdown",
   "metadata": {},
   "source": [
    "### 1.1. Histograms"
   ]
  },
  {
   "cell_type": "markdown",
   "metadata": {},
   "source": [
    "We start our viisual analysis of our variables by creating histograms for each of them. In the following, we can already see, for example, that a lot of our variables have pretty significant outliers. This is something that we will need to take into account later on when we treat our data. Some of our variables have better distribution than others, which are the ones that will probably have a smaller number of outliers. "
   ]
  },
  {
   "cell_type": "code",
   "execution_count": 199,
   "metadata": {},
   "outputs": [
    {
     "data": {
      "image/png": "[encoded data removed]",
      "text/plain": [
       "<Figure size 1440x720 with 16 Axes>"
      ]
     },
     "metadata": {
      "needs_background": "light"
     },
     "output_type": "display_data"
    }
   ],
   "source": [
    "data.iloc[:,0:20].hist(bins = 50, figsize=(20,10))\n",
    "plt.show()"
   ]
  },
  {
   "cell_type": "code",
   "execution_count": 200,
   "metadata": {},
   "outputs": [
    {
     "data": {
      "image/png": "[encoded data removed]",
      "text/plain": [
       "<Figure size 1440x720 with 12 Axes>"
      ]
     },
     "metadata": {
      "needs_background": "light"
     },
     "output_type": "display_data"
    }
   ],
   "source": [
    "data.iloc[:,21:].hist(bins = 50, figsize=(20,10))\n",
    "plt.show()"
   ]
  },
  {
   "cell_type": "markdown",
   "metadata": {},
   "source": [
    "### 1.2. Correlation graph"
   ]
  },
  {
   "cell_type": "markdown",
   "metadata": {},
   "source": [
    "Finally, we create the correlation graph. This graph indicates how related the variables are, from warmer to colder colors. The red ones indicate the highest correlations and vice versa.\n",
    "This method has proved to be decisive in the choice of variables, allowing us to eliminate redundant variables in our study. The variables that are very correlated can, by definition, explain one another very well, and therefor, there is no need to use both of them in the study. "
   ]
  },
  {
   "cell_type": "code",
   "execution_count": 201,
   "metadata": {},
   "outputs": [],
   "source": [
    "corr = data.corr()"
   ]
  },
  {
   "cell_type": "code",
   "execution_count": 202,
   "metadata": {},
   "outputs": [
    {
     "data": {
      "text/plain": [
       "<matplotlib.axes._subplots.AxesSubplot at 0x2758c3f7208>"
      ]
     },
     "execution_count": 202,
     "metadata": {},
     "output_type": "execute_result"
    },
    {
     "data": {
      "image/png": "[encoded data removed]",
      "text/plain": [
       "<Figure size 504x504 with 2 Axes>"
      ]
     },
     "metadata": {
      "needs_background": "light"
     },
     "output_type": "display_data"
    }
   ],
   "source": [
    "mask = np.zeros_like(corr, dtype=np.bool)\n",
    "mask[np.triu_indices_from(mask)] = True\n",
    "\n",
    "# Set up the matplotlib figure\n",
    "f, ax = plt.subplots(figsize=(7, 7))\n",
    "\n",
    "# Generate a custom diverging colormap\n",
    "cmap = sns.diverging_palette(220, 10, as_cmap=True)\n",
    "\n",
    "# Draw the heatmap with the mask and correct aspect ratio\n",
    "sns.heatmap(corr, mask=mask, cmap=cmap, vmax=.3, center=0,\n",
    "            square=True, linewidths=.5, cbar_kws={\"shrink\": .5})"
   ]
  },
  {
   "cell_type": "markdown",
   "metadata": {},
   "source": [
    "## 2. Categorical and numerical datasets"
   ]
  },
  {
   "cell_type": "markdown",
   "metadata": {},
   "source": [
    "To facilitate the treatment of our variables, we decide to split our data into two dataframes: one for the treatment of numerical variables (loans_num) and a different one for the treatment of the categorical ones (loans_cat)."
   ]
  },
  {
   "cell_type": "code",
   "execution_count": 203,
   "metadata": {},
   "outputs": [],
   "source": [
    "loans_num = data.select_dtypes(include = [np.number])\n",
    "loans_cat = data.select_dtypes(include = [np.object])"
   ]
  },
  {
   "cell_type": "markdown",
   "metadata": {},
   "source": [
    "Preview of both datasets."
   ]
  },
  {
   "cell_type": "code",
   "execution_count": 204,
   "metadata": {},
   "outputs": [
    {
     "data": {
      "text/html": [
       "<div>\n",
       "<style scoped>\n",
       "    .dataframe tbody tr th:only-of-type {\n",
       "        vertical-align: middle;\n",
       "    }\n",
       "\n",
       "    .dataframe tbody tr th {\n",
       "        vertical-align: top;\n",
       "    }\n",
       "\n",
       "    .dataframe thead th {\n",
       "        text-align: right;\n",
       "    }\n",
       "</style>\n",
       "<table border=\"1\" class=\"dataframe\">\n",
       "  <thead>\n",
       "    <tr style=\"text-align: right;\">\n",
       "      <th></th>\n",
       "      <th>default</th>\n",
       "      <th>acc_now_delinq</th>\n",
       "      <th>acc_open_past_24mths</th>\n",
       "      <th>all_util</th>\n",
       "      <th>annual_inc</th>\n",
       "      <th>delinq_2yrs</th>\n",
       "      <th>delinq_amnt</th>\n",
       "      <th>dti</th>\n",
       "      <th>funded_amnt</th>\n",
       "      <th>installment</th>\n",
       "      <th>...</th>\n",
       "      <th>num_il_tl</th>\n",
       "      <th>num_sats</th>\n",
       "      <th>num_tl_120dpd_2m</th>\n",
       "      <th>out_prncp</th>\n",
       "      <th>pub_rec_bankruptcies</th>\n",
       "      <th>recoveries</th>\n",
       "      <th>tot_coll_amt</th>\n",
       "      <th>tot_cur_bal</th>\n",
       "      <th>total_acc</th>\n",
       "      <th>total_pymnt</th>\n",
       "    </tr>\n",
       "  </thead>\n",
       "  <tbody>\n",
       "    <tr>\n",
       "      <td>0</td>\n",
       "      <td>0</td>\n",
       "      <td>0.0</td>\n",
       "      <td>0.0</td>\n",
       "      <td>59.0</td>\n",
       "      <td>120000.0</td>\n",
       "      <td>0.0</td>\n",
       "      <td>0.0</td>\n",
       "      <td>10.89</td>\n",
       "      <td>20000</td>\n",
       "      <td>640.57</td>\n",
       "      <td>...</td>\n",
       "      <td>2.0</td>\n",
       "      <td>9.0</td>\n",
       "      <td>0.0</td>\n",
       "      <td>0.0</td>\n",
       "      <td>0.0</td>\n",
       "      <td>0.00</td>\n",
       "      <td>0.0</td>\n",
       "      <td>30213.0</td>\n",
       "      <td>14.0</td>\n",
       "      <td>21931.187758</td>\n",
       "    </tr>\n",
       "    <tr>\n",
       "      <td>1</td>\n",
       "      <td>0</td>\n",
       "      <td>0.0</td>\n",
       "      <td>3.0</td>\n",
       "      <td>45.0</td>\n",
       "      <td>35000.0</td>\n",
       "      <td>0.0</td>\n",
       "      <td>0.0</td>\n",
       "      <td>17.35</td>\n",
       "      <td>2500</td>\n",
       "      <td>82.41</td>\n",
       "      <td>...</td>\n",
       "      <td>16.0</td>\n",
       "      <td>5.0</td>\n",
       "      <td>0.0</td>\n",
       "      <td>0.0</td>\n",
       "      <td>0.0</td>\n",
       "      <td>0.00</td>\n",
       "      <td>363.0</td>\n",
       "      <td>26405.0</td>\n",
       "      <td>19.0</td>\n",
       "      <td>2895.089683</td>\n",
       "    </tr>\n",
       "    <tr>\n",
       "      <td>2</td>\n",
       "      <td>1</td>\n",
       "      <td>0.0</td>\n",
       "      <td>4.0</td>\n",
       "      <td>76.0</td>\n",
       "      <td>119000.0</td>\n",
       "      <td>0.0</td>\n",
       "      <td>0.0</td>\n",
       "      <td>16.87</td>\n",
       "      <td>17825</td>\n",
       "      <td>644.33</td>\n",
       "      <td>...</td>\n",
       "      <td>25.0</td>\n",
       "      <td>15.0</td>\n",
       "      <td>0.0</td>\n",
       "      <td>0.0</td>\n",
       "      <td>0.0</td>\n",
       "      <td>1574.23</td>\n",
       "      <td>92.0</td>\n",
       "      <td>64210.0</td>\n",
       "      <td>38.0</td>\n",
       "      <td>11962.200000</td>\n",
       "    </tr>\n",
       "    <tr>\n",
       "      <td>3</td>\n",
       "      <td>0</td>\n",
       "      <td>0.0</td>\n",
       "      <td>7.0</td>\n",
       "      <td>NaN</td>\n",
       "      <td>82000.0</td>\n",
       "      <td>0.0</td>\n",
       "      <td>0.0</td>\n",
       "      <td>24.69</td>\n",
       "      <td>9500</td>\n",
       "      <td>298.49</td>\n",
       "      <td>...</td>\n",
       "      <td>12.0</td>\n",
       "      <td>15.0</td>\n",
       "      <td>0.0</td>\n",
       "      <td>0.0</td>\n",
       "      <td>0.0</td>\n",
       "      <td>0.00</td>\n",
       "      <td>0.0</td>\n",
       "      <td>133179.0</td>\n",
       "      <td>27.0</td>\n",
       "      <td>10058.300000</td>\n",
       "    </tr>\n",
       "    <tr>\n",
       "      <td>4</td>\n",
       "      <td>1</td>\n",
       "      <td>0.0</td>\n",
       "      <td>4.0</td>\n",
       "      <td>NaN</td>\n",
       "      <td>66287.0</td>\n",
       "      <td>0.0</td>\n",
       "      <td>0.0</td>\n",
       "      <td>13.65</td>\n",
       "      <td>15000</td>\n",
       "      <td>501.74</td>\n",
       "      <td>...</td>\n",
       "      <td>2.0</td>\n",
       "      <td>11.0</td>\n",
       "      <td>0.0</td>\n",
       "      <td>0.0</td>\n",
       "      <td>1.0</td>\n",
       "      <td>956.61</td>\n",
       "      <td>148.0</td>\n",
       "      <td>26410.0</td>\n",
       "      <td>16.0</td>\n",
       "      <td>11994.890000</td>\n",
       "    </tr>\n",
       "  </tbody>\n",
       "</table>\n",
       "<p>5 rows × 26 columns</p>\n",
       "</div>"
      ],
      "text/plain": [
       "   default  acc_now_delinq  acc_open_past_24mths  all_util  annual_inc  \\\n",
       "0        0             0.0                   0.0      59.0    120000.0   \n",
       "1        0             0.0                   3.0      45.0     35000.0   \n",
       "2        1             0.0                   4.0      76.0    119000.0   \n",
       "3        0             0.0                   7.0       NaN     82000.0   \n",
       "4        1             0.0                   4.0       NaN     66287.0   \n",
       "\n",
       "   delinq_2yrs  delinq_amnt    dti  funded_amnt  installment  ...  num_il_tl  \\\n",
       "0          0.0          0.0  10.89        20000       640.57  ...        2.0   \n",
       "1          0.0          0.0  17.35         2500        82.41  ...       16.0   \n",
       "2          0.0          0.0  16.87        17825       644.33  ...       25.0   \n",
       "3          0.0          0.0  24.69         9500       298.49  ...       12.0   \n",
       "4          0.0          0.0  13.65        15000       501.74  ...        2.0   \n",
       "\n",
       "   num_sats  num_tl_120dpd_2m  out_prncp  pub_rec_bankruptcies  recoveries  \\\n",
       "0       9.0               0.0        0.0                   0.0        0.00   \n",
       "1       5.0               0.0        0.0                   0.0        0.00   \n",
       "2      15.0               0.0        0.0                   0.0     1574.23   \n",
       "3      15.0               0.0        0.0                   0.0        0.00   \n",
       "4      11.0               0.0        0.0                   1.0      956.61   \n",
       "\n",
       "   tot_coll_amt  tot_cur_bal  total_acc   total_pymnt  \n",
       "0           0.0      30213.0       14.0  21931.187758  \n",
       "1         363.0      26405.0       19.0   2895.089683  \n",
       "2          92.0      64210.0       38.0  11962.200000  \n",
       "3           0.0     133179.0       27.0  10058.300000  \n",
       "4         148.0      26410.0       16.0  11994.890000  \n",
       "\n",
       "[5 rows x 26 columns]"
      ]
     },
     "execution_count": 204,
     "metadata": {},
     "output_type": "execute_result"
    }
   ],
   "source": [
    "loans_num.head()"
   ]
  },
  {
   "cell_type": "code",
   "execution_count": 205,
   "metadata": {
    "scrolled": true
   },
   "outputs": [
    {
     "data": {
      "text/html": [
       "<div>\n",
       "<style scoped>\n",
       "    .dataframe tbody tr th:only-of-type {\n",
       "        vertical-align: middle;\n",
       "    }\n",
       "\n",
       "    .dataframe tbody tr th {\n",
       "        vertical-align: top;\n",
       "    }\n",
       "\n",
       "    .dataframe thead th {\n",
       "        text-align: right;\n",
       "    }\n",
       "</style>\n",
       "<table border=\"1\" class=\"dataframe\">\n",
       "  <thead>\n",
       "    <tr style=\"text-align: right;\">\n",
       "      <th></th>\n",
       "      <th>addr_state</th>\n",
       "      <th>application_type</th>\n",
       "      <th>desc</th>\n",
       "      <th>emp_length</th>\n",
       "      <th>grade</th>\n",
       "      <th>home_ownership</th>\n",
       "      <th>initial_list_status</th>\n",
       "      <th>term</th>\n",
       "      <th>title</th>\n",
       "      <th>debt_settlement_flag</th>\n",
       "    </tr>\n",
       "  </thead>\n",
       "  <tbody>\n",
       "    <tr>\n",
       "      <td>0</td>\n",
       "      <td>NJ</td>\n",
       "      <td>Individual</td>\n",
       "      <td>NaN</td>\n",
       "      <td>3 years</td>\n",
       "      <td>B</td>\n",
       "      <td>RENT</td>\n",
       "      <td>w</td>\n",
       "      <td>36 months</td>\n",
       "      <td>Credit card refinancing</td>\n",
       "      <td>N</td>\n",
       "    </tr>\n",
       "    <tr>\n",
       "      <td>1</td>\n",
       "      <td>TX</td>\n",
       "      <td>Individual</td>\n",
       "      <td>NaN</td>\n",
       "      <td>6 years</td>\n",
       "      <td>B</td>\n",
       "      <td>RENT</td>\n",
       "      <td>w</td>\n",
       "      <td>36 months</td>\n",
       "      <td>Credit card refinancing</td>\n",
       "      <td>N</td>\n",
       "    </tr>\n",
       "    <tr>\n",
       "      <td>2</td>\n",
       "      <td>IN</td>\n",
       "      <td>Individual</td>\n",
       "      <td>NaN</td>\n",
       "      <td>3 years</td>\n",
       "      <td>D</td>\n",
       "      <td>RENT</td>\n",
       "      <td>f</td>\n",
       "      <td>36 months</td>\n",
       "      <td>Debt consolidation</td>\n",
       "      <td>N</td>\n",
       "    </tr>\n",
       "    <tr>\n",
       "      <td>3</td>\n",
       "      <td>AZ</td>\n",
       "      <td>Individual</td>\n",
       "      <td>NaN</td>\n",
       "      <td>7 years</td>\n",
       "      <td>B</td>\n",
       "      <td>MORTGAGE</td>\n",
       "      <td>w</td>\n",
       "      <td>36 months</td>\n",
       "      <td>Credit card refinancing</td>\n",
       "      <td>N</td>\n",
       "    </tr>\n",
       "    <tr>\n",
       "      <td>4</td>\n",
       "      <td>TX</td>\n",
       "      <td>Individual</td>\n",
       "      <td>NaN</td>\n",
       "      <td>10+ years</td>\n",
       "      <td>B</td>\n",
       "      <td>RENT</td>\n",
       "      <td>f</td>\n",
       "      <td>36 months</td>\n",
       "      <td>Debt consolidation</td>\n",
       "      <td>N</td>\n",
       "    </tr>\n",
       "  </tbody>\n",
       "</table>\n",
       "</div>"
      ],
      "text/plain": [
       "  addr_state application_type desc emp_length grade home_ownership  \\\n",
       "0         NJ       Individual  NaN    3 years     B           RENT   \n",
       "1         TX       Individual  NaN    6 years     B           RENT   \n",
       "2         IN       Individual  NaN    3 years     D           RENT   \n",
       "3         AZ       Individual  NaN    7 years     B       MORTGAGE   \n",
       "4         TX       Individual  NaN  10+ years     B           RENT   \n",
       "\n",
       "  initial_list_status        term                    title  \\\n",
       "0                   w   36 months  Credit card refinancing   \n",
       "1                   w   36 months  Credit card refinancing   \n",
       "2                   f   36 months       Debt consolidation   \n",
       "3                   w   36 months  Credit card refinancing   \n",
       "4                   f   36 months       Debt consolidation   \n",
       "\n",
       "  debt_settlement_flag  \n",
       "0                    N  \n",
       "1                    N  \n",
       "2                    N  \n",
       "3                    N  \n",
       "4                    N  "
      ]
     },
     "execution_count": 205,
     "metadata": {},
     "output_type": "execute_result"
    }
   ],
   "source": [
    "loans_cat.head()"
   ]
  },
  {
   "cell_type": "markdown",
   "metadata": {},
   "source": [
    "### 2.1. Treatment of the numerical dataset"
   ]
  },
  {
   "cell_type": "markdown",
   "metadata": {},
   "source": [
    "Regarding the numerical variables, we have to deal with the missing data in different ways:\n",
    "\n",
    "1. Replacing some NaN by random values within a range that we chose by analizing the values in each variable. We decided to do this with certain variables, because they had too high a number of NaNs to consider deleting them all. The variables chosen include:\n",
    "\n",
    "    - num_accts_ever_120_pd\n",
    "    - num_il_tl\n",
    "    - num_sats\n",
    "    - num_tl_120dpd_2m\n",
    "    - tot_coll_amt\n",
    "    - tot_cur_bal\n",
    "    \n",
    "    \n",
    "2. Converting the variables into categorical in the cases where we wanted to keep the missing values as an important information. This happens only with two of our variables, where we considered that the lack of information had a relevant relation to whether the borrower would pay pack their loan or not. These are:\n",
    "\n",
    "    -  all_util\n",
    "    - delinq_amnt\n",
    "    \n",
    "    \n",
    "3. Replace other NaN values by the mean of their column or by 0. Similar to the first method, in these cases the number of NaNs in our variables where too high to be deleted, but not relevant enough for us to create a range of random values:\n",
    "\n",
    "    - annal_inc (mean)\n",
    "    - mo_sin_rcnt_tl (mean)\n",
    "    - mths_since_last_delinq (0)\n",
    "\n",
    "\n",
    "4. Drop the missing values (this step will take place after the treatment of both datasets, numerical and categorical). In these cases, the number of missing values was so low that we decided that it would not have a nig influence on our results if we decided to delete them from our data base:\n",
    "\n",
    "    - dti\n",
    "    - acc_open_past_24mths\n",
    "    - pub_rec_bankruptcies"
   ]
  },
  {
   "cell_type": "code",
   "execution_count": 206,
   "metadata": {},
   "outputs": [
    {
     "data": {
      "text/plain": [
       "Index(['default', 'acc_now_delinq', 'acc_open_past_24mths', 'all_util',\n",
       "       'annual_inc', 'delinq_2yrs', 'delinq_amnt', 'dti', 'funded_amnt',\n",
       "       'installment', 'int_rate', 'last_pymnt_amnt', 'loan_amnt',\n",
       "       'mo_sin_rcnt_tl', 'mths_since_last_delinq', 'num_accts_ever_120_pd',\n",
       "       'num_il_tl', 'num_sats', 'num_tl_120dpd_2m', 'out_prncp',\n",
       "       'pub_rec_bankruptcies', 'recoveries', 'tot_coll_amt', 'tot_cur_bal',\n",
       "       'total_acc', 'total_pymnt'],\n",
       "      dtype='object')"
      ]
     },
     "execution_count": 206,
     "metadata": {},
     "output_type": "execute_result"
    }
   ],
   "source": [
    "loans_num.columns"
   ]
  },
  {
   "cell_type": "markdown",
   "metadata": {},
   "source": [
    "#### Dealing with missing data"
   ]
  },
  {
   "cell_type": "markdown",
   "metadata": {},
   "source": [
    "1. We replace the Nas values for random values contained in a range; we have considered the most appropiate one for each variable in order to do so by studying their values (with functions and the histograms presented previously)."
   ]
  },
  {
   "cell_type": "code",
   "execution_count": 207,
   "metadata": {},
   "outputs": [
    {
     "name": "stderr",
     "output_type": "stream",
     "text": [
      "C:\\Users\\Luli\\Documents\\Anaconda\\lib\\site-packages\\pandas\\core\\generic.py:6287: SettingWithCopyWarning: \n",
      "A value is trying to be set on a copy of a slice from a DataFrame\n",
      "\n",
      "See the caveats in the documentation: http://pandas.pydata.org/pandas-docs/stable/user_guide/indexing.html#returning-a-view-versus-a-copy\n",
      "  self._update_inplace(new_data)\n"
     ]
    }
   ],
   "source": [
    "#First, we fill al NAS by the value -1\n",
    "loans_num['num_accts_ever_120_pd'].fillna(-1, inplace=True)\n",
    "loans_num['num_il_tl'].fillna(-1, inplace=True)\n",
    "loans_num['num_sats'].fillna(-1, inplace=True)\n",
    "loans_num['num_tl_120dpd_2m'].fillna(-1, inplace=True)\n",
    "loans_num['tot_coll_amt'].fillna(-1, inplace=True)\n",
    "loans_num['tot_cur_bal'].fillna(-1, inplace=True)"
   ]
  },
  {
   "cell_type": "code",
   "execution_count": 208,
   "metadata": {},
   "outputs": [
    {
     "name": "stderr",
     "output_type": "stream",
     "text": [
      "C:\\Users\\Luli\\Documents\\Anaconda\\lib\\site-packages\\ipykernel_launcher.py:2: SettingWithCopyWarning: \n",
      "A value is trying to be set on a copy of a slice from a DataFrame.\n",
      "Try using .loc[row_indexer,col_indexer] = value instead\n",
      "\n",
      "See the caveats in the documentation: http://pandas.pydata.org/pandas-docs/stable/user_guide/indexing.html#returning-a-view-versus-a-copy\n",
      "  \n",
      "C:\\Users\\Luli\\Documents\\Anaconda\\lib\\site-packages\\ipykernel_launcher.py:3: SettingWithCopyWarning: \n",
      "A value is trying to be set on a copy of a slice from a DataFrame.\n",
      "Try using .loc[row_indexer,col_indexer] = value instead\n",
      "\n",
      "See the caveats in the documentation: http://pandas.pydata.org/pandas-docs/stable/user_guide/indexing.html#returning-a-view-versus-a-copy\n",
      "  This is separate from the ipykernel package so we can avoid doing imports until\n",
      "C:\\Users\\Luli\\Documents\\Anaconda\\lib\\site-packages\\ipykernel_launcher.py:4: SettingWithCopyWarning: \n",
      "A value is trying to be set on a copy of a slice from a DataFrame.\n",
      "Try using .loc[row_indexer,col_indexer] = value instead\n",
      "\n",
      "See the caveats in the documentation: http://pandas.pydata.org/pandas-docs/stable/user_guide/indexing.html#returning-a-view-versus-a-copy\n",
      "  after removing the cwd from sys.path.\n",
      "C:\\Users\\Luli\\Documents\\Anaconda\\lib\\site-packages\\ipykernel_launcher.py:5: SettingWithCopyWarning: \n",
      "A value is trying to be set on a copy of a slice from a DataFrame.\n",
      "Try using .loc[row_indexer,col_indexer] = value instead\n",
      "\n",
      "See the caveats in the documentation: http://pandas.pydata.org/pandas-docs/stable/user_guide/indexing.html#returning-a-view-versus-a-copy\n",
      "  \"\"\"\n",
      "C:\\Users\\Luli\\Documents\\Anaconda\\lib\\site-packages\\ipykernel_launcher.py:6: SettingWithCopyWarning: \n",
      "A value is trying to be set on a copy of a slice from a DataFrame.\n",
      "Try using .loc[row_indexer,col_indexer] = value instead\n",
      "\n",
      "See the caveats in the documentation: http://pandas.pydata.org/pandas-docs/stable/user_guide/indexing.html#returning-a-view-versus-a-copy\n",
      "  \n",
      "C:\\Users\\Luli\\Documents\\Anaconda\\lib\\site-packages\\ipykernel_launcher.py:7: SettingWithCopyWarning: \n",
      "A value is trying to be set on a copy of a slice from a DataFrame.\n",
      "Try using .loc[row_indexer,col_indexer] = value instead\n",
      "\n",
      "See the caveats in the documentation: http://pandas.pydata.org/pandas-docs/stable/user_guide/indexing.html#returning-a-view-versus-a-copy\n",
      "  import sys\n"
     ]
    }
   ],
   "source": [
    "# And then we replace the -1 value by a random one\n",
    "loans_num['num_accts_ever_120_pd'] =  loans_num['num_accts_ever_120_pd'].map(lambda v: (random.randint(0,5)) if v == -1 else v)\n",
    "loans_num['num_il_tl'] =  loans_num['num_il_tl'].map(lambda v: (random.randint(0,5)) if v == -1 else v)\n",
    "loans_num['num_sats'] =  loans_num['num_sats'].map(lambda v: (random.randint(0,5)) if v == -1 else v)\n",
    "loans_num['num_tl_120dpd_2m'] =  loans_num['num_tl_120dpd_2m'].map(lambda v: (random.randint(0,5)) if v == -1 else v)\n",
    "loans_num['tot_coll_amt'] =  loans_num['tot_coll_amt'].map(lambda v: (random.randint(0,5)) if v == -1 else v)\n",
    "loans_num['tot_cur_bal'] =  loans_num['tot_cur_bal'].map(lambda v: (random.randint(0,5)) if v == -1 else v)"
   ]
  },
  {
   "cell_type": "markdown",
   "metadata": {},
   "source": [
    "2. Convert the variables into categorical on in the cases we wanted to keep the missing values as an important information."
   ]
  },
  {
   "cell_type": "markdown",
   "metadata": {},
   "source": [
    "- 'all_util', values greater than 100 = 1, the rest = 0, because we considered that anything that goes beyond a ratio of 1 means that the borrower is more likely to default (owes more than he/she earns):"
   ]
  },
  {
   "cell_type": "code",
   "execution_count": 209,
   "metadata": {},
   "outputs": [
    {
     "name": "stderr",
     "output_type": "stream",
     "text": [
      "C:\\Users\\Luli\\Documents\\Anaconda\\lib\\site-packages\\ipykernel_launcher.py:1: SettingWithCopyWarning: \n",
      "A value is trying to be set on a copy of a slice from a DataFrame.\n",
      "Try using .loc[row_indexer,col_indexer] = value instead\n",
      "\n",
      "See the caveats in the documentation: http://pandas.pydata.org/pandas-docs/stable/user_guide/indexing.html#returning-a-view-versus-a-copy\n",
      "  \"\"\"Entry point for launching an IPython kernel.\n",
      "C:\\Users\\Luli\\Documents\\Anaconda\\lib\\site-packages\\pandas\\core\\indexing.py:494: SettingWithCopyWarning: \n",
      "A value is trying to be set on a copy of a slice from a DataFrame.\n",
      "Try using .loc[row_indexer,col_indexer] = value instead\n",
      "\n",
      "See the caveats in the documentation: http://pandas.pydata.org/pandas-docs/stable/user_guide/indexing.html#returning-a-view-versus-a-copy\n",
      "  self.obj[item] = s\n"
     ]
    }
   ],
   "source": [
    "loans_num[loans_num['all_util'] > 100] = 1"
   ]
  },
  {
   "cell_type": "code",
   "execution_count": 210,
   "metadata": {},
   "outputs": [
    {
     "name": "stderr",
     "output_type": "stream",
     "text": [
      "C:\\Users\\Luli\\Documents\\Anaconda\\lib\\site-packages\\ipykernel_launcher.py:1: SettingWithCopyWarning: \n",
      "A value is trying to be set on a copy of a slice from a DataFrame.\n",
      "Try using .loc[row_indexer,col_indexer] = value instead\n",
      "\n",
      "See the caveats in the documentation: http://pandas.pydata.org/pandas-docs/stable/user_guide/indexing.html#returning-a-view-versus-a-copy\n",
      "  \"\"\"Entry point for launching an IPython kernel.\n"
     ]
    }
   ],
   "source": [
    "loans_num['all_util'] = (loans_num['all_util'] == 1).astype(int)"
   ]
  },
  {
   "cell_type": "markdown",
   "metadata": {},
   "source": [
    "- 'delinq_amnt', values equal to 0 = 0, the rest = 1, becausue we decided that if the borrower doesn't have any sort of delinquent amount that they owe, they are less likely to commit default on a later loan."
   ]
  },
  {
   "cell_type": "code",
   "execution_count": 211,
   "metadata": {},
   "outputs": [
    {
     "name": "stderr",
     "output_type": "stream",
     "text": [
      "C:\\Users\\Luli\\Documents\\Anaconda\\lib\\site-packages\\ipykernel_launcher.py:1: SettingWithCopyWarning: \n",
      "A value is trying to be set on a copy of a slice from a DataFrame.\n",
      "Try using .loc[row_indexer,col_indexer] = value instead\n",
      "\n",
      "See the caveats in the documentation: http://pandas.pydata.org/pandas-docs/stable/user_guide/indexing.html#returning-a-view-versus-a-copy\n",
      "  \"\"\"Entry point for launching an IPython kernel.\n"
     ]
    }
   ],
   "source": [
    "loans_num[loans_num['delinq_amnt'] != 0] = 1"
   ]
  },
  {
   "cell_type": "code",
   "execution_count": 212,
   "metadata": {},
   "outputs": [
    {
     "name": "stderr",
     "output_type": "stream",
     "text": [
      "C:\\Users\\Luli\\Documents\\Anaconda\\lib\\site-packages\\ipykernel_launcher.py:1: SettingWithCopyWarning: \n",
      "A value is trying to be set on a copy of a slice from a DataFrame.\n",
      "Try using .loc[row_indexer,col_indexer] = value instead\n",
      "\n",
      "See the caveats in the documentation: http://pandas.pydata.org/pandas-docs/stable/user_guide/indexing.html#returning-a-view-versus-a-copy\n",
      "  \"\"\"Entry point for launching an IPython kernel.\n"
     ]
    }
   ],
   "source": [
    "loans_num['delinq_amnt'] = (loans_num['delinq_amnt'] == 1).astype(int)"
   ]
  },
  {
   "cell_type": "code",
   "execution_count": 213,
   "metadata": {},
   "outputs": [
    {
     "data": {
      "text/plain": [
       "array([0, 1], dtype=int64)"
      ]
     },
     "execution_count": 213,
     "metadata": {},
     "output_type": "execute_result"
    }
   ],
   "source": [
    "loans_num.delinq_amnt.unique()"
   ]
  },
  {
   "cell_type": "markdown",
   "metadata": {},
   "source": [
    "3. Replace other NaN values by the mean of their column or by 0."
   ]
  },
  {
   "cell_type": "markdown",
   "metadata": {},
   "source": [
    "Mean\n",
    "- annal_inc\n",
    "- mo_sin_rcnt_tl"
   ]
  },
  {
   "cell_type": "code",
   "execution_count": 214,
   "metadata": {},
   "outputs": [],
   "source": [
    "loans_num['annual_inc'].fillna(76163.16, inplace=True)"
   ]
  },
  {
   "cell_type": "code",
   "execution_count": 215,
   "metadata": {},
   "outputs": [],
   "source": [
    "loans_num['mo_sin_rcnt_tl'].fillna(7.84, inplace=True)"
   ]
  },
  {
   "cell_type": "markdown",
   "metadata": {},
   "source": [
    "0\n",
    "- mths_since_last_delinq"
   ]
  },
  {
   "cell_type": "code",
   "execution_count": 216,
   "metadata": {},
   "outputs": [],
   "source": [
    "loans_num['mths_since_last_delinq'].fillna(0, inplace=True)"
   ]
  },
  {
   "cell_type": "markdown",
   "metadata": {},
   "source": [
    "The next variables have information related to the progress of the loans that are accepted, so we have to delete them."
   ]
  },
  {
   "cell_type": "code",
   "execution_count": 217,
   "metadata": {},
   "outputs": [],
   "source": [
    "del loans_num['last_pymnt_amnt']\n",
    "del loans_num['total_pymnt']\n",
    "del loans_num['out_prncp']"
   ]
  },
  {
   "cell_type": "markdown",
   "metadata": {},
   "source": [
    "#### Scaling the numeric variables:\n",
    "\n",
    "When scaling the numeric variables, we have to remember that we cannot include the dependent variable \"default\", so we exclude it from this process and will include it again later on."
   ]
  },
  {
   "cell_type": "code",
   "execution_count": 218,
   "metadata": {},
   "outputs": [
    {
     "data": {
      "text/html": [
       "<div>\n",
       "<style scoped>\n",
       "    .dataframe tbody tr th:only-of-type {\n",
       "        vertical-align: middle;\n",
       "    }\n",
       "\n",
       "    .dataframe tbody tr th {\n",
       "        vertical-align: top;\n",
       "    }\n",
       "\n",
       "    .dataframe thead th {\n",
       "        text-align: right;\n",
       "    }\n",
       "</style>\n",
       "<table border=\"1\" class=\"dataframe\">\n",
       "  <thead>\n",
       "    <tr style=\"text-align: right;\">\n",
       "      <th></th>\n",
       "      <th>acc_now_delinq</th>\n",
       "      <th>acc_open_past_24mths</th>\n",
       "      <th>all_util</th>\n",
       "      <th>annual_inc</th>\n",
       "      <th>delinq_2yrs</th>\n",
       "      <th>delinq_amnt</th>\n",
       "      <th>dti</th>\n",
       "      <th>funded_amnt</th>\n",
       "      <th>installment</th>\n",
       "      <th>int_rate</th>\n",
       "      <th>...</th>\n",
       "      <th>mths_since_last_delinq</th>\n",
       "      <th>num_accts_ever_120_pd</th>\n",
       "      <th>num_il_tl</th>\n",
       "      <th>num_sats</th>\n",
       "      <th>num_tl_120dpd_2m</th>\n",
       "      <th>pub_rec_bankruptcies</th>\n",
       "      <th>recoveries</th>\n",
       "      <th>tot_coll_amt</th>\n",
       "      <th>tot_cur_bal</th>\n",
       "      <th>total_acc</th>\n",
       "    </tr>\n",
       "  </thead>\n",
       "  <tbody>\n",
       "    <tr>\n",
       "      <td>0</td>\n",
       "      <td>0.0</td>\n",
       "      <td>0.000000</td>\n",
       "      <td>0.0</td>\n",
       "      <td>0.013333</td>\n",
       "      <td>0.0</td>\n",
       "      <td>0.0</td>\n",
       "      <td>0.010901</td>\n",
       "      <td>0.499987</td>\n",
       "      <td>0.372096</td>\n",
       "      <td>0.283094</td>\n",
       "      <td>...</td>\n",
       "      <td>0.000000</td>\n",
       "      <td>0.000000</td>\n",
       "      <td>0.019231</td>\n",
       "      <td>0.111111</td>\n",
       "      <td>0.0</td>\n",
       "      <td>0.000</td>\n",
       "      <td>0.000000</td>\n",
       "      <td>0.000000</td>\n",
       "      <td>0.006793</td>\n",
       "      <td>0.103175</td>\n",
       "    </tr>\n",
       "    <tr>\n",
       "      <td>1</td>\n",
       "      <td>0.0</td>\n",
       "      <td>0.046875</td>\n",
       "      <td>0.0</td>\n",
       "      <td>0.003889</td>\n",
       "      <td>0.0</td>\n",
       "      <td>0.0</td>\n",
       "      <td>0.017367</td>\n",
       "      <td>0.062477</td>\n",
       "      <td>0.047364</td>\n",
       "      <td>0.349116</td>\n",
       "      <td>...</td>\n",
       "      <td>0.297753</td>\n",
       "      <td>0.088235</td>\n",
       "      <td>0.153846</td>\n",
       "      <td>0.061728</td>\n",
       "      <td>0.0</td>\n",
       "      <td>0.000</td>\n",
       "      <td>0.000000</td>\n",
       "      <td>0.000058</td>\n",
       "      <td>0.005937</td>\n",
       "      <td>0.142857</td>\n",
       "    </tr>\n",
       "    <tr>\n",
       "      <td>2</td>\n",
       "      <td>0.0</td>\n",
       "      <td>0.062500</td>\n",
       "      <td>0.0</td>\n",
       "      <td>0.013222</td>\n",
       "      <td>0.0</td>\n",
       "      <td>0.0</td>\n",
       "      <td>0.016887</td>\n",
       "      <td>0.445611</td>\n",
       "      <td>0.374284</td>\n",
       "      <td>0.566522</td>\n",
       "      <td>...</td>\n",
       "      <td>0.134831</td>\n",
       "      <td>0.029412</td>\n",
       "      <td>0.240385</td>\n",
       "      <td>0.185185</td>\n",
       "      <td>0.0</td>\n",
       "      <td>0.000</td>\n",
       "      <td>0.039910</td>\n",
       "      <td>0.000015</td>\n",
       "      <td>0.014438</td>\n",
       "      <td>0.293651</td>\n",
       "    </tr>\n",
       "    <tr>\n",
       "      <td>3</td>\n",
       "      <td>0.0</td>\n",
       "      <td>0.109375</td>\n",
       "      <td>0.0</td>\n",
       "      <td>0.009111</td>\n",
       "      <td>0.0</td>\n",
       "      <td>0.0</td>\n",
       "      <td>0.024715</td>\n",
       "      <td>0.237481</td>\n",
       "      <td>0.173077</td>\n",
       "      <td>0.239413</td>\n",
       "      <td>...</td>\n",
       "      <td>0.207865</td>\n",
       "      <td>0.000000</td>\n",
       "      <td>0.115385</td>\n",
       "      <td>0.185185</td>\n",
       "      <td>0.0</td>\n",
       "      <td>0.000</td>\n",
       "      <td>0.000000</td>\n",
       "      <td>0.000000</td>\n",
       "      <td>0.029945</td>\n",
       "      <td>0.206349</td>\n",
       "    </tr>\n",
       "    <tr>\n",
       "      <td>4</td>\n",
       "      <td>0.0</td>\n",
       "      <td>0.062500</td>\n",
       "      <td>0.0</td>\n",
       "      <td>0.007365</td>\n",
       "      <td>0.0</td>\n",
       "      <td>0.0</td>\n",
       "      <td>0.013664</td>\n",
       "      <td>0.374984</td>\n",
       "      <td>0.291326</td>\n",
       "      <td>0.383128</td>\n",
       "      <td>...</td>\n",
       "      <td>0.000000</td>\n",
       "      <td>0.000000</td>\n",
       "      <td>0.019231</td>\n",
       "      <td>0.135802</td>\n",
       "      <td>0.0</td>\n",
       "      <td>0.125</td>\n",
       "      <td>0.024252</td>\n",
       "      <td>0.000024</td>\n",
       "      <td>0.005938</td>\n",
       "      <td>0.119048</td>\n",
       "    </tr>\n",
       "  </tbody>\n",
       "</table>\n",
       "<p>5 rows × 22 columns</p>\n",
       "</div>"
      ],
      "text/plain": [
       "   acc_now_delinq  acc_open_past_24mths  all_util  annual_inc  delinq_2yrs  \\\n",
       "0             0.0              0.000000       0.0    0.013333          0.0   \n",
       "1             0.0              0.046875       0.0    0.003889          0.0   \n",
       "2             0.0              0.062500       0.0    0.013222          0.0   \n",
       "3             0.0              0.109375       0.0    0.009111          0.0   \n",
       "4             0.0              0.062500       0.0    0.007365          0.0   \n",
       "\n",
       "   delinq_amnt       dti  funded_amnt  installment  int_rate  ...  \\\n",
       "0          0.0  0.010901     0.499987     0.372096  0.283094  ...   \n",
       "1          0.0  0.017367     0.062477     0.047364  0.349116  ...   \n",
       "2          0.0  0.016887     0.445611     0.374284  0.566522  ...   \n",
       "3          0.0  0.024715     0.237481     0.173077  0.239413  ...   \n",
       "4          0.0  0.013664     0.374984     0.291326  0.383128  ...   \n",
       "\n",
       "   mths_since_last_delinq  num_accts_ever_120_pd  num_il_tl  num_sats  \\\n",
       "0                0.000000               0.000000   0.019231  0.111111   \n",
       "1                0.297753               0.088235   0.153846  0.061728   \n",
       "2                0.134831               0.029412   0.240385  0.185185   \n",
       "3                0.207865               0.000000   0.115385  0.185185   \n",
       "4                0.000000               0.000000   0.019231  0.135802   \n",
       "\n",
       "   num_tl_120dpd_2m  pub_rec_bankruptcies  recoveries  tot_coll_amt  \\\n",
       "0               0.0                 0.000    0.000000      0.000000   \n",
       "1               0.0                 0.000    0.000000      0.000058   \n",
       "2               0.0                 0.000    0.039910      0.000015   \n",
       "3               0.0                 0.000    0.000000      0.000000   \n",
       "4               0.0                 0.125    0.024252      0.000024   \n",
       "\n",
       "   tot_cur_bal  total_acc  \n",
       "0     0.006793   0.103175  \n",
       "1     0.005937   0.142857  \n",
       "2     0.014438   0.293651  \n",
       "3     0.029945   0.206349  \n",
       "4     0.005938   0.119048  \n",
       "\n",
       "[5 rows x 22 columns]"
      ]
     },
     "execution_count": 218,
     "metadata": {},
     "output_type": "execute_result"
    }
   ],
   "source": [
    "scaler = MinMaxScaler()\n",
    "scaled_loans = scaler.fit_transform(loans_num.iloc[:,1:])\n",
    "scaled_loans = pd.DataFrame(scaled_loans, columns=['acc_now_delinq', 'acc_open_past_24mths', 'all_util', 'annual_inc',\n",
    "                                                   'delinq_2yrs','delinq_amnt','dti','funded_amnt','installment','int_rate',\n",
    "                                                   'loan_amnt','mo_sin_rcnt_tl','mths_since_last_delinq','num_accts_ever_120_pd',\n",
    "                                                   'num_il_tl','num_sats','num_tl_120dpd_2m','pub_rec_bankruptcies','recoveries',\n",
    "                                                   'tot_coll_amt','tot_cur_bal','total_acc'])\n",
    "scaled_loans.head()"
   ]
  },
  {
   "cell_type": "markdown",
   "metadata": {},
   "source": [
    "### 2.2. Treatment of the categorical dataset: Dummies"
   ]
  },
  {
   "cell_type": "markdown",
   "metadata": {},
   "source": [
    "#### Dummies"
   ]
  },
  {
   "cell_type": "code",
   "execution_count": 219,
   "metadata": {},
   "outputs": [
    {
     "data": {
      "text/plain": [
       "Index(['addr_state', 'application_type', 'desc', 'emp_length', 'grade',\n",
       "       'home_ownership', 'initial_list_status', 'term', 'title',\n",
       "       'debt_settlement_flag'],\n",
       "      dtype='object')"
      ]
     },
     "execution_count": 219,
     "metadata": {},
     "output_type": "execute_result"
    }
   ],
   "source": [
    "# categoric dummies\n",
    "loans_cat.columns"
   ]
  },
  {
   "cell_type": "markdown",
   "metadata": {},
   "source": [
    "### addr_state "
   ]
  },
  {
   "cell_type": "markdown",
   "metadata": {},
   "source": [
    "To transform this variable into dummie, since there are a lot of different values, we decide to group them. After analyzing the variable's histogram, we concluded that the best way to divide the values was into four different groups, based on how influential they were to the variable. The division was made as follows."
   ]
  },
  {
   "cell_type": "code",
   "execution_count": 220,
   "metadata": {},
   "outputs": [
    {
     "data": {
      "text/plain": [
       "<matplotlib.axes._subplots.AxesSubplot at 0x275903af308>"
      ]
     },
     "execution_count": 220,
     "metadata": {},
     "output_type": "execute_result"
    },
    {
     "data": {
      "image/png": "[encoded data removed]",
      "text/plain": [
       "<Figure size 1440x720 with 1 Axes>"
      ]
     },
     "metadata": {
      "needs_background": "light"
     },
     "output_type": "display_data"
    }
   ],
   "source": [
    "loans_cat.addr_state.hist(figsize = (20,10))"
   ]
  },
  {
   "cell_type": "code",
   "execution_count": 221,
   "metadata": {},
   "outputs": [
    {
     "data": {
      "text/plain": [
       "array(['NJ', 'TX', 'IN', 'AZ', 'CA', 'SC', 'CO', 'WY', 'AL', 'PA', 'OH',\n",
       "       'MA', 'TN', 'AK', 'NY', 'MD', 'MI', 'OK', 'MT', 'FL', 'OR', 'MN',\n",
       "       'IL', 'WA', 'MO', 'NC', 'CT', 'KS', 'UT', 'SD', 'GA', 'KY', 'HI',\n",
       "       'NM', 'VA', 'WV', 'NV', 'ND', 'WI', 'RI', 'NE', 'LA', 'AR', 'DC',\n",
       "       'DE', 'NH', 'MS', 'VT', 'ME', 'ID', 'IA'], dtype=object)"
      ]
     },
     "execution_count": 221,
     "metadata": {},
     "output_type": "execute_result"
    }
   ],
   "source": [
    "loans_cat.addr_state.unique()"
   ]
  },
  {
   "cell_type": "code",
   "execution_count": 222,
   "metadata": {},
   "outputs": [
    {
     "name": "stderr",
     "output_type": "stream",
     "text": [
      "C:\\Users\\Luli\\Documents\\Anaconda\\lib\\site-packages\\ipykernel_launcher.py:3: SettingWithCopyWarning: \n",
      "A value is trying to be set on a copy of a slice from a DataFrame.\n",
      "Try using .loc[row_indexer,col_indexer] = value instead\n",
      "\n",
      "See the caveats in the documentation: http://pandas.pydata.org/pandas-docs/stable/user_guide/indexing.html#returning-a-view-versus-a-copy\n",
      "  This is separate from the ipykernel package so we can avoid doing imports until\n"
     ]
    }
   ],
   "source": [
    "loans_cat['addr_state'] = np.where((loans_cat['addr_state'] == 'CA') | (loans_cat['addr_state'] == 'OH') | \n",
    "                                       (loans_cat['addr_state'] == 'WA') | (loans_cat['addr_state'] == 'TX') | \n",
    "                               (loans_cat['addr_state'] == 'MA'), 'first', loans_cat['addr_state'].values)"
   ]
  },
  {
   "cell_type": "code",
   "execution_count": 223,
   "metadata": {},
   "outputs": [
    {
     "name": "stderr",
     "output_type": "stream",
     "text": [
      "C:\\Users\\Luli\\Documents\\Anaconda\\lib\\site-packages\\ipykernel_launcher.py:3: SettingWithCopyWarning: \n",
      "A value is trying to be set on a copy of a slice from a DataFrame.\n",
      "Try using .loc[row_indexer,col_indexer] = value instead\n",
      "\n",
      "See the caveats in the documentation: http://pandas.pydata.org/pandas-docs/stable/user_guide/indexing.html#returning-a-view-versus-a-copy\n",
      "  This is separate from the ipykernel package so we can avoid doing imports until\n"
     ]
    }
   ],
   "source": [
    "loans_cat['addr_state'] = np.where((loans_cat['addr_state'] == 'PA') | (loans_cat['addr_state'] == 'MI') | \n",
    "                                       (loans_cat['addr_state'] == 'ID') | (loans_cat['addr_state'] == 'AZ') | \n",
    "                               (loans_cat['addr_state'] == 'NY'), 'second', loans_cat['addr_state'].values)"
   ]
  },
  {
   "cell_type": "code",
   "execution_count": 224,
   "metadata": {},
   "outputs": [
    {
     "name": "stderr",
     "output_type": "stream",
     "text": [
      "C:\\Users\\Luli\\Documents\\Anaconda\\lib\\site-packages\\ipykernel_launcher.py:8: SettingWithCopyWarning: \n",
      "A value is trying to be set on a copy of a slice from a DataFrame.\n",
      "Try using .loc[row_indexer,col_indexer] = value instead\n",
      "\n",
      "See the caveats in the documentation: http://pandas.pydata.org/pandas-docs/stable/user_guide/indexing.html#returning-a-view-versus-a-copy\n",
      "  \n"
     ]
    }
   ],
   "source": [
    "loans_cat['addr_state'] = np.where((loans_cat['addr_state'] == 'LA') | (loans_cat['addr_state'] == 'RI') | \n",
    "                                       (loans_cat['addr_state'] == 'IL') | (loans_cat['addr_state'] == 'TN') | \n",
    "                               (loans_cat['addr_state'] == 'NV') | (loans_cat['addr_state'] == 'MN') | (loans_cat['addr_state'] == 'NM')\n",
    "                                   | (loans_cat['addr_state'] == 'NJ') | (loans_cat['addr_state'] == 'CO') | (loans_cat['addr_state'] == 'VA') |\n",
    "                                   (loans_cat['addr_state'] == 'NC') | (loans_cat['addr_state'] == 'FL') | (loans_cat['addr_state'] == 'KY') |\n",
    "                                   (loans_cat['addr_state'] == 'OK') | (loans_cat['addr_state'] == 'CT') | (loans_cat['addr_state'] == 'MD') |\n",
    "                                   (loans_cat['addr_state'] == 'NH') | (loans_cat['addr_state'] == 'IN') | (loans_cat['addr_state'] == 'GA') |\n",
    "                                   (loans_cat['addr_state'] == 'AL'), 'third', loans_cat['addr_state'].values)"
   ]
  },
  {
   "cell_type": "code",
   "execution_count": 225,
   "metadata": {},
   "outputs": [
    {
     "name": "stderr",
     "output_type": "stream",
     "text": [
      "C:\\Users\\Luli\\Documents\\Anaconda\\lib\\site-packages\\ipykernel_launcher.py:11: SettingWithCopyWarning: \n",
      "A value is trying to be set on a copy of a slice from a DataFrame.\n",
      "Try using .loc[row_indexer,col_indexer] = value instead\n",
      "\n",
      "See the caveats in the documentation: http://pandas.pydata.org/pandas-docs/stable/user_guide/indexing.html#returning-a-view-versus-a-copy\n",
      "  # This is added back by InteractiveShellApp.init_path()\n"
     ]
    }
   ],
   "source": [
    "loans_cat['addr_state'] = np.where((loans_cat['addr_state'] == 'MT') | (loans_cat['addr_state'] == 'SC') | \n",
    "                                       (loans_cat['addr_state'] == 'DC') | (loans_cat['addr_state'] == 'OR') | \n",
    "                               (loans_cat['addr_state'] == 'NE') | (loans_cat['addr_state'] == 'KS') | \n",
    "                                   (loans_cat['addr_state'] == 'HI') | (loans_cat['addr_state'] == 'AK') | \n",
    "                                   (loans_cat['addr_state'] == 'VT') | (loans_cat['addr_state'] == 'MO') |\n",
    "                                   (loans_cat['addr_state'] == 'UT') | (loans_cat['addr_state'] == 'AR') | \n",
    "                                   (loans_cat['addr_state'] == 'MS') | (loans_cat['addr_state'] == 'WI') | \n",
    "                                   (loans_cat['addr_state'] == 'ND') | (loans_cat['addr_state'] == 'DE') |\n",
    "                                   (loans_cat['addr_state'] == 'WV') | (loans_cat['addr_state'] == 'ME') | \n",
    "                                   (loans_cat['addr_state'] == 'SD') | (loans_cat['addr_state'] == 'WY') |\n",
    "                                   (loans_cat['addr_state'] == 'IA'), 'fourth', loans_cat['addr_state'].values)"
   ]
  },
  {
   "cell_type": "code",
   "execution_count": 226,
   "metadata": {},
   "outputs": [
    {
     "data": {
      "text/plain": [
       "array(['third', 'first', 'second', 'fourth'], dtype=object)"
      ]
     },
     "execution_count": 226,
     "metadata": {},
     "output_type": "execute_result"
    }
   ],
   "source": [
    "loans_cat.addr_state.unique()"
   ]
  },
  {
   "cell_type": "markdown",
   "metadata": {},
   "source": [
    "### emp_length "
   ]
  },
  {
   "cell_type": "markdown",
   "metadata": {},
   "source": [
    "To make this variable into dummies but not create too many variables for our models, we decided to treat this variable like the state variable previously, dividing into groups that we classified according to the values that we considered to be more similar. The variables are divided into three groups and are made as follows:"
   ]
  },
  {
   "cell_type": "code",
   "execution_count": 227,
   "metadata": {},
   "outputs": [
    {
     "name": "stderr",
     "output_type": "stream",
     "text": [
      "C:\\Users\\Luli\\Documents\\Anaconda\\lib\\site-packages\\pandas\\core\\generic.py:6287: SettingWithCopyWarning: \n",
      "A value is trying to be set on a copy of a slice from a DataFrame\n",
      "\n",
      "See the caveats in the documentation: http://pandas.pydata.org/pandas-docs/stable/user_guide/indexing.html#returning-a-view-versus-a-copy\n",
      "  self._update_inplace(new_data)\n"
     ]
    }
   ],
   "source": [
    "loans_cat['emp_length'].fillna(0, inplace=True)"
   ]
  },
  {
   "cell_type": "code",
   "execution_count": 228,
   "metadata": {},
   "outputs": [
    {
     "data": {
      "text/plain": [
       "array(['3 years', '6 years', '7 years', '10+ years', '4 years', '9 years',\n",
       "       '1 year', '8 years', '5 years', '2 years', '< 1 year', 0],\n",
       "      dtype=object)"
      ]
     },
     "execution_count": 228,
     "metadata": {},
     "output_type": "execute_result"
    }
   ],
   "source": [
    "loans_cat.emp_length.unique()"
   ]
  },
  {
   "cell_type": "code",
   "execution_count": 229,
   "metadata": {},
   "outputs": [],
   "source": [
    "#tramificar"
   ]
  },
  {
   "cell_type": "code",
   "execution_count": 230,
   "metadata": {},
   "outputs": [
    {
     "name": "stderr",
     "output_type": "stream",
     "text": [
      "C:\\Users\\Luli\\Documents\\Anaconda\\lib\\site-packages\\ipykernel_launcher.py:3: SettingWithCopyWarning: \n",
      "A value is trying to be set on a copy of a slice from a DataFrame.\n",
      "Try using .loc[row_indexer,col_indexer] = value instead\n",
      "\n",
      "See the caveats in the documentation: http://pandas.pydata.org/pandas-docs/stable/user_guide/indexing.html#returning-a-view-versus-a-copy\n",
      "  This is separate from the ipykernel package so we can avoid doing imports until\n",
      "C:\\Users\\Luli\\Documents\\Anaconda\\lib\\site-packages\\ipykernel_launcher.py:8: SettingWithCopyWarning: \n",
      "A value is trying to be set on a copy of a slice from a DataFrame.\n",
      "Try using .loc[row_indexer,col_indexer] = value instead\n",
      "\n",
      "See the caveats in the documentation: http://pandas.pydata.org/pandas-docs/stable/user_guide/indexing.html#returning-a-view-versus-a-copy\n",
      "  \n",
      "C:\\Users\\Luli\\Documents\\Anaconda\\lib\\site-packages\\ipykernel_launcher.py:10: SettingWithCopyWarning: \n",
      "A value is trying to be set on a copy of a slice from a DataFrame.\n",
      "Try using .loc[row_indexer,col_indexer] = value instead\n",
      "\n",
      "See the caveats in the documentation: http://pandas.pydata.org/pandas-docs/stable/user_guide/indexing.html#returning-a-view-versus-a-copy\n",
      "  # Remove the CWD from sys.path while we load stuff.\n"
     ]
    }
   ],
   "source": [
    "loans_cat['emp_length'] = np.where((loans_cat['emp_length'] == '< 1 year') | (loans_cat['emp_length'] == '1 year') | \n",
    "                                       (loans_cat['emp_length'] == '2 years') | (loans_cat['emp_length'] == '3 years') | \n",
    "                               (loans_cat['emp_length'] == 0), '0-3', loans_cat['emp_length'].values)\n",
    "\n",
    "loans_cat['emp_length'] = np.where((loans_cat['emp_length'] == '4 years') | (loans_cat['emp_length'] == '5 years') | \n",
    "                                       (loans_cat['emp_length'] == '6 years') | (loans_cat['emp_length'] == '7 years') | \n",
    "                               (loans_cat['emp_length'] == '8 years') | \n",
    "                               (loans_cat['emp_length'] == '9 years'), '4-9', loans_cat['emp_length'].values)\n",
    "\n",
    "loans_cat['emp_length'] = np.where((loans_cat['emp_length'] == '10+ years'), '10+', loans_cat['emp_length'].values)"
   ]
  },
  {
   "cell_type": "code",
   "execution_count": 231,
   "metadata": {},
   "outputs": [
    {
     "data": {
      "text/plain": [
       "array(['0-3', '4-9', '10+'], dtype=object)"
      ]
     },
     "execution_count": 231,
     "metadata": {},
     "output_type": "execute_result"
    }
   ],
   "source": [
    "loans_cat.emp_length.unique()"
   ]
  },
  {
   "cell_type": "markdown",
   "metadata": {},
   "source": [
    "###  home_ownership"
   ]
  },
  {
   "cell_type": "markdown",
   "metadata": {},
   "source": [
    "The only this that we decided to treat in this variable before turning it into a dummie variable is to group \"ANY\", \"OTHER\" and the missing values into the same category, as we found that these three do not explain anything specific about the borrower; there is no additional information in any of them. "
   ]
  },
  {
   "cell_type": "code",
   "execution_count": 232,
   "metadata": {},
   "outputs": [
    {
     "data": {
      "text/plain": [
       "array(['RENT', 'MORTGAGE', 'OWN', 'ANY', 'OTHER', 'NONE'], dtype=object)"
      ]
     },
     "execution_count": 232,
     "metadata": {},
     "output_type": "execute_result"
    }
   ],
   "source": [
    "loans_cat.home_ownership.unique()"
   ]
  },
  {
   "cell_type": "code",
   "execution_count": 233,
   "metadata": {},
   "outputs": [
    {
     "name": "stderr",
     "output_type": "stream",
     "text": [
      "C:\\Users\\Luli\\Documents\\Anaconda\\lib\\site-packages\\pandas\\core\\indexing.py:205: SettingWithCopyWarning: \n",
      "A value is trying to be set on a copy of a slice from a DataFrame\n",
      "\n",
      "See the caveats in the documentation: http://pandas.pydata.org/pandas-docs/stable/user_guide/indexing.html#returning-a-view-versus-a-copy\n",
      "  self._setitem_with_indexer(indexer, value)\n",
      "C:\\Users\\Luli\\Documents\\Anaconda\\lib\\site-packages\\ipykernel_launcher.py:1: SettingWithCopyWarning: \n",
      "A value is trying to be set on a copy of a slice from a DataFrame\n",
      "\n",
      "See the caveats in the documentation: http://pandas.pydata.org/pandas-docs/stable/user_guide/indexing.html#returning-a-view-versus-a-copy\n",
      "  \"\"\"Entry point for launching an IPython kernel.\n"
     ]
    }
   ],
   "source": [
    "loans_cat.loc[loans_cat['home_ownership'] == 'ANY', 'home_ownership'] = 'OTHER'"
   ]
  },
  {
   "cell_type": "code",
   "execution_count": 234,
   "metadata": {},
   "outputs": [
    {
     "data": {
      "text/plain": [
       "array(['RENT', 'MORTGAGE', 'OWN', 'OTHER', 'NONE'], dtype=object)"
      ]
     },
     "execution_count": 234,
     "metadata": {},
     "output_type": "execute_result"
    }
   ],
   "source": [
    "loans_cat.home_ownership.unique()"
   ]
  },
  {
   "cell_type": "markdown",
   "metadata": {},
   "source": [
    "### application_type "
   ]
  },
  {
   "cell_type": "markdown",
   "metadata": {},
   "source": [
    "In the case of this variable, as explained earlier, we concluded that the applications that were made with two co-borrowers it is more likely to be paid back on our loan that with only one borrower, so we asign a 1 and a 0 to each unique value."
   ]
  },
  {
   "cell_type": "code",
   "execution_count": 235,
   "metadata": {},
   "outputs": [
    {
     "name": "stderr",
     "output_type": "stream",
     "text": [
      "C:\\Users\\Luli\\Documents\\Anaconda\\lib\\site-packages\\ipykernel_launcher.py:1: SettingWithCopyWarning: \n",
      "A value is trying to be set on a copy of a slice from a DataFrame.\n",
      "Try using .loc[row_indexer,col_indexer] = value instead\n",
      "\n",
      "See the caveats in the documentation: http://pandas.pydata.org/pandas-docs/stable/user_guide/indexing.html#returning-a-view-versus-a-copy\n",
      "  \"\"\"Entry point for launching an IPython kernel.\n",
      "C:\\Users\\Luli\\Documents\\Anaconda\\lib\\site-packages\\pandas\\core\\frame.py:3488: SettingWithCopyWarning: \n",
      "A value is trying to be set on a copy of a slice from a DataFrame\n",
      "\n",
      "See the caveats in the documentation: http://pandas.pydata.org/pandas-docs/stable/user_guide/indexing.html#returning-a-view-versus-a-copy\n",
      "  self.loc._setitem_with_indexer(indexer, value)\n",
      "C:\\Users\\Luli\\Documents\\Anaconda\\lib\\site-packages\\pandas\\core\\frame.py:3469: SettingWithCopyWarning: \n",
      "A value is trying to be set on a copy of a slice from a DataFrame\n",
      "\n",
      "See the caveats in the documentation: http://pandas.pydata.org/pandas-docs/stable/user_guide/indexing.html#returning-a-view-versus-a-copy\n",
      "  self._setitem_array(key, value)\n",
      "C:\\Users\\Luli\\Documents\\Anaconda\\lib\\site-packages\\ipykernel_launcher.py:2: SettingWithCopyWarning: \n",
      "A value is trying to be set on a copy of a slice from a DataFrame.\n",
      "Try using .loc[row_indexer,col_indexer] = value instead\n",
      "\n",
      "See the caveats in the documentation: http://pandas.pydata.org/pandas-docs/stable/user_guide/indexing.html#returning-a-view-versus-a-copy\n",
      "  \n"
     ]
    }
   ],
   "source": [
    "loans_cat[loans_cat['application_type'] == 'joint app'] = 1\n",
    "loans_cat[loans_cat['application_type'] == 'inidv'] = 0"
   ]
  },
  {
   "cell_type": "markdown",
   "metadata": {},
   "source": [
    "### initial_list_status, term, debt_settlement_flag, grade"
   ]
  },
  {
   "cell_type": "markdown",
   "metadata": {},
   "source": [
    "These three variables have no missing values, so we can just turn these into dummies directly."
   ]
  },
  {
   "cell_type": "code",
   "execution_count": 236,
   "metadata": {},
   "outputs": [
    {
     "data": {
      "text/plain": [
       "array(['w', 'f'], dtype=object)"
      ]
     },
     "execution_count": 236,
     "metadata": {},
     "output_type": "execute_result"
    }
   ],
   "source": [
    "loans_cat.initial_list_status.unique()"
   ]
  },
  {
   "cell_type": "code",
   "execution_count": 237,
   "metadata": {},
   "outputs": [
    {
     "data": {
      "text/plain": [
       "array([' 36 months', ' 60 months'], dtype=object)"
      ]
     },
     "execution_count": 237,
     "metadata": {},
     "output_type": "execute_result"
    }
   ],
   "source": [
    "loans_cat.term.unique()"
   ]
  },
  {
   "cell_type": "code",
   "execution_count": 238,
   "metadata": {},
   "outputs": [
    {
     "data": {
      "text/plain": [
       "array(['N', 'Y'], dtype=object)"
      ]
     },
     "execution_count": 238,
     "metadata": {},
     "output_type": "execute_result"
    }
   ],
   "source": [
    "loans_cat.debt_settlement_flag.unique()"
   ]
  },
  {
   "cell_type": "code",
   "execution_count": 239,
   "metadata": {},
   "outputs": [
    {
     "data": {
      "text/plain": [
       "array(['B', 'D', 'C', 'A', 'E', 'G', 'F'], dtype=object)"
      ]
     },
     "execution_count": 239,
     "metadata": {},
     "output_type": "execute_result"
    }
   ],
   "source": [
    "loans_cat.grade.unique()"
   ]
  },
  {
   "cell_type": "markdown",
   "metadata": {},
   "source": [
    "### title "
   ]
  },
  {
   "cell_type": "markdown",
   "metadata": {},
   "source": [
    "The only values that we considered as relevant in this variable were \"Debt consolidation\" and \"Credit card refinancing\", as they are the only reaosns out of all offered in the variable which are related to a difficulty in payment or higher chances of delinquency. We decided to fill all the cases where these values were recored with a 1 and the rest with 0. "
   ]
  },
  {
   "cell_type": "code",
   "execution_count": 240,
   "metadata": {},
   "outputs": [
    {
     "data": {
      "text/plain": [
       "array(['Credit card refinancing', 'Debt consolidation',\n",
       "       'Home improvement', ..., 'Debt gone', 'Arceo Family',\n",
       "       'Credit Cards Payoff Loan'], dtype=object)"
      ]
     },
     "execution_count": 240,
     "metadata": {},
     "output_type": "execute_result"
    }
   ],
   "source": [
    "loans_cat.title.unique()"
   ]
  },
  {
   "cell_type": "code",
   "execution_count": 241,
   "metadata": {},
   "outputs": [],
   "source": [
    "loans_cat['title'].fillna(1, inplace=True)"
   ]
  },
  {
   "cell_type": "code",
   "execution_count": 242,
   "metadata": {},
   "outputs": [
    {
     "name": "stderr",
     "output_type": "stream",
     "text": [
      "C:\\Users\\Luli\\Documents\\Anaconda\\lib\\site-packages\\ipykernel_launcher.py:1: SettingWithCopyWarning: \n",
      "A value is trying to be set on a copy of a slice from a DataFrame\n",
      "\n",
      "See the caveats in the documentation: http://pandas.pydata.org/pandas-docs/stable/user_guide/indexing.html#returning-a-view-versus-a-copy\n",
      "  \"\"\"Entry point for launching an IPython kernel.\n"
     ]
    }
   ],
   "source": [
    "loans_cat.loc[loans_cat['title'] == 'Debt consolidation', 'title'] = 1"
   ]
  },
  {
   "cell_type": "code",
   "execution_count": 243,
   "metadata": {},
   "outputs": [
    {
     "name": "stderr",
     "output_type": "stream",
     "text": [
      "C:\\Users\\Luli\\Documents\\Anaconda\\lib\\site-packages\\ipykernel_launcher.py:1: SettingWithCopyWarning: \n",
      "A value is trying to be set on a copy of a slice from a DataFrame\n",
      "\n",
      "See the caveats in the documentation: http://pandas.pydata.org/pandas-docs/stable/user_guide/indexing.html#returning-a-view-versus-a-copy\n",
      "  \"\"\"Entry point for launching an IPython kernel.\n"
     ]
    }
   ],
   "source": [
    "loans_cat.loc[loans_cat['title'] == 'Credit card refinancing', 'title'] = 1"
   ]
  },
  {
   "cell_type": "code",
   "execution_count": 244,
   "metadata": {},
   "outputs": [
    {
     "name": "stderr",
     "output_type": "stream",
     "text": [
      "C:\\Users\\Luli\\Documents\\Anaconda\\lib\\site-packages\\ipykernel_launcher.py:1: SettingWithCopyWarning: \n",
      "A value is trying to be set on a copy of a slice from a DataFrame.\n",
      "Try using .loc[row_indexer,col_indexer] = value instead\n",
      "\n",
      "See the caveats in the documentation: http://pandas.pydata.org/pandas-docs/stable/user_guide/indexing.html#returning-a-view-versus-a-copy\n",
      "  \"\"\"Entry point for launching an IPython kernel.\n"
     ]
    }
   ],
   "source": [
    "loans_cat['title'] = (loans_cat['title'] == 1).astype(int)"
   ]
  },
  {
   "cell_type": "code",
   "execution_count": 245,
   "metadata": {},
   "outputs": [
    {
     "data": {
      "text/plain": [
       "array([1, 0], dtype=int64)"
      ]
     },
     "execution_count": 245,
     "metadata": {},
     "output_type": "execute_result"
    }
   ],
   "source": [
    "loans_cat.title.unique()"
   ]
  },
  {
   "cell_type": "markdown",
   "metadata": {},
   "source": [
    "### desc "
   ]
  },
  {
   "cell_type": "markdown",
   "metadata": {},
   "source": [
    "As explained in the beginning, we associated the lack of information in this variable to lack of intention from the borrower to let the bank know any additional information on their reasons for taking out a loan. This is a characteristic that could be due to privacy reasons or higher probability of delinquency. Due to this, we decided to fill all the missing values with a 1 and the cases in which information was given with 0. "
   ]
  },
  {
   "cell_type": "code",
   "execution_count": 246,
   "metadata": {
    "scrolled": true
   },
   "outputs": [],
   "source": [
    "loans_cat['desc'].fillna(1, inplace=True)"
   ]
  },
  {
   "cell_type": "code",
   "execution_count": 247,
   "metadata": {},
   "outputs": [
    {
     "name": "stderr",
     "output_type": "stream",
     "text": [
      "C:\\Users\\Luli\\Documents\\Anaconda\\lib\\site-packages\\ipykernel_launcher.py:1: SettingWithCopyWarning: \n",
      "A value is trying to be set on a copy of a slice from a DataFrame.\n",
      "Try using .loc[row_indexer,col_indexer] = value instead\n",
      "\n",
      "See the caveats in the documentation: http://pandas.pydata.org/pandas-docs/stable/user_guide/indexing.html#returning-a-view-versus-a-copy\n",
      "  \"\"\"Entry point for launching an IPython kernel.\n"
     ]
    }
   ],
   "source": [
    "loans_cat['desc'] = (loans_cat['desc'] == 1).astype(int) "
   ]
  },
  {
   "cell_type": "code",
   "execution_count": 248,
   "metadata": {},
   "outputs": [
    {
     "data": {
      "text/plain": [
       "array([1, 0], dtype=int64)"
      ]
     },
     "execution_count": 248,
     "metadata": {},
     "output_type": "execute_result"
    }
   ],
   "source": [
    "# check\n",
    "loans_cat.desc.unique()"
   ]
  },
  {
   "cell_type": "markdown",
   "metadata": {},
   "source": [
    "After treating all the categorical variables, we decide to check if there are any leftover missing values that we might have missed in the variables before executing the function to turn them into dummies. "
   ]
  },
  {
   "cell_type": "code",
   "execution_count": 249,
   "metadata": {},
   "outputs": [
    {
     "data": {
      "text/plain": [
       "addr_state              0\n",
       "application_type        0\n",
       "desc                    0\n",
       "emp_length              0\n",
       "grade                   0\n",
       "home_ownership          0\n",
       "initial_list_status     0\n",
       "term                    0\n",
       "title                   0\n",
       "debt_settlement_flag    0\n",
       "dtype: int64"
      ]
     },
     "execution_count": 249,
     "metadata": {},
     "output_type": "execute_result"
    }
   ],
   "source": [
    "loans_cat.isna().sum()"
   ]
  },
  {
   "cell_type": "markdown",
   "metadata": {},
   "source": [
    "We delete the next variable because we do not obtain this information until the loan is accepted, and there is no way for us to know this information before deciding to grant these loans. Up next we turn our variables into dummies."
   ]
  },
  {
   "cell_type": "code",
   "execution_count": 250,
   "metadata": {},
   "outputs": [],
   "source": [
    "del loans_cat['debt_settlement_flag']"
   ]
  },
  {
   "cell_type": "code",
   "execution_count": 251,
   "metadata": {},
   "outputs": [],
   "source": [
    "dummies = pd.get_dummies(loans_cat)"
   ]
  },
  {
   "cell_type": "code",
   "execution_count": 252,
   "metadata": {},
   "outputs": [
    {
     "data": {
      "text/html": [
       "<div>\n",
       "<style scoped>\n",
       "    .dataframe tbody tr th:only-of-type {\n",
       "        vertical-align: middle;\n",
       "    }\n",
       "\n",
       "    .dataframe tbody tr th {\n",
       "        vertical-align: top;\n",
       "    }\n",
       "\n",
       "    .dataframe thead th {\n",
       "        text-align: right;\n",
       "    }\n",
       "</style>\n",
       "<table border=\"1\" class=\"dataframe\">\n",
       "  <thead>\n",
       "    <tr style=\"text-align: right;\">\n",
       "      <th></th>\n",
       "      <th>desc</th>\n",
       "      <th>title</th>\n",
       "      <th>addr_state_first</th>\n",
       "      <th>addr_state_fourth</th>\n",
       "      <th>addr_state_second</th>\n",
       "      <th>addr_state_third</th>\n",
       "      <th>application_type_Individual</th>\n",
       "      <th>application_type_Joint App</th>\n",
       "      <th>emp_length_0-3</th>\n",
       "      <th>emp_length_10+</th>\n",
       "      <th>...</th>\n",
       "      <th>grade_G</th>\n",
       "      <th>home_ownership_MORTGAGE</th>\n",
       "      <th>home_ownership_NONE</th>\n",
       "      <th>home_ownership_OTHER</th>\n",
       "      <th>home_ownership_OWN</th>\n",
       "      <th>home_ownership_RENT</th>\n",
       "      <th>initial_list_status_f</th>\n",
       "      <th>initial_list_status_w</th>\n",
       "      <th>term_ 36 months</th>\n",
       "      <th>term_ 60 months</th>\n",
       "    </tr>\n",
       "  </thead>\n",
       "  <tbody>\n",
       "    <tr>\n",
       "      <td>0</td>\n",
       "      <td>1</td>\n",
       "      <td>1</td>\n",
       "      <td>0</td>\n",
       "      <td>0</td>\n",
       "      <td>0</td>\n",
       "      <td>1</td>\n",
       "      <td>1</td>\n",
       "      <td>0</td>\n",
       "      <td>1</td>\n",
       "      <td>0</td>\n",
       "      <td>...</td>\n",
       "      <td>0</td>\n",
       "      <td>0</td>\n",
       "      <td>0</td>\n",
       "      <td>0</td>\n",
       "      <td>0</td>\n",
       "      <td>1</td>\n",
       "      <td>0</td>\n",
       "      <td>1</td>\n",
       "      <td>1</td>\n",
       "      <td>0</td>\n",
       "    </tr>\n",
       "    <tr>\n",
       "      <td>1</td>\n",
       "      <td>1</td>\n",
       "      <td>1</td>\n",
       "      <td>1</td>\n",
       "      <td>0</td>\n",
       "      <td>0</td>\n",
       "      <td>0</td>\n",
       "      <td>1</td>\n",
       "      <td>0</td>\n",
       "      <td>0</td>\n",
       "      <td>0</td>\n",
       "      <td>...</td>\n",
       "      <td>0</td>\n",
       "      <td>0</td>\n",
       "      <td>0</td>\n",
       "      <td>0</td>\n",
       "      <td>0</td>\n",
       "      <td>1</td>\n",
       "      <td>0</td>\n",
       "      <td>1</td>\n",
       "      <td>1</td>\n",
       "      <td>0</td>\n",
       "    </tr>\n",
       "    <tr>\n",
       "      <td>2</td>\n",
       "      <td>1</td>\n",
       "      <td>1</td>\n",
       "      <td>0</td>\n",
       "      <td>0</td>\n",
       "      <td>0</td>\n",
       "      <td>1</td>\n",
       "      <td>1</td>\n",
       "      <td>0</td>\n",
       "      <td>1</td>\n",
       "      <td>0</td>\n",
       "      <td>...</td>\n",
       "      <td>0</td>\n",
       "      <td>0</td>\n",
       "      <td>0</td>\n",
       "      <td>0</td>\n",
       "      <td>0</td>\n",
       "      <td>1</td>\n",
       "      <td>1</td>\n",
       "      <td>0</td>\n",
       "      <td>1</td>\n",
       "      <td>0</td>\n",
       "    </tr>\n",
       "    <tr>\n",
       "      <td>3</td>\n",
       "      <td>1</td>\n",
       "      <td>1</td>\n",
       "      <td>0</td>\n",
       "      <td>0</td>\n",
       "      <td>1</td>\n",
       "      <td>0</td>\n",
       "      <td>1</td>\n",
       "      <td>0</td>\n",
       "      <td>0</td>\n",
       "      <td>0</td>\n",
       "      <td>...</td>\n",
       "      <td>0</td>\n",
       "      <td>1</td>\n",
       "      <td>0</td>\n",
       "      <td>0</td>\n",
       "      <td>0</td>\n",
       "      <td>0</td>\n",
       "      <td>0</td>\n",
       "      <td>1</td>\n",
       "      <td>1</td>\n",
       "      <td>0</td>\n",
       "    </tr>\n",
       "    <tr>\n",
       "      <td>4</td>\n",
       "      <td>1</td>\n",
       "      <td>1</td>\n",
       "      <td>1</td>\n",
       "      <td>0</td>\n",
       "      <td>0</td>\n",
       "      <td>0</td>\n",
       "      <td>1</td>\n",
       "      <td>0</td>\n",
       "      <td>0</td>\n",
       "      <td>1</td>\n",
       "      <td>...</td>\n",
       "      <td>0</td>\n",
       "      <td>0</td>\n",
       "      <td>0</td>\n",
       "      <td>0</td>\n",
       "      <td>0</td>\n",
       "      <td>1</td>\n",
       "      <td>1</td>\n",
       "      <td>0</td>\n",
       "      <td>1</td>\n",
       "      <td>0</td>\n",
       "    </tr>\n",
       "  </tbody>\n",
       "</table>\n",
       "<p>5 rows × 27 columns</p>\n",
       "</div>"
      ],
      "text/plain": [
       "   desc  title  addr_state_first  addr_state_fourth  addr_state_second  \\\n",
       "0     1      1                 0                  0                  0   \n",
       "1     1      1                 1                  0                  0   \n",
       "2     1      1                 0                  0                  0   \n",
       "3     1      1                 0                  0                  1   \n",
       "4     1      1                 1                  0                  0   \n",
       "\n",
       "   addr_state_third  application_type_Individual  application_type_Joint App  \\\n",
       "0                 1                            1                           0   \n",
       "1                 0                            1                           0   \n",
       "2                 1                            1                           0   \n",
       "3                 0                            1                           0   \n",
       "4                 0                            1                           0   \n",
       "\n",
       "   emp_length_0-3  emp_length_10+  ...  grade_G  home_ownership_MORTGAGE  \\\n",
       "0               1               0  ...        0                        0   \n",
       "1               0               0  ...        0                        0   \n",
       "2               1               0  ...        0                        0   \n",
       "3               0               0  ...        0                        1   \n",
       "4               0               1  ...        0                        0   \n",
       "\n",
       "   home_ownership_NONE  home_ownership_OTHER  home_ownership_OWN  \\\n",
       "0                    0                     0                   0   \n",
       "1                    0                     0                   0   \n",
       "2                    0                     0                   0   \n",
       "3                    0                     0                   0   \n",
       "4                    0                     0                   0   \n",
       "\n",
       "   home_ownership_RENT  initial_list_status_f  initial_list_status_w  \\\n",
       "0                    1                      0                      1   \n",
       "1                    1                      0                      1   \n",
       "2                    1                      1                      0   \n",
       "3                    0                      0                      1   \n",
       "4                    1                      1                      0   \n",
       "\n",
       "   term_ 36 months  term_ 60 months  \n",
       "0                1                0  \n",
       "1                1                0  \n",
       "2                1                0  \n",
       "3                1                0  \n",
       "4                1                0  \n",
       "\n",
       "[5 rows x 27 columns]"
      ]
     },
     "execution_count": 252,
     "metadata": {},
     "output_type": "execute_result"
    }
   ],
   "source": [
    "dummies.head()"
   ]
  },
  {
   "cell_type": "code",
   "execution_count": 253,
   "metadata": {},
   "outputs": [
    {
     "data": {
      "text/plain": [
       "desc                           0\n",
       "title                          0\n",
       "addr_state_first               0\n",
       "addr_state_fourth              0\n",
       "addr_state_second              0\n",
       "addr_state_third               0\n",
       "application_type_Individual    0\n",
       "application_type_Joint App     0\n",
       "emp_length_0-3                 0\n",
       "emp_length_10+                 0\n",
       "emp_length_4-9                 0\n",
       "grade_A                        0\n",
       "grade_B                        0\n",
       "grade_C                        0\n",
       "grade_D                        0\n",
       "grade_E                        0\n",
       "grade_F                        0\n",
       "grade_G                        0\n",
       "home_ownership_MORTGAGE        0\n",
       "home_ownership_NONE            0\n",
       "home_ownership_OTHER           0\n",
       "home_ownership_OWN             0\n",
       "home_ownership_RENT            0\n",
       "initial_list_status_f          0\n",
       "initial_list_status_w          0\n",
       "term_ 36 months                0\n",
       "term_ 60 months                0\n",
       "dtype: int64"
      ]
     },
     "execution_count": 253,
     "metadata": {},
     "output_type": "execute_result"
    }
   ],
   "source": [
    "# we check once more to see if there are any missing values in our dummy variables\n",
    "dummies.isna().sum()"
   ]
  },
  {
   "cell_type": "markdown",
   "metadata": {},
   "source": [
    "#### Last steps"
   ]
  },
  {
   "cell_type": "markdown",
   "metadata": {},
   "source": [
    "Before treating the outlier values in our variables, we have to combine the scaled numerical and dummy categorical datasets in to a single dataframe which we will be using from now on."
   ]
  },
  {
   "cell_type": "code",
   "execution_count": 254,
   "metadata": {},
   "outputs": [],
   "source": [
    "# combine dummies and scaled numeric data\n",
    "loan_final = pd.concat([scaled_loans, dummies], axis = 1)"
   ]
  },
  {
   "cell_type": "code",
   "execution_count": 255,
   "metadata": {},
   "outputs": [
    {
     "data": {
      "text/html": [
       "<div>\n",
       "<style scoped>\n",
       "    .dataframe tbody tr th:only-of-type {\n",
       "        vertical-align: middle;\n",
       "    }\n",
       "\n",
       "    .dataframe tbody tr th {\n",
       "        vertical-align: top;\n",
       "    }\n",
       "\n",
       "    .dataframe thead th {\n",
       "        text-align: right;\n",
       "    }\n",
       "</style>\n",
       "<table border=\"1\" class=\"dataframe\">\n",
       "  <thead>\n",
       "    <tr style=\"text-align: right;\">\n",
       "      <th></th>\n",
       "      <th>acc_now_delinq</th>\n",
       "      <th>acc_open_past_24mths</th>\n",
       "      <th>all_util</th>\n",
       "      <th>annual_inc</th>\n",
       "      <th>delinq_2yrs</th>\n",
       "      <th>delinq_amnt</th>\n",
       "      <th>dti</th>\n",
       "      <th>funded_amnt</th>\n",
       "      <th>installment</th>\n",
       "      <th>int_rate</th>\n",
       "      <th>...</th>\n",
       "      <th>grade_G</th>\n",
       "      <th>home_ownership_MORTGAGE</th>\n",
       "      <th>home_ownership_NONE</th>\n",
       "      <th>home_ownership_OTHER</th>\n",
       "      <th>home_ownership_OWN</th>\n",
       "      <th>home_ownership_RENT</th>\n",
       "      <th>initial_list_status_f</th>\n",
       "      <th>initial_list_status_w</th>\n",
       "      <th>term_ 36 months</th>\n",
       "      <th>term_ 60 months</th>\n",
       "    </tr>\n",
       "  </thead>\n",
       "  <tbody>\n",
       "    <tr>\n",
       "      <td>0</td>\n",
       "      <td>0.0</td>\n",
       "      <td>0.000000</td>\n",
       "      <td>0.0</td>\n",
       "      <td>0.013333</td>\n",
       "      <td>0.0</td>\n",
       "      <td>0.0</td>\n",
       "      <td>0.010901</td>\n",
       "      <td>0.499987</td>\n",
       "      <td>0.372096</td>\n",
       "      <td>0.283094</td>\n",
       "      <td>...</td>\n",
       "      <td>0</td>\n",
       "      <td>0</td>\n",
       "      <td>0</td>\n",
       "      <td>0</td>\n",
       "      <td>0</td>\n",
       "      <td>1</td>\n",
       "      <td>0</td>\n",
       "      <td>1</td>\n",
       "      <td>1</td>\n",
       "      <td>0</td>\n",
       "    </tr>\n",
       "    <tr>\n",
       "      <td>1</td>\n",
       "      <td>0.0</td>\n",
       "      <td>0.046875</td>\n",
       "      <td>0.0</td>\n",
       "      <td>0.003889</td>\n",
       "      <td>0.0</td>\n",
       "      <td>0.0</td>\n",
       "      <td>0.017367</td>\n",
       "      <td>0.062477</td>\n",
       "      <td>0.047364</td>\n",
       "      <td>0.349116</td>\n",
       "      <td>...</td>\n",
       "      <td>0</td>\n",
       "      <td>0</td>\n",
       "      <td>0</td>\n",
       "      <td>0</td>\n",
       "      <td>0</td>\n",
       "      <td>1</td>\n",
       "      <td>0</td>\n",
       "      <td>1</td>\n",
       "      <td>1</td>\n",
       "      <td>0</td>\n",
       "    </tr>\n",
       "    <tr>\n",
       "      <td>2</td>\n",
       "      <td>0.0</td>\n",
       "      <td>0.062500</td>\n",
       "      <td>0.0</td>\n",
       "      <td>0.013222</td>\n",
       "      <td>0.0</td>\n",
       "      <td>0.0</td>\n",
       "      <td>0.016887</td>\n",
       "      <td>0.445611</td>\n",
       "      <td>0.374284</td>\n",
       "      <td>0.566522</td>\n",
       "      <td>...</td>\n",
       "      <td>0</td>\n",
       "      <td>0</td>\n",
       "      <td>0</td>\n",
       "      <td>0</td>\n",
       "      <td>0</td>\n",
       "      <td>1</td>\n",
       "      <td>1</td>\n",
       "      <td>0</td>\n",
       "      <td>1</td>\n",
       "      <td>0</td>\n",
       "    </tr>\n",
       "    <tr>\n",
       "      <td>3</td>\n",
       "      <td>0.0</td>\n",
       "      <td>0.109375</td>\n",
       "      <td>0.0</td>\n",
       "      <td>0.009111</td>\n",
       "      <td>0.0</td>\n",
       "      <td>0.0</td>\n",
       "      <td>0.024715</td>\n",
       "      <td>0.237481</td>\n",
       "      <td>0.173077</td>\n",
       "      <td>0.239413</td>\n",
       "      <td>...</td>\n",
       "      <td>0</td>\n",
       "      <td>1</td>\n",
       "      <td>0</td>\n",
       "      <td>0</td>\n",
       "      <td>0</td>\n",
       "      <td>0</td>\n",
       "      <td>0</td>\n",
       "      <td>1</td>\n",
       "      <td>1</td>\n",
       "      <td>0</td>\n",
       "    </tr>\n",
       "    <tr>\n",
       "      <td>4</td>\n",
       "      <td>0.0</td>\n",
       "      <td>0.062500</td>\n",
       "      <td>0.0</td>\n",
       "      <td>0.007365</td>\n",
       "      <td>0.0</td>\n",
       "      <td>0.0</td>\n",
       "      <td>0.013664</td>\n",
       "      <td>0.374984</td>\n",
       "      <td>0.291326</td>\n",
       "      <td>0.383128</td>\n",
       "      <td>...</td>\n",
       "      <td>0</td>\n",
       "      <td>0</td>\n",
       "      <td>0</td>\n",
       "      <td>0</td>\n",
       "      <td>0</td>\n",
       "      <td>1</td>\n",
       "      <td>1</td>\n",
       "      <td>0</td>\n",
       "      <td>1</td>\n",
       "      <td>0</td>\n",
       "    </tr>\n",
       "  </tbody>\n",
       "</table>\n",
       "<p>5 rows × 49 columns</p>\n",
       "</div>"
      ],
      "text/plain": [
       "   acc_now_delinq  acc_open_past_24mths  all_util  annual_inc  delinq_2yrs  \\\n",
       "0             0.0              0.000000       0.0    0.013333          0.0   \n",
       "1             0.0              0.046875       0.0    0.003889          0.0   \n",
       "2             0.0              0.062500       0.0    0.013222          0.0   \n",
       "3             0.0              0.109375       0.0    0.009111          0.0   \n",
       "4             0.0              0.062500       0.0    0.007365          0.0   \n",
       "\n",
       "   delinq_amnt       dti  funded_amnt  installment  int_rate  ...  grade_G  \\\n",
       "0          0.0  0.010901     0.499987     0.372096  0.283094  ...        0   \n",
       "1          0.0  0.017367     0.062477     0.047364  0.349116  ...        0   \n",
       "2          0.0  0.016887     0.445611     0.374284  0.566522  ...        0   \n",
       "3          0.0  0.024715     0.237481     0.173077  0.239413  ...        0   \n",
       "4          0.0  0.013664     0.374984     0.291326  0.383128  ...        0   \n",
       "\n",
       "   home_ownership_MORTGAGE  home_ownership_NONE  home_ownership_OTHER  \\\n",
       "0                        0                    0                     0   \n",
       "1                        0                    0                     0   \n",
       "2                        0                    0                     0   \n",
       "3                        1                    0                     0   \n",
       "4                        0                    0                     0   \n",
       "\n",
       "   home_ownership_OWN  home_ownership_RENT  initial_list_status_f  \\\n",
       "0                   0                    1                      0   \n",
       "1                   0                    1                      0   \n",
       "2                   0                    1                      1   \n",
       "3                   0                    0                      0   \n",
       "4                   0                    1                      1   \n",
       "\n",
       "   initial_list_status_w  term_ 36 months  term_ 60 months  \n",
       "0                      1                1                0  \n",
       "1                      1                1                0  \n",
       "2                      0                1                0  \n",
       "3                      1                1                0  \n",
       "4                      0                1                0  \n",
       "\n",
       "[5 rows x 49 columns]"
      ]
     },
     "execution_count": 255,
     "metadata": {},
     "output_type": "execute_result"
    }
   ],
   "source": [
    "loan_final.head()"
   ]
  },
  {
   "cell_type": "code",
   "execution_count": 256,
   "metadata": {},
   "outputs": [],
   "source": [
    "loan_final['default'] = loans_num['default']"
   ]
  },
  {
   "cell_type": "markdown",
   "metadata": {},
   "source": [
    "#### Deleting the remaining missing values"
   ]
  },
  {
   "cell_type": "markdown",
   "metadata": {},
   "source": [
    "In this last step before studying the ooutliers, we delete the remaining NAs from our dataset which we decide dthat would be deleted because there was a small amount of them. "
   ]
  },
  {
   "cell_type": "code",
   "execution_count": 257,
   "metadata": {},
   "outputs": [
    {
     "data": {
      "text/plain": [
       "acc_now_delinq                     0\n",
       "acc_open_past_24mths           12401\n",
       "all_util                           0\n",
       "annual_inc                         0\n",
       "delinq_2yrs                        0\n",
       "delinq_amnt                        0\n",
       "dti                               85\n",
       "funded_amnt                        0\n",
       "installment                        0\n",
       "int_rate                           0\n",
       "loan_amnt                          0\n",
       "mo_sin_rcnt_tl                     0\n",
       "mths_since_last_delinq             0\n",
       "num_accts_ever_120_pd              0\n",
       "num_il_tl                          0\n",
       "num_sats                           0\n",
       "num_tl_120dpd_2m                   0\n",
       "pub_rec_bankruptcies             342\n",
       "recoveries                         0\n",
       "tot_coll_amt                       0\n",
       "tot_cur_bal                        0\n",
       "total_acc                          0\n",
       "desc                               0\n",
       "title                              0\n",
       "addr_state_first                   0\n",
       "addr_state_fourth                  0\n",
       "addr_state_second                  0\n",
       "addr_state_third                   0\n",
       "application_type_Individual        0\n",
       "application_type_Joint App         0\n",
       "emp_length_0-3                     0\n",
       "emp_length_10+                     0\n",
       "emp_length_4-9                     0\n",
       "grade_A                            0\n",
       "grade_B                            0\n",
       "grade_C                            0\n",
       "grade_D                            0\n",
       "grade_E                            0\n",
       "grade_F                            0\n",
       "grade_G                            0\n",
       "home_ownership_MORTGAGE            0\n",
       "home_ownership_NONE                0\n",
       "home_ownership_OTHER               0\n",
       "home_ownership_OWN                 0\n",
       "home_ownership_RENT                0\n",
       "initial_list_status_f              0\n",
       "initial_list_status_w              0\n",
       "term_ 36 months                    0\n",
       "term_ 60 months                    0\n",
       "default                            0\n",
       "dtype: int64"
      ]
     },
     "execution_count": 257,
     "metadata": {},
     "output_type": "execute_result"
    }
   ],
   "source": [
    "loan_final.isna().sum()"
   ]
  },
  {
   "cell_type": "markdown",
   "metadata": {},
   "source": [
    "The variables that we will remove the missing values from are:\n",
    "- dti\n",
    "- acc_open_past_24mths\n",
    "- pub_rec_bankruptcies"
   ]
  },
  {
   "cell_type": "code",
   "execution_count": 258,
   "metadata": {},
   "outputs": [],
   "source": [
    "loan_final.dti = loan_final.dti.isna()\n",
    "loan_final.acc_open_past_24mths = loan_final.acc_open_past_24mths.isna()\n",
    "loan_final.pub_rec_bankruptcies = loan_final.pub_rec_bankruptcies.isna()"
   ]
  },
  {
   "cell_type": "markdown",
   "metadata": {},
   "source": [
    "## 3. Lasso model (variable importance)"
   ]
  },
  {
   "cell_type": "code",
   "execution_count": 259,
   "metadata": {},
   "outputs": [],
   "source": [
    "relevants = ['delinq_2yrs',\n",
    " 'all_util',\n",
    " 'installment',\n",
    " 'int_rate',\n",
    " 'application_type_Joint App',\n",
    " 'pub_rec_bankruptcies',\n",
    " 'term_ 36 months',\n",
    " 'total_acc',\n",
    " 'num_sats',\n",
    " 'num_tl_120dpd_2m',\n",
    " 'funded_amnt',\n",
    " 'delinq_amnt',\n",
    " 'recoveries',\n",
    " 'mo_sin_rcnt_tl',\n",
    " 'tot_cur_bal']"
   ]
  },
  {
   "cell_type": "code",
   "execution_count": 260,
   "metadata": {},
   "outputs": [],
   "source": [
    "data_lasso_test = loan_final.loc[:, ['total_acc',\n",
    " 'int_rate',\n",
    " 'tot_cur_bal',\n",
    " 'mo_sin_rcnt_tl',\n",
    " 'installment',\n",
    " 'num_sats',\n",
    " 'num_tl_120dpd_2m',\n",
    " 'pub_rec_bankruptcies',\n",
    " 'all_util',\n",
    " 'term_ 60 months',\n",
    " 'delinq_2yrs',\n",
    " 'recoveries',\n",
    " 'application_type_Individual',\n",
    " 'funded_amnt',\n",
    " 'delinq_amnt']]"
   ]
  },
  {
   "cell_type": "markdown",
   "metadata": {},
   "source": [
    "Last of all, we introduce the dependent variable in the final dataset, create the new exogenous and endogenous variables and start executing the models with that."
   ]
  },
  {
   "cell_type": "code",
   "execution_count": 261,
   "metadata": {},
   "outputs": [],
   "source": [
    "data_lasso_test['default'] = loan_final['default']"
   ]
  },
  {
   "cell_type": "code",
   "execution_count": 262,
   "metadata": {},
   "outputs": [
    {
     "data": {
      "text/html": [
       "<div>\n",
       "<style scoped>\n",
       "    .dataframe tbody tr th:only-of-type {\n",
       "        vertical-align: middle;\n",
       "    }\n",
       "\n",
       "    .dataframe tbody tr th {\n",
       "        vertical-align: top;\n",
       "    }\n",
       "\n",
       "    .dataframe thead th {\n",
       "        text-align: right;\n",
       "    }\n",
       "</style>\n",
       "<table border=\"1\" class=\"dataframe\">\n",
       "  <thead>\n",
       "    <tr style=\"text-align: right;\">\n",
       "      <th></th>\n",
       "      <th>total_acc</th>\n",
       "      <th>int_rate</th>\n",
       "      <th>tot_cur_bal</th>\n",
       "      <th>mo_sin_rcnt_tl</th>\n",
       "      <th>installment</th>\n",
       "      <th>num_sats</th>\n",
       "      <th>num_tl_120dpd_2m</th>\n",
       "      <th>all_util</th>\n",
       "      <th>term_ 60 months</th>\n",
       "      <th>delinq_2yrs</th>\n",
       "      <th>recoveries</th>\n",
       "      <th>application_type_Individual</th>\n",
       "      <th>funded_amnt</th>\n",
       "      <th>delinq_amnt</th>\n",
       "      <th>default</th>\n",
       "    </tr>\n",
       "  </thead>\n",
       "  <tbody>\n",
       "    <tr>\n",
       "      <td>count</td>\n",
       "      <td>332020.000000</td>\n",
       "      <td>332020.000000</td>\n",
       "      <td>332020.000000</td>\n",
       "      <td>332020.000000</td>\n",
       "      <td>332020.000000</td>\n",
       "      <td>332020.000000</td>\n",
       "      <td>332020.000000</td>\n",
       "      <td>332020.000000</td>\n",
       "      <td>332020.000000</td>\n",
       "      <td>332020.000000</td>\n",
       "      <td>332020.000000</td>\n",
       "      <td>332020.000000</td>\n",
       "      <td>332020.000000</td>\n",
       "      <td>332020.000000</td>\n",
       "      <td>332020.000000</td>\n",
       "    </tr>\n",
       "    <tr>\n",
       "      <td>mean</td>\n",
       "      <td>0.188252</td>\n",
       "      <td>0.406127</td>\n",
       "      <td>0.029575</td>\n",
       "      <td>0.024710</td>\n",
       "      <td>0.252427</td>\n",
       "      <td>0.137195</td>\n",
       "      <td>0.046029</td>\n",
       "      <td>0.009081</td>\n",
       "      <td>0.245425</td>\n",
       "      <td>0.010894</td>\n",
       "      <td>0.005788</td>\n",
       "      <td>0.980766</td>\n",
       "      <td>0.357990</td>\n",
       "      <td>0.008638</td>\n",
       "      <td>0.221932</td>\n",
       "    </tr>\n",
       "    <tr>\n",
       "      <td>std</td>\n",
       "      <td>0.096241</td>\n",
       "      <td>0.162897</td>\n",
       "      <td>0.034740</td>\n",
       "      <td>0.026807</td>\n",
       "      <td>0.153100</td>\n",
       "      <td>0.070500</td>\n",
       "      <td>0.174827</td>\n",
       "      <td>0.094860</td>\n",
       "      <td>0.430340</td>\n",
       "      <td>0.030005</td>\n",
       "      <td>0.023577</td>\n",
       "      <td>0.137346</td>\n",
       "      <td>0.219341</td>\n",
       "      <td>0.092539</td>\n",
       "      <td>0.415547</td>\n",
       "    </tr>\n",
       "    <tr>\n",
       "      <td>min</td>\n",
       "      <td>0.000000</td>\n",
       "      <td>0.000000</td>\n",
       "      <td>0.000000</td>\n",
       "      <td>0.000000</td>\n",
       "      <td>0.000000</td>\n",
       "      <td>0.000000</td>\n",
       "      <td>0.000000</td>\n",
       "      <td>0.000000</td>\n",
       "      <td>0.000000</td>\n",
       "      <td>0.000000</td>\n",
       "      <td>0.000000</td>\n",
       "      <td>0.000000</td>\n",
       "      <td>0.000000</td>\n",
       "      <td>0.000000</td>\n",
       "      <td>0.000000</td>\n",
       "    </tr>\n",
       "    <tr>\n",
       "      <td>25%</td>\n",
       "      <td>0.119048</td>\n",
       "      <td>0.290430</td>\n",
       "      <td>0.005436</td>\n",
       "      <td>0.009554</td>\n",
       "      <td>0.142638</td>\n",
       "      <td>0.086420</td>\n",
       "      <td>0.000000</td>\n",
       "      <td>0.000000</td>\n",
       "      <td>0.000000</td>\n",
       "      <td>0.000000</td>\n",
       "      <td>0.000000</td>\n",
       "      <td>1.000000</td>\n",
       "      <td>0.193730</td>\n",
       "      <td>0.000000</td>\n",
       "      <td>0.000000</td>\n",
       "    </tr>\n",
       "    <tr>\n",
       "      <td>50%</td>\n",
       "      <td>0.174603</td>\n",
       "      <td>0.391464</td>\n",
       "      <td>0.015151</td>\n",
       "      <td>0.019108</td>\n",
       "      <td>0.216729</td>\n",
       "      <td>0.123457</td>\n",
       "      <td>0.000000</td>\n",
       "      <td>0.000000</td>\n",
       "      <td>0.000000</td>\n",
       "      <td>0.000000</td>\n",
       "      <td>0.000000</td>\n",
       "      <td>1.000000</td>\n",
       "      <td>0.299982</td>\n",
       "      <td>0.000000</td>\n",
       "      <td>0.000000</td>\n",
       "    </tr>\n",
       "    <tr>\n",
       "      <td>75%</td>\n",
       "      <td>0.246032</td>\n",
       "      <td>0.500500</td>\n",
       "      <td>0.044906</td>\n",
       "      <td>0.028662</td>\n",
       "      <td>0.335711</td>\n",
       "      <td>0.172840</td>\n",
       "      <td>0.000000</td>\n",
       "      <td>0.000000</td>\n",
       "      <td>0.000000</td>\n",
       "      <td>0.000000</td>\n",
       "      <td>0.000000</td>\n",
       "      <td>1.000000</td>\n",
       "      <td>0.499987</td>\n",
       "      <td>0.000000</td>\n",
       "      <td>0.000000</td>\n",
       "    </tr>\n",
       "    <tr>\n",
       "      <td>max</td>\n",
       "      <td>1.000000</td>\n",
       "      <td>1.000000</td>\n",
       "      <td>1.000000</td>\n",
       "      <td>1.000000</td>\n",
       "      <td>1.000000</td>\n",
       "      <td>1.000000</td>\n",
       "      <td>1.000000</td>\n",
       "      <td>1.000000</td>\n",
       "      <td>1.000000</td>\n",
       "      <td>1.000000</td>\n",
       "      <td>1.000000</td>\n",
       "      <td>1.000000</td>\n",
       "      <td>1.000000</td>\n",
       "      <td>1.000000</td>\n",
       "      <td>1.000000</td>\n",
       "    </tr>\n",
       "  </tbody>\n",
       "</table>\n",
       "</div>"
      ],
      "text/plain": [
       "           total_acc       int_rate    tot_cur_bal  mo_sin_rcnt_tl  \\\n",
       "count  332020.000000  332020.000000  332020.000000   332020.000000   \n",
       "mean        0.188252       0.406127       0.029575        0.024710   \n",
       "std         0.096241       0.162897       0.034740        0.026807   \n",
       "min         0.000000       0.000000       0.000000        0.000000   \n",
       "25%         0.119048       0.290430       0.005436        0.009554   \n",
       "50%         0.174603       0.391464       0.015151        0.019108   \n",
       "75%         0.246032       0.500500       0.044906        0.028662   \n",
       "max         1.000000       1.000000       1.000000        1.000000   \n",
       "\n",
       "         installment       num_sats  num_tl_120dpd_2m       all_util  \\\n",
       "count  332020.000000  332020.000000     332020.000000  332020.000000   \n",
       "mean        0.252427       0.137195          0.046029       0.009081   \n",
       "std         0.153100       0.070500          0.174827       0.094860   \n",
       "min         0.000000       0.000000          0.000000       0.000000   \n",
       "25%         0.142638       0.086420          0.000000       0.000000   \n",
       "50%         0.216729       0.123457          0.000000       0.000000   \n",
       "75%         0.335711       0.172840          0.000000       0.000000   \n",
       "max         1.000000       1.000000          1.000000       1.000000   \n",
       "\n",
       "       term_ 60 months    delinq_2yrs     recoveries  \\\n",
       "count    332020.000000  332020.000000  332020.000000   \n",
       "mean          0.245425       0.010894       0.005788   \n",
       "std           0.430340       0.030005       0.023577   \n",
       "min           0.000000       0.000000       0.000000   \n",
       "25%           0.000000       0.000000       0.000000   \n",
       "50%           0.000000       0.000000       0.000000   \n",
       "75%           0.000000       0.000000       0.000000   \n",
       "max           1.000000       1.000000       1.000000   \n",
       "\n",
       "       application_type_Individual    funded_amnt    delinq_amnt  \\\n",
       "count                332020.000000  332020.000000  332020.000000   \n",
       "mean                      0.980766       0.357990       0.008638   \n",
       "std                       0.137346       0.219341       0.092539   \n",
       "min                       0.000000       0.000000       0.000000   \n",
       "25%                       1.000000       0.193730       0.000000   \n",
       "50%                       1.000000       0.299982       0.000000   \n",
       "75%                       1.000000       0.499987       0.000000   \n",
       "max                       1.000000       1.000000       1.000000   \n",
       "\n",
       "             default  \n",
       "count  332020.000000  \n",
       "mean        0.221932  \n",
       "std         0.415547  \n",
       "min         0.000000  \n",
       "25%         0.000000  \n",
       "50%         0.000000  \n",
       "75%         0.000000  \n",
       "max         1.000000  "
      ]
     },
     "execution_count": 262,
     "metadata": {},
     "output_type": "execute_result"
    }
   ],
   "source": [
    "data_lasso_test.describe()"
   ]
  },
  {
   "cell_type": "code",
   "execution_count": 263,
   "metadata": {},
   "outputs": [
    {
     "name": "stdout",
     "output_type": "stream",
     "text": [
      "<class 'pandas.core.frame.DataFrame'>\n",
      "RangeIndex: 332020 entries, 0 to 332019\n",
      "Data columns (total 16 columns):\n",
      "total_acc                      332020 non-null float64\n",
      "int_rate                       332020 non-null float64\n",
      "tot_cur_bal                    332020 non-null float64\n",
      "mo_sin_rcnt_tl                 332020 non-null float64\n",
      "installment                    332020 non-null float64\n",
      "num_sats                       332020 non-null float64\n",
      "num_tl_120dpd_2m               332020 non-null float64\n",
      "pub_rec_bankruptcies           332020 non-null bool\n",
      "all_util                       332020 non-null float64\n",
      "term_ 60 months                332020 non-null uint8\n",
      "delinq_2yrs                    332020 non-null float64\n",
      "recoveries                     332020 non-null float64\n",
      "application_type_Individual    332020 non-null uint8\n",
      "funded_amnt                    332020 non-null float64\n",
      "delinq_amnt                    332020 non-null float64\n",
      "default                        332020 non-null int64\n",
      "dtypes: bool(1), float64(12), int64(1), uint8(2)\n",
      "memory usage: 33.9 MB\n"
     ]
    }
   ],
   "source": [
    "data_lasso_test.info()"
   ]
  },
  {
   "cell_type": "markdown",
   "metadata": {},
   "source": [
    "## Loading and splitting the data"
   ]
  },
  {
   "cell_type": "code",
   "execution_count": 264,
   "metadata": {},
   "outputs": [],
   "source": [
    "data_train = './data/train_df'"
   ]
  },
  {
   "cell_type": "code",
   "execution_count": 265,
   "metadata": {},
   "outputs": [],
   "source": [
    "df_train = pd.read_csv(data_train)"
   ]
  },
  {
   "cell_type": "code",
   "execution_count": 266,
   "metadata": {},
   "outputs": [
    {
     "data": {
      "text/html": [
       "<div>\n",
       "<style scoped>\n",
       "    .dataframe tbody tr th:only-of-type {\n",
       "        vertical-align: middle;\n",
       "    }\n",
       "\n",
       "    .dataframe tbody tr th {\n",
       "        vertical-align: top;\n",
       "    }\n",
       "\n",
       "    .dataframe thead th {\n",
       "        text-align: right;\n",
       "    }\n",
       "</style>\n",
       "<table border=\"1\" class=\"dataframe\">\n",
       "  <thead>\n",
       "    <tr style=\"text-align: right;\">\n",
       "      <th></th>\n",
       "      <th>('delinq_2yrs',)</th>\n",
       "      <th>('all_util',)</th>\n",
       "      <th>('installment',)</th>\n",
       "      <th>('int_rate',)</th>\n",
       "      <th>('application_type_Joint App',)</th>\n",
       "      <th>('pub_rec_bankruptcies',)</th>\n",
       "      <th>('term_ 36 months',)</th>\n",
       "      <th>('total_acc',)</th>\n",
       "      <th>('num_sats',)</th>\n",
       "      <th>('num_tl_120dpd_2m',)</th>\n",
       "      <th>('funded_amnt',)</th>\n",
       "      <th>('delinq_amnt',)</th>\n",
       "      <th>('recoveries',)</th>\n",
       "      <th>('mo_sin_rcnt_tl',)</th>\n",
       "      <th>('tot_cur_bal',)</th>\n",
       "      <th>default</th>\n",
       "    </tr>\n",
       "  </thead>\n",
       "  <tbody>\n",
       "    <tr>\n",
       "      <td>0</td>\n",
       "      <td>0.0</td>\n",
       "      <td>0.024221</td>\n",
       "      <td>0.025641</td>\n",
       "      <td>0.0</td>\n",
       "      <td>0.0</td>\n",
       "      <td>0.0</td>\n",
       "      <td>0.010120</td>\n",
       "      <td>0.0</td>\n",
       "      <td>0.496862</td>\n",
       "      <td>0.0</td>\n",
       "      <td>0.0</td>\n",
       "      <td>0.211111</td>\n",
       "      <td>0.245714</td>\n",
       "      <td>0.307853</td>\n",
       "      <td>0.640213</td>\n",
       "      <td>0</td>\n",
       "    </tr>\n",
       "    <tr>\n",
       "      <td>1</td>\n",
       "      <td>0.0</td>\n",
       "      <td>0.000000</td>\n",
       "      <td>0.000000</td>\n",
       "      <td>0.0</td>\n",
       "      <td>0.0</td>\n",
       "      <td>1.0</td>\n",
       "      <td>0.000457</td>\n",
       "      <td>0.0</td>\n",
       "      <td>0.099977</td>\n",
       "      <td>0.0</td>\n",
       "      <td>0.0</td>\n",
       "      <td>0.055556</td>\n",
       "      <td>0.034286</td>\n",
       "      <td>0.073798</td>\n",
       "      <td>0.272424</td>\n",
       "      <td>0</td>\n",
       "    </tr>\n",
       "    <tr>\n",
       "      <td>2</td>\n",
       "      <td>1.0</td>\n",
       "      <td>0.027128</td>\n",
       "      <td>0.000000</td>\n",
       "      <td>0.0</td>\n",
       "      <td>0.0</td>\n",
       "      <td>1.0</td>\n",
       "      <td>0.000000</td>\n",
       "      <td>0.0</td>\n",
       "      <td>0.249981</td>\n",
       "      <td>0.0</td>\n",
       "      <td>0.0</td>\n",
       "      <td>0.055556</td>\n",
       "      <td>0.051429</td>\n",
       "      <td>0.181933</td>\n",
       "      <td>0.230077</td>\n",
       "      <td>0</td>\n",
       "    </tr>\n",
       "    <tr>\n",
       "      <td>3</td>\n",
       "      <td>0.0</td>\n",
       "      <td>0.013841</td>\n",
       "      <td>0.000000</td>\n",
       "      <td>0.0</td>\n",
       "      <td>0.0</td>\n",
       "      <td>1.0</td>\n",
       "      <td>0.025454</td>\n",
       "      <td>0.0</td>\n",
       "      <td>0.087477</td>\n",
       "      <td>0.0</td>\n",
       "      <td>0.0</td>\n",
       "      <td>0.177778</td>\n",
       "      <td>0.160000</td>\n",
       "      <td>0.065742</td>\n",
       "      <td>0.315772</td>\n",
       "      <td>0</td>\n",
       "    </tr>\n",
       "    <tr>\n",
       "      <td>4</td>\n",
       "      <td>0.0</td>\n",
       "      <td>0.010381</td>\n",
       "      <td>0.000000</td>\n",
       "      <td>0.0</td>\n",
       "      <td>0.0</td>\n",
       "      <td>0.0</td>\n",
       "      <td>0.006829</td>\n",
       "      <td>0.0</td>\n",
       "      <td>0.306233</td>\n",
       "      <td>0.0</td>\n",
       "      <td>0.0</td>\n",
       "      <td>0.066667</td>\n",
       "      <td>0.045714</td>\n",
       "      <td>0.217560</td>\n",
       "      <td>0.866622</td>\n",
       "      <td>1</td>\n",
       "    </tr>\n",
       "  </tbody>\n",
       "</table>\n",
       "</div>"
      ],
      "text/plain": [
       "   ('delinq_2yrs',)  ('all_util',)  ('installment',)  ('int_rate',)  \\\n",
       "0               0.0       0.024221          0.025641            0.0   \n",
       "1               0.0       0.000000          0.000000            0.0   \n",
       "2               1.0       0.027128          0.000000            0.0   \n",
       "3               0.0       0.013841          0.000000            0.0   \n",
       "4               0.0       0.010381          0.000000            0.0   \n",
       "\n",
       "   ('application_type_Joint App',)  ('pub_rec_bankruptcies',)  \\\n",
       "0                              0.0                        0.0   \n",
       "1                              0.0                        1.0   \n",
       "2                              0.0                        1.0   \n",
       "3                              0.0                        1.0   \n",
       "4                              0.0                        0.0   \n",
       "\n",
       "   ('term_ 36 months',)  ('total_acc',)  ('num_sats',)  ('num_tl_120dpd_2m',)  \\\n",
       "0              0.010120             0.0       0.496862                    0.0   \n",
       "1              0.000457             0.0       0.099977                    0.0   \n",
       "2              0.000000             0.0       0.249981                    0.0   \n",
       "3              0.025454             0.0       0.087477                    0.0   \n",
       "4              0.006829             0.0       0.306233                    0.0   \n",
       "\n",
       "   ('funded_amnt',)  ('delinq_amnt',)  ('recoveries',)  ('mo_sin_rcnt_tl',)  \\\n",
       "0               0.0          0.211111         0.245714             0.307853   \n",
       "1               0.0          0.055556         0.034286             0.073798   \n",
       "2               0.0          0.055556         0.051429             0.181933   \n",
       "3               0.0          0.177778         0.160000             0.065742   \n",
       "4               0.0          0.066667         0.045714             0.217560   \n",
       "\n",
       "   ('tot_cur_bal',)  default  \n",
       "0          0.640213        0  \n",
       "1          0.272424        0  \n",
       "2          0.230077        0  \n",
       "3          0.315772        0  \n",
       "4          0.866622        1  "
      ]
     },
     "execution_count": 266,
     "metadata": {},
     "output_type": "execute_result"
    }
   ],
   "source": [
    "df_train.head()"
   ]
  },
  {
   "cell_type": "code",
   "execution_count": 267,
   "metadata": {},
   "outputs": [
    {
     "data": {
      "text/plain": [
       "('delinq_2yrs',)                   0\n",
       "('all_util',)                      0\n",
       "('installment',)                   0\n",
       "('int_rate',)                      0\n",
       "('application_type_Joint App',)    0\n",
       "('pub_rec_bankruptcies',)          0\n",
       "('term_ 36 months',)               0\n",
       "('total_acc',)                     0\n",
       "('num_sats',)                      0\n",
       "('num_tl_120dpd_2m',)              0\n",
       "('funded_amnt',)                   0\n",
       "('delinq_amnt',)                   0\n",
       "('recoveries',)                    0\n",
       "('mo_sin_rcnt_tl',)                0\n",
       "('tot_cur_bal',)                   0\n",
       "default                            0\n",
       "dtype: int64"
      ]
     },
     "execution_count": 267,
     "metadata": {},
     "output_type": "execute_result"
    }
   ],
   "source": [
    "df_train.isna().sum()"
   ]
  },
  {
   "cell_type": "code",
   "execution_count": 268,
   "metadata": {},
   "outputs": [],
   "source": [
    "# we split the train data\n",
    "endogena = ['default']\n",
    "exogenas_train = list(set(list(df_train.columns))-set(endogena))\n",
    "train_features = df_train[exogenas_train].values\n",
    "train_labels = df_train[endogena].values"
   ]
  },
  {
   "cell_type": "code",
   "execution_count": 269,
   "metadata": {},
   "outputs": [],
   "source": [
    "# we split the test data\n",
    "endogena = ['default']\n",
    "exogenas_test = list(set(list(data_lasso_test.columns))-set(endogena))\n",
    "test_features = data_lasso_test[exogenas_test].values\n",
    "test_labels = data_lasso_test[endogena].values"
   ]
  },
  {
   "cell_type": "markdown",
   "metadata": {},
   "source": [
    "Now we load the models that we trained previously."
   ]
  },
  {
   "cell_type": "markdown",
   "metadata": {},
   "source": [
    "## 4. Support Vector Machine "
   ]
  },
  {
   "cell_type": "code",
   "execution_count": 270,
   "metadata": {},
   "outputs": [],
   "source": [
    "SVC_model = pickle.load(open('SVM_Model', 'rb'))"
   ]
  },
  {
   "cell_type": "code",
   "execution_count": 271,
   "metadata": {},
   "outputs": [
    {
     "name": "stdout",
     "output_type": "stream",
     "text": [
      "[[187274  71060]\n",
      " [ 54375  19311]]\n",
      "              precision    recall  f1-score   support\n",
      "\n",
      "           0       0.77      0.72      0.75    258334\n",
      "           1       0.21      0.26      0.24     73686\n",
      "\n",
      "    accuracy                           0.62    332020\n",
      "   macro avg       0.49      0.49      0.49    332020\n",
      "weighted avg       0.65      0.62      0.64    332020\n",
      "\n"
     ]
    }
   ],
   "source": [
    "# confusion matrix: SVC\n",
    "prediccion_SVC = SVC_model.predict(test_features)\n",
    "print(confusion_matrix(test_labels, prediccion_SVC))\n",
    "print(classification_report(test_labels, prediccion_SVC))"
   ]
  },
  {
   "cell_type": "code",
   "execution_count": 272,
   "metadata": {},
   "outputs": [
    {
     "data": {
      "image/png": "[encoded data removed]",
      "text/plain": [
       "<Figure size 432x288 with 1 Axes>"
      ]
     },
     "metadata": {
      "needs_background": "light"
     },
     "output_type": "display_data"
    },
    {
     "name": "stdout",
     "output_type": "stream",
     "text": [
      "SVC score train:  0.27470311243826806\n",
      "SVC score test:  0.6222064935847238\n"
     ]
    }
   ],
   "source": [
    "# ROC curve\n",
    "metrics.plot_roc_curve(SVC_model, test_features, test_labels)\n",
    "plt.show() \n",
    "print(\"SVC score train: \", SVC_model.score(train_features, train_labels))\n",
    "print(\"SVC score test: \", SVC_model.score(test_features, test_labels))\n",
    "# this allows us to see if there is any overfitting in out model (which is bad)\n",
    "# We have to see how the train and test accuracy vary to see how efficient our model predicts"
   ]
  },
  {
   "cell_type": "markdown",
   "metadata": {},
   "source": [
    "## 5. LOGISTIC REGRESSION"
   ]
  },
  {
   "cell_type": "code",
   "execution_count": 273,
   "metadata": {},
   "outputs": [],
   "source": [
    "LR_model = pickle.load(open('LR_Model', 'rb'))"
   ]
  },
  {
   "cell_type": "code",
   "execution_count": 274,
   "metadata": {},
   "outputs": [
    {
     "name": "stdout",
     "output_type": "stream",
     "text": [
      "[[258179    155]\n",
      " [ 70722   2964]]\n",
      "              precision    recall  f1-score   support\n",
      "\n",
      "           0       0.78      1.00      0.88    258334\n",
      "           1       0.95      0.04      0.08     73686\n",
      "\n",
      "    accuracy                           0.79    332020\n",
      "   macro avg       0.87      0.52      0.48    332020\n",
      "weighted avg       0.82      0.79      0.70    332020\n",
      "\n"
     ]
    }
   ],
   "source": [
    "# confusion matrix: Logistic Regression\n",
    "prediccion_LR = LR_model.predict(test_features)\n",
    "print(confusion_matrix(test_labels, prediccion_LR))\n",
    "print(classification_report(test_labels, prediccion_LR))"
   ]
  },
  {
   "cell_type": "code",
   "execution_count": 275,
   "metadata": {},
   "outputs": [
    {
     "data": {
      "image/png": "[encoded data removed]",
      "text/plain": [
       "<Figure size 432x288 with 1 Axes>"
      ]
     },
     "metadata": {
      "needs_background": "light"
     },
     "output_type": "display_data"
    },
    {
     "name": "stdout",
     "output_type": "stream",
     "text": [
      "LR score train:  0.29090892385437006\n",
      "LR score test:  0.786527920004819\n"
     ]
    }
   ],
   "source": [
    "# ROC curve\n",
    "metrics.plot_roc_curve(LR_model, test_features, test_labels)\n",
    "plt.show() \n",
    "print(\"LR score train: \", LR_model.score(train_features, train_labels))\n",
    "print(\"LR score test: \", LR_model.score(test_features, test_labels))\n",
    "# this allows us to see if there is any overfitting in out model (which is bad)\n",
    "# We have to see how the train and test accuracy vary to see how efficient our model predicts"
   ]
  },
  {
   "cell_type": "markdown",
   "metadata": {},
   "source": [
    "## 6. RANDOM FOREST"
   ]
  },
  {
   "cell_type": "code",
   "execution_count": 276,
   "metadata": {},
   "outputs": [],
   "source": [
    "RF_model = pickle.load(open('RF_Model', 'rb'))"
   ]
  },
  {
   "cell_type": "code",
   "execution_count": 277,
   "metadata": {},
   "outputs": [
    {
     "name": "stdout",
     "output_type": "stream",
     "text": [
      "[[     0 258334]\n",
      " [  2868  70818]]\n",
      "              precision    recall  f1-score   support\n",
      "\n",
      "           0       0.00      0.00      0.00    258334\n",
      "           1       0.22      0.96      0.35     73686\n",
      "\n",
      "    accuracy                           0.21    332020\n",
      "   macro avg       0.11      0.48      0.18    332020\n",
      "weighted avg       0.05      0.21      0.08    332020\n",
      "\n"
     ]
    }
   ],
   "source": [
    "# Confusion matrix for Random Forest Model\n",
    "prediccion_RF = RF_model.predict(test_features)\n",
    "print(confusion_matrix(test_labels, prediccion_RF))\n",
    "print(classification_report(test_labels, prediccion_RF))"
   ]
  },
  {
   "cell_type": "code",
   "execution_count": 278,
   "metadata": {},
   "outputs": [
    {
     "data": {
      "image/png": "[encoded data removed]",
      "text/plain": [
       "<Figure size 432x288 with 1 Axes>"
      ]
     },
     "metadata": {
      "needs_background": "light"
     },
     "output_type": "display_data"
    },
    {
     "name": "stdout",
     "output_type": "stream",
     "text": [
      "Random Forest score train:  0.31162053520156197\n",
      "Random Forest score test:  0.21329437985663513\n"
     ]
    }
   ],
   "source": [
    "# ROC Curve\n",
    "metrics.plot_roc_curve(RF_model, test_features, test_labels)\n",
    "plt.show() \n",
    "print(\"Random Forest score train: \", RF_model.score(train_features, train_labels))\n",
    "print(\"Random Forest score test: \", RF_model.score(test_features, test_labels))"
   ]
  },
  {
   "cell_type": "markdown",
   "metadata": {},
   "source": [
    "## 7. XGBOOST"
   ]
  },
  {
   "cell_type": "code",
   "execution_count": 279,
   "metadata": {},
   "outputs": [],
   "source": [
    "XGB_model = pickle.load(open('XGB_Model', 'rb'))"
   ]
  },
  {
   "cell_type": "code",
   "execution_count": 280,
   "metadata": {},
   "outputs": [
    {
     "name": "stdout",
     "output_type": "stream",
     "text": [
      "[[    21 258313]\n",
      " [     2  73684]]\n",
      "              precision    recall  f1-score   support\n",
      "\n",
      "           0       0.91      0.00      0.00    258334\n",
      "           1       0.22      1.00      0.36     73686\n",
      "\n",
      "    accuracy                           0.22    332020\n",
      "   macro avg       0.57      0.50      0.18    332020\n",
      "weighted avg       0.76      0.22      0.08    332020\n",
      "\n"
     ]
    }
   ],
   "source": [
    "# XGBoost confusion matrix\n",
    "prediccion_XGB = XGB_model.predict(test_features)\n",
    "print(confusion_matrix(test_labels, prediccion_XGB))\n",
    "print(classification_report(test_labels, prediccion_XGB))"
   ]
  },
  {
   "cell_type": "code",
   "execution_count": 282,
   "metadata": {},
   "outputs": [
    {
     "data": {
      "image/png": "[encoded data removed]",
      "text/plain": [
       "<Figure size 432x288 with 1 Axes>"
      ]
     },
     "metadata": {
      "needs_background": "light"
     },
     "output_type": "display_data"
    },
    {
     "name": "stdout",
     "output_type": "stream",
     "text": [
      "XGBoost score train:  0.2857305616170897\n",
      "XGBoost score test:  0.22198963917836276\n"
     ]
    }
   ],
   "source": [
    "# ROC Curve\n",
    "metrics.plot_roc_curve(XGB_model, test_features, test_labels)\n",
    "plt.show() \n",
    "\n",
    "print(\"XGBoost score train: \", XGB_model.score(train_features, train_labels))\n",
    "print(\"XGBoost score test: \", XGB_model.score(test_features, test_labels))"
   ]
  },
  {
   "cell_type": "markdown",
   "metadata": {},
   "source": [
    "## 8. Final comparisons"
   ]
  },
  {
   "cell_type": "markdown",
   "metadata": {},
   "source": [
    "### ROC Curve Comparisons"
   ]
  },
  {
   "cell_type": "code",
   "execution_count": 283,
   "metadata": {},
   "outputs": [
    {
     "data": {
      "image/png": "[encoded data removed]",
      "text/plain": [
       "<Figure size 432x288 with 1 Axes>"
      ]
     },
     "metadata": {
      "needs_background": "light"
     },
     "output_type": "display_data"
    }
   ],
   "source": [
    "roc_SVC = plot_roc_curve(SVC_model, test_features, test_labels)\n",
    "roc_RL = plot_roc_curve(LR_model, test_features, test_labels, ax = roc_SVC.ax_)\n",
    "roc_RF = plot_roc_curve(RF_model, test_features, test_labels, ax = roc_RL.ax_)\n",
    "roc_XGB = plot_roc_curve(XGB_model, test_features, test_labels, ax = roc_RF.ax_)\n",
    "roc_XGB.figure_.suptitle(\"ROC Curve Comparison\")\n",
    "\n",
    "plt.show()"
   ]
  },
  {
   "cell_type": "code",
   "execution_count": 284,
   "metadata": {},
   "outputs": [
    {
     "name": "stdout",
     "output_type": "stream",
     "text": [
      "Support Vector Machine\n",
      "              precision    recall  f1-score   support\n",
      "\n",
      "           0       0.77      0.72      0.75    258334\n",
      "           1       0.21      0.26      0.24     73686\n",
      "\n",
      "    accuracy                           0.62    332020\n",
      "   macro avg       0.49      0.49      0.49    332020\n",
      "weighted avg       0.65      0.62      0.64    332020\n",
      "\n",
      "Accuracy of Support Vector Machine classifier on test set: 0.62\n",
      "\n",
      "Logistic Regression\n",
      "              precision    recall  f1-score   support\n",
      "\n",
      "           0       0.78      1.00      0.88    258334\n",
      "           1       0.95      0.04      0.08     73686\n",
      "\n",
      "    accuracy                           0.79    332020\n",
      "   macro avg       0.87      0.52      0.48    332020\n",
      "weighted avg       0.82      0.79      0.70    332020\n",
      "\n",
      "Accuracy of Logistic Regression classifier on test set: 0.79\n",
      "\n",
      "Random Forest\n",
      "              precision    recall  f1-score   support\n",
      "\n",
      "           0       0.00      0.00      0.00    258334\n",
      "           1       0.22      0.96      0.35     73686\n",
      "\n",
      "    accuracy                           0.21    332020\n",
      "   macro avg       0.11      0.48      0.18    332020\n",
      "weighted avg       0.05      0.21      0.08    332020\n",
      "\n",
      "Accuracy of Random Forest classifier on test set: 0.21\n",
      "\n",
      "XGBoost\n",
      "              precision    recall  f1-score   support\n",
      "\n",
      "           0       0.91      0.00      0.00    258334\n",
      "           1       0.22      1.00      0.36     73686\n",
      "\n",
      "    accuracy                           0.22    332020\n",
      "   macro avg       0.57      0.50      0.18    332020\n",
      "weighted avg       0.76      0.22      0.08    332020\n",
      "\n",
      "Accuracy of XGBoost classifier on test set: 0.22\n",
      "\n"
     ]
    }
   ],
   "source": [
    "print('Support Vector Machine')\n",
    "print(classification_report(test_labels, prediccion_SVC))\n",
    "print('Accuracy of Support Vector Machine classifier on test set: {:.2f}'.format(SVC_model.score(test_features, test_labels)))\n",
    "print('')\n",
    "\n",
    "print('Logistic Regression')\n",
    "print(classification_report(test_labels, prediccion_LR))\n",
    "print('Accuracy of Logistic Regression classifier on test set: {:.2f}'.format(LR_model.score(test_features, test_labels)))\n",
    "print('')\n",
    "\n",
    "print('Random Forest')\n",
    "print(classification_report(test_labels,prediccion_RF))\n",
    "print('Accuracy of Random Forest classifier on test set: {:.2f}'.format(RF_model.score(test_features, test_labels)))\n",
    "print('')\n",
    "\n",
    "print('XGBoost')\n",
    "print(classification_report(test_labels,prediccion_XGB))\n",
    "print('Accuracy of XGBoost classifier on test set: {:.2f}'.format(XGB_model.score(test_features, test_labels)))\n",
    "print('')"
   ]
  },
  {
   "cell_type": "markdown",
   "metadata": {},
   "source": [
    "## 9. Conclusions"
   ]
  },
  {
   "cell_type": "markdown",
   "metadata": {},
   "source": [
    "* The best model out of the four presented is the Random Forest model, providing us with an accuracy of 0.79 (when turning the values around) using the full test set.The area under the ROC Curve for our Random Forest Model is of 0.50, which is okay.\n",
    "* In this model, the most relevant variables were funded_amnt, delinq_2yrs, tot_cur_bal, tot_acc and int_rate. This makes sense, especially the variables which represent the funded amount of the loan and the interest rate that the loan has. \n",
    "* Our accuracy decreased in comparison to our study with the full dataset and splitting the train and test sets ourselves, but all in all the results are still good (anything between 0.70-0.80 is a good result)."
   ]
  },
  {
   "cell_type": "markdown",
   "metadata": {},
   "source": [
    "## 10. References"
   ]
  },
  {
   "cell_type": "markdown",
   "metadata": {},
   "source": [
    "* __Bambrick, N.__ (Jul de 2016). Support Vector Machines: A Simple Explanation. Obtenido de KDnuggets News: https://www.kdnuggets.com/2016/07/support-vector-machines-simple-explanation.html\n",
    "* __Bodas, D.__ (2019). Apuntes Machine Learning MDS. Madrid: CUNEF.\n",
    "* __Breiman, L.__ (January 2001). Random Forests. Berkeley: Statistics Department University of California.\n",
    "* __Koehrsen, W.__ (27 de Dec de 2017). Random Forest in Python. Obtenido de Towards Data Science : https://towardsdatascience.com/random-forest-in-python-24d0893d51c0 \n",
    "* __loan.csv. (s.f.).__ Lending Club Loan Data. Obtenido de kaggle: https://www.kaggle.com/wendykan/lending-club-loan-data\n",
    "* __Seif, G.__ (29 de May de 2019). Towards Data Science . Obtenido de A Beginner’s guide to XGBoost: https://towardsdatascience.com/a-beginners-guide-to-xgboost-87f5d4c30ed7"
   ]
  }
 ],
 "metadata": {
  "kernelspec": {
   "display_name": "Python 3",
   "language": "python",
   "name": "python3"
  },
  "language_info": {
   "codemirror_mode": {
    "name": "ipython",
    "version": 3
   },
   "file_extension": ".py",
   "mimetype": "text/x-python",
   "name": "python",
   "nbconvert_exporter": "python",
   "pygments_lexer": "ipython3",
   "version": "3.7.4"
  }
 },
 "nbformat": 4,
 "nbformat_minor": 2
}
