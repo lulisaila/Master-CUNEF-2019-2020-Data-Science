{
 "cells": [
  {
   "cell_type": "markdown",
   "metadata": {
    "colab_type": "text",
    "id": "m6iVJl9fxi3A"
   },
   "source": [
    "# Give me some credit (training)\n",
    "* Máster en Data Science y Finanzas, CUNEF\n",
    "* Subject: Machine learning\n",
    "* Authors: Raquel Fort, Lucía Saiz, María Carrasco\n",
    "* Contact: raquel.fort@cunef.edu, l.saiz@cunef.edu, m.carrascomelendez@cunef.edu"
   ]
  },
  {
   "cell_type": "markdown",
   "metadata": {},
   "source": [
    "## Table of contents:"
   ]
  },
  {
   "cell_type": "markdown",
   "metadata": {},
   "source": [
    "1.  Goal\n",
    "2.  Dataset and variables\n",
    "3.  Methodology\n",
    "4.  EDA.\n",
    "    - Histograms \n",
    "    - Correlation matrix\n",
    "5.  Categorical and numerical datasets\n",
    "    - Treatment numerical dataset.\n",
    "    - Treatment categorical dataset: Dummies.\n",
    "    - Outliers.\n",
    "6.  Lasso model (variable importance)\n",
    "7.  Train & Test and Oversampling\n",
    "8.  Support Vector Machine (SVM)\n",
    "9.  Logistic Regression\n",
    "10.  Random Forest\n",
    "11.  XGBOOST\n",
    "12.  ROC Curves. Comparisons.\n",
    "13.  Conclusions\n",
    "14.  References"
   ]
  },
  {
   "cell_type": "markdown",
   "metadata": {},
   "source": [
    "## 1. Goal"
   ]
  },
  {
   "cell_type": "markdown",
   "metadata": {},
   "source": [
    "The aim of this document is to predict if the future customers who are interested in a loan concession will commit a default based on our study. This is why our dependent variable or the variable that we aim to predict with our study will be default."
   ]
  },
  {
   "cell_type": "markdown",
   "metadata": {},
   "source": [
    "## 2. Dataset and variables"
   ]
  },
  {
   "cell_type": "markdown",
   "metadata": {},
   "source": [
    "The dataset used in this document has been downloaded from Kaggle, an open data website.\n",
    "It contains 156 variables related with the customers' information such as their personal information, the quality of their bank accounts, data refered to their payments and some other relevant information about their daily activities.\n",
    "Although all these variables are needed for the explanation of our model, based on our business knowledge and having studied the relationships between them, we are going to select the variables which are more significant in the achievement of our goal.\n",
    "Following our selection, we will be describing each variable used in this document:\n",
    "\n",
    "- __*acc_now_delinq*__: The number of accounts on which the borrower is now delinquent.We have chosen this variable because it shows if the borrower has committed default and in which accounts.\n",
    "\n",
    "- __*acc_open_past_24mths*__: Number of trades opened in past 24 months.We have chosen this variable because it shows the quantity of trades made by the customer.\n",
    "\n",
    "- __*addr_state*__: The state provided by the borrower in the loan application. The reason for choosing this variable is that it contains relevant personal information about the borrower in the study. In each area we can find different behaviour patterns in terms of returning the loan or not, but of course not in all cases.\n",
    "\n",
    "- __*all_util*__: Balance to credit limit on all trades. It shows the quantity of the credit used of the total, with this rate we can identify those clients that go beyond their limit.\n",
    "\n",
    "- __*annual_inc*__: The self-reported annual income provided by the borrower during registration. With this variable, we can know if the customer will be capable of returning the loan or not according to the size of their income.\n",
    "\n",
    "- __*application_type*__: Indicates whether the loan is an individual application or a joint application with two co-borrowers. If there are two co-borrowers, we have a higher probability of not committing default rather than with a single borrower, which is why we select it.\n",
    "\n",
    "- __*delinq_2yrs*__: The number of 30+ days past-due incidences of delinquency in the borrower's credit file for the past 2 years. We have considered that if the client commits incidences of more than 30 days in the last two years it is very likely that they will decide not to continue making payments.\n",
    "\n",
    "- __*delinq_amnt*__: The past-due amount owed for the accounts on which the borrower is now delinquent. This variable shows exactly the amount exceeded in the accounts in which the customer has been declared as delinquent. It is important in order to know the total default quantity.\n",
    "\n",
    "- __*desc*__: Loan description provided by the borrower, this variable has 90% of missing values which we considered that meant that the borrower did not want to give us information about the reason for borrowing a loan and was likely associated to default.\n",
    "\n",
    "- __*dti*__: A ratio calculated using the borrower’s total monthly debt payments on the total debt obligations, excluding mortgage and the requested LC loan, divided by the borrower’s self-reported monthly income. Basically, it measures the monthly solvency of the borrowers, which allow the company to make a correct follow up of the borrowers and foresee if the will commit default or not.\n",
    "\n",
    "- __*emp_length*__: Employment length in years. Possible values are between 0 and 10, where 0 means less than one year and 10 means ten or more years. With this variable we can see the stability of the client, which means that the ones that have a long-time employment are more likely to have monthly income. This way, we can deduce which ones will be more stable in their payments.\n",
    "\n",
    "- __*funded_amnt*__: The total amount committed to that loan at that point in time. It indicates the amount committed between the borrower and the bank; the higher quantities are more difficult to be payed so the higher the loan amount, the higher the chances of default.\n",
    "\n",
    "- __*grade*__: LC assigned loan grade. It is important because it classifies the different types of borrowers into 7 categories from A to G, indicating the most and least reliables.\n",
    "\n",
    "- __*home_ownership*__: The home ownership status provided by the borrower during registration or obtained from the credit report. Our values are: RENT, OWN, MORTGAGE, OTHER, ANY. In case of default, the bank can consider the properties or other rents of the borrower in order to complement the default. In addition, the clients who have a mortgage or live on rent will probably have more difficulties in paying back a loan than the rest.\n",
    "\n",
    "- __*initial_list_status*__: The initial listing status of the loan. Possible values are – W(whole), F(fractioned). Customers who asumme fractioned payments are more likely to commit default. \n",
    "\n",
    "- __*installment*__: The monthly payment owed by the borrower if the loan originates. This variable shows the monthly quantity that the borrower has to pay, if all the installments are committed, it means that the customer will repay the loan satisfactorily and vice versa.\n",
    "\n",
    "- __*int_rate*__: Interest Rate on the loan, the interest is an important variable due to the fact that it represents the gain for the bank of giving the loan and the extra cost for the borrower, so it is important to know whether the payment will be made next to the installment.\n",
    "\n",
    "- __*last_pymnt_amnt*__: Last total payment amount received. If the last payment is recent and it is committed, it means that this borrower is more likely to pay back their debt.\n",
    "\n",
    "- __*loan_amnt*__: The listed amount of the loan applied for by the borrower. If at some point in time, the credit department reduces the loan amount, then it will be reflected in this value. The total sum of this variable indicates the total quantity given by the bank.\n",
    "\n",
    "- __*mo_sin_rcnt_tl*__: Months since most recent account opened.\n",
    "\n",
    "- __*mths_since_last_delinq*__: The number of months since the borrower's last delinquency. If this number is high, the borrower is more likely to commit default.\n",
    "\n",
    "- __*num_accts_ever_120_pd*__: Number of accounts ever 120 or more days past due. If this number is high, the borrower has more probabilities to commit default.\n",
    "\n",
    "- __*num_il_tl*__: Number of installment accounts. The higher the number of months that passed since the last default, the less likely it is for the borrower to repay the loan.\n",
    "\n",
    "- __*num_sats*__: Number of satisfactory accounts. Accounts that have commit correctly their payments and in which the borrower does not commit default. \n",
    "\n",
    "- __*num_tl_120dpd_2m*__: Number of accounts currently 120 days past due (updated in past 2 months). If this number is high, the borrower has more probabilities to commit default (updated in past 2 months).\n",
    "\n",
    "- __*out_prncp*__: Remaining outstanding principal for total amount funded. Amount of money that has not been payed by the borrower, if this quantity is very high is more difficult to be payed.\n",
    "\n",
    "- __*pub_rec_bankruptcies*__: Number of public record bankruptcies. It shows if the customer or a firm(the borrower) has been in a bankrupticy.\n",
    "\n",
    "- __*recoveries*__: Post charge off gross recovery. Amount of money that has been recovered and is not in default anymore.\n",
    "\n",
    "- __*term*__: The number of payments on the loan. Values are in months and can be either 36 or 60. Dependending on the time is more or less probable to return the loan.\n",
    "\n",
    "- __*title*__: The loan title provided by the borrower. Purpose of the concesion of the loan, if it is for the repay of other debts we have less probabilities to recover the amount of money.\n",
    "\n",
    "- __*tot_coll_amt*__: Total collection amounts ever owed, we have chosen this variable because depending on this amount, it is more or less probable that it can be returned.\n",
    "\n",
    "- __*tot_cur_bal*__: Total current balance of all accounts, it shows the statement of the accounts, if they have defaults or not.\n",
    "\n",
    "- __*total_acc*__: The total number of credit lines currently in the borrower's credit file, the more lines of credit the borrower has opened, the more likely to default.\n",
    "\n",
    "- __*total_pymnt*__: Payments received to date for total amount funded. This variable is very relevant in this model because it explains the default very thoroughly, which is our dependent variable, because the more payments that are committed, the less default we are likely to have.\n",
    "\n",
    "- __*debt_settlement_flag*__: Flags whether or not the borrower, who has charged-off, is working with a debt-settlement company. It explains if the borrower is trying to resolve the delinquency by indebting themselves with another company.\n"
   ]
  },
  {
   "cell_type": "markdown",
   "metadata": {},
   "source": [
    "## 3. Methodology"
   ]
  },
  {
   "cell_type": "markdown",
   "metadata": {},
   "source": [
    "The first step is to load the libraries required for the correct execution of each step of our methodology process.\n",
    "Once the libraries that we will use, as well as the database with the selected variables are loaded, we decide to carry out the exploratory data analysis.\n",
    "After removing the null values and the outliers, we will scale the numerical variables and transform the categorical ones into dummies.\n",
    "With our database already clean, we will launch the lasso model allowing us to select the real significant variables with which we are going to launch the different models. To continue, and after splitting our data into train and test, we will be carrying out the Support Vector Machine, the Logistic regression, the random forest and the XGBoost.\n",
    "Finally, we will compare the ROC curves of all four models previously executed with which we can conclude our study."
   ]
  },
  {
   "cell_type": "markdown",
   "metadata": {},
   "source": [
    "The purpose of each of the following libraries is pretty different. We can distinguish them between:\n",
    "\n",
    "- Libraries used for Python functions.\n",
    "- Libraries used for plotting.\n",
    "- Libraries used for the Lasso Model\n",
    "- Libraries used for the Random Forest.\n",
    "- libraries used for the XGBOOST model.\n",
    "- Libraries used for the SVM.\n",
    "- Libraries used for the ROC curve."
   ]
  },
  {
   "cell_type": "code",
   "execution_count": 98,
   "metadata": {},
   "outputs": [],
   "source": [
    "import pandas as pd\n",
    "import numpy as np\n",
    "import matplotlib.pyplot as plt\n",
    "import seaborn as sns\n",
    "from numpy import loadtxt\n",
    "from matplotlib import pyplot\n",
    "from sklearn import metrics\n",
    "from sklearn import svm\n",
    "from sklearn import preprocessing\n",
    "from sklearn import linear_model\n",
    "from sklearn import model_selection\n",
    "from sklearn.metrics import r2_score # R^2\n",
    "from sklearn.metrics import mean_squared_error # MSE\n",
    "from sklearn.preprocessing import StandardScaler # estandarization\n",
    "from math import sqrt # sqrt\n",
    "import random\n",
    "from sklearn.utils import resample\n",
    "from sklearn.preprocessing import MinMaxScaler\n",
    "from sklearn.linear_model import Lasso, LassoCV # Lasso\n",
    "from sklearn.metrics import classification_report\n",
    "from sklearn.metrics import confusion_matrix\n",
    "from sklearn.preprocessing import LabelEncoder\n",
    "from sklearn.linear_model import LogisticRegression\n",
    "from sklearn.svm import SVC # SVM\n",
    "from sklearn.ensemble import RandomForestRegressor, RandomForestClassifier\n",
    "import xgboost as xgb # XGBOOST\n",
    "from sklearn.metrics import roc_curve, roc_auc_score, plot_roc_curve # ROC Curve\n",
    "from sklearn.datasets import make_classification\n",
    "from sklearn.model_selection import GridSearchCV\n",
    "from sklearn.model_selection import cross_val_predict\n",
    "from sklearn.model_selection import train_test_split\n",
    "from sklearn.metrics import accuracy_score\n",
    "import pickle\n",
    "%matplotlib inline"
   ]
  },
  {
   "cell_type": "markdown",
   "metadata": {},
   "source": [
    "After loading all the libraries required to execute all of our code, we proceed to load our database with the name of data_orig."
   ]
  },
  {
   "cell_type": "code",
   "execution_count": 99,
   "metadata": {},
   "outputs": [],
   "source": [
    "data_path = './data/training_set.csv'"
   ]
  },
  {
   "cell_type": "code",
   "execution_count": 100,
   "metadata": {},
   "outputs": [],
   "source": [
    "data_orig = pd.read_csv(data_path, low_memory = False) "
   ]
  },
  {
   "cell_type": "markdown",
   "metadata": {},
   "source": [
    "We create the dependent variable which we need for the prediction part of our models using the loan_status variable, which shows the current status of the loan. We decide that, what we find relevant for deciding if the loan is in default or not is whether the loan is fully paid (0) or if does not meet the credit policy (default, 1). We convert it into a categorical variable giving 0 and 1 to those statements."
   ]
  },
  {
   "cell_type": "code",
   "execution_count": 101,
   "metadata": {},
   "outputs": [],
   "source": [
    "data_orig['default'] = data_orig['target']"
   ]
  },
  {
   "cell_type": "markdown",
   "metadata": {},
   "source": [
    "Finally, we select the variables mentioned above in order to achieve our goal, saving them with the name 'data' and that will be treated and cleaned with the purpose of being used to calculate the most accurate possible models. "
   ]
  },
  {
   "cell_type": "code",
   "execution_count": 102,
   "metadata": {},
   "outputs": [],
   "source": [
    "data = data_orig.loc[:, ['default', 'acc_now_delinq', 'acc_open_past_24mths', 'addr_state', 'all_util', 'annual_inc', \n",
    "                         'application_type','delinq_2yrs','delinq_amnt','desc','dti','emp_length','funded_amnt','grade',\n",
    "                         'home_ownership','initial_list_status','installment','int_rate','last_pymnt_amnt','loan_amnt',\n",
    "                         'mo_sin_rcnt_tl','mths_since_last_delinq','num_accts_ever_120_pd','num_il_tl','num_sats',\n",
    "                         'num_tl_120dpd_2m','out_prncp','pub_rec_bankruptcies','recoveries','term','title','tot_coll_amt',\n",
    "                         'tot_cur_bal','total_acc','total_pymnt','debt_settlement_flag']]"
   ]
  },
  {
   "cell_type": "markdown",
   "metadata": {},
   "source": [
    "## 4. EDA"
   ]
  },
  {
   "cell_type": "markdown",
   "metadata": {},
   "source": [
    "The EDA helps us organize the information that \"data\" gives us in order to detect certain patterns of behavior as well as important values to the underlying model.\n",
    "Exploring the data must be the first step of any type of data analysis."
   ]
  },
  {
   "cell_type": "markdown",
   "metadata": {},
   "source": [
    "Up next, we can see a small preview of the database with the first 5 rows and 36 columns."
   ]
  },
  {
   "cell_type": "code",
   "execution_count": 103,
   "metadata": {},
   "outputs": [
    {
     "data": {
      "text/html": [
       "<div>\n",
       "<style scoped>\n",
       "    .dataframe tbody tr th:only-of-type {\n",
       "        vertical-align: middle;\n",
       "    }\n",
       "\n",
       "    .dataframe tbody tr th {\n",
       "        vertical-align: top;\n",
       "    }\n",
       "\n",
       "    .dataframe thead th {\n",
       "        text-align: right;\n",
       "    }\n",
       "</style>\n",
       "<table border=\"1\" class=\"dataframe\">\n",
       "  <thead>\n",
       "    <tr style=\"text-align: right;\">\n",
       "      <th></th>\n",
       "      <th>default</th>\n",
       "      <th>acc_now_delinq</th>\n",
       "      <th>acc_open_past_24mths</th>\n",
       "      <th>addr_state</th>\n",
       "      <th>all_util</th>\n",
       "      <th>annual_inc</th>\n",
       "      <th>application_type</th>\n",
       "      <th>delinq_2yrs</th>\n",
       "      <th>delinq_amnt</th>\n",
       "      <th>desc</th>\n",
       "      <th>...</th>\n",
       "      <th>out_prncp</th>\n",
       "      <th>pub_rec_bankruptcies</th>\n",
       "      <th>recoveries</th>\n",
       "      <th>term</th>\n",
       "      <th>title</th>\n",
       "      <th>tot_coll_amt</th>\n",
       "      <th>tot_cur_bal</th>\n",
       "      <th>total_acc</th>\n",
       "      <th>total_pymnt</th>\n",
       "      <th>debt_settlement_flag</th>\n",
       "    </tr>\n",
       "  </thead>\n",
       "  <tbody>\n",
       "    <tr>\n",
       "      <td>0</td>\n",
       "      <td>0</td>\n",
       "      <td>0.0</td>\n",
       "      <td>10.0</td>\n",
       "      <td>AR</td>\n",
       "      <td>NaN</td>\n",
       "      <td>62000.0</td>\n",
       "      <td>Individual</td>\n",
       "      <td>1.0</td>\n",
       "      <td>0.0</td>\n",
       "      <td>NaN</td>\n",
       "      <td>...</td>\n",
       "      <td>0.0</td>\n",
       "      <td>0.0</td>\n",
       "      <td>0.0</td>\n",
       "      <td>60 months</td>\n",
       "      <td>Debt consolidation</td>\n",
       "      <td>6471.0</td>\n",
       "      <td>80960.0</td>\n",
       "      <td>44.0</td>\n",
       "      <td>26177.320006</td>\n",
       "      <td>N</td>\n",
       "    </tr>\n",
       "    <tr>\n",
       "      <td>1</td>\n",
       "      <td>0</td>\n",
       "      <td>0.0</td>\n",
       "      <td>5.0</td>\n",
       "      <td>NJ</td>\n",
       "      <td>NaN</td>\n",
       "      <td>35000.0</td>\n",
       "      <td>Individual</td>\n",
       "      <td>0.0</td>\n",
       "      <td>0.0</td>\n",
       "      <td>NaN</td>\n",
       "      <td>...</td>\n",
       "      <td>0.0</td>\n",
       "      <td>0.0</td>\n",
       "      <td>0.0</td>\n",
       "      <td>36 months</td>\n",
       "      <td>Debt consolidation</td>\n",
       "      <td>0.0</td>\n",
       "      <td>3653.0</td>\n",
       "      <td>7.0</td>\n",
       "      <td>4490.450000</td>\n",
       "      <td>N</td>\n",
       "    </tr>\n",
       "    <tr>\n",
       "      <td>2</td>\n",
       "      <td>0</td>\n",
       "      <td>0.0</td>\n",
       "      <td>NaN</td>\n",
       "      <td>TX</td>\n",
       "      <td>NaN</td>\n",
       "      <td>60000.0</td>\n",
       "      <td>Individual</td>\n",
       "      <td>0.0</td>\n",
       "      <td>0.0</td>\n",
       "      <td>I am requesting a small loan as an advance to...</td>\n",
       "      <td>...</td>\n",
       "      <td>0.0</td>\n",
       "      <td>0.0</td>\n",
       "      <td>0.0</td>\n",
       "      <td>36 months</td>\n",
       "      <td>Wedding Expense</td>\n",
       "      <td>NaN</td>\n",
       "      <td>NaN</td>\n",
       "      <td>10.0</td>\n",
       "      <td>10852.261203</td>\n",
       "      <td>N</td>\n",
       "    </tr>\n",
       "    <tr>\n",
       "      <td>3</td>\n",
       "      <td>0</td>\n",
       "      <td>0.0</td>\n",
       "      <td>12.0</td>\n",
       "      <td>TX</td>\n",
       "      <td>43.0</td>\n",
       "      <td>75500.0</td>\n",
       "      <td>Individual</td>\n",
       "      <td>0.0</td>\n",
       "      <td>0.0</td>\n",
       "      <td>NaN</td>\n",
       "      <td>...</td>\n",
       "      <td>0.0</td>\n",
       "      <td>0.0</td>\n",
       "      <td>0.0</td>\n",
       "      <td>36 months</td>\n",
       "      <td>Other</td>\n",
       "      <td>664.0</td>\n",
       "      <td>203637.0</td>\n",
       "      <td>29.0</td>\n",
       "      <td>3554.334411</td>\n",
       "      <td>N</td>\n",
       "    </tr>\n",
       "    <tr>\n",
       "      <td>4</td>\n",
       "      <td>1</td>\n",
       "      <td>0.0</td>\n",
       "      <td>2.0</td>\n",
       "      <td>GA</td>\n",
       "      <td>86.0</td>\n",
       "      <td>58803.0</td>\n",
       "      <td>Individual</td>\n",
       "      <td>0.0</td>\n",
       "      <td>0.0</td>\n",
       "      <td>NaN</td>\n",
       "      <td>...</td>\n",
       "      <td>0.0</td>\n",
       "      <td>1.0</td>\n",
       "      <td>0.0</td>\n",
       "      <td>60 months</td>\n",
       "      <td>NaN</td>\n",
       "      <td>0.0</td>\n",
       "      <td>54631.0</td>\n",
       "      <td>9.0</td>\n",
       "      <td>6311.910000</td>\n",
       "      <td>N</td>\n",
       "    </tr>\n",
       "  </tbody>\n",
       "</table>\n",
       "<p>5 rows × 36 columns</p>\n",
       "</div>"
      ],
      "text/plain": [
       "   default  acc_now_delinq  acc_open_past_24mths addr_state  all_util  \\\n",
       "0        0             0.0                  10.0         AR       NaN   \n",
       "1        0             0.0                   5.0         NJ       NaN   \n",
       "2        0             0.0                   NaN         TX       NaN   \n",
       "3        0             0.0                  12.0         TX      43.0   \n",
       "4        1             0.0                   2.0         GA      86.0   \n",
       "\n",
       "   annual_inc application_type  delinq_2yrs  delinq_amnt  \\\n",
       "0     62000.0       Individual          1.0          0.0   \n",
       "1     35000.0       Individual          0.0          0.0   \n",
       "2     60000.0       Individual          0.0          0.0   \n",
       "3     75500.0       Individual          0.0          0.0   \n",
       "4     58803.0       Individual          0.0          0.0   \n",
       "\n",
       "                                                desc  ...  out_prncp  \\\n",
       "0                                                NaN  ...        0.0   \n",
       "1                                                NaN  ...        0.0   \n",
       "2   I am requesting a small loan as an advance to...  ...        0.0   \n",
       "3                                                NaN  ...        0.0   \n",
       "4                                                NaN  ...        0.0   \n",
       "\n",
       "  pub_rec_bankruptcies  recoveries        term               title  \\\n",
       "0                  0.0         0.0   60 months  Debt consolidation   \n",
       "1                  0.0         0.0   36 months  Debt consolidation   \n",
       "2                  0.0         0.0   36 months     Wedding Expense   \n",
       "3                  0.0         0.0   36 months               Other   \n",
       "4                  1.0         0.0   60 months                 NaN   \n",
       "\n",
       "  tot_coll_amt  tot_cur_bal  total_acc   total_pymnt  debt_settlement_flag  \n",
       "0       6471.0      80960.0       44.0  26177.320006                     N  \n",
       "1          0.0       3653.0        7.0   4490.450000                     N  \n",
       "2          NaN          NaN       10.0  10852.261203                     N  \n",
       "3        664.0     203637.0       29.0   3554.334411                     N  \n",
       "4          0.0      54631.0        9.0   6311.910000                     N  \n",
       "\n",
       "[5 rows x 36 columns]"
      ]
     },
     "execution_count": 103,
     "metadata": {},
     "output_type": "execute_result"
    }
   ],
   "source": [
    "data.head()"
   ]
  },
  {
   "cell_type": "markdown",
   "metadata": {},
   "source": [
    "We use the function info() to generate general information about the data frame. The data types of our variables range from int32, int64, float64 and object. Here is where we can clearly differentiate our categorical and numerical variables."
   ]
  },
  {
   "cell_type": "code",
   "execution_count": 104,
   "metadata": {},
   "outputs": [
    {
     "name": "stdout",
     "output_type": "stream",
     "text": [
      "<class 'pandas.core.frame.DataFrame'>\n",
      "RangeIndex: 1000000 entries, 0 to 999999\n",
      "Data columns (total 36 columns):\n",
      "default                   1000000 non-null int64\n",
      "acc_now_delinq            999975 non-null float64\n",
      "acc_open_past_24mths      962376 non-null float64\n",
      "addr_state                1000000 non-null object\n",
      "all_util                  392959 non-null float64\n",
      "annual_inc                999996 non-null float64\n",
      "application_type          1000000 non-null object\n",
      "delinq_2yrs               999975 non-null float64\n",
      "delinq_amnt               999975 non-null float64\n",
      "desc                      94326 non-null object\n",
      "dti                       999738 non-null float64\n",
      "emp_length                941502 non-null object\n",
      "funded_amnt               1000000 non-null int64\n",
      "grade                     1000000 non-null object\n",
      "home_ownership            1000000 non-null object\n",
      "initial_list_status       1000000 non-null object\n",
      "installment               1000000 non-null float64\n",
      "int_rate                  1000000 non-null float64\n",
      "last_pymnt_amnt           1000000 non-null float64\n",
      "loan_amnt                 1000000 non-null int64\n",
      "mo_sin_rcnt_tl            947201 non-null float64\n",
      "mths_since_last_delinq    496778 non-null float64\n",
      "num_accts_ever_120_pd     947201 non-null float64\n",
      "num_il_tl                 947201 non-null float64\n",
      "num_sats                  956017 non-null float64\n",
      "num_tl_120dpd_2m          909788 non-null float64\n",
      "out_prncp                 1000000 non-null float64\n",
      "pub_rec_bankruptcies      998981 non-null float64\n",
      "recoveries                1000000 non-null float64\n",
      "term                      1000000 non-null object\n",
      "title                     988058 non-null object\n",
      "tot_coll_amt              947201 non-null float64\n",
      "tot_cur_bal               947201 non-null float64\n",
      "total_acc                 999975 non-null float64\n",
      "total_pymnt               1000000 non-null float64\n",
      "debt_settlement_flag      1000000 non-null object\n",
      "dtypes: float64(23), int64(3), object(10)\n",
      "memory usage: 274.7+ MB\n"
     ]
    }
   ],
   "source": [
    "data.info()"
   ]
  },
  {
   "cell_type": "markdown",
   "metadata": {},
   "source": [
    "The described method shows the basic statistical characteristics of each numerical variable: the number of observations of each variable, mean, standard deviation, minimum and maximum values, mediana and quartiles 0.25 and 0.75."
   ]
  },
  {
   "cell_type": "code",
   "execution_count": 105,
   "metadata": {},
   "outputs": [
    {
     "data": {
      "text/html": [
       "<div>\n",
       "<style scoped>\n",
       "    .dataframe tbody tr th:only-of-type {\n",
       "        vertical-align: middle;\n",
       "    }\n",
       "\n",
       "    .dataframe tbody tr th {\n",
       "        vertical-align: top;\n",
       "    }\n",
       "\n",
       "    .dataframe thead th {\n",
       "        text-align: right;\n",
       "    }\n",
       "</style>\n",
       "<table border=\"1\" class=\"dataframe\">\n",
       "  <thead>\n",
       "    <tr style=\"text-align: right;\">\n",
       "      <th></th>\n",
       "      <th>default</th>\n",
       "      <th>acc_now_delinq</th>\n",
       "      <th>acc_open_past_24mths</th>\n",
       "      <th>all_util</th>\n",
       "      <th>annual_inc</th>\n",
       "      <th>delinq_2yrs</th>\n",
       "      <th>delinq_amnt</th>\n",
       "      <th>dti</th>\n",
       "      <th>funded_amnt</th>\n",
       "      <th>installment</th>\n",
       "      <th>...</th>\n",
       "      <th>num_il_tl</th>\n",
       "      <th>num_sats</th>\n",
       "      <th>num_tl_120dpd_2m</th>\n",
       "      <th>out_prncp</th>\n",
       "      <th>pub_rec_bankruptcies</th>\n",
       "      <th>recoveries</th>\n",
       "      <th>tot_coll_amt</th>\n",
       "      <th>tot_cur_bal</th>\n",
       "      <th>total_acc</th>\n",
       "      <th>total_pymnt</th>\n",
       "    </tr>\n",
       "  </thead>\n",
       "  <tbody>\n",
       "    <tr>\n",
       "      <td>count</td>\n",
       "      <td>1000000.000000</td>\n",
       "      <td>999975.000000</td>\n",
       "      <td>962376.000000</td>\n",
       "      <td>392959.000000</td>\n",
       "      <td>9.999960e+05</td>\n",
       "      <td>999975.000000</td>\n",
       "      <td>999975.000000</td>\n",
       "      <td>999738.000000</td>\n",
       "      <td>1000000.000000</td>\n",
       "      <td>1000000.000000</td>\n",
       "      <td>...</td>\n",
       "      <td>947201.000000</td>\n",
       "      <td>956017.000000</td>\n",
       "      <td>909788.000000</td>\n",
       "      <td>1000000.000000</td>\n",
       "      <td>998981.000000</td>\n",
       "      <td>1000000.000000</td>\n",
       "      <td>9.472010e+05</td>\n",
       "      <td>9.472010e+05</td>\n",
       "      <td>999975.000000</td>\n",
       "      <td>1000000.000000</td>\n",
       "    </tr>\n",
       "    <tr>\n",
       "      <td>mean</td>\n",
       "      <td>0.216465</td>\n",
       "      <td>0.005119</td>\n",
       "      <td>4.704464</td>\n",
       "      <td>58.288524</td>\n",
       "      <td>7.623989e+04</td>\n",
       "      <td>0.318938</td>\n",
       "      <td>15.160914</td>\n",
       "      <td>18.285760</td>\n",
       "      <td>14445.787425</td>\n",
       "      <td>439.107471</td>\n",
       "      <td>...</td>\n",
       "      <td>8.573017</td>\n",
       "      <td>11.640711</td>\n",
       "      <td>0.000827</td>\n",
       "      <td>214.976874</td>\n",
       "      <td>0.135127</td>\n",
       "      <td>231.142420</td>\n",
       "      <td>2.466692e+02</td>\n",
       "      <td>1.409491e+05</td>\n",
       "      <td>24.979721</td>\n",
       "      <td>14667.372295</td>\n",
       "    </tr>\n",
       "    <tr>\n",
       "      <td>std</td>\n",
       "      <td>0.411835</td>\n",
       "      <td>0.076766</td>\n",
       "      <td>3.193186</td>\n",
       "      <td>20.929622</td>\n",
       "      <td>7.294900e+04</td>\n",
       "      <td>0.877683</td>\n",
       "      <td>838.906472</td>\n",
       "      <td>10.955874</td>\n",
       "      <td>8723.665205</td>\n",
       "      <td>261.833534</td>\n",
       "      <td>...</td>\n",
       "      <td>7.392380</td>\n",
       "      <td>5.484799</td>\n",
       "      <td>0.030338</td>\n",
       "      <td>1924.683025</td>\n",
       "      <td>0.378603</td>\n",
       "      <td>934.324249</td>\n",
       "      <td>1.105568e+04</td>\n",
       "      <td>1.576780e+05</td>\n",
       "      <td>12.008402</td>\n",
       "      <td>10319.021365</td>\n",
       "    </tr>\n",
       "    <tr>\n",
       "      <td>min</td>\n",
       "      <td>0.000000</td>\n",
       "      <td>0.000000</td>\n",
       "      <td>0.000000</td>\n",
       "      <td>0.000000</td>\n",
       "      <td>0.000000e+00</td>\n",
       "      <td>0.000000</td>\n",
       "      <td>0.000000</td>\n",
       "      <td>-1.000000</td>\n",
       "      <td>500.000000</td>\n",
       "      <td>4.930000</td>\n",
       "      <td>...</td>\n",
       "      <td>0.000000</td>\n",
       "      <td>0.000000</td>\n",
       "      <td>0.000000</td>\n",
       "      <td>0.000000</td>\n",
       "      <td>0.000000</td>\n",
       "      <td>0.000000</td>\n",
       "      <td>0.000000e+00</td>\n",
       "      <td>0.000000e+00</td>\n",
       "      <td>1.000000</td>\n",
       "      <td>0.000000</td>\n",
       "    </tr>\n",
       "    <tr>\n",
       "      <td>25%</td>\n",
       "      <td>0.000000</td>\n",
       "      <td>0.000000</td>\n",
       "      <td>2.000000</td>\n",
       "      <td>45.000000</td>\n",
       "      <td>4.575000e+04</td>\n",
       "      <td>0.000000</td>\n",
       "      <td>0.000000</td>\n",
       "      <td>11.790000</td>\n",
       "      <td>8000.000000</td>\n",
       "      <td>249.130000</td>\n",
       "      <td>...</td>\n",
       "      <td>4.000000</td>\n",
       "      <td>8.000000</td>\n",
       "      <td>0.000000</td>\n",
       "      <td>0.000000</td>\n",
       "      <td>0.000000</td>\n",
       "      <td>0.000000</td>\n",
       "      <td>0.000000e+00</td>\n",
       "      <td>2.937600e+04</td>\n",
       "      <td>16.000000</td>\n",
       "      <td>6722.615742</td>\n",
       "    </tr>\n",
       "    <tr>\n",
       "      <td>50%</td>\n",
       "      <td>0.000000</td>\n",
       "      <td>0.000000</td>\n",
       "      <td>4.000000</td>\n",
       "      <td>60.000000</td>\n",
       "      <td>6.500000e+04</td>\n",
       "      <td>0.000000</td>\n",
       "      <td>0.000000</td>\n",
       "      <td>17.630000</td>\n",
       "      <td>12000.000000</td>\n",
       "      <td>375.540000</td>\n",
       "      <td>...</td>\n",
       "      <td>7.000000</td>\n",
       "      <td>11.000000</td>\n",
       "      <td>0.000000</td>\n",
       "      <td>0.000000</td>\n",
       "      <td>0.000000</td>\n",
       "      <td>0.000000</td>\n",
       "      <td>0.000000e+00</td>\n",
       "      <td>7.986500e+04</td>\n",
       "      <td>23.000000</td>\n",
       "      <td>11998.606989</td>\n",
       "    </tr>\n",
       "    <tr>\n",
       "      <td>75%</td>\n",
       "      <td>0.000000</td>\n",
       "      <td>0.000000</td>\n",
       "      <td>6.000000</td>\n",
       "      <td>73.000000</td>\n",
       "      <td>9.000000e+04</td>\n",
       "      <td>0.000000</td>\n",
       "      <td>0.000000</td>\n",
       "      <td>24.070000</td>\n",
       "      <td>20000.000000</td>\n",
       "      <td>582.080000</td>\n",
       "      <td>...</td>\n",
       "      <td>11.000000</td>\n",
       "      <td>14.000000</td>\n",
       "      <td>0.000000</td>\n",
       "      <td>0.000000</td>\n",
       "      <td>0.000000</td>\n",
       "      <td>0.000000</td>\n",
       "      <td>0.000000e+00</td>\n",
       "      <td>2.104900e+05</td>\n",
       "      <td>32.000000</td>\n",
       "      <td>20359.250996</td>\n",
       "    </tr>\n",
       "    <tr>\n",
       "      <td>max</td>\n",
       "      <td>1.000000</td>\n",
       "      <td>5.000000</td>\n",
       "      <td>56.000000</td>\n",
       "      <td>239.000000</td>\n",
       "      <td>1.099920e+07</td>\n",
       "      <td>39.000000</td>\n",
       "      <td>249925.000000</td>\n",
       "      <td>999.000000</td>\n",
       "      <td>40000.000000</td>\n",
       "      <td>1715.420000</td>\n",
       "      <td>...</td>\n",
       "      <td>159.000000</td>\n",
       "      <td>90.000000</td>\n",
       "      <td>4.000000</td>\n",
       "      <td>40000.000000</td>\n",
       "      <td>12.000000</td>\n",
       "      <td>39859.550000</td>\n",
       "      <td>9.152545e+06</td>\n",
       "      <td>8.000078e+06</td>\n",
       "      <td>176.000000</td>\n",
       "      <td>62948.990956</td>\n",
       "    </tr>\n",
       "  </tbody>\n",
       "</table>\n",
       "<p>8 rows × 26 columns</p>\n",
       "</div>"
      ],
      "text/plain": [
       "              default  acc_now_delinq  acc_open_past_24mths       all_util  \\\n",
       "count  1000000.000000   999975.000000         962376.000000  392959.000000   \n",
       "mean         0.216465        0.005119              4.704464      58.288524   \n",
       "std          0.411835        0.076766              3.193186      20.929622   \n",
       "min          0.000000        0.000000              0.000000       0.000000   \n",
       "25%          0.000000        0.000000              2.000000      45.000000   \n",
       "50%          0.000000        0.000000              4.000000      60.000000   \n",
       "75%          0.000000        0.000000              6.000000      73.000000   \n",
       "max          1.000000        5.000000             56.000000     239.000000   \n",
       "\n",
       "         annual_inc    delinq_2yrs    delinq_amnt            dti  \\\n",
       "count  9.999960e+05  999975.000000  999975.000000  999738.000000   \n",
       "mean   7.623989e+04       0.318938      15.160914      18.285760   \n",
       "std    7.294900e+04       0.877683     838.906472      10.955874   \n",
       "min    0.000000e+00       0.000000       0.000000      -1.000000   \n",
       "25%    4.575000e+04       0.000000       0.000000      11.790000   \n",
       "50%    6.500000e+04       0.000000       0.000000      17.630000   \n",
       "75%    9.000000e+04       0.000000       0.000000      24.070000   \n",
       "max    1.099920e+07      39.000000  249925.000000     999.000000   \n",
       "\n",
       "          funded_amnt     installment  ...      num_il_tl       num_sats  \\\n",
       "count  1000000.000000  1000000.000000  ...  947201.000000  956017.000000   \n",
       "mean     14445.787425      439.107471  ...       8.573017      11.640711   \n",
       "std       8723.665205      261.833534  ...       7.392380       5.484799   \n",
       "min        500.000000        4.930000  ...       0.000000       0.000000   \n",
       "25%       8000.000000      249.130000  ...       4.000000       8.000000   \n",
       "50%      12000.000000      375.540000  ...       7.000000      11.000000   \n",
       "75%      20000.000000      582.080000  ...      11.000000      14.000000   \n",
       "max      40000.000000     1715.420000  ...     159.000000      90.000000   \n",
       "\n",
       "       num_tl_120dpd_2m       out_prncp  pub_rec_bankruptcies      recoveries  \\\n",
       "count     909788.000000  1000000.000000         998981.000000  1000000.000000   \n",
       "mean           0.000827      214.976874              0.135127      231.142420   \n",
       "std            0.030338     1924.683025              0.378603      934.324249   \n",
       "min            0.000000        0.000000              0.000000        0.000000   \n",
       "25%            0.000000        0.000000              0.000000        0.000000   \n",
       "50%            0.000000        0.000000              0.000000        0.000000   \n",
       "75%            0.000000        0.000000              0.000000        0.000000   \n",
       "max            4.000000    40000.000000             12.000000    39859.550000   \n",
       "\n",
       "       tot_coll_amt   tot_cur_bal      total_acc     total_pymnt  \n",
       "count  9.472010e+05  9.472010e+05  999975.000000  1000000.000000  \n",
       "mean   2.466692e+02  1.409491e+05      24.979721    14667.372295  \n",
       "std    1.105568e+04  1.576780e+05      12.008402    10319.021365  \n",
       "min    0.000000e+00  0.000000e+00       1.000000        0.000000  \n",
       "25%    0.000000e+00  2.937600e+04      16.000000     6722.615742  \n",
       "50%    0.000000e+00  7.986500e+04      23.000000    11998.606989  \n",
       "75%    0.000000e+00  2.104900e+05      32.000000    20359.250996  \n",
       "max    9.152545e+06  8.000078e+06     176.000000    62948.990956  \n",
       "\n",
       "[8 rows x 26 columns]"
      ]
     },
     "execution_count": 105,
     "metadata": {},
     "output_type": "execute_result"
    }
   ],
   "source": [
    "data.describe()"
   ]
  },
  {
   "cell_type": "markdown",
   "metadata": {},
   "source": [
    "With the function is.na() we can easily see if there are missing values to help us decide how to treat them."
   ]
  },
  {
   "cell_type": "code",
   "execution_count": 106,
   "metadata": {},
   "outputs": [
    {
     "data": {
      "text/plain": [
       "default                        0\n",
       "acc_now_delinq                25\n",
       "acc_open_past_24mths       37624\n",
       "addr_state                     0\n",
       "all_util                  607041\n",
       "annual_inc                     4\n",
       "application_type               0\n",
       "delinq_2yrs                   25\n",
       "delinq_amnt                   25\n",
       "desc                      905674\n",
       "dti                          262\n",
       "emp_length                 58498\n",
       "funded_amnt                    0\n",
       "grade                          0\n",
       "home_ownership                 0\n",
       "initial_list_status            0\n",
       "installment                    0\n",
       "int_rate                       0\n",
       "last_pymnt_amnt                0\n",
       "loan_amnt                      0\n",
       "mo_sin_rcnt_tl             52799\n",
       "mths_since_last_delinq    503222\n",
       "num_accts_ever_120_pd      52799\n",
       "num_il_tl                  52799\n",
       "num_sats                   43983\n",
       "num_tl_120dpd_2m           90212\n",
       "out_prncp                      0\n",
       "pub_rec_bankruptcies        1019\n",
       "recoveries                     0\n",
       "term                           0\n",
       "title                      11942\n",
       "tot_coll_amt               52799\n",
       "tot_cur_bal                52799\n",
       "total_acc                     25\n",
       "total_pymnt                    0\n",
       "debt_settlement_flag           0\n",
       "dtype: int64"
      ]
     },
     "execution_count": 106,
     "metadata": {},
     "output_type": "execute_result"
    }
   ],
   "source": [
    "data.isna().sum()"
   ]
  },
  {
   "cell_type": "markdown",
   "metadata": {},
   "source": [
    "Columns of the dataset. "
   ]
  },
  {
   "cell_type": "code",
   "execution_count": 107,
   "metadata": {},
   "outputs": [
    {
     "data": {
      "text/plain": [
       "Index(['default', 'acc_now_delinq', 'acc_open_past_24mths', 'addr_state',\n",
       "       'all_util', 'annual_inc', 'application_type', 'delinq_2yrs',\n",
       "       'delinq_amnt', 'desc', 'dti', 'emp_length', 'funded_amnt', 'grade',\n",
       "       'home_ownership', 'initial_list_status', 'installment', 'int_rate',\n",
       "       'last_pymnt_amnt', 'loan_amnt', 'mo_sin_rcnt_tl',\n",
       "       'mths_since_last_delinq', 'num_accts_ever_120_pd', 'num_il_tl',\n",
       "       'num_sats', 'num_tl_120dpd_2m', 'out_prncp', 'pub_rec_bankruptcies',\n",
       "       'recoveries', 'term', 'title', 'tot_coll_amt', 'tot_cur_bal',\n",
       "       'total_acc', 'total_pymnt', 'debt_settlement_flag'],\n",
       "      dtype='object')"
      ]
     },
     "execution_count": 107,
     "metadata": {},
     "output_type": "execute_result"
    }
   ],
   "source": [
    "data.columns"
   ]
  },
  {
   "cell_type": "markdown",
   "metadata": {},
   "source": [
    "### 4.1. Histograms"
   ]
  },
  {
   "cell_type": "markdown",
   "metadata": {},
   "source": [
    "We start our viisual analysis of our variables by creating histograms for each of them. In the following, we can already see, for example, that a lot of our variables have pretty significant outliers. This is something that we will need to take into account later on when we treat our data. Some of our variables have better distribution than others, which are the ones that will probably have a smaller number of outliers. "
   ]
  },
  {
   "cell_type": "code",
   "execution_count": 108,
   "metadata": {},
   "outputs": [
    {
     "data": {
      "image/png": "[encoded data removed]",
      "text/plain": [
       "<Figure size 1440x720 with 16 Axes>"
      ]
     },
     "metadata": {
      "needs_background": "light"
     },
     "output_type": "display_data"
    }
   ],
   "source": [
    "data.iloc[:,0:20].hist(bins = 50, figsize=(20,10))\n",
    "plt.show()"
   ]
  },
  {
   "cell_type": "code",
   "execution_count": 109,
   "metadata": {},
   "outputs": [
    {
     "data": {
      "image/png": "[encoded data removed]",
      "text/plain": [
       "<Figure size 1440x720 with 12 Axes>"
      ]
     },
     "metadata": {
      "needs_background": "light"
     },
     "output_type": "display_data"
    }
   ],
   "source": [
    "data.iloc[:,21:].hist(bins = 50, figsize=(20,10))\n",
    "plt.show()"
   ]
  },
  {
   "cell_type": "markdown",
   "metadata": {},
   "source": [
    "### 4.2. Correlation graph"
   ]
  },
  {
   "cell_type": "markdown",
   "metadata": {},
   "source": [
    "Finally, we create the correlation graph. This graph indicates how related the variables are, from warmer to colder colors. The red ones indicate the highest correlations and vice versa.\n",
    "This method has proved to be decisive in the choice of variables, allowing us to eliminate redundant variables in our study. The variables that are very correlated can, by definition, explain one another very well, and therefor, there is no need to use both of them in the study. "
   ]
  },
  {
   "cell_type": "code",
   "execution_count": 110,
   "metadata": {},
   "outputs": [],
   "source": [
    "corr = data.corr()"
   ]
  },
  {
   "cell_type": "code",
   "execution_count": 111,
   "metadata": {},
   "outputs": [
    {
     "data": {
      "text/plain": [
       "<matplotlib.axes._subplots.AxesSubplot at 0x256461a7348>"
      ]
     },
     "execution_count": 111,
     "metadata": {},
     "output_type": "execute_result"
    },
    {
     "data": {
      "image/png": "[encoded data removed]",
      "text/plain": [
       "<Figure size 504x504 with 2 Axes>"
      ]
     },
     "metadata": {
      "needs_background": "light"
     },
     "output_type": "display_data"
    }
   ],
   "source": [
    "mask = np.zeros_like(corr, dtype=np.bool)\n",
    "mask[np.triu_indices_from(mask)] = True\n",
    "\n",
    "# Set up the matplotlib figure\n",
    "f, ax = plt.subplots(figsize=(7, 7))\n",
    "\n",
    "# Generate a custom diverging colormap\n",
    "cmap = sns.diverging_palette(220, 10, as_cmap=True)\n",
    "\n",
    "# Draw the heatmap with the mask and correct aspect ratio\n",
    "sns.heatmap(corr, mask=mask, cmap=cmap, vmax=.3, center=0,\n",
    "            square=True, linewidths=.5, cbar_kws={\"shrink\": .5})"
   ]
  },
  {
   "cell_type": "markdown",
   "metadata": {},
   "source": [
    "## 5. Categorical and numerical datasets"
   ]
  },
  {
   "cell_type": "markdown",
   "metadata": {},
   "source": [
    "To facilitate the treatment of our variables, we decide to split our data into two dataframes: one for the treatment of numerical variables (loans_num) and a different one for the treatment of the categorical ones (loans_cat)."
   ]
  },
  {
   "cell_type": "code",
   "execution_count": 112,
   "metadata": {},
   "outputs": [],
   "source": [
    "loans_num = data.select_dtypes(include = [np.number])\n",
    "loans_cat = data.select_dtypes(include = [np.object])"
   ]
  },
  {
   "cell_type": "markdown",
   "metadata": {},
   "source": [
    "Preview of both datasets."
   ]
  },
  {
   "cell_type": "code",
   "execution_count": 113,
   "metadata": {},
   "outputs": [
    {
     "data": {
      "text/html": [
       "<div>\n",
       "<style scoped>\n",
       "    .dataframe tbody tr th:only-of-type {\n",
       "        vertical-align: middle;\n",
       "    }\n",
       "\n",
       "    .dataframe tbody tr th {\n",
       "        vertical-align: top;\n",
       "    }\n",
       "\n",
       "    .dataframe thead th {\n",
       "        text-align: right;\n",
       "    }\n",
       "</style>\n",
       "<table border=\"1\" class=\"dataframe\">\n",
       "  <thead>\n",
       "    <tr style=\"text-align: right;\">\n",
       "      <th></th>\n",
       "      <th>default</th>\n",
       "      <th>acc_now_delinq</th>\n",
       "      <th>acc_open_past_24mths</th>\n",
       "      <th>all_util</th>\n",
       "      <th>annual_inc</th>\n",
       "      <th>delinq_2yrs</th>\n",
       "      <th>delinq_amnt</th>\n",
       "      <th>dti</th>\n",
       "      <th>funded_amnt</th>\n",
       "      <th>installment</th>\n",
       "      <th>...</th>\n",
       "      <th>num_il_tl</th>\n",
       "      <th>num_sats</th>\n",
       "      <th>num_tl_120dpd_2m</th>\n",
       "      <th>out_prncp</th>\n",
       "      <th>pub_rec_bankruptcies</th>\n",
       "      <th>recoveries</th>\n",
       "      <th>tot_coll_amt</th>\n",
       "      <th>tot_cur_bal</th>\n",
       "      <th>total_acc</th>\n",
       "      <th>total_pymnt</th>\n",
       "    </tr>\n",
       "  </thead>\n",
       "  <tbody>\n",
       "    <tr>\n",
       "      <td>0</td>\n",
       "      <td>0</td>\n",
       "      <td>0.0</td>\n",
       "      <td>10.0</td>\n",
       "      <td>NaN</td>\n",
       "      <td>62000.0</td>\n",
       "      <td>1.0</td>\n",
       "      <td>0.0</td>\n",
       "      <td>19.84</td>\n",
       "      <td>19875</td>\n",
       "      <td>528.79</td>\n",
       "      <td>...</td>\n",
       "      <td>17.0</td>\n",
       "      <td>19.0</td>\n",
       "      <td>0.0</td>\n",
       "      <td>0.0</td>\n",
       "      <td>0.0</td>\n",
       "      <td>0.0</td>\n",
       "      <td>6471.0</td>\n",
       "      <td>80960.0</td>\n",
       "      <td>44.0</td>\n",
       "      <td>26177.320006</td>\n",
       "    </tr>\n",
       "    <tr>\n",
       "      <td>1</td>\n",
       "      <td>0</td>\n",
       "      <td>0.0</td>\n",
       "      <td>5.0</td>\n",
       "      <td>NaN</td>\n",
       "      <td>35000.0</td>\n",
       "      <td>0.0</td>\n",
       "      <td>0.0</td>\n",
       "      <td>6.76</td>\n",
       "      <td>4000</td>\n",
       "      <td>127.52</td>\n",
       "      <td>...</td>\n",
       "      <td>3.0</td>\n",
       "      <td>5.0</td>\n",
       "      <td>0.0</td>\n",
       "      <td>0.0</td>\n",
       "      <td>0.0</td>\n",
       "      <td>0.0</td>\n",
       "      <td>0.0</td>\n",
       "      <td>3653.0</td>\n",
       "      <td>7.0</td>\n",
       "      <td>4490.450000</td>\n",
       "    </tr>\n",
       "    <tr>\n",
       "      <td>2</td>\n",
       "      <td>0</td>\n",
       "      <td>0.0</td>\n",
       "      <td>NaN</td>\n",
       "      <td>NaN</td>\n",
       "      <td>60000.0</td>\n",
       "      <td>0.0</td>\n",
       "      <td>0.0</td>\n",
       "      <td>5.80</td>\n",
       "      <td>10000</td>\n",
       "      <td>312.91</td>\n",
       "      <td>...</td>\n",
       "      <td>NaN</td>\n",
       "      <td>NaN</td>\n",
       "      <td>NaN</td>\n",
       "      <td>0.0</td>\n",
       "      <td>0.0</td>\n",
       "      <td>0.0</td>\n",
       "      <td>NaN</td>\n",
       "      <td>NaN</td>\n",
       "      <td>10.0</td>\n",
       "      <td>10852.261203</td>\n",
       "    </tr>\n",
       "    <tr>\n",
       "      <td>3</td>\n",
       "      <td>0</td>\n",
       "      <td>0.0</td>\n",
       "      <td>12.0</td>\n",
       "      <td>43.0</td>\n",
       "      <td>75500.0</td>\n",
       "      <td>0.0</td>\n",
       "      <td>0.0</td>\n",
       "      <td>16.80</td>\n",
       "      <td>3500</td>\n",
       "      <td>113.71</td>\n",
       "      <td>...</td>\n",
       "      <td>7.0</td>\n",
       "      <td>16.0</td>\n",
       "      <td>0.0</td>\n",
       "      <td>0.0</td>\n",
       "      <td>0.0</td>\n",
       "      <td>0.0</td>\n",
       "      <td>664.0</td>\n",
       "      <td>203637.0</td>\n",
       "      <td>29.0</td>\n",
       "      <td>3554.334411</td>\n",
       "    </tr>\n",
       "    <tr>\n",
       "      <td>4</td>\n",
       "      <td>1</td>\n",
       "      <td>0.0</td>\n",
       "      <td>2.0</td>\n",
       "      <td>86.0</td>\n",
       "      <td>58803.0</td>\n",
       "      <td>0.0</td>\n",
       "      <td>0.0</td>\n",
       "      <td>26.06</td>\n",
       "      <td>12250</td>\n",
       "      <td>373.99</td>\n",
       "      <td>...</td>\n",
       "      <td>5.0</td>\n",
       "      <td>6.0</td>\n",
       "      <td>0.0</td>\n",
       "      <td>0.0</td>\n",
       "      <td>1.0</td>\n",
       "      <td>0.0</td>\n",
       "      <td>0.0</td>\n",
       "      <td>54631.0</td>\n",
       "      <td>9.0</td>\n",
       "      <td>6311.910000</td>\n",
       "    </tr>\n",
       "  </tbody>\n",
       "</table>\n",
       "<p>5 rows × 26 columns</p>\n",
       "</div>"
      ],
      "text/plain": [
       "   default  acc_now_delinq  acc_open_past_24mths  all_util  annual_inc  \\\n",
       "0        0             0.0                  10.0       NaN     62000.0   \n",
       "1        0             0.0                   5.0       NaN     35000.0   \n",
       "2        0             0.0                   NaN       NaN     60000.0   \n",
       "3        0             0.0                  12.0      43.0     75500.0   \n",
       "4        1             0.0                   2.0      86.0     58803.0   \n",
       "\n",
       "   delinq_2yrs  delinq_amnt    dti  funded_amnt  installment  ...  num_il_tl  \\\n",
       "0          1.0          0.0  19.84        19875       528.79  ...       17.0   \n",
       "1          0.0          0.0   6.76         4000       127.52  ...        3.0   \n",
       "2          0.0          0.0   5.80        10000       312.91  ...        NaN   \n",
       "3          0.0          0.0  16.80         3500       113.71  ...        7.0   \n",
       "4          0.0          0.0  26.06        12250       373.99  ...        5.0   \n",
       "\n",
       "   num_sats  num_tl_120dpd_2m  out_prncp  pub_rec_bankruptcies  recoveries  \\\n",
       "0      19.0               0.0        0.0                   0.0         0.0   \n",
       "1       5.0               0.0        0.0                   0.0         0.0   \n",
       "2       NaN               NaN        0.0                   0.0         0.0   \n",
       "3      16.0               0.0        0.0                   0.0         0.0   \n",
       "4       6.0               0.0        0.0                   1.0         0.0   \n",
       "\n",
       "   tot_coll_amt  tot_cur_bal  total_acc   total_pymnt  \n",
       "0        6471.0      80960.0       44.0  26177.320006  \n",
       "1           0.0       3653.0        7.0   4490.450000  \n",
       "2           NaN          NaN       10.0  10852.261203  \n",
       "3         664.0     203637.0       29.0   3554.334411  \n",
       "4           0.0      54631.0        9.0   6311.910000  \n",
       "\n",
       "[5 rows x 26 columns]"
      ]
     },
     "execution_count": 113,
     "metadata": {},
     "output_type": "execute_result"
    }
   ],
   "source": [
    "loans_num.head()"
   ]
  },
  {
   "cell_type": "code",
   "execution_count": 114,
   "metadata": {
    "scrolled": true
   },
   "outputs": [
    {
     "data": {
      "text/html": [
       "<div>\n",
       "<style scoped>\n",
       "    .dataframe tbody tr th:only-of-type {\n",
       "        vertical-align: middle;\n",
       "    }\n",
       "\n",
       "    .dataframe tbody tr th {\n",
       "        vertical-align: top;\n",
       "    }\n",
       "\n",
       "    .dataframe thead th {\n",
       "        text-align: right;\n",
       "    }\n",
       "</style>\n",
       "<table border=\"1\" class=\"dataframe\">\n",
       "  <thead>\n",
       "    <tr style=\"text-align: right;\">\n",
       "      <th></th>\n",
       "      <th>addr_state</th>\n",
       "      <th>application_type</th>\n",
       "      <th>desc</th>\n",
       "      <th>emp_length</th>\n",
       "      <th>grade</th>\n",
       "      <th>home_ownership</th>\n",
       "      <th>initial_list_status</th>\n",
       "      <th>term</th>\n",
       "      <th>title</th>\n",
       "      <th>debt_settlement_flag</th>\n",
       "    </tr>\n",
       "  </thead>\n",
       "  <tbody>\n",
       "    <tr>\n",
       "      <td>0</td>\n",
       "      <td>AR</td>\n",
       "      <td>Individual</td>\n",
       "      <td>NaN</td>\n",
       "      <td>&lt; 1 year</td>\n",
       "      <td>E</td>\n",
       "      <td>MORTGAGE</td>\n",
       "      <td>f</td>\n",
       "      <td>60 months</td>\n",
       "      <td>Debt consolidation</td>\n",
       "      <td>N</td>\n",
       "    </tr>\n",
       "    <tr>\n",
       "      <td>1</td>\n",
       "      <td>NJ</td>\n",
       "      <td>Individual</td>\n",
       "      <td>NaN</td>\n",
       "      <td>4 years</td>\n",
       "      <td>B</td>\n",
       "      <td>RENT</td>\n",
       "      <td>w</td>\n",
       "      <td>36 months</td>\n",
       "      <td>Debt consolidation</td>\n",
       "      <td>N</td>\n",
       "    </tr>\n",
       "    <tr>\n",
       "      <td>2</td>\n",
       "      <td>TX</td>\n",
       "      <td>Individual</td>\n",
       "      <td>I am requesting a small loan as an advance to...</td>\n",
       "      <td>1 year</td>\n",
       "      <td>A</td>\n",
       "      <td>MORTGAGE</td>\n",
       "      <td>f</td>\n",
       "      <td>36 months</td>\n",
       "      <td>Wedding Expense</td>\n",
       "      <td>N</td>\n",
       "    </tr>\n",
       "    <tr>\n",
       "      <td>3</td>\n",
       "      <td>TX</td>\n",
       "      <td>Individual</td>\n",
       "      <td>NaN</td>\n",
       "      <td>&lt; 1 year</td>\n",
       "      <td>B</td>\n",
       "      <td>MORTGAGE</td>\n",
       "      <td>w</td>\n",
       "      <td>36 months</td>\n",
       "      <td>Other</td>\n",
       "      <td>N</td>\n",
       "    </tr>\n",
       "    <tr>\n",
       "      <td>4</td>\n",
       "      <td>GA</td>\n",
       "      <td>Individual</td>\n",
       "      <td>NaN</td>\n",
       "      <td>10+ years</td>\n",
       "      <td>F</td>\n",
       "      <td>RENT</td>\n",
       "      <td>w</td>\n",
       "      <td>60 months</td>\n",
       "      <td>NaN</td>\n",
       "      <td>N</td>\n",
       "    </tr>\n",
       "  </tbody>\n",
       "</table>\n",
       "</div>"
      ],
      "text/plain": [
       "  addr_state application_type  \\\n",
       "0         AR       Individual   \n",
       "1         NJ       Individual   \n",
       "2         TX       Individual   \n",
       "3         TX       Individual   \n",
       "4         GA       Individual   \n",
       "\n",
       "                                                desc emp_length grade  \\\n",
       "0                                                NaN   < 1 year     E   \n",
       "1                                                NaN    4 years     B   \n",
       "2   I am requesting a small loan as an advance to...     1 year     A   \n",
       "3                                                NaN   < 1 year     B   \n",
       "4                                                NaN  10+ years     F   \n",
       "\n",
       "  home_ownership initial_list_status        term               title  \\\n",
       "0       MORTGAGE                   f   60 months  Debt consolidation   \n",
       "1           RENT                   w   36 months  Debt consolidation   \n",
       "2       MORTGAGE                   f   36 months     Wedding Expense   \n",
       "3       MORTGAGE                   w   36 months               Other   \n",
       "4           RENT                   w   60 months                 NaN   \n",
       "\n",
       "  debt_settlement_flag  \n",
       "0                    N  \n",
       "1                    N  \n",
       "2                    N  \n",
       "3                    N  \n",
       "4                    N  "
      ]
     },
     "execution_count": 114,
     "metadata": {},
     "output_type": "execute_result"
    }
   ],
   "source": [
    "loans_cat.head()"
   ]
  },
  {
   "cell_type": "markdown",
   "metadata": {},
   "source": [
    "### 5.1. Treatment of the numerical dataset"
   ]
  },
  {
   "cell_type": "markdown",
   "metadata": {},
   "source": [
    "Regarding the numerical variables, we have to deal with the missing data in different ways:\n",
    "\n",
    "1. Replacing some NaN by random values within a range that we chose by analizing the values in each variable. We decided to do this with certain variables, because they had too high a number of NaNs to consider deleting them all. The variables chosen include:\n",
    "\n",
    "    - num_accts_ever_120_pd\n",
    "    - num_il_tl\n",
    "    - num_sats\n",
    "    - num_tl_120dpd_2m\n",
    "    - tot_coll_amt\n",
    "    - tot_cur_bal\n",
    "    \n",
    "    \n",
    "2. Converting the variables into categorical in the cases where we wanted to keep the missing values as an important information. This happens only with two of our variables, where we considered that the lack of information had a relevant relation to whether the borrower would pay pack their loan or not. These are:\n",
    "\n",
    "    -  all_util\n",
    "    - delinq_amnt\n",
    "    \n",
    "    \n",
    "3. Replace other NaN values by the mean of their column or by 0. Similar to the first method, in these cases the number of NaNs in our variables where too high to be deleted, but not relevant enough for us to create a range of random values:\n",
    "\n",
    "    - annal_inc (mean)\n",
    "    - mo_sin_rcnt_tl (mean)\n",
    "    - mths_since_last_delinq (0)\n",
    "\n",
    "\n",
    "4. Drop the missing values (this step will take place after the treatment of both datasets, numerical and categorical). In these cases, the number of missing values was so low that we decided that it would not have a nig influence on our results if we decided to delete them from our data base:\n",
    "\n",
    "    - dti\n",
    "    - acc_open_past_24mths\n",
    "    - pub_rec_bankruptcies"
   ]
  },
  {
   "cell_type": "code",
   "execution_count": 115,
   "metadata": {},
   "outputs": [
    {
     "data": {
      "text/plain": [
       "Index(['default', 'acc_now_delinq', 'acc_open_past_24mths', 'all_util',\n",
       "       'annual_inc', 'delinq_2yrs', 'delinq_amnt', 'dti', 'funded_amnt',\n",
       "       'installment', 'int_rate', 'last_pymnt_amnt', 'loan_amnt',\n",
       "       'mo_sin_rcnt_tl', 'mths_since_last_delinq', 'num_accts_ever_120_pd',\n",
       "       'num_il_tl', 'num_sats', 'num_tl_120dpd_2m', 'out_prncp',\n",
       "       'pub_rec_bankruptcies', 'recoveries', 'tot_coll_amt', 'tot_cur_bal',\n",
       "       'total_acc', 'total_pymnt'],\n",
       "      dtype='object')"
      ]
     },
     "execution_count": 115,
     "metadata": {},
     "output_type": "execute_result"
    }
   ],
   "source": [
    "loans_num.columns"
   ]
  },
  {
   "cell_type": "markdown",
   "metadata": {},
   "source": [
    "#### Dealing with missing data"
   ]
  },
  {
   "cell_type": "markdown",
   "metadata": {},
   "source": [
    "1. We replace the Nas values for random values contained in a range; we have considered the most appropiate one for each variable in order to do so by studying their values (with functions and the histograms presented previously)."
   ]
  },
  {
   "cell_type": "code",
   "execution_count": 116,
   "metadata": {},
   "outputs": [
    {
     "name": "stderr",
     "output_type": "stream",
     "text": [
      "C:\\Users\\Luli\\Documents\\Anaconda\\lib\\site-packages\\pandas\\core\\generic.py:6287: SettingWithCopyWarning: \n",
      "A value is trying to be set on a copy of a slice from a DataFrame\n",
      "\n",
      "See the caveats in the documentation: http://pandas.pydata.org/pandas-docs/stable/user_guide/indexing.html#returning-a-view-versus-a-copy\n",
      "  self._update_inplace(new_data)\n"
     ]
    }
   ],
   "source": [
    "#First, we fill al NAS by the value -1\n",
    "loans_num['num_accts_ever_120_pd'].fillna(-1, inplace=True)\n",
    "loans_num['num_il_tl'].fillna(-1, inplace=True)\n",
    "loans_num['num_sats'].fillna(-1, inplace=True)\n",
    "loans_num['num_tl_120dpd_2m'].fillna(-1, inplace=True)\n",
    "loans_num['tot_coll_amt'].fillna(-1, inplace=True)\n",
    "loans_num['tot_cur_bal'].fillna(-1, inplace=True)"
   ]
  },
  {
   "cell_type": "code",
   "execution_count": 117,
   "metadata": {},
   "outputs": [
    {
     "name": "stderr",
     "output_type": "stream",
     "text": [
      "C:\\Users\\Luli\\Documents\\Anaconda\\lib\\site-packages\\ipykernel_launcher.py:2: SettingWithCopyWarning: \n",
      "A value is trying to be set on a copy of a slice from a DataFrame.\n",
      "Try using .loc[row_indexer,col_indexer] = value instead\n",
      "\n",
      "See the caveats in the documentation: http://pandas.pydata.org/pandas-docs/stable/user_guide/indexing.html#returning-a-view-versus-a-copy\n",
      "  \n",
      "C:\\Users\\Luli\\Documents\\Anaconda\\lib\\site-packages\\ipykernel_launcher.py:3: SettingWithCopyWarning: \n",
      "A value is trying to be set on a copy of a slice from a DataFrame.\n",
      "Try using .loc[row_indexer,col_indexer] = value instead\n",
      "\n",
      "See the caveats in the documentation: http://pandas.pydata.org/pandas-docs/stable/user_guide/indexing.html#returning-a-view-versus-a-copy\n",
      "  This is separate from the ipykernel package so we can avoid doing imports until\n",
      "C:\\Users\\Luli\\Documents\\Anaconda\\lib\\site-packages\\ipykernel_launcher.py:4: SettingWithCopyWarning: \n",
      "A value is trying to be set on a copy of a slice from a DataFrame.\n",
      "Try using .loc[row_indexer,col_indexer] = value instead\n",
      "\n",
      "See the caveats in the documentation: http://pandas.pydata.org/pandas-docs/stable/user_guide/indexing.html#returning-a-view-versus-a-copy\n",
      "  after removing the cwd from sys.path.\n",
      "C:\\Users\\Luli\\Documents\\Anaconda\\lib\\site-packages\\ipykernel_launcher.py:5: SettingWithCopyWarning: \n",
      "A value is trying to be set on a copy of a slice from a DataFrame.\n",
      "Try using .loc[row_indexer,col_indexer] = value instead\n",
      "\n",
      "See the caveats in the documentation: http://pandas.pydata.org/pandas-docs/stable/user_guide/indexing.html#returning-a-view-versus-a-copy\n",
      "  \"\"\"\n",
      "C:\\Users\\Luli\\Documents\\Anaconda\\lib\\site-packages\\ipykernel_launcher.py:6: SettingWithCopyWarning: \n",
      "A value is trying to be set on a copy of a slice from a DataFrame.\n",
      "Try using .loc[row_indexer,col_indexer] = value instead\n",
      "\n",
      "See the caveats in the documentation: http://pandas.pydata.org/pandas-docs/stable/user_guide/indexing.html#returning-a-view-versus-a-copy\n",
      "  \n",
      "C:\\Users\\Luli\\Documents\\Anaconda\\lib\\site-packages\\ipykernel_launcher.py:7: SettingWithCopyWarning: \n",
      "A value is trying to be set on a copy of a slice from a DataFrame.\n",
      "Try using .loc[row_indexer,col_indexer] = value instead\n",
      "\n",
      "See the caveats in the documentation: http://pandas.pydata.org/pandas-docs/stable/user_guide/indexing.html#returning-a-view-versus-a-copy\n",
      "  import sys\n"
     ]
    }
   ],
   "source": [
    "# And then we replace the -1 value by a random one\n",
    "loans_num['num_accts_ever_120_pd'] =  loans_num['num_accts_ever_120_pd'].map(lambda v: (random.randint(0,5)) if v == -1 else v)\n",
    "loans_num['num_il_tl'] =  loans_num['num_il_tl'].map(lambda v: (random.randint(0,5)) if v == -1 else v)\n",
    "loans_num['num_sats'] =  loans_num['num_sats'].map(lambda v: (random.randint(0,5)) if v == -1 else v)\n",
    "loans_num['num_tl_120dpd_2m'] =  loans_num['num_tl_120dpd_2m'].map(lambda v: (random.randint(0,5)) if v == -1 else v)\n",
    "loans_num['tot_coll_amt'] =  loans_num['tot_coll_amt'].map(lambda v: (random.randint(0,5)) if v == -1 else v)\n",
    "loans_num['tot_cur_bal'] =  loans_num['tot_cur_bal'].map(lambda v: (random.randint(0,5)) if v == -1 else v)"
   ]
  },
  {
   "cell_type": "markdown",
   "metadata": {},
   "source": [
    "2. Convert the variables into categorical on in the cases we wanted to keep the missing values as an important information."
   ]
  },
  {
   "cell_type": "markdown",
   "metadata": {},
   "source": [
    "- 'all_util', values greater than 100 = 1, the rest = 0, because we considered that anything that goes beyond a ratio of 1 means that the borrower is more likely to default (owes more than he/she earns):"
   ]
  },
  {
   "cell_type": "code",
   "execution_count": 118,
   "metadata": {},
   "outputs": [
    {
     "name": "stderr",
     "output_type": "stream",
     "text": [
      "C:\\Users\\Luli\\Documents\\Anaconda\\lib\\site-packages\\ipykernel_launcher.py:1: SettingWithCopyWarning: \n",
      "A value is trying to be set on a copy of a slice from a DataFrame.\n",
      "Try using .loc[row_indexer,col_indexer] = value instead\n",
      "\n",
      "See the caveats in the documentation: http://pandas.pydata.org/pandas-docs/stable/user_guide/indexing.html#returning-a-view-versus-a-copy\n",
      "  \"\"\"Entry point for launching an IPython kernel.\n",
      "C:\\Users\\Luli\\Documents\\Anaconda\\lib\\site-packages\\pandas\\core\\indexing.py:494: SettingWithCopyWarning: \n",
      "A value is trying to be set on a copy of a slice from a DataFrame.\n",
      "Try using .loc[row_indexer,col_indexer] = value instead\n",
      "\n",
      "See the caveats in the documentation: http://pandas.pydata.org/pandas-docs/stable/user_guide/indexing.html#returning-a-view-versus-a-copy\n",
      "  self.obj[item] = s\n"
     ]
    }
   ],
   "source": [
    "loans_num[loans_num['all_util'] > 100] = 1"
   ]
  },
  {
   "cell_type": "code",
   "execution_count": 119,
   "metadata": {},
   "outputs": [
    {
     "name": "stderr",
     "output_type": "stream",
     "text": [
      "C:\\Users\\Luli\\Documents\\Anaconda\\lib\\site-packages\\ipykernel_launcher.py:1: SettingWithCopyWarning: \n",
      "A value is trying to be set on a copy of a slice from a DataFrame.\n",
      "Try using .loc[row_indexer,col_indexer] = value instead\n",
      "\n",
      "See the caveats in the documentation: http://pandas.pydata.org/pandas-docs/stable/user_guide/indexing.html#returning-a-view-versus-a-copy\n",
      "  \"\"\"Entry point for launching an IPython kernel.\n"
     ]
    }
   ],
   "source": [
    "loans_num['all_util'] = (loans_num['all_util'] == 1).astype(int)"
   ]
  },
  {
   "cell_type": "markdown",
   "metadata": {},
   "source": [
    "- 'delinq_amnt', values equal to 0 = 0, the rest = 1, becausue we decided that if the borrower doesn't have any sort of delinquent amount that they owe, they are less likely to commit default on a later loan."
   ]
  },
  {
   "cell_type": "code",
   "execution_count": 120,
   "metadata": {},
   "outputs": [
    {
     "name": "stderr",
     "output_type": "stream",
     "text": [
      "C:\\Users\\Luli\\Documents\\Anaconda\\lib\\site-packages\\ipykernel_launcher.py:1: SettingWithCopyWarning: \n",
      "A value is trying to be set on a copy of a slice from a DataFrame.\n",
      "Try using .loc[row_indexer,col_indexer] = value instead\n",
      "\n",
      "See the caveats in the documentation: http://pandas.pydata.org/pandas-docs/stable/user_guide/indexing.html#returning-a-view-versus-a-copy\n",
      "  \"\"\"Entry point for launching an IPython kernel.\n"
     ]
    }
   ],
   "source": [
    "loans_num[loans_num['delinq_amnt'] != 0] = 1"
   ]
  },
  {
   "cell_type": "code",
   "execution_count": 121,
   "metadata": {},
   "outputs": [
    {
     "name": "stderr",
     "output_type": "stream",
     "text": [
      "C:\\Users\\Luli\\Documents\\Anaconda\\lib\\site-packages\\ipykernel_launcher.py:1: SettingWithCopyWarning: \n",
      "A value is trying to be set on a copy of a slice from a DataFrame.\n",
      "Try using .loc[row_indexer,col_indexer] = value instead\n",
      "\n",
      "See the caveats in the documentation: http://pandas.pydata.org/pandas-docs/stable/user_guide/indexing.html#returning-a-view-versus-a-copy\n",
      "  \"\"\"Entry point for launching an IPython kernel.\n"
     ]
    }
   ],
   "source": [
    "loans_num['delinq_amnt'] = (loans_num['delinq_amnt'] == 1).astype(int)"
   ]
  },
  {
   "cell_type": "code",
   "execution_count": 122,
   "metadata": {},
   "outputs": [
    {
     "data": {
      "text/plain": [
       "array([0, 1], dtype=int64)"
      ]
     },
     "execution_count": 122,
     "metadata": {},
     "output_type": "execute_result"
    }
   ],
   "source": [
    "loans_num.delinq_amnt.unique()"
   ]
  },
  {
   "cell_type": "markdown",
   "metadata": {},
   "source": [
    "3. Replace other NaN values by the mean of their column or by 0."
   ]
  },
  {
   "cell_type": "markdown",
   "metadata": {},
   "source": [
    "Mean\n",
    "- annal_inc\n",
    "- mo_sin_rcnt_tl"
   ]
  },
  {
   "cell_type": "code",
   "execution_count": 123,
   "metadata": {},
   "outputs": [],
   "source": [
    "loans_num['annual_inc'].fillna(76163.16, inplace=True)"
   ]
  },
  {
   "cell_type": "code",
   "execution_count": 124,
   "metadata": {},
   "outputs": [],
   "source": [
    "loans_num['mo_sin_rcnt_tl'].fillna(7.84, inplace=True)"
   ]
  },
  {
   "cell_type": "markdown",
   "metadata": {},
   "source": [
    "0\n",
    "- mths_since_last_delinq"
   ]
  },
  {
   "cell_type": "code",
   "execution_count": 125,
   "metadata": {},
   "outputs": [],
   "source": [
    "loans_num['mths_since_last_delinq'].fillna(0, inplace=True)"
   ]
  },
  {
   "cell_type": "markdown",
   "metadata": {},
   "source": [
    "The next variables have information related to the progress of the loans that are accepted, so we have to delete them."
   ]
  },
  {
   "cell_type": "code",
   "execution_count": 126,
   "metadata": {},
   "outputs": [],
   "source": [
    "del loans_num['last_pymnt_amnt']\n",
    "del loans_num['total_pymnt']\n",
    "del loans_num['out_prncp']"
   ]
  },
  {
   "cell_type": "markdown",
   "metadata": {},
   "source": [
    "#### Scaling the numeric variables:\n",
    "\n",
    "When scaling the numeric variables, we have to remember that we cannot include the dependent variable \"default\", so we exclude it from this process and will include it again later on."
   ]
  },
  {
   "cell_type": "code",
   "execution_count": 127,
   "metadata": {},
   "outputs": [
    {
     "data": {
      "text/html": [
       "<div>\n",
       "<style scoped>\n",
       "    .dataframe tbody tr th:only-of-type {\n",
       "        vertical-align: middle;\n",
       "    }\n",
       "\n",
       "    .dataframe tbody tr th {\n",
       "        vertical-align: top;\n",
       "    }\n",
       "\n",
       "    .dataframe thead th {\n",
       "        text-align: right;\n",
       "    }\n",
       "</style>\n",
       "<table border=\"1\" class=\"dataframe\">\n",
       "  <thead>\n",
       "    <tr style=\"text-align: right;\">\n",
       "      <th></th>\n",
       "      <th>acc_now_delinq</th>\n",
       "      <th>acc_open_past_24mths</th>\n",
       "      <th>all_util</th>\n",
       "      <th>annual_inc</th>\n",
       "      <th>delinq_2yrs</th>\n",
       "      <th>delinq_amnt</th>\n",
       "      <th>dti</th>\n",
       "      <th>funded_amnt</th>\n",
       "      <th>installment</th>\n",
       "      <th>int_rate</th>\n",
       "      <th>...</th>\n",
       "      <th>mths_since_last_delinq</th>\n",
       "      <th>num_accts_ever_120_pd</th>\n",
       "      <th>num_il_tl</th>\n",
       "      <th>num_sats</th>\n",
       "      <th>num_tl_120dpd_2m</th>\n",
       "      <th>pub_rec_bankruptcies</th>\n",
       "      <th>recoveries</th>\n",
       "      <th>tot_coll_amt</th>\n",
       "      <th>tot_cur_bal</th>\n",
       "      <th>total_acc</th>\n",
       "    </tr>\n",
       "  </thead>\n",
       "  <tbody>\n",
       "    <tr>\n",
       "      <td>0</td>\n",
       "      <td>0.0</td>\n",
       "      <td>0.178571</td>\n",
       "      <td>0.0</td>\n",
       "      <td>0.005637</td>\n",
       "      <td>0.025641</td>\n",
       "      <td>0.0</td>\n",
       "      <td>0.02084</td>\n",
       "      <td>0.496862</td>\n",
       "      <td>0.307853</td>\n",
       "      <td>0.640213</td>\n",
       "      <td>...</td>\n",
       "      <td>0.061947</td>\n",
       "      <td>0.000000</td>\n",
       "      <td>0.106918</td>\n",
       "      <td>0.211111</td>\n",
       "      <td>0.0</td>\n",
       "      <td>0.000000</td>\n",
       "      <td>0.0</td>\n",
       "      <td>7.070165e-04</td>\n",
       "      <td>0.010120</td>\n",
       "      <td>0.245714</td>\n",
       "    </tr>\n",
       "    <tr>\n",
       "      <td>1</td>\n",
       "      <td>0.0</td>\n",
       "      <td>0.089286</td>\n",
       "      <td>0.0</td>\n",
       "      <td>0.003182</td>\n",
       "      <td>0.000000</td>\n",
       "      <td>0.0</td>\n",
       "      <td>0.00776</td>\n",
       "      <td>0.099977</td>\n",
       "      <td>0.073798</td>\n",
       "      <td>0.272424</td>\n",
       "      <td>...</td>\n",
       "      <td>0.000000</td>\n",
       "      <td>0.000000</td>\n",
       "      <td>0.018868</td>\n",
       "      <td>0.055556</td>\n",
       "      <td>0.0</td>\n",
       "      <td>0.000000</td>\n",
       "      <td>0.0</td>\n",
       "      <td>0.000000e+00</td>\n",
       "      <td>0.000457</td>\n",
       "      <td>0.034286</td>\n",
       "    </tr>\n",
       "    <tr>\n",
       "      <td>2</td>\n",
       "      <td>0.0</td>\n",
       "      <td>NaN</td>\n",
       "      <td>0.0</td>\n",
       "      <td>0.005455</td>\n",
       "      <td>0.000000</td>\n",
       "      <td>0.0</td>\n",
       "      <td>0.00680</td>\n",
       "      <td>0.249981</td>\n",
       "      <td>0.181933</td>\n",
       "      <td>0.230077</td>\n",
       "      <td>...</td>\n",
       "      <td>0.000000</td>\n",
       "      <td>0.000000</td>\n",
       "      <td>0.031447</td>\n",
       "      <td>0.055556</td>\n",
       "      <td>1.0</td>\n",
       "      <td>0.000000</td>\n",
       "      <td>0.0</td>\n",
       "      <td>3.277777e-07</td>\n",
       "      <td>0.000000</td>\n",
       "      <td>0.051429</td>\n",
       "    </tr>\n",
       "    <tr>\n",
       "      <td>3</td>\n",
       "      <td>0.0</td>\n",
       "      <td>0.214286</td>\n",
       "      <td>0.0</td>\n",
       "      <td>0.006864</td>\n",
       "      <td>0.000000</td>\n",
       "      <td>0.0</td>\n",
       "      <td>0.01780</td>\n",
       "      <td>0.087477</td>\n",
       "      <td>0.065742</td>\n",
       "      <td>0.315772</td>\n",
       "      <td>...</td>\n",
       "      <td>0.185841</td>\n",
       "      <td>0.019608</td>\n",
       "      <td>0.044025</td>\n",
       "      <td>0.177778</td>\n",
       "      <td>0.0</td>\n",
       "      <td>0.000000</td>\n",
       "      <td>0.0</td>\n",
       "      <td>7.254813e-05</td>\n",
       "      <td>0.025454</td>\n",
       "      <td>0.160000</td>\n",
       "    </tr>\n",
       "    <tr>\n",
       "      <td>4</td>\n",
       "      <td>0.0</td>\n",
       "      <td>0.035714</td>\n",
       "      <td>0.0</td>\n",
       "      <td>0.005346</td>\n",
       "      <td>0.000000</td>\n",
       "      <td>0.0</td>\n",
       "      <td>0.02706</td>\n",
       "      <td>0.306233</td>\n",
       "      <td>0.217560</td>\n",
       "      <td>0.866622</td>\n",
       "      <td>...</td>\n",
       "      <td>0.000000</td>\n",
       "      <td>0.000000</td>\n",
       "      <td>0.031447</td>\n",
       "      <td>0.066667</td>\n",
       "      <td>0.0</td>\n",
       "      <td>0.083333</td>\n",
       "      <td>0.0</td>\n",
       "      <td>0.000000e+00</td>\n",
       "      <td>0.006829</td>\n",
       "      <td>0.045714</td>\n",
       "    </tr>\n",
       "  </tbody>\n",
       "</table>\n",
       "<p>5 rows × 22 columns</p>\n",
       "</div>"
      ],
      "text/plain": [
       "   acc_now_delinq  acc_open_past_24mths  all_util  annual_inc  delinq_2yrs  \\\n",
       "0             0.0              0.178571       0.0    0.005637     0.025641   \n",
       "1             0.0              0.089286       0.0    0.003182     0.000000   \n",
       "2             0.0                   NaN       0.0    0.005455     0.000000   \n",
       "3             0.0              0.214286       0.0    0.006864     0.000000   \n",
       "4             0.0              0.035714       0.0    0.005346     0.000000   \n",
       "\n",
       "   delinq_amnt      dti  funded_amnt  installment  int_rate  ...  \\\n",
       "0          0.0  0.02084     0.496862     0.307853  0.640213  ...   \n",
       "1          0.0  0.00776     0.099977     0.073798  0.272424  ...   \n",
       "2          0.0  0.00680     0.249981     0.181933  0.230077  ...   \n",
       "3          0.0  0.01780     0.087477     0.065742  0.315772  ...   \n",
       "4          0.0  0.02706     0.306233     0.217560  0.866622  ...   \n",
       "\n",
       "   mths_since_last_delinq  num_accts_ever_120_pd  num_il_tl  num_sats  \\\n",
       "0                0.061947               0.000000   0.106918  0.211111   \n",
       "1                0.000000               0.000000   0.018868  0.055556   \n",
       "2                0.000000               0.000000   0.031447  0.055556   \n",
       "3                0.185841               0.019608   0.044025  0.177778   \n",
       "4                0.000000               0.000000   0.031447  0.066667   \n",
       "\n",
       "   num_tl_120dpd_2m  pub_rec_bankruptcies  recoveries  tot_coll_amt  \\\n",
       "0               0.0              0.000000         0.0  7.070165e-04   \n",
       "1               0.0              0.000000         0.0  0.000000e+00   \n",
       "2               1.0              0.000000         0.0  3.277777e-07   \n",
       "3               0.0              0.000000         0.0  7.254813e-05   \n",
       "4               0.0              0.083333         0.0  0.000000e+00   \n",
       "\n",
       "   tot_cur_bal  total_acc  \n",
       "0     0.010120   0.245714  \n",
       "1     0.000457   0.034286  \n",
       "2     0.000000   0.051429  \n",
       "3     0.025454   0.160000  \n",
       "4     0.006829   0.045714  \n",
       "\n",
       "[5 rows x 22 columns]"
      ]
     },
     "execution_count": 127,
     "metadata": {},
     "output_type": "execute_result"
    }
   ],
   "source": [
    "scaler = MinMaxScaler()\n",
    "scaled_loans = scaler.fit_transform(loans_num.iloc[:,1:])\n",
    "scaled_loans = pd.DataFrame(scaled_loans, columns=['acc_now_delinq', 'acc_open_past_24mths', 'all_util', 'annual_inc',\n",
    "                                                   'delinq_2yrs','delinq_amnt','dti','funded_amnt','installment','int_rate',\n",
    "                                                   'loan_amnt','mo_sin_rcnt_tl','mths_since_last_delinq','num_accts_ever_120_pd',\n",
    "                                                   'num_il_tl','num_sats','num_tl_120dpd_2m','pub_rec_bankruptcies','recoveries',\n",
    "                                                   'tot_coll_amt','tot_cur_bal','total_acc'])\n",
    "scaled_loans.head()"
   ]
  },
  {
   "cell_type": "markdown",
   "metadata": {},
   "source": [
    "### 5.2. Treatment of the categorical dataset: Dummies"
   ]
  },
  {
   "cell_type": "markdown",
   "metadata": {},
   "source": [
    "#### Dummies"
   ]
  },
  {
   "cell_type": "code",
   "execution_count": 128,
   "metadata": {},
   "outputs": [
    {
     "data": {
      "text/plain": [
       "Index(['addr_state', 'application_type', 'desc', 'emp_length', 'grade',\n",
       "       'home_ownership', 'initial_list_status', 'term', 'title',\n",
       "       'debt_settlement_flag'],\n",
       "      dtype='object')"
      ]
     },
     "execution_count": 128,
     "metadata": {},
     "output_type": "execute_result"
    }
   ],
   "source": [
    "# categoric dummies\n",
    "loans_cat.columns"
   ]
  },
  {
   "cell_type": "markdown",
   "metadata": {},
   "source": [
    "### addr_state "
   ]
  },
  {
   "cell_type": "markdown",
   "metadata": {},
   "source": [
    "To transform this variable into dummie, since there are a lot of different values, we decide to group them. After analyzing the variable's histogram, we concluded that the best way to divide the values was into four different groups, based on how influential they were to the variable. The division was made as follows."
   ]
  },
  {
   "cell_type": "code",
   "execution_count": 129,
   "metadata": {},
   "outputs": [
    {
     "data": {
      "text/plain": [
       "<matplotlib.axes._subplots.AxesSubplot at 0x2564486c548>"
      ]
     },
     "execution_count": 129,
     "metadata": {},
     "output_type": "execute_result"
    },
    {
     "data": {
      "image/png": "[encoded data removed]",
      "text/plain": [
       "<Figure size 1440x720 with 1 Axes>"
      ]
     },
     "metadata": {
      "needs_background": "light"
     },
     "output_type": "display_data"
    }
   ],
   "source": [
    "loans_cat.addr_state.hist(figsize = (20,10))"
   ]
  },
  {
   "cell_type": "code",
   "execution_count": 130,
   "metadata": {},
   "outputs": [
    {
     "data": {
      "text/plain": [
       "array(['AR', 'NJ', 'TX', 'GA', 'FL', 'OH', 'LA', 'VA', 'CA', 'NC', 'MD',\n",
       "       'IL', 'MI', 'NY', 'IN', 'CO', 'SC', 'TN', 'KY', 'MA', 'RI', 'MO',\n",
       "       'NM', 'OK', 'PA', 'HI', 'NH', 'MS', 'KS', 'WY', 'WV', 'AL', 'WI',\n",
       "       'DE', 'NE', 'AZ', 'NV', 'ND', 'CT', 'MN', 'WA', 'AK', 'UT', 'VT',\n",
       "       'MT', 'OR', 'ID', 'SD', 'DC', 'ME', 'IA'], dtype=object)"
      ]
     },
     "execution_count": 130,
     "metadata": {},
     "output_type": "execute_result"
    }
   ],
   "source": [
    "loans_cat.addr_state.unique()"
   ]
  },
  {
   "cell_type": "code",
   "execution_count": 131,
   "metadata": {},
   "outputs": [
    {
     "name": "stderr",
     "output_type": "stream",
     "text": [
      "C:\\Users\\Luli\\Documents\\Anaconda\\lib\\site-packages\\ipykernel_launcher.py:3: SettingWithCopyWarning: \n",
      "A value is trying to be set on a copy of a slice from a DataFrame.\n",
      "Try using .loc[row_indexer,col_indexer] = value instead\n",
      "\n",
      "See the caveats in the documentation: http://pandas.pydata.org/pandas-docs/stable/user_guide/indexing.html#returning-a-view-versus-a-copy\n",
      "  This is separate from the ipykernel package so we can avoid doing imports until\n"
     ]
    }
   ],
   "source": [
    "loans_cat['addr_state'] = np.where((loans_cat['addr_state'] == 'CA') | (loans_cat['addr_state'] == 'OH') | \n",
    "                                       (loans_cat['addr_state'] == 'WA') | (loans_cat['addr_state'] == 'TX') | \n",
    "                               (loans_cat['addr_state'] == 'MA'), 'first', loans_cat['addr_state'].values)"
   ]
  },
  {
   "cell_type": "code",
   "execution_count": 132,
   "metadata": {},
   "outputs": [
    {
     "name": "stderr",
     "output_type": "stream",
     "text": [
      "C:\\Users\\Luli\\Documents\\Anaconda\\lib\\site-packages\\ipykernel_launcher.py:3: SettingWithCopyWarning: \n",
      "A value is trying to be set on a copy of a slice from a DataFrame.\n",
      "Try using .loc[row_indexer,col_indexer] = value instead\n",
      "\n",
      "See the caveats in the documentation: http://pandas.pydata.org/pandas-docs/stable/user_guide/indexing.html#returning-a-view-versus-a-copy\n",
      "  This is separate from the ipykernel package so we can avoid doing imports until\n"
     ]
    }
   ],
   "source": [
    "loans_cat['addr_state'] = np.where((loans_cat['addr_state'] == 'PA') | (loans_cat['addr_state'] == 'MI') | \n",
    "                                       (loans_cat['addr_state'] == 'ID') | (loans_cat['addr_state'] == 'AZ') | \n",
    "                               (loans_cat['addr_state'] == 'NY'), 'second', loans_cat['addr_state'].values)"
   ]
  },
  {
   "cell_type": "code",
   "execution_count": 133,
   "metadata": {},
   "outputs": [
    {
     "name": "stderr",
     "output_type": "stream",
     "text": [
      "C:\\Users\\Luli\\Documents\\Anaconda\\lib\\site-packages\\ipykernel_launcher.py:8: SettingWithCopyWarning: \n",
      "A value is trying to be set on a copy of a slice from a DataFrame.\n",
      "Try using .loc[row_indexer,col_indexer] = value instead\n",
      "\n",
      "See the caveats in the documentation: http://pandas.pydata.org/pandas-docs/stable/user_guide/indexing.html#returning-a-view-versus-a-copy\n",
      "  \n"
     ]
    }
   ],
   "source": [
    "loans_cat['addr_state'] = np.where((loans_cat['addr_state'] == 'LA') | (loans_cat['addr_state'] == 'RI') | \n",
    "                                       (loans_cat['addr_state'] == 'IL') | (loans_cat['addr_state'] == 'TN') | \n",
    "                               (loans_cat['addr_state'] == 'NV') | (loans_cat['addr_state'] == 'MN') | (loans_cat['addr_state'] == 'NM')\n",
    "                                   | (loans_cat['addr_state'] == 'NJ') | (loans_cat['addr_state'] == 'CO') | (loans_cat['addr_state'] == 'VA') |\n",
    "                                   (loans_cat['addr_state'] == 'NC') | (loans_cat['addr_state'] == 'FL') | (loans_cat['addr_state'] == 'KY') |\n",
    "                                   (loans_cat['addr_state'] == 'OK') | (loans_cat['addr_state'] == 'CT') | (loans_cat['addr_state'] == 'MD') |\n",
    "                                   (loans_cat['addr_state'] == 'NH') | (loans_cat['addr_state'] == 'IN') | (loans_cat['addr_state'] == 'GA') |\n",
    "                                   (loans_cat['addr_state'] == 'AL'), 'third', loans_cat['addr_state'].values)"
   ]
  },
  {
   "cell_type": "code",
   "execution_count": 134,
   "metadata": {},
   "outputs": [
    {
     "name": "stderr",
     "output_type": "stream",
     "text": [
      "C:\\Users\\Luli\\Documents\\Anaconda\\lib\\site-packages\\ipykernel_launcher.py:11: SettingWithCopyWarning: \n",
      "A value is trying to be set on a copy of a slice from a DataFrame.\n",
      "Try using .loc[row_indexer,col_indexer] = value instead\n",
      "\n",
      "See the caveats in the documentation: http://pandas.pydata.org/pandas-docs/stable/user_guide/indexing.html#returning-a-view-versus-a-copy\n",
      "  # This is added back by InteractiveShellApp.init_path()\n"
     ]
    }
   ],
   "source": [
    "loans_cat['addr_state'] = np.where((loans_cat['addr_state'] == 'MT') | (loans_cat['addr_state'] == 'SC') | \n",
    "                                       (loans_cat['addr_state'] == 'DC') | (loans_cat['addr_state'] == 'OR') | \n",
    "                               (loans_cat['addr_state'] == 'NE') | (loans_cat['addr_state'] == 'KS') | \n",
    "                                   (loans_cat['addr_state'] == 'HI') | (loans_cat['addr_state'] == 'AK') | \n",
    "                                   (loans_cat['addr_state'] == 'VT') | (loans_cat['addr_state'] == 'MO') |\n",
    "                                   (loans_cat['addr_state'] == 'UT') | (loans_cat['addr_state'] == 'AR') | \n",
    "                                   (loans_cat['addr_state'] == 'MS') | (loans_cat['addr_state'] == 'WI') | \n",
    "                                   (loans_cat['addr_state'] == 'ND') | (loans_cat['addr_state'] == 'DE') |\n",
    "                                   (loans_cat['addr_state'] == 'WV') | (loans_cat['addr_state'] == 'ME') | \n",
    "                                   (loans_cat['addr_state'] == 'SD') | (loans_cat['addr_state'] == 'WY') |\n",
    "                                   (loans_cat['addr_state'] == 'IA'), 'fourth', loans_cat['addr_state'].values)"
   ]
  },
  {
   "cell_type": "code",
   "execution_count": 135,
   "metadata": {},
   "outputs": [
    {
     "data": {
      "text/plain": [
       "array(['fourth', 'third', 'first', 'second'], dtype=object)"
      ]
     },
     "execution_count": 135,
     "metadata": {},
     "output_type": "execute_result"
    }
   ],
   "source": [
    "loans_cat.addr_state.unique()"
   ]
  },
  {
   "cell_type": "markdown",
   "metadata": {},
   "source": [
    "### emp_length "
   ]
  },
  {
   "cell_type": "markdown",
   "metadata": {},
   "source": [
    "To make this variable into dummies but not create too many variables for our models, we decided to treat this variable like the state variable previously, dividing into groups that we classified according to the values that we considered to be more similar. The variables are divided into three groups and are made as follows:"
   ]
  },
  {
   "cell_type": "code",
   "execution_count": 136,
   "metadata": {},
   "outputs": [
    {
     "name": "stderr",
     "output_type": "stream",
     "text": [
      "C:\\Users\\Luli\\Documents\\Anaconda\\lib\\site-packages\\pandas\\core\\generic.py:6287: SettingWithCopyWarning: \n",
      "A value is trying to be set on a copy of a slice from a DataFrame\n",
      "\n",
      "See the caveats in the documentation: http://pandas.pydata.org/pandas-docs/stable/user_guide/indexing.html#returning-a-view-versus-a-copy\n",
      "  self._update_inplace(new_data)\n"
     ]
    }
   ],
   "source": [
    "loans_cat['emp_length'].fillna(0, inplace=True)"
   ]
  },
  {
   "cell_type": "code",
   "execution_count": 137,
   "metadata": {},
   "outputs": [
    {
     "data": {
      "text/plain": [
       "array(['< 1 year', '4 years', '1 year', '10+ years', 0, '7 years',\n",
       "       '8 years', '5 years', '6 years', '9 years', '3 years', '2 years'],\n",
       "      dtype=object)"
      ]
     },
     "execution_count": 137,
     "metadata": {},
     "output_type": "execute_result"
    }
   ],
   "source": [
    "loans_cat.emp_length.unique()"
   ]
  },
  {
   "cell_type": "code",
   "execution_count": 138,
   "metadata": {},
   "outputs": [],
   "source": [
    "#tramificar"
   ]
  },
  {
   "cell_type": "code",
   "execution_count": 139,
   "metadata": {},
   "outputs": [
    {
     "name": "stderr",
     "output_type": "stream",
     "text": [
      "C:\\Users\\Luli\\Documents\\Anaconda\\lib\\site-packages\\ipykernel_launcher.py:3: SettingWithCopyWarning: \n",
      "A value is trying to be set on a copy of a slice from a DataFrame.\n",
      "Try using .loc[row_indexer,col_indexer] = value instead\n",
      "\n",
      "See the caveats in the documentation: http://pandas.pydata.org/pandas-docs/stable/user_guide/indexing.html#returning-a-view-versus-a-copy\n",
      "  This is separate from the ipykernel package so we can avoid doing imports until\n",
      "C:\\Users\\Luli\\Documents\\Anaconda\\lib\\site-packages\\ipykernel_launcher.py:8: SettingWithCopyWarning: \n",
      "A value is trying to be set on a copy of a slice from a DataFrame.\n",
      "Try using .loc[row_indexer,col_indexer] = value instead\n",
      "\n",
      "See the caveats in the documentation: http://pandas.pydata.org/pandas-docs/stable/user_guide/indexing.html#returning-a-view-versus-a-copy\n",
      "  \n",
      "C:\\Users\\Luli\\Documents\\Anaconda\\lib\\site-packages\\ipykernel_launcher.py:10: SettingWithCopyWarning: \n",
      "A value is trying to be set on a copy of a slice from a DataFrame.\n",
      "Try using .loc[row_indexer,col_indexer] = value instead\n",
      "\n",
      "See the caveats in the documentation: http://pandas.pydata.org/pandas-docs/stable/user_guide/indexing.html#returning-a-view-versus-a-copy\n",
      "  # Remove the CWD from sys.path while we load stuff.\n"
     ]
    }
   ],
   "source": [
    "loans_cat['emp_length'] = np.where((loans_cat['emp_length'] == '< 1 year') | (loans_cat['emp_length'] == '1 year') | \n",
    "                                       (loans_cat['emp_length'] == '2 years') | (loans_cat['emp_length'] == '3 years') | \n",
    "                               (loans_cat['emp_length'] == 0), '0-3', loans_cat['emp_length'].values)\n",
    "\n",
    "loans_cat['emp_length'] = np.where((loans_cat['emp_length'] == '4 years') | (loans_cat['emp_length'] == '5 years') | \n",
    "                                       (loans_cat['emp_length'] == '6 years') | (loans_cat['emp_length'] == '7 years') | \n",
    "                               (loans_cat['emp_length'] == '8 years') | \n",
    "                               (loans_cat['emp_length'] == '9 years'), '4-9', loans_cat['emp_length'].values)\n",
    "\n",
    "loans_cat['emp_length'] = np.where((loans_cat['emp_length'] == '10+ years'), '10+', loans_cat['emp_length'].values)"
   ]
  },
  {
   "cell_type": "code",
   "execution_count": 140,
   "metadata": {},
   "outputs": [
    {
     "data": {
      "text/plain": [
       "array(['0-3', '4-9', '10+'], dtype=object)"
      ]
     },
     "execution_count": 140,
     "metadata": {},
     "output_type": "execute_result"
    }
   ],
   "source": [
    "loans_cat.emp_length.unique()"
   ]
  },
  {
   "cell_type": "markdown",
   "metadata": {},
   "source": [
    "###  home_ownership"
   ]
  },
  {
   "cell_type": "markdown",
   "metadata": {},
   "source": [
    "The only this that we decided to treat in this variable before turning it into a dummie variable is to group \"ANY\", \"OTHER\" and the missing values into the same category, as we found that these three do not explain anything specific about the borrower; there is no additional information in any of them. "
   ]
  },
  {
   "cell_type": "code",
   "execution_count": 141,
   "metadata": {},
   "outputs": [
    {
     "data": {
      "text/plain": [
       "array(['MORTGAGE', 'RENT', 'OWN', 'OTHER', 'NONE', 'ANY'], dtype=object)"
      ]
     },
     "execution_count": 141,
     "metadata": {},
     "output_type": "execute_result"
    }
   ],
   "source": [
    "loans_cat.home_ownership.unique()"
   ]
  },
  {
   "cell_type": "code",
   "execution_count": 142,
   "metadata": {},
   "outputs": [
    {
     "name": "stderr",
     "output_type": "stream",
     "text": [
      "C:\\Users\\Luli\\Documents\\Anaconda\\lib\\site-packages\\pandas\\core\\indexing.py:205: SettingWithCopyWarning: \n",
      "A value is trying to be set on a copy of a slice from a DataFrame\n",
      "\n",
      "See the caveats in the documentation: http://pandas.pydata.org/pandas-docs/stable/user_guide/indexing.html#returning-a-view-versus-a-copy\n",
      "  self._setitem_with_indexer(indexer, value)\n",
      "C:\\Users\\Luli\\Documents\\Anaconda\\lib\\site-packages\\ipykernel_launcher.py:1: SettingWithCopyWarning: \n",
      "A value is trying to be set on a copy of a slice from a DataFrame\n",
      "\n",
      "See the caveats in the documentation: http://pandas.pydata.org/pandas-docs/stable/user_guide/indexing.html#returning-a-view-versus-a-copy\n",
      "  \"\"\"Entry point for launching an IPython kernel.\n"
     ]
    }
   ],
   "source": [
    "loans_cat.loc[loans_cat['home_ownership'] == 'ANY', 'home_ownership'] = 'OTHER'"
   ]
  },
  {
   "cell_type": "code",
   "execution_count": 143,
   "metadata": {},
   "outputs": [
    {
     "data": {
      "text/plain": [
       "array(['MORTGAGE', 'RENT', 'OWN', 'OTHER', 'NONE'], dtype=object)"
      ]
     },
     "execution_count": 143,
     "metadata": {},
     "output_type": "execute_result"
    }
   ],
   "source": [
    "loans_cat.home_ownership.unique()"
   ]
  },
  {
   "cell_type": "markdown",
   "metadata": {},
   "source": [
    "### application_type "
   ]
  },
  {
   "cell_type": "markdown",
   "metadata": {},
   "source": [
    "In the case of this variable, as explained earlier, we concluded that the applications that were made with two co-borrowers it is more likely to be paid back on our loan that with only one borrower, so we asign a 1 and a 0 to each unique value."
   ]
  },
  {
   "cell_type": "code",
   "execution_count": 144,
   "metadata": {},
   "outputs": [
    {
     "name": "stderr",
     "output_type": "stream",
     "text": [
      "C:\\Users\\Luli\\Documents\\Anaconda\\lib\\site-packages\\ipykernel_launcher.py:1: SettingWithCopyWarning: \n",
      "A value is trying to be set on a copy of a slice from a DataFrame.\n",
      "Try using .loc[row_indexer,col_indexer] = value instead\n",
      "\n",
      "See the caveats in the documentation: http://pandas.pydata.org/pandas-docs/stable/user_guide/indexing.html#returning-a-view-versus-a-copy\n",
      "  \"\"\"Entry point for launching an IPython kernel.\n",
      "C:\\Users\\Luli\\Documents\\Anaconda\\lib\\site-packages\\pandas\\core\\frame.py:3488: SettingWithCopyWarning: \n",
      "A value is trying to be set on a copy of a slice from a DataFrame\n",
      "\n",
      "See the caveats in the documentation: http://pandas.pydata.org/pandas-docs/stable/user_guide/indexing.html#returning-a-view-versus-a-copy\n",
      "  self.loc._setitem_with_indexer(indexer, value)\n",
      "C:\\Users\\Luli\\Documents\\Anaconda\\lib\\site-packages\\pandas\\core\\frame.py:3469: SettingWithCopyWarning: \n",
      "A value is trying to be set on a copy of a slice from a DataFrame\n",
      "\n",
      "See the caveats in the documentation: http://pandas.pydata.org/pandas-docs/stable/user_guide/indexing.html#returning-a-view-versus-a-copy\n",
      "  self._setitem_array(key, value)\n",
      "C:\\Users\\Luli\\Documents\\Anaconda\\lib\\site-packages\\ipykernel_launcher.py:2: SettingWithCopyWarning: \n",
      "A value is trying to be set on a copy of a slice from a DataFrame.\n",
      "Try using .loc[row_indexer,col_indexer] = value instead\n",
      "\n",
      "See the caveats in the documentation: http://pandas.pydata.org/pandas-docs/stable/user_guide/indexing.html#returning-a-view-versus-a-copy\n",
      "  \n"
     ]
    }
   ],
   "source": [
    "loans_cat[loans_cat['application_type'] == 'joint app'] = 1\n",
    "loans_cat[loans_cat['application_type'] == 'inidv'] = 0"
   ]
  },
  {
   "cell_type": "markdown",
   "metadata": {},
   "source": [
    "### initial_list_status, term, debt_settlement_flag, grade"
   ]
  },
  {
   "cell_type": "markdown",
   "metadata": {},
   "source": [
    "These three variables have no missing values, so we can just turn these into dummies directly."
   ]
  },
  {
   "cell_type": "code",
   "execution_count": 145,
   "metadata": {},
   "outputs": [
    {
     "data": {
      "text/plain": [
       "array(['f', 'w'], dtype=object)"
      ]
     },
     "execution_count": 145,
     "metadata": {},
     "output_type": "execute_result"
    }
   ],
   "source": [
    "loans_cat.initial_list_status.unique()"
   ]
  },
  {
   "cell_type": "code",
   "execution_count": 146,
   "metadata": {},
   "outputs": [
    {
     "data": {
      "text/plain": [
       "array([' 60 months', ' 36 months'], dtype=object)"
      ]
     },
     "execution_count": 146,
     "metadata": {},
     "output_type": "execute_result"
    }
   ],
   "source": [
    "loans_cat.term.unique()"
   ]
  },
  {
   "cell_type": "code",
   "execution_count": 147,
   "metadata": {},
   "outputs": [
    {
     "data": {
      "text/plain": [
       "array(['N', 'Y'], dtype=object)"
      ]
     },
     "execution_count": 147,
     "metadata": {},
     "output_type": "execute_result"
    }
   ],
   "source": [
    "loans_cat.debt_settlement_flag.unique()"
   ]
  },
  {
   "cell_type": "code",
   "execution_count": 148,
   "metadata": {},
   "outputs": [
    {
     "data": {
      "text/plain": [
       "array(['E', 'B', 'A', 'F', 'C', 'D', 'G'], dtype=object)"
      ]
     },
     "execution_count": 148,
     "metadata": {},
     "output_type": "execute_result"
    }
   ],
   "source": [
    "loans_cat.grade.unique()"
   ]
  },
  {
   "cell_type": "markdown",
   "metadata": {},
   "source": [
    "### title "
   ]
  },
  {
   "cell_type": "markdown",
   "metadata": {},
   "source": [
    "The only values that we considered as relevant in this variable were \"Debt consolidation\" and \"Credit card refinancing\", as they are the only reaosns out of all offered in the variable which are related to a difficulty in payment or higher chances of delinquency. We decided to fill all the cases where these values were recored with a 1 and the rest with 0. "
   ]
  },
  {
   "cell_type": "code",
   "execution_count": 149,
   "metadata": {},
   "outputs": [
    {
     "data": {
      "text/plain": [
       "array(['Debt consolidation', 'Wedding Expense', 'Other', ...,\n",
       "       'CREDIT CARD LESSONS', ' DEBT PAYDOWN', 'NO LONGSHOT HERE'],\n",
       "      dtype=object)"
      ]
     },
     "execution_count": 149,
     "metadata": {},
     "output_type": "execute_result"
    }
   ],
   "source": [
    "loans_cat.title.unique()"
   ]
  },
  {
   "cell_type": "code",
   "execution_count": 150,
   "metadata": {},
   "outputs": [],
   "source": [
    "loans_cat['title'].fillna(1, inplace=True)"
   ]
  },
  {
   "cell_type": "code",
   "execution_count": 151,
   "metadata": {},
   "outputs": [
    {
     "name": "stderr",
     "output_type": "stream",
     "text": [
      "C:\\Users\\Luli\\Documents\\Anaconda\\lib\\site-packages\\ipykernel_launcher.py:1: SettingWithCopyWarning: \n",
      "A value is trying to be set on a copy of a slice from a DataFrame\n",
      "\n",
      "See the caveats in the documentation: http://pandas.pydata.org/pandas-docs/stable/user_guide/indexing.html#returning-a-view-versus-a-copy\n",
      "  \"\"\"Entry point for launching an IPython kernel.\n"
     ]
    }
   ],
   "source": [
    "loans_cat.loc[loans_cat['title'] == 'Debt consolidation', 'title'] = 1"
   ]
  },
  {
   "cell_type": "code",
   "execution_count": 152,
   "metadata": {},
   "outputs": [
    {
     "name": "stderr",
     "output_type": "stream",
     "text": [
      "C:\\Users\\Luli\\Documents\\Anaconda\\lib\\site-packages\\ipykernel_launcher.py:1: SettingWithCopyWarning: \n",
      "A value is trying to be set on a copy of a slice from a DataFrame\n",
      "\n",
      "See the caveats in the documentation: http://pandas.pydata.org/pandas-docs/stable/user_guide/indexing.html#returning-a-view-versus-a-copy\n",
      "  \"\"\"Entry point for launching an IPython kernel.\n"
     ]
    }
   ],
   "source": [
    "loans_cat.loc[loans_cat['title'] == 'Credit card refinancing', 'title'] = 1"
   ]
  },
  {
   "cell_type": "code",
   "execution_count": 153,
   "metadata": {},
   "outputs": [
    {
     "name": "stderr",
     "output_type": "stream",
     "text": [
      "C:\\Users\\Luli\\Documents\\Anaconda\\lib\\site-packages\\ipykernel_launcher.py:1: SettingWithCopyWarning: \n",
      "A value is trying to be set on a copy of a slice from a DataFrame.\n",
      "Try using .loc[row_indexer,col_indexer] = value instead\n",
      "\n",
      "See the caveats in the documentation: http://pandas.pydata.org/pandas-docs/stable/user_guide/indexing.html#returning-a-view-versus-a-copy\n",
      "  \"\"\"Entry point for launching an IPython kernel.\n"
     ]
    }
   ],
   "source": [
    "loans_cat['title'] = (loans_cat['title'] == 1).astype(int)"
   ]
  },
  {
   "cell_type": "code",
   "execution_count": 154,
   "metadata": {},
   "outputs": [
    {
     "data": {
      "text/plain": [
       "array([1, 0], dtype=int64)"
      ]
     },
     "execution_count": 154,
     "metadata": {},
     "output_type": "execute_result"
    }
   ],
   "source": [
    "loans_cat.title.unique()"
   ]
  },
  {
   "cell_type": "markdown",
   "metadata": {},
   "source": [
    "### desc "
   ]
  },
  {
   "cell_type": "markdown",
   "metadata": {},
   "source": [
    "As explained in the beginning, we associated the lack of information in this variable to lack of intention from the borrower to let the bank know any additional information on their reasons for taking out a loan. This is a characteristic that could be due to privacy reasons or higher probability of delinquency. Due to this, we decided to fill all the missing values with a 1 and the cases in which information was given with 0. "
   ]
  },
  {
   "cell_type": "code",
   "execution_count": 155,
   "metadata": {
    "scrolled": true
   },
   "outputs": [],
   "source": [
    "loans_cat['desc'].fillna(1, inplace=True)"
   ]
  },
  {
   "cell_type": "code",
   "execution_count": 156,
   "metadata": {},
   "outputs": [
    {
     "name": "stderr",
     "output_type": "stream",
     "text": [
      "C:\\Users\\Luli\\Documents\\Anaconda\\lib\\site-packages\\ipykernel_launcher.py:1: SettingWithCopyWarning: \n",
      "A value is trying to be set on a copy of a slice from a DataFrame.\n",
      "Try using .loc[row_indexer,col_indexer] = value instead\n",
      "\n",
      "See the caveats in the documentation: http://pandas.pydata.org/pandas-docs/stable/user_guide/indexing.html#returning-a-view-versus-a-copy\n",
      "  \"\"\"Entry point for launching an IPython kernel.\n"
     ]
    }
   ],
   "source": [
    "loans_cat['desc'] = (loans_cat['desc'] == 1).astype(int) "
   ]
  },
  {
   "cell_type": "code",
   "execution_count": 157,
   "metadata": {},
   "outputs": [
    {
     "data": {
      "text/plain": [
       "array([1, 0], dtype=int64)"
      ]
     },
     "execution_count": 157,
     "metadata": {},
     "output_type": "execute_result"
    }
   ],
   "source": [
    "# check\n",
    "loans_cat.desc.unique()"
   ]
  },
  {
   "cell_type": "markdown",
   "metadata": {},
   "source": [
    "After treating all the categorical variables, we decide to check if there are any leftover missing values that we might have missed in the variables before executing the function to turn them into dummies. "
   ]
  },
  {
   "cell_type": "code",
   "execution_count": 158,
   "metadata": {},
   "outputs": [
    {
     "data": {
      "text/plain": [
       "addr_state              0\n",
       "application_type        0\n",
       "desc                    0\n",
       "emp_length              0\n",
       "grade                   0\n",
       "home_ownership          0\n",
       "initial_list_status     0\n",
       "term                    0\n",
       "title                   0\n",
       "debt_settlement_flag    0\n",
       "dtype: int64"
      ]
     },
     "execution_count": 158,
     "metadata": {},
     "output_type": "execute_result"
    }
   ],
   "source": [
    "loans_cat.isna().sum()"
   ]
  },
  {
   "cell_type": "markdown",
   "metadata": {},
   "source": [
    "We delete the next variable because we do not obtain this information until the loan is accepted, and there is no way for us to know this information before deciding to grant these loans. Up next we turn our variables into dummies."
   ]
  },
  {
   "cell_type": "code",
   "execution_count": 159,
   "metadata": {},
   "outputs": [],
   "source": [
    "del loans_cat['debt_settlement_flag']"
   ]
  },
  {
   "cell_type": "code",
   "execution_count": 160,
   "metadata": {},
   "outputs": [],
   "source": [
    "dummies = pd.get_dummies(loans_cat)"
   ]
  },
  {
   "cell_type": "code",
   "execution_count": 161,
   "metadata": {},
   "outputs": [
    {
     "data": {
      "text/html": [
       "<div>\n",
       "<style scoped>\n",
       "    .dataframe tbody tr th:only-of-type {\n",
       "        vertical-align: middle;\n",
       "    }\n",
       "\n",
       "    .dataframe tbody tr th {\n",
       "        vertical-align: top;\n",
       "    }\n",
       "\n",
       "    .dataframe thead th {\n",
       "        text-align: right;\n",
       "    }\n",
       "</style>\n",
       "<table border=\"1\" class=\"dataframe\">\n",
       "  <thead>\n",
       "    <tr style=\"text-align: right;\">\n",
       "      <th></th>\n",
       "      <th>desc</th>\n",
       "      <th>title</th>\n",
       "      <th>addr_state_first</th>\n",
       "      <th>addr_state_fourth</th>\n",
       "      <th>addr_state_second</th>\n",
       "      <th>addr_state_third</th>\n",
       "      <th>application_type_Individual</th>\n",
       "      <th>application_type_Joint App</th>\n",
       "      <th>emp_length_0-3</th>\n",
       "      <th>emp_length_10+</th>\n",
       "      <th>...</th>\n",
       "      <th>grade_G</th>\n",
       "      <th>home_ownership_MORTGAGE</th>\n",
       "      <th>home_ownership_NONE</th>\n",
       "      <th>home_ownership_OTHER</th>\n",
       "      <th>home_ownership_OWN</th>\n",
       "      <th>home_ownership_RENT</th>\n",
       "      <th>initial_list_status_f</th>\n",
       "      <th>initial_list_status_w</th>\n",
       "      <th>term_ 36 months</th>\n",
       "      <th>term_ 60 months</th>\n",
       "    </tr>\n",
       "  </thead>\n",
       "  <tbody>\n",
       "    <tr>\n",
       "      <td>0</td>\n",
       "      <td>1</td>\n",
       "      <td>1</td>\n",
       "      <td>0</td>\n",
       "      <td>1</td>\n",
       "      <td>0</td>\n",
       "      <td>0</td>\n",
       "      <td>1</td>\n",
       "      <td>0</td>\n",
       "      <td>1</td>\n",
       "      <td>0</td>\n",
       "      <td>...</td>\n",
       "      <td>0</td>\n",
       "      <td>1</td>\n",
       "      <td>0</td>\n",
       "      <td>0</td>\n",
       "      <td>0</td>\n",
       "      <td>0</td>\n",
       "      <td>1</td>\n",
       "      <td>0</td>\n",
       "      <td>0</td>\n",
       "      <td>1</td>\n",
       "    </tr>\n",
       "    <tr>\n",
       "      <td>1</td>\n",
       "      <td>1</td>\n",
       "      <td>1</td>\n",
       "      <td>0</td>\n",
       "      <td>0</td>\n",
       "      <td>0</td>\n",
       "      <td>1</td>\n",
       "      <td>1</td>\n",
       "      <td>0</td>\n",
       "      <td>0</td>\n",
       "      <td>0</td>\n",
       "      <td>...</td>\n",
       "      <td>0</td>\n",
       "      <td>0</td>\n",
       "      <td>0</td>\n",
       "      <td>0</td>\n",
       "      <td>0</td>\n",
       "      <td>1</td>\n",
       "      <td>0</td>\n",
       "      <td>1</td>\n",
       "      <td>1</td>\n",
       "      <td>0</td>\n",
       "    </tr>\n",
       "    <tr>\n",
       "      <td>2</td>\n",
       "      <td>0</td>\n",
       "      <td>0</td>\n",
       "      <td>1</td>\n",
       "      <td>0</td>\n",
       "      <td>0</td>\n",
       "      <td>0</td>\n",
       "      <td>1</td>\n",
       "      <td>0</td>\n",
       "      <td>1</td>\n",
       "      <td>0</td>\n",
       "      <td>...</td>\n",
       "      <td>0</td>\n",
       "      <td>1</td>\n",
       "      <td>0</td>\n",
       "      <td>0</td>\n",
       "      <td>0</td>\n",
       "      <td>0</td>\n",
       "      <td>1</td>\n",
       "      <td>0</td>\n",
       "      <td>1</td>\n",
       "      <td>0</td>\n",
       "    </tr>\n",
       "    <tr>\n",
       "      <td>3</td>\n",
       "      <td>1</td>\n",
       "      <td>0</td>\n",
       "      <td>1</td>\n",
       "      <td>0</td>\n",
       "      <td>0</td>\n",
       "      <td>0</td>\n",
       "      <td>1</td>\n",
       "      <td>0</td>\n",
       "      <td>1</td>\n",
       "      <td>0</td>\n",
       "      <td>...</td>\n",
       "      <td>0</td>\n",
       "      <td>1</td>\n",
       "      <td>0</td>\n",
       "      <td>0</td>\n",
       "      <td>0</td>\n",
       "      <td>0</td>\n",
       "      <td>0</td>\n",
       "      <td>1</td>\n",
       "      <td>1</td>\n",
       "      <td>0</td>\n",
       "    </tr>\n",
       "    <tr>\n",
       "      <td>4</td>\n",
       "      <td>1</td>\n",
       "      <td>1</td>\n",
       "      <td>0</td>\n",
       "      <td>0</td>\n",
       "      <td>0</td>\n",
       "      <td>1</td>\n",
       "      <td>1</td>\n",
       "      <td>0</td>\n",
       "      <td>0</td>\n",
       "      <td>1</td>\n",
       "      <td>...</td>\n",
       "      <td>0</td>\n",
       "      <td>0</td>\n",
       "      <td>0</td>\n",
       "      <td>0</td>\n",
       "      <td>0</td>\n",
       "      <td>1</td>\n",
       "      <td>0</td>\n",
       "      <td>1</td>\n",
       "      <td>0</td>\n",
       "      <td>1</td>\n",
       "    </tr>\n",
       "  </tbody>\n",
       "</table>\n",
       "<p>5 rows × 27 columns</p>\n",
       "</div>"
      ],
      "text/plain": [
       "   desc  title  addr_state_first  addr_state_fourth  addr_state_second  \\\n",
       "0     1      1                 0                  1                  0   \n",
       "1     1      1                 0                  0                  0   \n",
       "2     0      0                 1                  0                  0   \n",
       "3     1      0                 1                  0                  0   \n",
       "4     1      1                 0                  0                  0   \n",
       "\n",
       "   addr_state_third  application_type_Individual  application_type_Joint App  \\\n",
       "0                 0                            1                           0   \n",
       "1                 1                            1                           0   \n",
       "2                 0                            1                           0   \n",
       "3                 0                            1                           0   \n",
       "4                 1                            1                           0   \n",
       "\n",
       "   emp_length_0-3  emp_length_10+  ...  grade_G  home_ownership_MORTGAGE  \\\n",
       "0               1               0  ...        0                        1   \n",
       "1               0               0  ...        0                        0   \n",
       "2               1               0  ...        0                        1   \n",
       "3               1               0  ...        0                        1   \n",
       "4               0               1  ...        0                        0   \n",
       "\n",
       "   home_ownership_NONE  home_ownership_OTHER  home_ownership_OWN  \\\n",
       "0                    0                     0                   0   \n",
       "1                    0                     0                   0   \n",
       "2                    0                     0                   0   \n",
       "3                    0                     0                   0   \n",
       "4                    0                     0                   0   \n",
       "\n",
       "   home_ownership_RENT  initial_list_status_f  initial_list_status_w  \\\n",
       "0                    0                      1                      0   \n",
       "1                    1                      0                      1   \n",
       "2                    0                      1                      0   \n",
       "3                    0                      0                      1   \n",
       "4                    1                      0                      1   \n",
       "\n",
       "   term_ 36 months  term_ 60 months  \n",
       "0                0                1  \n",
       "1                1                0  \n",
       "2                1                0  \n",
       "3                1                0  \n",
       "4                0                1  \n",
       "\n",
       "[5 rows x 27 columns]"
      ]
     },
     "execution_count": 161,
     "metadata": {},
     "output_type": "execute_result"
    }
   ],
   "source": [
    "dummies.head()"
   ]
  },
  {
   "cell_type": "code",
   "execution_count": 162,
   "metadata": {},
   "outputs": [
    {
     "data": {
      "text/plain": [
       "desc                           0\n",
       "title                          0\n",
       "addr_state_first               0\n",
       "addr_state_fourth              0\n",
       "addr_state_second              0\n",
       "addr_state_third               0\n",
       "application_type_Individual    0\n",
       "application_type_Joint App     0\n",
       "emp_length_0-3                 0\n",
       "emp_length_10+                 0\n",
       "emp_length_4-9                 0\n",
       "grade_A                        0\n",
       "grade_B                        0\n",
       "grade_C                        0\n",
       "grade_D                        0\n",
       "grade_E                        0\n",
       "grade_F                        0\n",
       "grade_G                        0\n",
       "home_ownership_MORTGAGE        0\n",
       "home_ownership_NONE            0\n",
       "home_ownership_OTHER           0\n",
       "home_ownership_OWN             0\n",
       "home_ownership_RENT            0\n",
       "initial_list_status_f          0\n",
       "initial_list_status_w          0\n",
       "term_ 36 months                0\n",
       "term_ 60 months                0\n",
       "dtype: int64"
      ]
     },
     "execution_count": 162,
     "metadata": {},
     "output_type": "execute_result"
    }
   ],
   "source": [
    "# we check once more to see if there are any missing values in our dummy variables\n",
    "dummies.isna().sum()"
   ]
  },
  {
   "cell_type": "markdown",
   "metadata": {},
   "source": [
    "#### Last steps"
   ]
  },
  {
   "cell_type": "markdown",
   "metadata": {},
   "source": [
    "Before treating the outlier values in our variables, we have to combine the scaled numerical and dummy categorical datasets in to a single dataframe which we will be using from now on."
   ]
  },
  {
   "cell_type": "code",
   "execution_count": 163,
   "metadata": {},
   "outputs": [],
   "source": [
    "# combine dummies and scaled numeric data\n",
    "loan_final = pd.concat([scaled_loans, dummies], axis = 1)"
   ]
  },
  {
   "cell_type": "code",
   "execution_count": 164,
   "metadata": {},
   "outputs": [
    {
     "data": {
      "text/html": [
       "<div>\n",
       "<style scoped>\n",
       "    .dataframe tbody tr th:only-of-type {\n",
       "        vertical-align: middle;\n",
       "    }\n",
       "\n",
       "    .dataframe tbody tr th {\n",
       "        vertical-align: top;\n",
       "    }\n",
       "\n",
       "    .dataframe thead th {\n",
       "        text-align: right;\n",
       "    }\n",
       "</style>\n",
       "<table border=\"1\" class=\"dataframe\">\n",
       "  <thead>\n",
       "    <tr style=\"text-align: right;\">\n",
       "      <th></th>\n",
       "      <th>acc_now_delinq</th>\n",
       "      <th>acc_open_past_24mths</th>\n",
       "      <th>all_util</th>\n",
       "      <th>annual_inc</th>\n",
       "      <th>delinq_2yrs</th>\n",
       "      <th>delinq_amnt</th>\n",
       "      <th>dti</th>\n",
       "      <th>funded_amnt</th>\n",
       "      <th>installment</th>\n",
       "      <th>int_rate</th>\n",
       "      <th>...</th>\n",
       "      <th>grade_G</th>\n",
       "      <th>home_ownership_MORTGAGE</th>\n",
       "      <th>home_ownership_NONE</th>\n",
       "      <th>home_ownership_OTHER</th>\n",
       "      <th>home_ownership_OWN</th>\n",
       "      <th>home_ownership_RENT</th>\n",
       "      <th>initial_list_status_f</th>\n",
       "      <th>initial_list_status_w</th>\n",
       "      <th>term_ 36 months</th>\n",
       "      <th>term_ 60 months</th>\n",
       "    </tr>\n",
       "  </thead>\n",
       "  <tbody>\n",
       "    <tr>\n",
       "      <td>0</td>\n",
       "      <td>0.0</td>\n",
       "      <td>0.178571</td>\n",
       "      <td>0.0</td>\n",
       "      <td>0.005637</td>\n",
       "      <td>0.025641</td>\n",
       "      <td>0.0</td>\n",
       "      <td>0.02084</td>\n",
       "      <td>0.496862</td>\n",
       "      <td>0.307853</td>\n",
       "      <td>0.640213</td>\n",
       "      <td>...</td>\n",
       "      <td>0</td>\n",
       "      <td>1</td>\n",
       "      <td>0</td>\n",
       "      <td>0</td>\n",
       "      <td>0</td>\n",
       "      <td>0</td>\n",
       "      <td>1</td>\n",
       "      <td>0</td>\n",
       "      <td>0</td>\n",
       "      <td>1</td>\n",
       "    </tr>\n",
       "    <tr>\n",
       "      <td>1</td>\n",
       "      <td>0.0</td>\n",
       "      <td>0.089286</td>\n",
       "      <td>0.0</td>\n",
       "      <td>0.003182</td>\n",
       "      <td>0.000000</td>\n",
       "      <td>0.0</td>\n",
       "      <td>0.00776</td>\n",
       "      <td>0.099977</td>\n",
       "      <td>0.073798</td>\n",
       "      <td>0.272424</td>\n",
       "      <td>...</td>\n",
       "      <td>0</td>\n",
       "      <td>0</td>\n",
       "      <td>0</td>\n",
       "      <td>0</td>\n",
       "      <td>0</td>\n",
       "      <td>1</td>\n",
       "      <td>0</td>\n",
       "      <td>1</td>\n",
       "      <td>1</td>\n",
       "      <td>0</td>\n",
       "    </tr>\n",
       "    <tr>\n",
       "      <td>2</td>\n",
       "      <td>0.0</td>\n",
       "      <td>NaN</td>\n",
       "      <td>0.0</td>\n",
       "      <td>0.005455</td>\n",
       "      <td>0.000000</td>\n",
       "      <td>0.0</td>\n",
       "      <td>0.00680</td>\n",
       "      <td>0.249981</td>\n",
       "      <td>0.181933</td>\n",
       "      <td>0.230077</td>\n",
       "      <td>...</td>\n",
       "      <td>0</td>\n",
       "      <td>1</td>\n",
       "      <td>0</td>\n",
       "      <td>0</td>\n",
       "      <td>0</td>\n",
       "      <td>0</td>\n",
       "      <td>1</td>\n",
       "      <td>0</td>\n",
       "      <td>1</td>\n",
       "      <td>0</td>\n",
       "    </tr>\n",
       "    <tr>\n",
       "      <td>3</td>\n",
       "      <td>0.0</td>\n",
       "      <td>0.214286</td>\n",
       "      <td>0.0</td>\n",
       "      <td>0.006864</td>\n",
       "      <td>0.000000</td>\n",
       "      <td>0.0</td>\n",
       "      <td>0.01780</td>\n",
       "      <td>0.087477</td>\n",
       "      <td>0.065742</td>\n",
       "      <td>0.315772</td>\n",
       "      <td>...</td>\n",
       "      <td>0</td>\n",
       "      <td>1</td>\n",
       "      <td>0</td>\n",
       "      <td>0</td>\n",
       "      <td>0</td>\n",
       "      <td>0</td>\n",
       "      <td>0</td>\n",
       "      <td>1</td>\n",
       "      <td>1</td>\n",
       "      <td>0</td>\n",
       "    </tr>\n",
       "    <tr>\n",
       "      <td>4</td>\n",
       "      <td>0.0</td>\n",
       "      <td>0.035714</td>\n",
       "      <td>0.0</td>\n",
       "      <td>0.005346</td>\n",
       "      <td>0.000000</td>\n",
       "      <td>0.0</td>\n",
       "      <td>0.02706</td>\n",
       "      <td>0.306233</td>\n",
       "      <td>0.217560</td>\n",
       "      <td>0.866622</td>\n",
       "      <td>...</td>\n",
       "      <td>0</td>\n",
       "      <td>0</td>\n",
       "      <td>0</td>\n",
       "      <td>0</td>\n",
       "      <td>0</td>\n",
       "      <td>1</td>\n",
       "      <td>0</td>\n",
       "      <td>1</td>\n",
       "      <td>0</td>\n",
       "      <td>1</td>\n",
       "    </tr>\n",
       "  </tbody>\n",
       "</table>\n",
       "<p>5 rows × 49 columns</p>\n",
       "</div>"
      ],
      "text/plain": [
       "   acc_now_delinq  acc_open_past_24mths  all_util  annual_inc  delinq_2yrs  \\\n",
       "0             0.0              0.178571       0.0    0.005637     0.025641   \n",
       "1             0.0              0.089286       0.0    0.003182     0.000000   \n",
       "2             0.0                   NaN       0.0    0.005455     0.000000   \n",
       "3             0.0              0.214286       0.0    0.006864     0.000000   \n",
       "4             0.0              0.035714       0.0    0.005346     0.000000   \n",
       "\n",
       "   delinq_amnt      dti  funded_amnt  installment  int_rate  ...  grade_G  \\\n",
       "0          0.0  0.02084     0.496862     0.307853  0.640213  ...        0   \n",
       "1          0.0  0.00776     0.099977     0.073798  0.272424  ...        0   \n",
       "2          0.0  0.00680     0.249981     0.181933  0.230077  ...        0   \n",
       "3          0.0  0.01780     0.087477     0.065742  0.315772  ...        0   \n",
       "4          0.0  0.02706     0.306233     0.217560  0.866622  ...        0   \n",
       "\n",
       "   home_ownership_MORTGAGE  home_ownership_NONE  home_ownership_OTHER  \\\n",
       "0                        1                    0                     0   \n",
       "1                        0                    0                     0   \n",
       "2                        1                    0                     0   \n",
       "3                        1                    0                     0   \n",
       "4                        0                    0                     0   \n",
       "\n",
       "   home_ownership_OWN  home_ownership_RENT  initial_list_status_f  \\\n",
       "0                   0                    0                      1   \n",
       "1                   0                    1                      0   \n",
       "2                   0                    0                      1   \n",
       "3                   0                    0                      0   \n",
       "4                   0                    1                      0   \n",
       "\n",
       "   initial_list_status_w  term_ 36 months  term_ 60 months  \n",
       "0                      0                0                1  \n",
       "1                      1                1                0  \n",
       "2                      0                1                0  \n",
       "3                      1                1                0  \n",
       "4                      1                0                1  \n",
       "\n",
       "[5 rows x 49 columns]"
      ]
     },
     "execution_count": 164,
     "metadata": {},
     "output_type": "execute_result"
    }
   ],
   "source": [
    "loan_final.head()"
   ]
  },
  {
   "cell_type": "code",
   "execution_count": 165,
   "metadata": {},
   "outputs": [],
   "source": [
    "loan_final['default'] = loans_num['default']"
   ]
  },
  {
   "cell_type": "markdown",
   "metadata": {},
   "source": [
    "#### Deleting the remaining missing values"
   ]
  },
  {
   "cell_type": "markdown",
   "metadata": {},
   "source": [
    "In this last step before studying the ooutliers, we delete the remaining NAs from our dataset which we decide dthat would be deleted because there was a small amount of them. "
   ]
  },
  {
   "cell_type": "code",
   "execution_count": 166,
   "metadata": {},
   "outputs": [
    {
     "data": {
      "text/plain": [
       "acc_now_delinq                     0\n",
       "acc_open_past_24mths           37597\n",
       "all_util                           0\n",
       "annual_inc                         0\n",
       "delinq_2yrs                        0\n",
       "delinq_amnt                        0\n",
       "dti                              260\n",
       "funded_amnt                        0\n",
       "installment                        0\n",
       "int_rate                           0\n",
       "loan_amnt                          0\n",
       "mo_sin_rcnt_tl                     0\n",
       "mths_since_last_delinq             0\n",
       "num_accts_ever_120_pd              0\n",
       "num_il_tl                          0\n",
       "num_sats                           0\n",
       "num_tl_120dpd_2m                   0\n",
       "pub_rec_bankruptcies             992\n",
       "recoveries                         0\n",
       "tot_coll_amt                       0\n",
       "tot_cur_bal                        0\n",
       "total_acc                          0\n",
       "desc                               0\n",
       "title                              0\n",
       "addr_state_first                   0\n",
       "addr_state_fourth                  0\n",
       "addr_state_second                  0\n",
       "addr_state_third                   0\n",
       "application_type_Individual        0\n",
       "application_type_Joint App         0\n",
       "emp_length_0-3                     0\n",
       "emp_length_10+                     0\n",
       "emp_length_4-9                     0\n",
       "grade_A                            0\n",
       "grade_B                            0\n",
       "grade_C                            0\n",
       "grade_D                            0\n",
       "grade_E                            0\n",
       "grade_F                            0\n",
       "grade_G                            0\n",
       "home_ownership_MORTGAGE            0\n",
       "home_ownership_NONE                0\n",
       "home_ownership_OTHER               0\n",
       "home_ownership_OWN                 0\n",
       "home_ownership_RENT                0\n",
       "initial_list_status_f              0\n",
       "initial_list_status_w              0\n",
       "term_ 36 months                    0\n",
       "term_ 60 months                    0\n",
       "default                            0\n",
       "dtype: int64"
      ]
     },
     "execution_count": 166,
     "metadata": {},
     "output_type": "execute_result"
    }
   ],
   "source": [
    "loan_final.isna().sum()"
   ]
  },
  {
   "cell_type": "markdown",
   "metadata": {},
   "source": [
    "The variables that we will remove the missing values from are:\n",
    "- dti\n",
    "- acc_open_past_24mths\n",
    "- pub_rec_bankruptcies"
   ]
  },
  {
   "cell_type": "code",
   "execution_count": 167,
   "metadata": {},
   "outputs": [],
   "source": [
    "loan_final.dti = loan_final.dti.isna()\n",
    "loan_final.acc_open_past_24mths = loan_final.acc_open_past_24mths.isna()\n",
    "loan_final.pub_rec_bankruptcies = loan_final.pub_rec_bankruptcies.isna()"
   ]
  },
  {
   "cell_type": "markdown",
   "metadata": {},
   "source": [
    "### 5.3 OUTLIERS"
   ]
  },
  {
   "cell_type": "markdown",
   "metadata": {},
   "source": [
    "One by one, we study all our numerical variables (with the histograms and filters) to see if there are any outlying values that could affect our models. After a thorough study of these, we reach the conclusion that the variables which have outliers are:\n",
    "\n",
    "- __acc_now_delinq__: we decided that any value greater than two in this variables is an outlier, since any client that has more than two accounts which are delinquient has higher probabilities of committing default.\n",
    "- __delinq_2yrs__: in this case we eliminated outliers that we saw to be values bigger than 10, which is a pretty big number of incidences per account but anything lower included a lot of cases and could not be considered an outlier.\n",
    "- __total_acc__: This variable has outliers after the value of 102, which is also a big number but the reason is the same as before. We based these decisions on a study of the histograms.\n",
    "- __acc_open_past_24mths__: in this case, we delete all values bigger than 35. \n",
    "- __pub_rec_bankruptcies__: here we considered outliers all values larger than 5 in the variable.\n",
    "- __annual_inc__: here it was decided that the outlier was anyone who earned more than 200.000 dollars per year (we investigated what the highest paying job average salary was)\n",
    "- __mo_sin_rcnt_tl__: for this last variable, we chose to delete any values higher than 120 months, as any account opened before that is most likely not relevant today. "
   ]
  },
  {
   "cell_type": "markdown",
   "metadata": {},
   "source": [
    "Up next we delete the outliers explained before:"
   ]
  },
  {
   "cell_type": "code",
   "execution_count": 168,
   "metadata": {},
   "outputs": [
    {
     "name": "stderr",
     "output_type": "stream",
     "text": [
      "C:\\Users\\Luli\\Documents\\Anaconda\\lib\\site-packages\\pandas\\core\\frame.py:4102: SettingWithCopyWarning: \n",
      "A value is trying to be set on a copy of a slice from a DataFrame\n",
      "\n",
      "See the caveats in the documentation: http://pandas.pydata.org/pandas-docs/stable/user_guide/indexing.html#returning-a-view-versus-a-copy\n",
      "  errors=errors,\n"
     ]
    }
   ],
   "source": [
    "loans_num.drop(loans_num[loans_num.acc_now_delinq > 2].index, inplace = True)"
   ]
  },
  {
   "cell_type": "code",
   "execution_count": 169,
   "metadata": {},
   "outputs": [],
   "source": [
    "loan_final.drop(loan_final[loan_final.delinq_2yrs > 10].index, inplace = True)"
   ]
  },
  {
   "cell_type": "code",
   "execution_count": 170,
   "metadata": {},
   "outputs": [],
   "source": [
    "loan_final.drop(loan_final[loan_final.total_acc > 102].index, inplace = True)"
   ]
  },
  {
   "cell_type": "code",
   "execution_count": 171,
   "metadata": {},
   "outputs": [],
   "source": [
    "loan_final.drop(loan_final[loan_final.acc_open_past_24mths > 35].index, inplace = True)"
   ]
  },
  {
   "cell_type": "code",
   "execution_count": 172,
   "metadata": {},
   "outputs": [],
   "source": [
    "loan_final.drop(loan_final[loan_final.pub_rec_bankruptcies > 5].index, inplace = True)"
   ]
  },
  {
   "cell_type": "code",
   "execution_count": 173,
   "metadata": {},
   "outputs": [],
   "source": [
    "loan_final.drop(loan_final[loan_final.annual_inc > 200000].index, inplace = True)"
   ]
  },
  {
   "cell_type": "code",
   "execution_count": 174,
   "metadata": {},
   "outputs": [],
   "source": [
    "loan_final.drop(loan_final[loan_final.mo_sin_rcnt_tl > 120].index, inplace = True)"
   ]
  },
  {
   "cell_type": "code",
   "execution_count": 175,
   "metadata": {},
   "outputs": [
    {
     "data": {
      "text/plain": [
       "acc_now_delinq                 0\n",
       "acc_open_past_24mths           0\n",
       "all_util                       0\n",
       "annual_inc                     0\n",
       "delinq_2yrs                    0\n",
       "delinq_amnt                    0\n",
       "dti                            0\n",
       "funded_amnt                    0\n",
       "installment                    0\n",
       "int_rate                       0\n",
       "loan_amnt                      0\n",
       "mo_sin_rcnt_tl                 0\n",
       "mths_since_last_delinq         0\n",
       "num_accts_ever_120_pd          0\n",
       "num_il_tl                      0\n",
       "num_sats                       0\n",
       "num_tl_120dpd_2m               0\n",
       "pub_rec_bankruptcies           0\n",
       "recoveries                     0\n",
       "tot_coll_amt                   0\n",
       "tot_cur_bal                    0\n",
       "total_acc                      0\n",
       "desc                           0\n",
       "title                          0\n",
       "addr_state_first               0\n",
       "addr_state_fourth              0\n",
       "addr_state_second              0\n",
       "addr_state_third               0\n",
       "application_type_Individual    0\n",
       "application_type_Joint App     0\n",
       "emp_length_0-3                 0\n",
       "emp_length_10+                 0\n",
       "emp_length_4-9                 0\n",
       "grade_A                        0\n",
       "grade_B                        0\n",
       "grade_C                        0\n",
       "grade_D                        0\n",
       "grade_E                        0\n",
       "grade_F                        0\n",
       "grade_G                        0\n",
       "home_ownership_MORTGAGE        0\n",
       "home_ownership_NONE            0\n",
       "home_ownership_OTHER           0\n",
       "home_ownership_OWN             0\n",
       "home_ownership_RENT            0\n",
       "initial_list_status_f          0\n",
       "initial_list_status_w          0\n",
       "term_ 36 months                0\n",
       "term_ 60 months                0\n",
       "default                        0\n",
       "dtype: int64"
      ]
     },
     "execution_count": 175,
     "metadata": {},
     "output_type": "execute_result"
    }
   ],
   "source": [
    "# check nas one last time\n",
    "loan_final.isna().sum()"
   ]
  },
  {
   "cell_type": "markdown",
   "metadata": {},
   "source": [
    "## 6. Lasso model (variable importance)"
   ]
  },
  {
   "cell_type": "code",
   "execution_count": 176,
   "metadata": {},
   "outputs": [],
   "source": [
    "# Turning bool values into float to be used in the lasso\n",
    "loan_final.acc_open_past_24mths = loan_final.acc_open_past_24mths.astype('float64')\n",
    "loan_final.dti = loan_final.dti.astype('float64')\n",
    "loan_final.pub_rec_bankruptcies = loan_final.pub_rec_bankruptcies.astype('float64')"
   ]
  },
  {
   "cell_type": "code",
   "execution_count": 80,
   "metadata": {},
   "outputs": [
    {
     "name": "stdout",
     "output_type": "stream",
     "text": [
      "<class 'pandas.core.frame.DataFrame'>\n",
      "Int64Index: 1000000 entries, 0 to 999999\n",
      "Data columns (total 50 columns):\n",
      "acc_now_delinq                 1000000 non-null float64\n",
      "acc_open_past_24mths           1000000 non-null float64\n",
      "all_util                       1000000 non-null float64\n",
      "annual_inc                     1000000 non-null float64\n",
      "delinq_2yrs                    1000000 non-null float64\n",
      "delinq_amnt                    1000000 non-null float64\n",
      "dti                            1000000 non-null float64\n",
      "funded_amnt                    1000000 non-null float64\n",
      "installment                    1000000 non-null float64\n",
      "int_rate                       1000000 non-null float64\n",
      "loan_amnt                      1000000 non-null float64\n",
      "mo_sin_rcnt_tl                 1000000 non-null float64\n",
      "mths_since_last_delinq         1000000 non-null float64\n",
      "num_accts_ever_120_pd          1000000 non-null float64\n",
      "num_il_tl                      1000000 non-null float64\n",
      "num_sats                       1000000 non-null float64\n",
      "num_tl_120dpd_2m               1000000 non-null float64\n",
      "pub_rec_bankruptcies           1000000 non-null float64\n",
      "recoveries                     1000000 non-null float64\n",
      "tot_coll_amt                   1000000 non-null float64\n",
      "tot_cur_bal                    1000000 non-null float64\n",
      "total_acc                      1000000 non-null float64\n",
      "desc                           1000000 non-null int32\n",
      "title                          1000000 non-null int32\n",
      "addr_state_first               1000000 non-null uint8\n",
      "addr_state_fourth              1000000 non-null uint8\n",
      "addr_state_second              1000000 non-null uint8\n",
      "addr_state_third               1000000 non-null uint8\n",
      "application_type_Individual    1000000 non-null uint8\n",
      "application_type_Joint App     1000000 non-null uint8\n",
      "emp_length_0-3                 1000000 non-null uint8\n",
      "emp_length_10+                 1000000 non-null uint8\n",
      "emp_length_4-9                 1000000 non-null uint8\n",
      "grade_A                        1000000 non-null uint8\n",
      "grade_B                        1000000 non-null uint8\n",
      "grade_C                        1000000 non-null uint8\n",
      "grade_D                        1000000 non-null uint8\n",
      "grade_E                        1000000 non-null uint8\n",
      "grade_F                        1000000 non-null uint8\n",
      "grade_G                        1000000 non-null uint8\n",
      "home_ownership_MORTGAGE        1000000 non-null uint8\n",
      "home_ownership_NONE            1000000 non-null uint8\n",
      "home_ownership_OTHER           1000000 non-null uint8\n",
      "home_ownership_OWN             1000000 non-null uint8\n",
      "home_ownership_RENT            1000000 non-null uint8\n",
      "initial_list_status_f          1000000 non-null uint8\n",
      "initial_list_status_w          1000000 non-null uint8\n",
      "term_ 36 months                1000000 non-null uint8\n",
      "term_ 60 months                1000000 non-null uint8\n",
      "default                        1000000 non-null int64\n",
      "dtypes: float64(22), int32(2), int64(1), uint8(25)\n",
      "memory usage: 214.6 MB\n"
     ]
    }
   ],
   "source": [
    "## we check to see if our variables are all nunmbers that can be computed in our models\n",
    "loan_final.info()"
   ]
  },
  {
   "cell_type": "markdown",
   "metadata": {},
   "source": [
    "To launch our Lasso model, first of all we have to divide our variables into exogenous (all of our variables except our dependent variable) and endogenous variables (the dependen variable \"default\")."
   ]
  },
  {
   "cell_type": "code",
   "execution_count": 177,
   "metadata": {},
   "outputs": [],
   "source": [
    "random.seed(123)\n",
    "endogena = ['default']\n",
    "exogenas = list(set(list(loan_final.columns))-set(endogena))\n",
    "X = loan_final[exogenas].values\n",
    "Y = loan_final[endogena].values"
   ]
  },
  {
   "cell_type": "markdown",
   "metadata": {},
   "source": [
    "We finally launch the Lasso model with 1000 iterations and a cross validation equal to 10 to ensure a better accuracy of the selection of variables. We also ask for the time required for the execution out of curiosity in all of the models, to figure out which ones are more time extensive. It's very importante that we launch our lasso model with the entire dataset, and only start dividing between train and test when executing the models which predict."
   ]
  },
  {
   "cell_type": "code",
   "execution_count": 85,
   "metadata": {},
   "outputs": [
    {
     "name": "stderr",
     "output_type": "stream",
     "text": [
      "C:\\Users\\Luli\\Documents\\Anaconda\\lib\\site-packages\\sklearn\\linear_model\\_coordinate_descent.py:1088: DataConversionWarning: A column-vector y was passed when a 1d array was expected. Please change the shape of y to (n_samples, ), for example using ravel().\n",
      "  y = column_or_1d(y, warn=True)\n",
      "C:\\Users\\Luli\\Documents\\Anaconda\\lib\\site-packages\\sklearn\\linear_model\\_coordinate_descent.py:476: ConvergenceWarning: Objective did not converge. You might want to increase the number of iterations. Duality gap: 25.232462094834773, tolerance: 17.304313707901496\n",
      "  positive)\n"
     ]
    },
    {
     "name": "stdout",
     "output_type": "stream",
     "text": [
      "Wall time: 9min 12s\n"
     ]
    },
    {
     "name": "stderr",
     "output_type": "stream",
     "text": [
      "C:\\Users\\Luli\\Documents\\Anaconda\\lib\\site-packages\\sklearn\\linear_model\\_coordinate_descent.py:476: ConvergenceWarning: Objective did not converge. You might want to increase the number of iterations. Duality gap: 25.232462094834773, tolerance: 17.304313707901496\n",
      "  positive)\n"
     ]
    },
    {
     "data": {
      "text/plain": [
       "Lasso(alpha=3.154164005101125e-05, copy_X=True, fit_intercept=True,\n",
       "      max_iter=1000, normalize=False, positive=False, precompute=False,\n",
       "      random_state=None, selection='cyclic', tol=0.0001, warm_start=False)"
      ]
     },
     "execution_count": 85,
     "metadata": {},
     "output_type": "execute_result"
    }
   ],
   "source": [
    "%%time\n",
    "lassocv = LassoCV(alphas = None, cv = 10, max_iter = 1000)\n",
    "lassocv.fit(X, Y)\n",
    "lassocv.alpha_\n",
    "model_lasso = Lasso(alpha = lassocv.alpha_) # lasso function\n",
    "model_lasso.fit(X, Y)"
   ]
  },
  {
   "cell_type": "code",
   "execution_count": 86,
   "metadata": {},
   "outputs": [],
   "source": [
    "# model_lasso.coef_. The coefficients obtained with the lasso model tell us which variables are more relevant in our study and \n",
    "# give us the selection that we should use in the following models\n",
    "coeficientes_lasso = pd.DataFrame(model_lasso.coef_, exogenas, columns = ['Coefficients'])"
   ]
  },
  {
   "cell_type": "code",
   "execution_count": 87,
   "metadata": {},
   "outputs": [
    {
     "data": {
      "text/html": [
       "<div>\n",
       "<style scoped>\n",
       "    .dataframe tbody tr th:only-of-type {\n",
       "        vertical-align: middle;\n",
       "    }\n",
       "\n",
       "    .dataframe tbody tr th {\n",
       "        vertical-align: top;\n",
       "    }\n",
       "\n",
       "    .dataframe thead th {\n",
       "        text-align: right;\n",
       "    }\n",
       "</style>\n",
       "<table border=\"1\" class=\"dataframe\">\n",
       "  <thead>\n",
       "    <tr style=\"text-align: right;\">\n",
       "      <th></th>\n",
       "      <th>Coefficients</th>\n",
       "    </tr>\n",
       "  </thead>\n",
       "  <tbody>\n",
       "    <tr>\n",
       "      <td>addr_state_third</td>\n",
       "      <td>0.006892</td>\n",
       "    </tr>\n",
       "    <tr>\n",
       "      <td>grade_A</td>\n",
       "      <td>-0.014065</td>\n",
       "    </tr>\n",
       "    <tr>\n",
       "      <td>addr_state_second</td>\n",
       "      <td>0.005997</td>\n",
       "    </tr>\n",
       "    <tr>\n",
       "      <td>delinq_2yrs</td>\n",
       "      <td>0.115863</td>\n",
       "    </tr>\n",
       "    <tr>\n",
       "      <td>all_util</td>\n",
       "      <td>0.064452</td>\n",
       "    </tr>\n",
       "    <tr>\n",
       "      <td>initial_list_status_w</td>\n",
       "      <td>0.013358</td>\n",
       "    </tr>\n",
       "    <tr>\n",
       "      <td>num_accts_ever_120_pd</td>\n",
       "      <td>0.011826</td>\n",
       "    </tr>\n",
       "    <tr>\n",
       "      <td>installment</td>\n",
       "      <td>0.153846</td>\n",
       "    </tr>\n",
       "    <tr>\n",
       "      <td>int_rate</td>\n",
       "      <td>0.325741</td>\n",
       "    </tr>\n",
       "    <tr>\n",
       "      <td>mths_since_last_delinq</td>\n",
       "      <td>0.001691</td>\n",
       "    </tr>\n",
       "    <tr>\n",
       "      <td>home_ownership_RENT</td>\n",
       "      <td>0.013146</td>\n",
       "    </tr>\n",
       "    <tr>\n",
       "      <td>annual_inc</td>\n",
       "      <td>-0.000000</td>\n",
       "    </tr>\n",
       "    <tr>\n",
       "      <td>home_ownership_MORTGAGE</td>\n",
       "      <td>-0.020834</td>\n",
       "    </tr>\n",
       "    <tr>\n",
       "      <td>grade_G</td>\n",
       "      <td>-0.019264</td>\n",
       "    </tr>\n",
       "    <tr>\n",
       "      <td>grade_F</td>\n",
       "      <td>-0.004055</td>\n",
       "    </tr>\n",
       "    <tr>\n",
       "      <td>acc_now_delinq</td>\n",
       "      <td>0.000000</td>\n",
       "    </tr>\n",
       "    <tr>\n",
       "      <td>application_type_Joint App</td>\n",
       "      <td>0.084557</td>\n",
       "    </tr>\n",
       "    <tr>\n",
       "      <td>pub_rec_bankruptcies</td>\n",
       "      <td>0.068675</td>\n",
       "    </tr>\n",
       "    <tr>\n",
       "      <td>term_ 36 months</td>\n",
       "      <td>-0.071135</td>\n",
       "    </tr>\n",
       "    <tr>\n",
       "      <td>total_acc</td>\n",
       "      <td>-0.253354</td>\n",
       "    </tr>\n",
       "    <tr>\n",
       "      <td>acc_open_past_24mths</td>\n",
       "      <td>0.001162</td>\n",
       "    </tr>\n",
       "    <tr>\n",
       "      <td>initial_list_status_f</td>\n",
       "      <td>-0.005499</td>\n",
       "    </tr>\n",
       "    <tr>\n",
       "      <td>home_ownership_OWN</td>\n",
       "      <td>-0.000000</td>\n",
       "    </tr>\n",
       "    <tr>\n",
       "      <td>addr_state_first</td>\n",
       "      <td>-0.002189</td>\n",
       "    </tr>\n",
       "    <tr>\n",
       "      <td>loan_amnt</td>\n",
       "      <td>-0.012033</td>\n",
       "    </tr>\n",
       "    <tr>\n",
       "      <td>grade_D</td>\n",
       "      <td>0.032477</td>\n",
       "    </tr>\n",
       "    <tr>\n",
       "      <td>grade_B</td>\n",
       "      <td>0.000000</td>\n",
       "    </tr>\n",
       "    <tr>\n",
       "      <td>home_ownership_NONE</td>\n",
       "      <td>-0.000000</td>\n",
       "    </tr>\n",
       "    <tr>\n",
       "      <td>emp_length_10+</td>\n",
       "      <td>-0.002322</td>\n",
       "    </tr>\n",
       "    <tr>\n",
       "      <td>addr_state_fourth</td>\n",
       "      <td>-0.001994</td>\n",
       "    </tr>\n",
       "    <tr>\n",
       "      <td>num_sats</td>\n",
       "      <td>0.302834</td>\n",
       "    </tr>\n",
       "    <tr>\n",
       "      <td>num_il_tl</td>\n",
       "      <td>0.037539</td>\n",
       "    </tr>\n",
       "    <tr>\n",
       "      <td>application_type_Individual</td>\n",
       "      <td>-0.000000</td>\n",
       "    </tr>\n",
       "    <tr>\n",
       "      <td>grade_E</td>\n",
       "      <td>0.021973</td>\n",
       "    </tr>\n",
       "    <tr>\n",
       "      <td>home_ownership_OTHER</td>\n",
       "      <td>0.000000</td>\n",
       "    </tr>\n",
       "    <tr>\n",
       "      <td>dti</td>\n",
       "      <td>-0.000000</td>\n",
       "    </tr>\n",
       "    <tr>\n",
       "      <td>emp_length_4-9</td>\n",
       "      <td>-0.000000</td>\n",
       "    </tr>\n",
       "    <tr>\n",
       "      <td>num_tl_120dpd_2m</td>\n",
       "      <td>0.048662</td>\n",
       "    </tr>\n",
       "    <tr>\n",
       "      <td>grade_C</td>\n",
       "      <td>0.023224</td>\n",
       "    </tr>\n",
       "    <tr>\n",
       "      <td>term_ 60 months</td>\n",
       "      <td>0.000000</td>\n",
       "    </tr>\n",
       "    <tr>\n",
       "      <td>tot_coll_amt</td>\n",
       "      <td>-0.000000</td>\n",
       "    </tr>\n",
       "    <tr>\n",
       "      <td>funded_amnt</td>\n",
       "      <td>-0.174736</td>\n",
       "    </tr>\n",
       "    <tr>\n",
       "      <td>title</td>\n",
       "      <td>0.017554</td>\n",
       "    </tr>\n",
       "    <tr>\n",
       "      <td>delinq_amnt</td>\n",
       "      <td>0.829878</td>\n",
       "    </tr>\n",
       "    <tr>\n",
       "      <td>emp_length_0-3</td>\n",
       "      <td>0.015780</td>\n",
       "    </tr>\n",
       "    <tr>\n",
       "      <td>recoveries</td>\n",
       "      <td>7.633335</td>\n",
       "    </tr>\n",
       "    <tr>\n",
       "      <td>mo_sin_rcnt_tl</td>\n",
       "      <td>-0.176300</td>\n",
       "    </tr>\n",
       "    <tr>\n",
       "      <td>tot_cur_bal</td>\n",
       "      <td>-0.676604</td>\n",
       "    </tr>\n",
       "    <tr>\n",
       "      <td>desc</td>\n",
       "      <td>0.034900</td>\n",
       "    </tr>\n",
       "  </tbody>\n",
       "</table>\n",
       "</div>"
      ],
      "text/plain": [
       "                             Coefficients\n",
       "addr_state_third                 0.006892\n",
       "grade_A                         -0.014065\n",
       "addr_state_second                0.005997\n",
       "delinq_2yrs                      0.115863\n",
       "all_util                         0.064452\n",
       "initial_list_status_w            0.013358\n",
       "num_accts_ever_120_pd            0.011826\n",
       "installment                      0.153846\n",
       "int_rate                         0.325741\n",
       "mths_since_last_delinq           0.001691\n",
       "home_ownership_RENT              0.013146\n",
       "annual_inc                      -0.000000\n",
       "home_ownership_MORTGAGE         -0.020834\n",
       "grade_G                         -0.019264\n",
       "grade_F                         -0.004055\n",
       "acc_now_delinq                   0.000000\n",
       "application_type_Joint App       0.084557\n",
       "pub_rec_bankruptcies             0.068675\n",
       "term_ 36 months                 -0.071135\n",
       "total_acc                       -0.253354\n",
       "acc_open_past_24mths             0.001162\n",
       "initial_list_status_f           -0.005499\n",
       "home_ownership_OWN              -0.000000\n",
       "addr_state_first                -0.002189\n",
       "loan_amnt                       -0.012033\n",
       "grade_D                          0.032477\n",
       "grade_B                          0.000000\n",
       "home_ownership_NONE             -0.000000\n",
       "emp_length_10+                  -0.002322\n",
       "addr_state_fourth               -0.001994\n",
       "num_sats                         0.302834\n",
       "num_il_tl                        0.037539\n",
       "application_type_Individual     -0.000000\n",
       "grade_E                          0.021973\n",
       "home_ownership_OTHER             0.000000\n",
       "dti                             -0.000000\n",
       "emp_length_4-9                  -0.000000\n",
       "num_tl_120dpd_2m                 0.048662\n",
       "grade_C                          0.023224\n",
       "term_ 60 months                  0.000000\n",
       "tot_coll_amt                    -0.000000\n",
       "funded_amnt                     -0.174736\n",
       "title                            0.017554\n",
       "delinq_amnt                      0.829878\n",
       "emp_length_0-3                   0.015780\n",
       "recoveries                       7.633335\n",
       "mo_sin_rcnt_tl                  -0.176300\n",
       "tot_cur_bal                     -0.676604\n",
       "desc                             0.034900"
      ]
     },
     "execution_count": 87,
     "metadata": {},
     "output_type": "execute_result"
    }
   ],
   "source": [
    "coeficientes_lasso"
   ]
  },
  {
   "cell_type": "markdown",
   "metadata": {},
   "source": [
    "By looking at these coefficients, we conclude that we should only include those variables which have a coefficient larger than 0.04 level of importance in the Lasso model. We make a filter which will exclude the variables that we don't consider important and create a new dataset only with the relevant ones."
   ]
  },
  {
   "cell_type": "code",
   "execution_count": 88,
   "metadata": {},
   "outputs": [],
   "source": [
    "relevantes = coeficientes_lasso[(coeficientes_lasso['Coefficients'] > 0.04) | (coeficientes_lasso['Coefficients'] < -0.04)]"
   ]
  },
  {
   "cell_type": "code",
   "execution_count": 89,
   "metadata": {},
   "outputs": [
    {
     "data": {
      "text/html": [
       "<div>\n",
       "<style scoped>\n",
       "    .dataframe tbody tr th:only-of-type {\n",
       "        vertical-align: middle;\n",
       "    }\n",
       "\n",
       "    .dataframe tbody tr th {\n",
       "        vertical-align: top;\n",
       "    }\n",
       "\n",
       "    .dataframe thead th {\n",
       "        text-align: right;\n",
       "    }\n",
       "</style>\n",
       "<table border=\"1\" class=\"dataframe\">\n",
       "  <thead>\n",
       "    <tr style=\"text-align: right;\">\n",
       "      <th></th>\n",
       "      <th>Coefficients</th>\n",
       "    </tr>\n",
       "  </thead>\n",
       "  <tbody>\n",
       "    <tr>\n",
       "      <td>delinq_2yrs</td>\n",
       "      <td>0.115863</td>\n",
       "    </tr>\n",
       "    <tr>\n",
       "      <td>all_util</td>\n",
       "      <td>0.064452</td>\n",
       "    </tr>\n",
       "    <tr>\n",
       "      <td>installment</td>\n",
       "      <td>0.153846</td>\n",
       "    </tr>\n",
       "    <tr>\n",
       "      <td>int_rate</td>\n",
       "      <td>0.325741</td>\n",
       "    </tr>\n",
       "    <tr>\n",
       "      <td>application_type_Joint App</td>\n",
       "      <td>0.084557</td>\n",
       "    </tr>\n",
       "    <tr>\n",
       "      <td>pub_rec_bankruptcies</td>\n",
       "      <td>0.068675</td>\n",
       "    </tr>\n",
       "    <tr>\n",
       "      <td>term_ 36 months</td>\n",
       "      <td>-0.071135</td>\n",
       "    </tr>\n",
       "    <tr>\n",
       "      <td>total_acc</td>\n",
       "      <td>-0.253354</td>\n",
       "    </tr>\n",
       "    <tr>\n",
       "      <td>num_sats</td>\n",
       "      <td>0.302834</td>\n",
       "    </tr>\n",
       "    <tr>\n",
       "      <td>num_tl_120dpd_2m</td>\n",
       "      <td>0.048662</td>\n",
       "    </tr>\n",
       "    <tr>\n",
       "      <td>funded_amnt</td>\n",
       "      <td>-0.174736</td>\n",
       "    </tr>\n",
       "    <tr>\n",
       "      <td>delinq_amnt</td>\n",
       "      <td>0.829878</td>\n",
       "    </tr>\n",
       "    <tr>\n",
       "      <td>recoveries</td>\n",
       "      <td>7.633335</td>\n",
       "    </tr>\n",
       "    <tr>\n",
       "      <td>mo_sin_rcnt_tl</td>\n",
       "      <td>-0.176300</td>\n",
       "    </tr>\n",
       "    <tr>\n",
       "      <td>tot_cur_bal</td>\n",
       "      <td>-0.676604</td>\n",
       "    </tr>\n",
       "  </tbody>\n",
       "</table>\n",
       "</div>"
      ],
      "text/plain": [
       "                            Coefficients\n",
       "delinq_2yrs                     0.115863\n",
       "all_util                        0.064452\n",
       "installment                     0.153846\n",
       "int_rate                        0.325741\n",
       "application_type_Joint App      0.084557\n",
       "pub_rec_bankruptcies            0.068675\n",
       "term_ 36 months                -0.071135\n",
       "total_acc                      -0.253354\n",
       "num_sats                        0.302834\n",
       "num_tl_120dpd_2m                0.048662\n",
       "funded_amnt                    -0.174736\n",
       "delinq_amnt                     0.829878\n",
       "recoveries                      7.633335\n",
       "mo_sin_rcnt_tl                 -0.176300\n",
       "tot_cur_bal                    -0.676604"
      ]
     },
     "execution_count": 89,
     "metadata": {},
     "output_type": "execute_result"
    }
   ],
   "source": [
    "relevantes"
   ]
  },
  {
   "cell_type": "code",
   "execution_count": 90,
   "metadata": {},
   "outputs": [
    {
     "data": {
      "text/plain": [
       "['delinq_2yrs',\n",
       " 'all_util',\n",
       " 'installment',\n",
       " 'int_rate',\n",
       " 'application_type_Joint App',\n",
       " 'pub_rec_bankruptcies',\n",
       " 'term_ 36 months',\n",
       " 'total_acc',\n",
       " 'num_sats',\n",
       " 'num_tl_120dpd_2m',\n",
       " 'funded_amnt',\n",
       " 'delinq_amnt',\n",
       " 'recoveries',\n",
       " 'mo_sin_rcnt_tl',\n",
       " 'tot_cur_bal']"
      ]
     },
     "execution_count": 90,
     "metadata": {},
     "output_type": "execute_result"
    }
   ],
   "source": [
    "relevants_list = list(relevantes.index)\n",
    "relevants_list"
   ]
  },
  {
   "cell_type": "markdown",
   "metadata": {},
   "source": [
    "By looking at the Lasso coefficients, we conclude that we should only include those variables which have a coefficient larger than 0.04 level of importance in the Lasso model. We make a filter which will exclude the variables that we don't consider important and create a new dataset only with the relevant ones."
   ]
  },
  {
   "cell_type": "markdown",
   "metadata": {},
   "source": [
    "Our final dataset has a total of 15 variables which we can see up next: "
   ]
  },
  {
   "cell_type": "code",
   "execution_count": 178,
   "metadata": {},
   "outputs": [],
   "source": [
    "relevants = ['delinq_2yrs',\n",
    " 'all_util',\n",
    " 'installment',\n",
    " 'int_rate',\n",
    " 'application_type_Joint App',\n",
    " 'pub_rec_bankruptcies',\n",
    " 'term_ 36 months',\n",
    " 'total_acc',\n",
    " 'num_sats',\n",
    " 'num_tl_120dpd_2m',\n",
    " 'funded_amnt',\n",
    " 'delinq_amnt',\n",
    " 'recoveries',\n",
    " 'mo_sin_rcnt_tl',\n",
    " 'tot_cur_bal']"
   ]
  },
  {
   "cell_type": "code",
   "execution_count": 179,
   "metadata": {},
   "outputs": [],
   "source": [
    "data_lasso = loan_final.loc[:, ['delinq_2yrs',\n",
    " 'all_util',\n",
    " 'installment',\n",
    " 'int_rate',\n",
    " 'application_type_Joint App',\n",
    " 'pub_rec_bankruptcies',\n",
    " 'term_ 36 months',\n",
    " 'total_acc',\n",
    " 'num_sats',\n",
    " 'num_tl_120dpd_2m',\n",
    " 'funded_amnt',\n",
    " 'delinq_amnt',\n",
    " 'recoveries',\n",
    " 'mo_sin_rcnt_tl',\n",
    " 'tot_cur_bal']]"
   ]
  },
  {
   "cell_type": "markdown",
   "metadata": {},
   "source": [
    "Last of all, we introduce the dependent variable in the final dataset, create the new exogenous and endogenous variables and start executing the models with that."
   ]
  },
  {
   "cell_type": "code",
   "execution_count": 180,
   "metadata": {},
   "outputs": [],
   "source": [
    "data_lasso['default'] = loan_final['default']"
   ]
  },
  {
   "cell_type": "code",
   "execution_count": 181,
   "metadata": {},
   "outputs": [
    {
     "data": {
      "text/html": [
       "<div>\n",
       "<style scoped>\n",
       "    .dataframe tbody tr th:only-of-type {\n",
       "        vertical-align: middle;\n",
       "    }\n",
       "\n",
       "    .dataframe tbody tr th {\n",
       "        vertical-align: top;\n",
       "    }\n",
       "\n",
       "    .dataframe thead th {\n",
       "        text-align: right;\n",
       "    }\n",
       "</style>\n",
       "<table border=\"1\" class=\"dataframe\">\n",
       "  <thead>\n",
       "    <tr style=\"text-align: right;\">\n",
       "      <th></th>\n",
       "      <th>delinq_2yrs</th>\n",
       "      <th>all_util</th>\n",
       "      <th>installment</th>\n",
       "      <th>int_rate</th>\n",
       "      <th>application_type_Joint App</th>\n",
       "      <th>pub_rec_bankruptcies</th>\n",
       "      <th>term_ 36 months</th>\n",
       "      <th>total_acc</th>\n",
       "      <th>num_sats</th>\n",
       "      <th>num_tl_120dpd_2m</th>\n",
       "      <th>funded_amnt</th>\n",
       "      <th>delinq_amnt</th>\n",
       "      <th>recoveries</th>\n",
       "      <th>mo_sin_rcnt_tl</th>\n",
       "      <th>tot_cur_bal</th>\n",
       "      <th>default</th>\n",
       "    </tr>\n",
       "  </thead>\n",
       "  <tbody>\n",
       "    <tr>\n",
       "      <td>count</td>\n",
       "      <td>1000000.000000</td>\n",
       "      <td>1000000.000000</td>\n",
       "      <td>1000000.000000</td>\n",
       "      <td>1000000.000000</td>\n",
       "      <td>1000000.000000</td>\n",
       "      <td>1000000.000000</td>\n",
       "      <td>1000000.000000</td>\n",
       "      <td>1000000.000000</td>\n",
       "      <td>1000000.000000</td>\n",
       "      <td>1000000.000000</td>\n",
       "      <td>1000000.000000</td>\n",
       "      <td>1000000.000000</td>\n",
       "      <td>1000000.000000</td>\n",
       "      <td>1000000.000000</td>\n",
       "      <td>1000000.000000</td>\n",
       "      <td>1000000.000000</td>\n",
       "    </tr>\n",
       "    <tr>\n",
       "      <td>mean</td>\n",
       "      <td>0.008137</td>\n",
       "      <td>0.009091</td>\n",
       "      <td>0.253530</td>\n",
       "      <td>0.406447</td>\n",
       "      <td>0.019453</td>\n",
       "      <td>0.000992</td>\n",
       "      <td>0.755759</td>\n",
       "      <td>0.135596</td>\n",
       "      <td>0.123571</td>\n",
       "      <td>0.046684</td>\n",
       "      <td>0.358371</td>\n",
       "      <td>0.008584</td>\n",
       "      <td>0.005742</td>\n",
       "      <td>0.026898</td>\n",
       "      <td>0.016480</td>\n",
       "      <td>0.222589</td>\n",
       "    </tr>\n",
       "    <tr>\n",
       "      <td>std</td>\n",
       "      <td>0.022093</td>\n",
       "      <td>0.094912</td>\n",
       "      <td>0.153846</td>\n",
       "      <td>0.163133</td>\n",
       "      <td>0.138111</td>\n",
       "      <td>0.031480</td>\n",
       "      <td>0.429636</td>\n",
       "      <td>0.069337</td>\n",
       "      <td>0.063513</td>\n",
       "      <td>0.176395</td>\n",
       "      <td>0.219690</td>\n",
       "      <td>0.092251</td>\n",
       "      <td>0.023348</td>\n",
       "      <td>0.029296</td>\n",
       "      <td>0.019517</td>\n",
       "      <td>0.415985</td>\n",
       "    </tr>\n",
       "    <tr>\n",
       "      <td>min</td>\n",
       "      <td>0.000000</td>\n",
       "      <td>0.000000</td>\n",
       "      <td>0.000000</td>\n",
       "      <td>0.000000</td>\n",
       "      <td>0.000000</td>\n",
       "      <td>0.000000</td>\n",
       "      <td>0.000000</td>\n",
       "      <td>0.000000</td>\n",
       "      <td>0.000000</td>\n",
       "      <td>0.000000</td>\n",
       "      <td>0.000000</td>\n",
       "      <td>0.000000</td>\n",
       "      <td>0.000000</td>\n",
       "      <td>0.000000</td>\n",
       "      <td>0.000000</td>\n",
       "      <td>0.000000</td>\n",
       "    </tr>\n",
       "    <tr>\n",
       "      <td>25%</td>\n",
       "      <td>0.000000</td>\n",
       "      <td>0.000000</td>\n",
       "      <td>0.142929</td>\n",
       "      <td>0.290430</td>\n",
       "      <td>0.000000</td>\n",
       "      <td>0.000000</td>\n",
       "      <td>1.000000</td>\n",
       "      <td>0.085714</td>\n",
       "      <td>0.077778</td>\n",
       "      <td>0.000000</td>\n",
       "      <td>0.192480</td>\n",
       "      <td>0.000000</td>\n",
       "      <td>0.000000</td>\n",
       "      <td>0.010381</td>\n",
       "      <td>0.003012</td>\n",
       "      <td>0.000000</td>\n",
       "    </tr>\n",
       "    <tr>\n",
       "      <td>50%</td>\n",
       "      <td>0.000000</td>\n",
       "      <td>0.000000</td>\n",
       "      <td>0.217502</td>\n",
       "      <td>0.391464</td>\n",
       "      <td>0.000000</td>\n",
       "      <td>0.000000</td>\n",
       "      <td>1.000000</td>\n",
       "      <td>0.125714</td>\n",
       "      <td>0.111111</td>\n",
       "      <td>0.000000</td>\n",
       "      <td>0.299982</td>\n",
       "      <td>0.000000</td>\n",
       "      <td>0.000000</td>\n",
       "      <td>0.020761</td>\n",
       "      <td>0.008415</td>\n",
       "      <td>0.000000</td>\n",
       "    </tr>\n",
       "    <tr>\n",
       "      <td>75%</td>\n",
       "      <td>0.000000</td>\n",
       "      <td>0.000000</td>\n",
       "      <td>0.337671</td>\n",
       "      <td>0.499833</td>\n",
       "      <td>0.000000</td>\n",
       "      <td>0.000000</td>\n",
       "      <td>1.000000</td>\n",
       "      <td>0.177143</td>\n",
       "      <td>0.155556</td>\n",
       "      <td>0.000000</td>\n",
       "      <td>0.499987</td>\n",
       "      <td>0.000000</td>\n",
       "      <td>0.000000</td>\n",
       "      <td>0.031142</td>\n",
       "      <td>0.025020</td>\n",
       "      <td>0.000000</td>\n",
       "    </tr>\n",
       "    <tr>\n",
       "      <td>max</td>\n",
       "      <td>1.000000</td>\n",
       "      <td>1.000000</td>\n",
       "      <td>1.000000</td>\n",
       "      <td>1.000000</td>\n",
       "      <td>1.000000</td>\n",
       "      <td>1.000000</td>\n",
       "      <td>1.000000</td>\n",
       "      <td>1.000000</td>\n",
       "      <td>1.000000</td>\n",
       "      <td>1.000000</td>\n",
       "      <td>1.000000</td>\n",
       "      <td>1.000000</td>\n",
       "      <td>1.000000</td>\n",
       "      <td>1.000000</td>\n",
       "      <td>1.000000</td>\n",
       "      <td>1.000000</td>\n",
       "    </tr>\n",
       "  </tbody>\n",
       "</table>\n",
       "</div>"
      ],
      "text/plain": [
       "          delinq_2yrs        all_util     installment        int_rate  \\\n",
       "count  1000000.000000  1000000.000000  1000000.000000  1000000.000000   \n",
       "mean         0.008137        0.009091        0.253530        0.406447   \n",
       "std          0.022093        0.094912        0.153846        0.163133   \n",
       "min          0.000000        0.000000        0.000000        0.000000   \n",
       "25%          0.000000        0.000000        0.142929        0.290430   \n",
       "50%          0.000000        0.000000        0.217502        0.391464   \n",
       "75%          0.000000        0.000000        0.337671        0.499833   \n",
       "max          1.000000        1.000000        1.000000        1.000000   \n",
       "\n",
       "       application_type_Joint App  pub_rec_bankruptcies  term_ 36 months  \\\n",
       "count              1000000.000000        1000000.000000   1000000.000000   \n",
       "mean                     0.019453              0.000992         0.755759   \n",
       "std                      0.138111              0.031480         0.429636   \n",
       "min                      0.000000              0.000000         0.000000   \n",
       "25%                      0.000000              0.000000         1.000000   \n",
       "50%                      0.000000              0.000000         1.000000   \n",
       "75%                      0.000000              0.000000         1.000000   \n",
       "max                      1.000000              1.000000         1.000000   \n",
       "\n",
       "            total_acc        num_sats  num_tl_120dpd_2m     funded_amnt  \\\n",
       "count  1000000.000000  1000000.000000    1000000.000000  1000000.000000   \n",
       "mean         0.135596        0.123571          0.046684        0.358371   \n",
       "std          0.069337        0.063513          0.176395        0.219690   \n",
       "min          0.000000        0.000000          0.000000        0.000000   \n",
       "25%          0.085714        0.077778          0.000000        0.192480   \n",
       "50%          0.125714        0.111111          0.000000        0.299982   \n",
       "75%          0.177143        0.155556          0.000000        0.499987   \n",
       "max          1.000000        1.000000          1.000000        1.000000   \n",
       "\n",
       "          delinq_amnt      recoveries  mo_sin_rcnt_tl     tot_cur_bal  \\\n",
       "count  1000000.000000  1000000.000000  1000000.000000  1000000.000000   \n",
       "mean         0.008584        0.005742        0.026898        0.016480   \n",
       "std          0.092251        0.023348        0.029296        0.019517   \n",
       "min          0.000000        0.000000        0.000000        0.000000   \n",
       "25%          0.000000        0.000000        0.010381        0.003012   \n",
       "50%          0.000000        0.000000        0.020761        0.008415   \n",
       "75%          0.000000        0.000000        0.031142        0.025020   \n",
       "max          1.000000        1.000000        1.000000        1.000000   \n",
       "\n",
       "              default  \n",
       "count  1000000.000000  \n",
       "mean         0.222589  \n",
       "std          0.415985  \n",
       "min          0.000000  \n",
       "25%          0.000000  \n",
       "50%          0.000000  \n",
       "75%          0.000000  \n",
       "max          1.000000  "
      ]
     },
     "execution_count": 181,
     "metadata": {},
     "output_type": "execute_result"
    }
   ],
   "source": [
    "data_lasso.describe()"
   ]
  },
  {
   "cell_type": "code",
   "execution_count": 86,
   "metadata": {},
   "outputs": [
    {
     "name": "stdout",
     "output_type": "stream",
     "text": [
      "<class 'pandas.core.frame.DataFrame'>\n",
      "Int64Index: 1000000 entries, 0 to 999999\n",
      "Data columns (total 16 columns):\n",
      "delinq_2yrs                   1000000 non-null float64\n",
      "all_util                      1000000 non-null float64\n",
      "installment                   1000000 non-null float64\n",
      "int_rate                      1000000 non-null float64\n",
      "application_type_Joint App    1000000 non-null uint8\n",
      "pub_rec_bankruptcies          1000000 non-null float64\n",
      "term_ 36 months               1000000 non-null uint8\n",
      "total_acc                     1000000 non-null float64\n",
      "num_sats                      1000000 non-null float64\n",
      "num_tl_120dpd_2m              1000000 non-null float64\n",
      "funded_amnt                   1000000 non-null float64\n",
      "delinq_amnt                   1000000 non-null float64\n",
      "recoveries                    1000000 non-null float64\n",
      "mo_sin_rcnt_tl                1000000 non-null float64\n",
      "tot_cur_bal                   1000000 non-null float64\n",
      "default                       1000000 non-null int64\n",
      "dtypes: float64(13), int64(1), uint8(2)\n",
      "memory usage: 116.3 MB\n"
     ]
    }
   ],
   "source": [
    "data_lasso.info()"
   ]
  },
  {
   "cell_type": "markdown",
   "metadata": {},
   "source": [
    "## 7. TRAIN & TEST and Oversampling"
   ]
  },
  {
   "cell_type": "markdown",
   "metadata": {},
   "source": [
    "To make predictions with any model, the most important and first step is to divide our dataset into what will be used to train the model and what will be used to predict the outcome. The train part of the dataset is what we will launch the models with and the test part will make the predictions after creating the models. Very important not to use the test part for forming the models, as the study would be worthless."
   ]
  },
  {
   "cell_type": "code",
   "execution_count": 182,
   "metadata": {},
   "outputs": [],
   "source": [
    "exogenas = list(set(list(data_lasso.columns))-set(endogena))\n",
    "train_features = data_lasso[exogenas].values\n",
    "train_labels = data_lasso[endogena].values"
   ]
  },
  {
   "cell_type": "code",
   "execution_count": 183,
   "metadata": {},
   "outputs": [],
   "source": [
    "train = pd.concat([pd.DataFrame(train_features), pd.DataFrame(train_labels)])"
   ]
  },
  {
   "cell_type": "code",
   "execution_count": 184,
   "metadata": {},
   "outputs": [
    {
     "data": {
      "text/html": [
       "<div>\n",
       "<style scoped>\n",
       "    .dataframe tbody tr th:only-of-type {\n",
       "        vertical-align: middle;\n",
       "    }\n",
       "\n",
       "    .dataframe tbody tr th {\n",
       "        vertical-align: top;\n",
       "    }\n",
       "\n",
       "    .dataframe thead th {\n",
       "        text-align: right;\n",
       "    }\n",
       "</style>\n",
       "<table border=\"1\" class=\"dataframe\">\n",
       "  <thead>\n",
       "    <tr style=\"text-align: right;\">\n",
       "      <th></th>\n",
       "      <th>0</th>\n",
       "      <th>1</th>\n",
       "      <th>2</th>\n",
       "      <th>3</th>\n",
       "      <th>4</th>\n",
       "      <th>5</th>\n",
       "      <th>6</th>\n",
       "      <th>7</th>\n",
       "      <th>8</th>\n",
       "      <th>9</th>\n",
       "      <th>10</th>\n",
       "      <th>11</th>\n",
       "      <th>12</th>\n",
       "      <th>13</th>\n",
       "      <th>14</th>\n",
       "    </tr>\n",
       "  </thead>\n",
       "  <tbody>\n",
       "    <tr>\n",
       "      <td>0</td>\n",
       "      <td>0.0</td>\n",
       "      <td>0.024221</td>\n",
       "      <td>0.025641</td>\n",
       "      <td>0.0</td>\n",
       "      <td>0.0</td>\n",
       "      <td>0.0</td>\n",
       "      <td>0.010120</td>\n",
       "      <td>0.0</td>\n",
       "      <td>0.496862</td>\n",
       "      <td>0.0</td>\n",
       "      <td>0.0</td>\n",
       "      <td>0.211111</td>\n",
       "      <td>0.245714</td>\n",
       "      <td>0.307853</td>\n",
       "      <td>0.640213</td>\n",
       "    </tr>\n",
       "    <tr>\n",
       "      <td>1</td>\n",
       "      <td>0.0</td>\n",
       "      <td>0.000000</td>\n",
       "      <td>0.000000</td>\n",
       "      <td>0.0</td>\n",
       "      <td>0.0</td>\n",
       "      <td>1.0</td>\n",
       "      <td>0.000457</td>\n",
       "      <td>0.0</td>\n",
       "      <td>0.099977</td>\n",
       "      <td>0.0</td>\n",
       "      <td>0.0</td>\n",
       "      <td>0.055556</td>\n",
       "      <td>0.034286</td>\n",
       "      <td>0.073798</td>\n",
       "      <td>0.272424</td>\n",
       "    </tr>\n",
       "    <tr>\n",
       "      <td>2</td>\n",
       "      <td>1.0</td>\n",
       "      <td>0.027128</td>\n",
       "      <td>0.000000</td>\n",
       "      <td>0.0</td>\n",
       "      <td>0.0</td>\n",
       "      <td>1.0</td>\n",
       "      <td>0.000000</td>\n",
       "      <td>0.0</td>\n",
       "      <td>0.249981</td>\n",
       "      <td>0.0</td>\n",
       "      <td>0.0</td>\n",
       "      <td>0.055556</td>\n",
       "      <td>0.051429</td>\n",
       "      <td>0.181933</td>\n",
       "      <td>0.230077</td>\n",
       "    </tr>\n",
       "    <tr>\n",
       "      <td>3</td>\n",
       "      <td>0.0</td>\n",
       "      <td>0.013841</td>\n",
       "      <td>0.000000</td>\n",
       "      <td>0.0</td>\n",
       "      <td>0.0</td>\n",
       "      <td>1.0</td>\n",
       "      <td>0.025454</td>\n",
       "      <td>0.0</td>\n",
       "      <td>0.087477</td>\n",
       "      <td>0.0</td>\n",
       "      <td>0.0</td>\n",
       "      <td>0.177778</td>\n",
       "      <td>0.160000</td>\n",
       "      <td>0.065742</td>\n",
       "      <td>0.315772</td>\n",
       "    </tr>\n",
       "    <tr>\n",
       "      <td>4</td>\n",
       "      <td>0.0</td>\n",
       "      <td>0.010381</td>\n",
       "      <td>0.000000</td>\n",
       "      <td>0.0</td>\n",
       "      <td>0.0</td>\n",
       "      <td>0.0</td>\n",
       "      <td>0.006829</td>\n",
       "      <td>0.0</td>\n",
       "      <td>0.306233</td>\n",
       "      <td>0.0</td>\n",
       "      <td>0.0</td>\n",
       "      <td>0.066667</td>\n",
       "      <td>0.045714</td>\n",
       "      <td>0.217560</td>\n",
       "      <td>0.866622</td>\n",
       "    </tr>\n",
       "  </tbody>\n",
       "</table>\n",
       "</div>"
      ],
      "text/plain": [
       "     0         1         2    3    4    5         6    7         8    9   10  \\\n",
       "0  0.0  0.024221  0.025641  0.0  0.0  0.0  0.010120  0.0  0.496862  0.0  0.0   \n",
       "1  0.0  0.000000  0.000000  0.0  0.0  1.0  0.000457  0.0  0.099977  0.0  0.0   \n",
       "2  1.0  0.027128  0.000000  0.0  0.0  1.0  0.000000  0.0  0.249981  0.0  0.0   \n",
       "3  0.0  0.013841  0.000000  0.0  0.0  1.0  0.025454  0.0  0.087477  0.0  0.0   \n",
       "4  0.0  0.010381  0.000000  0.0  0.0  0.0  0.006829  0.0  0.306233  0.0  0.0   \n",
       "\n",
       "         11        12        13        14  \n",
       "0  0.211111  0.245714  0.307853  0.640213  \n",
       "1  0.055556  0.034286  0.073798  0.272424  \n",
       "2  0.055556  0.051429  0.181933  0.230077  \n",
       "3  0.177778  0.160000  0.065742  0.315772  \n",
       "4  0.066667  0.045714  0.217560  0.866622  "
      ]
     },
     "execution_count": 184,
     "metadata": {},
     "output_type": "execute_result"
    }
   ],
   "source": [
    "train.head()"
   ]
  },
  {
   "cell_type": "code",
   "execution_count": 103,
   "metadata": {},
   "outputs": [],
   "source": [
    "csv_train_loans = train.to_csv(\"./data/csv_train_loans\", index = None, header = True)"
   ]
  },
  {
   "cell_type": "markdown",
   "metadata": {},
   "source": [
    "Since in our dataframe there is a lack of balance in the dependent variable regarding the amount of loans which end up in default and the ones which are fully paid (20% to 80%), we need to execute an oversampling function which will give us more values to predict more accurately. We create more cases similar to the ones which we already have with SMOTE and form a new set of training sets. "
   ]
  },
  {
   "cell_type": "code",
   "execution_count": 185,
   "metadata": {
    "scrolled": true
   },
   "outputs": [
    {
     "name": "stderr",
     "output_type": "stream",
     "text": [
      "C:\\Users\\Luli\\Documents\\Anaconda\\lib\\site-packages\\sklearn\\utils\\validation.py:744: DataConversionWarning: A column-vector y was passed when a 1d array was expected. Please change the shape of y to (n_samples, ), for example using ravel().\n",
      "  y = column_or_1d(y, warn=True)\n",
      "C:\\Users\\Luli\\Documents\\Anaconda\\lib\\site-packages\\sklearn\\utils\\deprecation.py:87: FutureWarning: Function safe_indexing is deprecated; safe_indexing is deprecated in version 0.22 and will be removed in version 0.24.\n",
      "  warnings.warn(msg, category=FutureWarning)\n"
     ]
    }
   ],
   "source": [
    "from imblearn.over_sampling import SMOTE\n",
    "sm = SMOTE(random_state = 40, sampling_strategy = 0.4)\n",
    "train_features, train_labels = sm.fit_sample(train_features, train_labels)"
   ]
  },
  {
   "cell_type": "code",
   "execution_count": 186,
   "metadata": {},
   "outputs": [],
   "source": [
    "ytrain_df = pd.DataFrame(train_labels, columns = ['default'])\n",
    "xtrain_df = pd.DataFrame(train_features, columns = [relevants])"
   ]
  },
  {
   "cell_type": "code",
   "execution_count": 187,
   "metadata": {},
   "outputs": [
    {
     "data": {
      "text/plain": [
       "0    0.714286\n",
       "1    0.285714\n",
       "Name: default, dtype: float64"
      ]
     },
     "execution_count": 187,
     "metadata": {},
     "output_type": "execute_result"
    }
   ],
   "source": [
    "ytrain_df['default'].value_counts(normalize=True)"
   ]
  },
  {
   "cell_type": "code",
   "execution_count": 188,
   "metadata": {},
   "outputs": [
    {
     "data": {
      "text/html": [
       "<div>\n",
       "<style scoped>\n",
       "    .dataframe tbody tr th:only-of-type {\n",
       "        vertical-align: middle;\n",
       "    }\n",
       "\n",
       "    .dataframe tbody tr th {\n",
       "        vertical-align: top;\n",
       "    }\n",
       "\n",
       "    .dataframe thead th {\n",
       "        text-align: right;\n",
       "    }\n",
       "</style>\n",
       "<table border=\"1\" class=\"dataframe\">\n",
       "  <thead>\n",
       "    <tr style=\"text-align: right;\">\n",
       "      <th></th>\n",
       "      <th>(delinq_2yrs,)</th>\n",
       "      <th>(all_util,)</th>\n",
       "      <th>(installment,)</th>\n",
       "      <th>(int_rate,)</th>\n",
       "      <th>(application_type_Joint App,)</th>\n",
       "      <th>(pub_rec_bankruptcies,)</th>\n",
       "      <th>(term_ 36 months,)</th>\n",
       "      <th>(total_acc,)</th>\n",
       "      <th>(num_sats,)</th>\n",
       "      <th>(num_tl_120dpd_2m,)</th>\n",
       "      <th>(funded_amnt,)</th>\n",
       "      <th>(delinq_amnt,)</th>\n",
       "      <th>(recoveries,)</th>\n",
       "      <th>(mo_sin_rcnt_tl,)</th>\n",
       "      <th>(tot_cur_bal,)</th>\n",
       "      <th>default</th>\n",
       "    </tr>\n",
       "  </thead>\n",
       "  <tbody>\n",
       "    <tr>\n",
       "      <td>0</td>\n",
       "      <td>0.0</td>\n",
       "      <td>0.024221</td>\n",
       "      <td>0.025641</td>\n",
       "      <td>0.000000</td>\n",
       "      <td>0.0</td>\n",
       "      <td>0.0</td>\n",
       "      <td>1.011990e-02</td>\n",
       "      <td>0.0</td>\n",
       "      <td>0.496862</td>\n",
       "      <td>0.0</td>\n",
       "      <td>0.0</td>\n",
       "      <td>0.211111</td>\n",
       "      <td>0.245714</td>\n",
       "      <td>0.307853</td>\n",
       "      <td>0.640213</td>\n",
       "      <td>0</td>\n",
       "    </tr>\n",
       "    <tr>\n",
       "      <td>1</td>\n",
       "      <td>0.0</td>\n",
       "      <td>0.000000</td>\n",
       "      <td>0.000000</td>\n",
       "      <td>0.000000</td>\n",
       "      <td>0.0</td>\n",
       "      <td>1.0</td>\n",
       "      <td>4.566205e-04</td>\n",
       "      <td>0.0</td>\n",
       "      <td>0.099977</td>\n",
       "      <td>0.0</td>\n",
       "      <td>0.0</td>\n",
       "      <td>0.055556</td>\n",
       "      <td>0.034286</td>\n",
       "      <td>0.073798</td>\n",
       "      <td>0.272424</td>\n",
       "      <td>0</td>\n",
       "    </tr>\n",
       "    <tr>\n",
       "      <td>2</td>\n",
       "      <td>1.0</td>\n",
       "      <td>0.027128</td>\n",
       "      <td>0.000000</td>\n",
       "      <td>0.000000</td>\n",
       "      <td>0.0</td>\n",
       "      <td>1.0</td>\n",
       "      <td>0.000000e+00</td>\n",
       "      <td>0.0</td>\n",
       "      <td>0.249981</td>\n",
       "      <td>0.0</td>\n",
       "      <td>0.0</td>\n",
       "      <td>0.055556</td>\n",
       "      <td>0.051429</td>\n",
       "      <td>0.181933</td>\n",
       "      <td>0.230077</td>\n",
       "      <td>0</td>\n",
       "    </tr>\n",
       "    <tr>\n",
       "      <td>3</td>\n",
       "      <td>0.0</td>\n",
       "      <td>0.013841</td>\n",
       "      <td>0.000000</td>\n",
       "      <td>0.000000</td>\n",
       "      <td>0.0</td>\n",
       "      <td>1.0</td>\n",
       "      <td>2.545438e-02</td>\n",
       "      <td>0.0</td>\n",
       "      <td>0.087477</td>\n",
       "      <td>0.0</td>\n",
       "      <td>0.0</td>\n",
       "      <td>0.177778</td>\n",
       "      <td>0.160000</td>\n",
       "      <td>0.065742</td>\n",
       "      <td>0.315772</td>\n",
       "      <td>0</td>\n",
       "    </tr>\n",
       "    <tr>\n",
       "      <td>4</td>\n",
       "      <td>0.0</td>\n",
       "      <td>0.010381</td>\n",
       "      <td>0.000000</td>\n",
       "      <td>0.000000</td>\n",
       "      <td>0.0</td>\n",
       "      <td>0.0</td>\n",
       "      <td>6.828808e-03</td>\n",
       "      <td>0.0</td>\n",
       "      <td>0.306233</td>\n",
       "      <td>0.0</td>\n",
       "      <td>0.0</td>\n",
       "      <td>0.066667</td>\n",
       "      <td>0.045714</td>\n",
       "      <td>0.217560</td>\n",
       "      <td>0.866622</td>\n",
       "      <td>1</td>\n",
       "    </tr>\n",
       "    <tr>\n",
       "      <td>...</td>\n",
       "      <td>...</td>\n",
       "      <td>...</td>\n",
       "      <td>...</td>\n",
       "      <td>...</td>\n",
       "      <td>...</td>\n",
       "      <td>...</td>\n",
       "      <td>...</td>\n",
       "      <td>...</td>\n",
       "      <td>...</td>\n",
       "      <td>...</td>\n",
       "      <td>...</td>\n",
       "      <td>...</td>\n",
       "      <td>...</td>\n",
       "      <td>...</td>\n",
       "      <td>...</td>\n",
       "      <td>...</td>\n",
       "    </tr>\n",
       "    <tr>\n",
       "      <td>1088370</td>\n",
       "      <td>0.0</td>\n",
       "      <td>0.015893</td>\n",
       "      <td>0.000000</td>\n",
       "      <td>0.006210</td>\n",
       "      <td>0.0</td>\n",
       "      <td>1.0</td>\n",
       "      <td>4.921281e-03</td>\n",
       "      <td>0.0</td>\n",
       "      <td>0.122013</td>\n",
       "      <td>0.0</td>\n",
       "      <td>0.0</td>\n",
       "      <td>0.100000</td>\n",
       "      <td>0.123389</td>\n",
       "      <td>0.096195</td>\n",
       "      <td>0.420574</td>\n",
       "      <td>1</td>\n",
       "    </tr>\n",
       "    <tr>\n",
       "      <td>1088371</td>\n",
       "      <td>0.0</td>\n",
       "      <td>0.021375</td>\n",
       "      <td>0.000000</td>\n",
       "      <td>0.180250</td>\n",
       "      <td>0.0</td>\n",
       "      <td>1.0</td>\n",
       "      <td>6.794036e-03</td>\n",
       "      <td>0.0</td>\n",
       "      <td>0.499987</td>\n",
       "      <td>0.0</td>\n",
       "      <td>0.0</td>\n",
       "      <td>0.139964</td>\n",
       "      <td>0.164608</td>\n",
       "      <td>0.398806</td>\n",
       "      <td>0.437404</td>\n",
       "      <td>1</td>\n",
       "    </tr>\n",
       "    <tr>\n",
       "      <td>1088372</td>\n",
       "      <td>0.6</td>\n",
       "      <td>0.013841</td>\n",
       "      <td>0.000000</td>\n",
       "      <td>0.000000</td>\n",
       "      <td>0.0</td>\n",
       "      <td>1.0</td>\n",
       "      <td>4.505990e-03</td>\n",
       "      <td>0.0</td>\n",
       "      <td>0.220323</td>\n",
       "      <td>0.0</td>\n",
       "      <td>0.0</td>\n",
       "      <td>0.088224</td>\n",
       "      <td>0.101661</td>\n",
       "      <td>0.203467</td>\n",
       "      <td>0.796103</td>\n",
       "      <td>1</td>\n",
       "    </tr>\n",
       "    <tr>\n",
       "      <td>1088373</td>\n",
       "      <td>0.0</td>\n",
       "      <td>0.013877</td>\n",
       "      <td>0.000000</td>\n",
       "      <td>0.001812</td>\n",
       "      <td>0.0</td>\n",
       "      <td>1.0</td>\n",
       "      <td>2.511902e-03</td>\n",
       "      <td>0.0</td>\n",
       "      <td>0.069925</td>\n",
       "      <td>0.0</td>\n",
       "      <td>0.0</td>\n",
       "      <td>0.111111</td>\n",
       "      <td>0.080000</td>\n",
       "      <td>0.052694</td>\n",
       "      <td>0.326905</td>\n",
       "      <td>1</td>\n",
       "    </tr>\n",
       "    <tr>\n",
       "      <td>1088374</td>\n",
       "      <td>0.2</td>\n",
       "      <td>0.003460</td>\n",
       "      <td>0.025641</td>\n",
       "      <td>0.000025</td>\n",
       "      <td>1.0</td>\n",
       "      <td>1.0</td>\n",
       "      <td>1.249988e-07</td>\n",
       "      <td>1.0</td>\n",
       "      <td>0.000000</td>\n",
       "      <td>0.0</td>\n",
       "      <td>0.0</td>\n",
       "      <td>0.011111</td>\n",
       "      <td>0.000000</td>\n",
       "      <td>0.000000</td>\n",
       "      <td>0.000000</td>\n",
       "      <td>1</td>\n",
       "    </tr>\n",
       "  </tbody>\n",
       "</table>\n",
       "<p>1088375 rows × 16 columns</p>\n",
       "</div>"
      ],
      "text/plain": [
       "         (delinq_2yrs,)  (all_util,)  (installment,)  (int_rate,)  \\\n",
       "0                   0.0     0.024221        0.025641     0.000000   \n",
       "1                   0.0     0.000000        0.000000     0.000000   \n",
       "2                   1.0     0.027128        0.000000     0.000000   \n",
       "3                   0.0     0.013841        0.000000     0.000000   \n",
       "4                   0.0     0.010381        0.000000     0.000000   \n",
       "...                 ...          ...             ...          ...   \n",
       "1088370             0.0     0.015893        0.000000     0.006210   \n",
       "1088371             0.0     0.021375        0.000000     0.180250   \n",
       "1088372             0.6     0.013841        0.000000     0.000000   \n",
       "1088373             0.0     0.013877        0.000000     0.001812   \n",
       "1088374             0.2     0.003460        0.025641     0.000025   \n",
       "\n",
       "         (application_type_Joint App,)  (pub_rec_bankruptcies,)  \\\n",
       "0                                  0.0                      0.0   \n",
       "1                                  0.0                      1.0   \n",
       "2                                  0.0                      1.0   \n",
       "3                                  0.0                      1.0   \n",
       "4                                  0.0                      0.0   \n",
       "...                                ...                      ...   \n",
       "1088370                            0.0                      1.0   \n",
       "1088371                            0.0                      1.0   \n",
       "1088372                            0.0                      1.0   \n",
       "1088373                            0.0                      1.0   \n",
       "1088374                            1.0                      1.0   \n",
       "\n",
       "         (term_ 36 months,)  (total_acc,)  (num_sats,)  (num_tl_120dpd_2m,)  \\\n",
       "0              1.011990e-02           0.0     0.496862                  0.0   \n",
       "1              4.566205e-04           0.0     0.099977                  0.0   \n",
       "2              0.000000e+00           0.0     0.249981                  0.0   \n",
       "3              2.545438e-02           0.0     0.087477                  0.0   \n",
       "4              6.828808e-03           0.0     0.306233                  0.0   \n",
       "...                     ...           ...          ...                  ...   \n",
       "1088370        4.921281e-03           0.0     0.122013                  0.0   \n",
       "1088371        6.794036e-03           0.0     0.499987                  0.0   \n",
       "1088372        4.505990e-03           0.0     0.220323                  0.0   \n",
       "1088373        2.511902e-03           0.0     0.069925                  0.0   \n",
       "1088374        1.249988e-07           1.0     0.000000                  0.0   \n",
       "\n",
       "         (funded_amnt,)  (delinq_amnt,)  (recoveries,)  (mo_sin_rcnt_tl,)  \\\n",
       "0                   0.0        0.211111       0.245714           0.307853   \n",
       "1                   0.0        0.055556       0.034286           0.073798   \n",
       "2                   0.0        0.055556       0.051429           0.181933   \n",
       "3                   0.0        0.177778       0.160000           0.065742   \n",
       "4                   0.0        0.066667       0.045714           0.217560   \n",
       "...                 ...             ...            ...                ...   \n",
       "1088370             0.0        0.100000       0.123389           0.096195   \n",
       "1088371             0.0        0.139964       0.164608           0.398806   \n",
       "1088372             0.0        0.088224       0.101661           0.203467   \n",
       "1088373             0.0        0.111111       0.080000           0.052694   \n",
       "1088374             0.0        0.011111       0.000000           0.000000   \n",
       "\n",
       "         (tot_cur_bal,)  default  \n",
       "0              0.640213        0  \n",
       "1              0.272424        0  \n",
       "2              0.230077        0  \n",
       "3              0.315772        0  \n",
       "4              0.866622        1  \n",
       "...                 ...      ...  \n",
       "1088370        0.420574        1  \n",
       "1088371        0.437404        1  \n",
       "1088372        0.796103        1  \n",
       "1088373        0.326905        1  \n",
       "1088374        0.000000        1  \n",
       "\n",
       "[1088375 rows x 16 columns]"
      ]
     },
     "execution_count": 188,
     "metadata": {},
     "output_type": "execute_result"
    }
   ],
   "source": [
    "train_df = pd.concat([xtrain_df, ytrain_df], axis = 1)\n",
    "train_df"
   ]
  },
  {
   "cell_type": "code",
   "execution_count": 189,
   "metadata": {},
   "outputs": [],
   "source": [
    "train_df = train_df.to_csv(\"./data/train_df\", index = None, header = True)"
   ]
  },
  {
   "cell_type": "markdown",
   "metadata": {},
   "source": [
    "SMOTE allows us to limit our oversampling up to a 70, 30 more or less. If we decided to have 50, 50 of the values in the dependent variable, our model would be distorted, since we would be making up too many values and would distance ourselves from the reality of our original dataset."
   ]
  },
  {
   "cell_type": "markdown",
   "metadata": {},
   "source": [
    "## 8. SUPPORT VECTOR MACHINE"
   ]
  },
  {
   "cell_type": "markdown",
   "metadata": {},
   "source": [
    "\"A Support Vector Machine (SVM) is a supervised machine learning algorithm that can be employed for both classification and regression purposes. SVMs are more commonly used in classification problems and as such, this is what we will focus on in this post.\n",
    "\n",
    "SVMs are based on the idea of finding a hyperplane that best divides a dataset into two classes.\"\n",
    "We launch the first predictive model in our study with a certain number of genral parameters to later be specified which are the most relevant with the function best_estimator_. We ask for 1000 iterations to make our model as precise as possible."
   ]
  },
  {
   "cell_type": "code",
   "execution_count": 111,
   "metadata": {},
   "outputs": [
    {
     "name": "stderr",
     "output_type": "stream",
     "text": [
      "C:\\Users\\Luli\\Documents\\Anaconda\\lib\\site-packages\\sklearn\\model_selection\\_search.py:825: FutureWarning: The parameter 'iid' is deprecated in 0.22 and will be removed in 0.24.\n",
      "  \"removed in 0.24.\", FutureWarning\n"
     ]
    },
    {
     "name": "stdout",
     "output_type": "stream",
     "text": [
      "Wall time: 3min 29s\n"
     ]
    },
    {
     "name": "stderr",
     "output_type": "stream",
     "text": [
      "C:\\Users\\Luli\\Documents\\Anaconda\\lib\\site-packages\\sklearn\\svm\\_base.py:231: ConvergenceWarning: Solver terminated early (max_iter=1000).  Consider pre-processing your data with StandardScaler or MinMaxScaler.\n",
      "  % self.max_iter, ConvergenceWarning)\n"
     ]
    },
    {
     "data": {
      "text/plain": [
       "GridSearchCV(cv=3, error_score=nan,\n",
       "             estimator=SVC(C=1.0, break_ties=False, cache_size=200,\n",
       "                           class_weight=None, coef0=0.0,\n",
       "                           decision_function_shape='ovr', degree=3,\n",
       "                           gamma='scale', kernel='rbf', max_iter=1000,\n",
       "                           probability=False, random_state=None, shrinking=True,\n",
       "                           tol=0.001, verbose=False),\n",
       "             iid=False, n_jobs=-1,\n",
       "             param_grid={'C': [1], 'break_ties': [False], 'cache_size': [200],\n",
       "                         'class_weight': [None], 'coef0': [0.0],\n",
       "                         'decision_function_shape': ['ovr'], 'degree': [3],\n",
       "                         'gamma': ['scale'], 'kernel': ['linear']},\n",
       "             pre_dispatch='2*n_jobs', refit=True, return_train_score=False,\n",
       "             scoring='roc_auc', verbose=0)"
      ]
     },
     "execution_count": 111,
     "metadata": {},
     "output_type": "execute_result"
    }
   ],
   "source": [
    "%%time\n",
    "parametros_support = {'C':[1], 'break_ties':[False], 'cache_size':[200], 'class_weight':[None], 'coef0':[0.0],\n",
    "    'decision_function_shape':['ovr'], 'degree':[3], 'gamma':['scale'], 'kernel':['linear']}\n",
    "support_vector = GridSearchCV(estimator = SVC(max_iter = 1000),\n",
    "             param_grid = parametros_support , scoring = 'roc_auc', n_jobs = -1, iid = False, cv = 3)\n",
    "support_vector.fit(train_features, train_labels)"
   ]
  },
  {
   "cell_type": "code",
   "execution_count": 112,
   "metadata": {},
   "outputs": [
    {
     "data": {
      "text/plain": [
       "SVC(C=1, break_ties=False, cache_size=200, class_weight=None, coef0=0.0,\n",
       "    decision_function_shape='ovr', degree=3, gamma='scale', kernel='linear',\n",
       "    max_iter=1000, probability=False, random_state=None, shrinking=True,\n",
       "    tol=0.001, verbose=False)"
      ]
     },
     "execution_count": 112,
     "metadata": {},
     "output_type": "execute_result"
    }
   ],
   "source": [
    "# this function allows us to see which parameters are the best for our specific model\n",
    "support_vector.best_estimator_ "
   ]
  },
  {
   "cell_type": "code",
   "execution_count": 113,
   "metadata": {},
   "outputs": [
    {
     "name": "stdout",
     "output_type": "stream",
     "text": [
      "Wall time: 1min 19s\n"
     ]
    },
    {
     "name": "stderr",
     "output_type": "stream",
     "text": [
      "C:\\Users\\Luli\\Documents\\Anaconda\\lib\\site-packages\\sklearn\\svm\\_base.py:231: ConvergenceWarning: Solver terminated early (max_iter=1000).  Consider pre-processing your data with StandardScaler or MinMaxScaler.\n",
      "  % self.max_iter, ConvergenceWarning)\n"
     ]
    },
    {
     "data": {
      "text/plain": [
       "SVC(C=1, break_ties=False, cache_size=200, class_weight=None, coef0=0.0,\n",
       "    decision_function_shape='ovr', degree=3, gamma='scale', kernel='linear',\n",
       "    max_iter=1000, probability=False, random_state=None, shrinking=True,\n",
       "    tol=0.001, verbose=False)"
      ]
     },
     "execution_count": 113,
     "metadata": {},
     "output_type": "execute_result"
    }
   ],
   "source": [
    "%%time\n",
    "best_SVC = support_vector.best_estimator_\n",
    "best_SVC.fit(train_features, train_labels)"
   ]
  },
  {
   "cell_type": "code",
   "execution_count": 114,
   "metadata": {},
   "outputs": [],
   "source": [
    "pickle.dump(best_SVC, open('SVM_Model', 'wb'))"
   ]
  },
  {
   "cell_type": "markdown",
   "metadata": {},
   "source": [
    "## 9. LOGISTIC REGRESSION"
   ]
  },
  {
   "cell_type": "markdown",
   "metadata": {},
   "source": [
    "Logistic regression is a supervised learning technique. It is widely used in many industries due to its scalability and explainability. It is a small neural network. In fact, logistic regression, it is a one-neuron neural network. \n",
    "\n",
    "It is bounded between 0 and 1 and we can interpret its results as probabilities. \n",
    "\n",
    "It is easy to apply the model with scikit-learn."
   ]
  },
  {
   "cell_type": "code",
   "execution_count": 95,
   "metadata": {
    "scrolled": true
   },
   "outputs": [
    {
     "name": "stdout",
     "output_type": "stream",
     "text": [
      "Wall time: 7min 39s\n"
     ]
    },
    {
     "name": "stderr",
     "output_type": "stream",
     "text": [
      "C:\\Users\\Luli\\Documents\\Anaconda\\lib\\site-packages\\sklearn\\linear_model\\_sag.py:330: ConvergenceWarning: The max_iter was reached which means the coef_ did not converge\n",
      "  \"the coef_ did not converge\", ConvergenceWarning)\n"
     ]
    },
    {
     "data": {
      "text/plain": [
       "LogisticRegression(C=1.0, class_weight='balanced', dual=False,\n",
       "                   fit_intercept=True, intercept_scaling=1, l1_ratio=None,\n",
       "                   max_iter=500, multi_class='auto', n_jobs=None, penalty='l1',\n",
       "                   random_state=40, solver='saga', tol=0.0001, verbose=0,\n",
       "                   warm_start=False)"
      ]
     },
     "execution_count": 95,
     "metadata": {},
     "output_type": "execute_result"
    }
   ],
   "source": [
    "%%time\n",
    "reg_logistica = LogisticRegression(random_state = 40, solver = \"saga\", penalty = \"l1\", class_weight = \"balanced\", \n",
    "                                C = 1.0, max_iter = 500)\n",
    "reg_logistica.fit(train_features, train_labels)"
   ]
  },
  {
   "cell_type": "code",
   "execution_count": 96,
   "metadata": {},
   "outputs": [],
   "source": [
    "pickle.dump(reg_logistica, open('LR_Model', 'wb'))"
   ]
  },
  {
   "cell_type": "markdown",
   "metadata": {},
   "source": [
    "## 10. RANDOM FOREST"
   ]
  },
  {
   "cell_type": "markdown",
   "metadata": {},
   "source": [
    "Random Forest is a flexible and easy-to-use Machine Learning algorithm that produces a great result most of the time, even without a parameter adjustment. It is also one of the most used algorithms, due to its simplicity and the fact that it can be used for both classification and regression tasks.\n",
    "Random Forest is a supervised learning algorithm that, as its name reveals, creates a forest randomly. To put it simply: it creates multiple decision trees and combines them to obtain an accurate and stable prediction. In general, the higher the number of trees, the more robust the forest will be."
   ]
  },
  {
   "cell_type": "code",
   "execution_count": 135,
   "metadata": {
    "scrolled": false
   },
   "outputs": [
    {
     "name": "stderr",
     "output_type": "stream",
     "text": [
      "/Users/mariacarrasco/opt/anaconda3/lib/python3.7/site-packages/sklearn/model_selection/_search.py:825: FutureWarning: The parameter 'iid' is deprecated in 0.22 and will be removed in 0.24.\n",
      "  \"removed in 0.24.\", FutureWarning\n"
     ]
    },
    {
     "name": "stdout",
     "output_type": "stream",
     "text": [
      "CPU times: user 20min 59s, sys: 5.87 s, total: 21min 5s\n",
      "Wall time: 23min 45s\n"
     ]
    },
    {
     "data": {
      "text/plain": [
       "GridSearchCV(cv=3, error_score=nan,\n",
       "             estimator=RandomForestClassifier(bootstrap=True, ccp_alpha=0.0,\n",
       "                                              class_weight=None,\n",
       "                                              criterion='gini', max_depth=None,\n",
       "                                              max_features='auto',\n",
       "                                              max_leaf_nodes=None,\n",
       "                                              max_samples=None,\n",
       "                                              min_impurity_decrease=0.0,\n",
       "                                              min_impurity_split=None,\n",
       "                                              min_samples_leaf=1,\n",
       "                                              min_samples_split=2,\n",
       "                                              min_weight_fraction_leaf=0.0,\n",
       "                                              n_estimators=500, n_jobs=None,...\n",
       "                         'class_weight': [None], 'criterion': ['entropy'],\n",
       "                         'max_depth': [8], 'max_features': ['sqrt'],\n",
       "                         'max_leaf_nodes': [None], 'max_samples': [None],\n",
       "                         'min_impurity_decrease': [0.0],\n",
       "                         'min_impurity_split': [None], 'min_samples_leaf': [1],\n",
       "                         'min_samples_split': [2],\n",
       "                         'min_weight_fraction_leaf': [0.0]},\n",
       "             pre_dispatch='2*n_jobs', refit=True, return_train_score=False,\n",
       "             scoring='roc_auc', verbose=0)"
      ]
     },
     "execution_count": 135,
     "metadata": {},
     "output_type": "execute_result"
    }
   ],
   "source": [
    "%%time\n",
    "parametros_RF = { 'bootstrap':[True], 'ccp_alpha':[0.0], 'class_weight':[None],\n",
    "                       'criterion':['entropy'], 'max_depth':[8], 'max_features':['sqrt'],\n",
    "                       'max_leaf_nodes':[None], 'max_samples':[None],\n",
    "                       'min_impurity_decrease':[0.0], 'min_impurity_split':[None],\n",
    "                       'min_samples_leaf':[1], 'min_samples_split':[2],\n",
    "                       'min_weight_fraction_leaf':[0.0]\n",
    "    \n",
    " }\n",
    "random_forest = GridSearchCV(estimator = RandomForestClassifier(500), \n",
    "                               param_grid = parametros_RF, scoring = 'roc_auc',n_jobs = -1, iid = False, cv = 3)\n",
    "random_forest.fit(train_features, train_labels)"
   ]
  },
  {
   "cell_type": "code",
   "execution_count": 127,
   "metadata": {},
   "outputs": [
    {
     "data": {
      "text/plain": [
       "RandomForestClassifier(bootstrap=True, ccp_alpha=0.0, class_weight=None,\n",
       "                       criterion='entropy', max_depth=8, max_features='sqrt',\n",
       "                       max_leaf_nodes=None, max_samples=None,\n",
       "                       min_impurity_decrease=0.0, min_impurity_split=None,\n",
       "                       min_samples_leaf=1, min_samples_split=2,\n",
       "                       min_weight_fraction_leaf=0.0, n_estimators=500,\n",
       "                       n_jobs=None, oob_score=False, random_state=None,\n",
       "                       verbose=0, warm_start=False)"
      ]
     },
     "execution_count": 127,
     "metadata": {},
     "output_type": "execute_result"
    }
   ],
   "source": [
    "random_forest.best_estimator_"
   ]
  },
  {
   "cell_type": "code",
   "execution_count": 141,
   "metadata": {},
   "outputs": [
    {
     "name": "stdout",
     "output_type": "stream",
     "text": [
      "CPU times: user 20min 55s, sys: 4.43 s, total: 21min\n",
      "Wall time: 14min 56s\n"
     ]
    },
    {
     "data": {
      "text/plain": [
       "RandomForestClassifier(bootstrap=True, ccp_alpha=0.0, class_weight=None,\n",
       "                       criterion='entropy', max_depth=8, max_features='sqrt',\n",
       "                       max_leaf_nodes=None, max_samples=None,\n",
       "                       min_impurity_decrease=0.0, min_impurity_split=None,\n",
       "                       min_samples_leaf=1, min_samples_split=2,\n",
       "                       min_weight_fraction_leaf=0.0, n_estimators=500,\n",
       "                       n_jobs=None, oob_score=False, random_state=None,\n",
       "                       verbose=0, warm_start=False)"
      ]
     },
     "execution_count": 141,
     "metadata": {},
     "output_type": "execute_result"
    }
   ],
   "source": [
    "%%time\n",
    "best_RF = random_forest.best_estimator_\n",
    "best_RF.fit(train_features, train_labels)"
   ]
  },
  {
   "cell_type": "code",
   "execution_count": 142,
   "metadata": {},
   "outputs": [
    {
     "name": "stdout",
     "output_type": "stream",
     "text": [
      "[3.01854080e-03 2.77845279e-03 2.92648448e-02 8.43867451e-03\n",
      " 4.05505238e-03 1.04754116e-03 8.50954640e-03 1.30326121e-05\n",
      " 3.76756510e-03 1.03514578e-02 6.38639685e-02 8.37548909e-03\n",
      " 1.26154216e-02 8.30695888e-01 1.32045245e-02]\n"
     ]
    },
    {
     "data": {
      "image/png": "[encoded data removed]",
      "text/plain": [
       "<Figure size 432x288 with 1 Axes>"
      ]
     },
     "metadata": {
      "needs_background": "light"
     },
     "output_type": "display_data"
    }
   ],
   "source": [
    "print(best_RF.feature_importances_)\n",
    "\n",
    "list(best_RF.feature_importances_)\n",
    "\n",
    "plt.bar(range(len(best_RF.feature_importances_)), best_RF.feature_importances_)\n",
    "plt.show()"
   ]
  },
  {
   "cell_type": "code",
   "execution_count": 143,
   "metadata": {
    "scrolled": true
   },
   "outputs": [
    {
     "data": {
      "text/html": [
       "<div>\n",
       "<style scoped>\n",
       "    .dataframe tbody tr th:only-of-type {\n",
       "        vertical-align: middle;\n",
       "    }\n",
       "\n",
       "    .dataframe tbody tr th {\n",
       "        vertical-align: top;\n",
       "    }\n",
       "\n",
       "    .dataframe thead th {\n",
       "        text-align: right;\n",
       "    }\n",
       "</style>\n",
       "<table border=\"1\" class=\"dataframe\">\n",
       "  <thead>\n",
       "    <tr style=\"text-align: right;\">\n",
       "      <th></th>\n",
       "      <th>Importance</th>\n",
       "    </tr>\n",
       "  </thead>\n",
       "  <tbody>\n",
       "    <tr>\n",
       "      <td>total_acc</td>\n",
       "      <td>0.003019</td>\n",
       "    </tr>\n",
       "    <tr>\n",
       "      <td>int_rate</td>\n",
       "      <td>0.002778</td>\n",
       "    </tr>\n",
       "    <tr>\n",
       "      <td>tot_cur_bal</td>\n",
       "      <td>0.029265</td>\n",
       "    </tr>\n",
       "    <tr>\n",
       "      <td>mo_sin_rcnt_tl</td>\n",
       "      <td>0.008439</td>\n",
       "    </tr>\n",
       "    <tr>\n",
       "      <td>installment</td>\n",
       "      <td>0.004055</td>\n",
       "    </tr>\n",
       "    <tr>\n",
       "      <td>num_sats</td>\n",
       "      <td>0.001048</td>\n",
       "    </tr>\n",
       "    <tr>\n",
       "      <td>num_tl_120dpd_2m</td>\n",
       "      <td>0.008510</td>\n",
       "    </tr>\n",
       "    <tr>\n",
       "      <td>pub_rec_bankruptcies</td>\n",
       "      <td>0.000013</td>\n",
       "    </tr>\n",
       "    <tr>\n",
       "      <td>all_util</td>\n",
       "      <td>0.003768</td>\n",
       "    </tr>\n",
       "    <tr>\n",
       "      <td>term_ 60 months</td>\n",
       "      <td>0.010351</td>\n",
       "    </tr>\n",
       "    <tr>\n",
       "      <td>delinq_2yrs</td>\n",
       "      <td>0.063864</td>\n",
       "    </tr>\n",
       "    <tr>\n",
       "      <td>recoveries</td>\n",
       "      <td>0.008375</td>\n",
       "    </tr>\n",
       "    <tr>\n",
       "      <td>application_type_Individual</td>\n",
       "      <td>0.012615</td>\n",
       "    </tr>\n",
       "    <tr>\n",
       "      <td>funded_amnt</td>\n",
       "      <td>0.830696</td>\n",
       "    </tr>\n",
       "    <tr>\n",
       "      <td>delinq_amnt</td>\n",
       "      <td>0.013205</td>\n",
       "    </tr>\n",
       "  </tbody>\n",
       "</table>\n",
       "</div>"
      ],
      "text/plain": [
       "                             Importance\n",
       "total_acc                      0.003019\n",
       "int_rate                       0.002778\n",
       "tot_cur_bal                    0.029265\n",
       "mo_sin_rcnt_tl                 0.008439\n",
       "installment                    0.004055\n",
       "num_sats                       0.001048\n",
       "num_tl_120dpd_2m               0.008510\n",
       "pub_rec_bankruptcies           0.000013\n",
       "all_util                       0.003768\n",
       "term_ 60 months                0.010351\n",
       "delinq_2yrs                    0.063864\n",
       "recoveries                     0.008375\n",
       "application_type_Individual    0.012615\n",
       "funded_amnt                    0.830696\n",
       "delinq_amnt                    0.013205"
      ]
     },
     "execution_count": 143,
     "metadata": {},
     "output_type": "execute_result"
    }
   ],
   "source": [
    "pd.DataFrame(best_RF.feature_importances_, relevants, columns = ['Importance'])"
   ]
  },
  {
   "cell_type": "code",
   "execution_count": 144,
   "metadata": {},
   "outputs": [],
   "source": [
    "pickle.dump(best_RF, open('RF_Model', 'wb'))"
   ]
  },
  {
   "cell_type": "markdown",
   "metadata": {},
   "source": [
    "## 11. XGBOOST"
   ]
  },
  {
   "cell_type": "markdown",
   "metadata": {},
   "source": [
    "XGBoost means eXtreme Gradient Boosting. It is the algorithm that has recently been mastering Machine learning problems and Kaggle competitions with structured or tabular data. \n",
    "XGBoost is an implementation of decision trees with Gradient boosting designed to minimize execution speed and maximize performance.\n",
    "Internally, XGBoost represents all problems as a case of regression predictive modeling that only takes numerical values as input. If our data is in a different format, we will first have to transform it in order to use the full power of this library"
   ]
  },
  {
   "cell_type": "code",
   "execution_count": 119,
   "metadata": {},
   "outputs": [
    {
     "name": "stderr",
     "output_type": "stream",
     "text": [
      "//anaconda3/lib/python3.7/site-packages/sklearn/model_selection/_search.py:825: FutureWarning: The parameter 'iid' is deprecated in 0.22 and will be removed in 0.24.\n",
      "  \"removed in 0.24.\", FutureWarning\n"
     ]
    },
    {
     "name": "stdout",
     "output_type": "stream",
     "text": [
      "CPU times: user 10min 30s, sys: 2.03 s, total: 10min 32s\n",
      "Wall time: 21min 30s\n"
     ]
    },
    {
     "data": {
      "text/plain": [
       "GridSearchCV(cv=3, error_score=nan,\n",
       "             estimator=XGBClassifier(base_score=0.5, booster='gbtree',\n",
       "                                     colsample_bylevel=1, colsample_bynode=1,\n",
       "                                     colsample_bytree=0.8, gamma=0,\n",
       "                                     learning_rate=0.1, max_delta_step=0,\n",
       "                                     max_depth=3, min_child_weight=1,\n",
       "                                     missing=None, n_estimators=500, n_jobs=1,\n",
       "                                     nthread=6, objective='binary:logistic',\n",
       "                                     random_state=0, reg_alpha=0, reg_lambda=1,\n",
       "                                     scale_pos...\n",
       "                         'max_delta_step': [0], 'max_depth': [3],\n",
       "                         'min_child_weight': [1], 'missing': [None],\n",
       "                         'n_estimators': [500], 'n_jobs': [1], 'nthread': [6],\n",
       "                         'objective': ['binary:logistic'], 'random_state': [0],\n",
       "                         'reg_alpha': [0], 'reg_lambda': [1],\n",
       "                         'scale_pos_weight': [1], 'seed': [123],\n",
       "                         'silent': [None], 'subsample': [0.8],\n",
       "                         'verbosity': [1]},\n",
       "             pre_dispatch='2*n_jobs', refit=True, return_train_score=False,\n",
       "             scoring='roc_auc', verbose=0)"
      ]
     },
     "execution_count": 119,
     "metadata": {},
     "output_type": "execute_result"
    }
   ],
   "source": [
    "%%time\n",
    "parametros_XGB = {'base_score':[0.5], 'booster' :['gbtree'], 'colsample_bylevel':[1],\n",
    "              'colsample_bynode':[1], 'colsample_bytree':[0.8], 'gamma':[1],\n",
    "              'learning_rate':[0.30000000000000004], 'max_delta_step':[0], 'max_depth':[3],\n",
    "              'min_child_weight':[1], 'missing':[None], 'n_estimators':[500], 'n_jobs':[1],\n",
    "              'nthread':[6], 'objective':['binary:logistic'], 'random_state':[0],\n",
    "              'reg_alpha':[0], 'reg_lambda':[1], 'scale_pos_weight':[1], 'seed':[123],\n",
    "              'silent':[None], 'subsample':[0.8], 'verbosity':[1]}\n",
    "XGBoost_modelo = GridSearchCV(estimator = xgb.XGBClassifier(n_estimators = 500, subsample = 0.8,\n",
    "                                                             colsample_bytree = 0.8, objective = 'binary:logistic',\n",
    "                                                             scale_pos_weight = 1, seed = 123, nthread = 6), \n",
    "                               param_grid = parametros_XGB, scoring = 'roc_auc', n_jobs = -1, iid = False, cv = 3)\n",
    "XGBoost_modelo.fit(train_features, train_labels)"
   ]
  },
  {
   "cell_type": "code",
   "execution_count": 120,
   "metadata": {},
   "outputs": [
    {
     "data": {
      "text/plain": [
       "XGBClassifier(base_score=0.5, booster='gbtree', colsample_bylevel=1,\n",
       "              colsample_bynode=1, colsample_bytree=0.8, gamma=1,\n",
       "              learning_rate=0.30000000000000004, max_delta_step=0, max_depth=3,\n",
       "              min_child_weight=1, missing=None, n_estimators=500, n_jobs=1,\n",
       "              nthread=6, objective='binary:logistic', random_state=0,\n",
       "              reg_alpha=0, reg_lambda=1, scale_pos_weight=1, seed=123,\n",
       "              silent=None, subsample=0.8, verbosity=1)"
      ]
     },
     "execution_count": 120,
     "metadata": {},
     "output_type": "execute_result"
    }
   ],
   "source": [
    "XGBoost_modelo.best_estimator_"
   ]
  },
  {
   "cell_type": "code",
   "execution_count": 121,
   "metadata": {},
   "outputs": [
    {
     "name": "stdout",
     "output_type": "stream",
     "text": [
      "CPU times: user 10min 19s, sys: 876 ms, total: 10min 20s\n",
      "Wall time: 10min 21s\n"
     ]
    },
    {
     "data": {
      "text/plain": [
       "XGBClassifier(base_score=0.5, booster='gbtree', colsample_bylevel=1,\n",
       "              colsample_bynode=1, colsample_bytree=0.8, gamma=1,\n",
       "              learning_rate=0.30000000000000004, max_delta_step=0, max_depth=3,\n",
       "              min_child_weight=1, missing=None, n_estimators=500, n_jobs=1,\n",
       "              nthread=6, objective='binary:logistic', random_state=0,\n",
       "              reg_alpha=0, reg_lambda=1, scale_pos_weight=1, seed=123,\n",
       "              silent=None, subsample=0.8, verbosity=1)"
      ]
     },
     "execution_count": 121,
     "metadata": {},
     "output_type": "execute_result"
    }
   ],
   "source": [
    "%%time\n",
    "best_XGB = XGBoost_modelo.best_estimator_\n",
    "best_XGB.fit(train_features, train_labels)"
   ]
  },
  {
   "cell_type": "code",
   "execution_count": 122,
   "metadata": {},
   "outputs": [
    {
     "name": "stdout",
     "output_type": "stream",
     "text": [
      "[2.6453172e-03 8.8894868e-04 9.1397772e-03 2.0551556e-03 1.0400681e-03\n",
      " 1.4011136e-01 5.4426247e-04 6.4567528e-03 4.8599988e-03 4.2244005e-03\n",
      " 5.3355428e-03 2.7684995e-03 3.2268316e-04 0.0000000e+00 8.1960726e-01]\n"
     ]
    },
    {
     "data": {
      "image/png": "[encoded data removed]",
      "text/plain": [
       "<Figure size 432x288 with 1 Axes>"
      ]
     },
     "metadata": {
      "needs_background": "light"
     },
     "output_type": "display_data"
    }
   ],
   "source": [
    "print(best_XGB.feature_importances_)\n",
    "\n",
    "list(best_XGB.feature_importances_)\n",
    "\n",
    "plt.bar(range(len(best_XGB.feature_importances_)), best_XGB.feature_importances_)\n",
    "plt.show()"
   ]
  },
  {
   "cell_type": "code",
   "execution_count": 123,
   "metadata": {
    "scrolled": true
   },
   "outputs": [
    {
     "data": {
      "text/html": [
       "<div>\n",
       "<style scoped>\n",
       "    .dataframe tbody tr th:only-of-type {\n",
       "        vertical-align: middle;\n",
       "    }\n",
       "\n",
       "    .dataframe tbody tr th {\n",
       "        vertical-align: top;\n",
       "    }\n",
       "\n",
       "    .dataframe thead th {\n",
       "        text-align: right;\n",
       "    }\n",
       "</style>\n",
       "<table border=\"1\" class=\"dataframe\">\n",
       "  <thead>\n",
       "    <tr style=\"text-align: right;\">\n",
       "      <th></th>\n",
       "      <th>Importance</th>\n",
       "    </tr>\n",
       "  </thead>\n",
       "  <tbody>\n",
       "    <tr>\n",
       "      <th>delinq_2yrs</th>\n",
       "      <td>0.002645</td>\n",
       "    </tr>\n",
       "    <tr>\n",
       "      <th>all_util</th>\n",
       "      <td>0.000889</td>\n",
       "    </tr>\n",
       "    <tr>\n",
       "      <th>installment</th>\n",
       "      <td>0.009140</td>\n",
       "    </tr>\n",
       "    <tr>\n",
       "      <th>int_rate</th>\n",
       "      <td>0.002055</td>\n",
       "    </tr>\n",
       "    <tr>\n",
       "      <th>application_type_Joint App</th>\n",
       "      <td>0.001040</td>\n",
       "    </tr>\n",
       "    <tr>\n",
       "      <th>pub_rec_bankruptcies</th>\n",
       "      <td>0.140111</td>\n",
       "    </tr>\n",
       "    <tr>\n",
       "      <th>term_ 36 months</th>\n",
       "      <td>0.000544</td>\n",
       "    </tr>\n",
       "    <tr>\n",
       "      <th>total_acc</th>\n",
       "      <td>0.006457</td>\n",
       "    </tr>\n",
       "    <tr>\n",
       "      <th>num_sats</th>\n",
       "      <td>0.004860</td>\n",
       "    </tr>\n",
       "    <tr>\n",
       "      <th>num_tl_120dpd_2m</th>\n",
       "      <td>0.004224</td>\n",
       "    </tr>\n",
       "    <tr>\n",
       "      <th>funded_amnt</th>\n",
       "      <td>0.005336</td>\n",
       "    </tr>\n",
       "    <tr>\n",
       "      <th>delinq_amnt</th>\n",
       "      <td>0.002768</td>\n",
       "    </tr>\n",
       "    <tr>\n",
       "      <th>recoveries</th>\n",
       "      <td>0.000323</td>\n",
       "    </tr>\n",
       "    <tr>\n",
       "      <th>mo_sin_rcnt_tl</th>\n",
       "      <td>0.000000</td>\n",
       "    </tr>\n",
       "    <tr>\n",
       "      <th>tot_cur_bal</th>\n",
       "      <td>0.819607</td>\n",
       "    </tr>\n",
       "  </tbody>\n",
       "</table>\n",
       "</div>"
      ],
      "text/plain": [
       "                            Importance\n",
       "delinq_2yrs                   0.002645\n",
       "all_util                      0.000889\n",
       "installment                   0.009140\n",
       "int_rate                      0.002055\n",
       "application_type_Joint App    0.001040\n",
       "pub_rec_bankruptcies          0.140111\n",
       "term_ 36 months               0.000544\n",
       "total_acc                     0.006457\n",
       "num_sats                      0.004860\n",
       "num_tl_120dpd_2m              0.004224\n",
       "funded_amnt                   0.005336\n",
       "delinq_amnt                   0.002768\n",
       "recoveries                    0.000323\n",
       "mo_sin_rcnt_tl                0.000000\n",
       "tot_cur_bal                   0.819607"
      ]
     },
     "execution_count": 123,
     "metadata": {},
     "output_type": "execute_result"
    }
   ],
   "source": [
    "pd.DataFrame(best_XGB.feature_importances_, relevants, columns = ['Importance'])"
   ]
  },
  {
   "cell_type": "code",
   "execution_count": 124,
   "metadata": {},
   "outputs": [],
   "source": [
    "pickle.dump(best_XGB, open('XGB_Model', 'wb'))"
   ]
  },
  {
   "cell_type": "markdown",
   "metadata": {},
   "source": [
    "## 14. References"
   ]
  },
  {
   "cell_type": "markdown",
   "metadata": {},
   "source": [
    "* __Bambrick, N.__ (Jul de 2016). Support Vector Machines: A Simple Explanation. Obtenido de KDnuggets News: https://www.kdnuggets.com/2016/07/support-vector-machines-simple-explanation.html\n",
    "* __Bodas, D.__ (2019). Apuntes Machine Learning MDS. Madrid: CUNEF.\n",
    "* __Breiman, L.__ (January 2001). Random Forests. Berkeley: Statistics Department University of California.\n",
    "* __Koehrsen, W.__ (27 de Dec de 2017). Random Forest in Python. Obtenido de Towards Data Science : https://towardsdatascience.com/random-forest-in-python-24d0893d51c0 \n",
    "* __loan.csv. (s.f.).__ Lending Club Loan Data. Obtenido de kaggle: https://www.kaggle.com/wendykan/lending-club-loan-data\n",
    "* __Seif, G.__ (29 de May de 2019). Towards Data Science . Obtenido de A Beginner’s guide to XGBoost: https://towardsdatascience.com/a-beginners-guide-to-xgboost-87f5d4c30ed7"
   ]
  }
 ],
 "metadata": {
  "kernelspec": {
   "display_name": "Python 3",
   "language": "python",
   "name": "python3"
  },
  "language_info": {
   "codemirror_mode": {
    "name": "ipython",
    "version": 3
   },
   "file_extension": ".py",
   "mimetype": "text/x-python",
   "name": "python",
   "nbconvert_exporter": "python",
   "pygments_lexer": "ipython3",
   "version": "3.7.4"
  }
 },
 "nbformat": 4,
 "nbformat_minor": 2
}
