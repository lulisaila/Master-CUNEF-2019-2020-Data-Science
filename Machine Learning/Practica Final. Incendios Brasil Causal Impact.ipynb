{
 "cells": [
  {
   "cell_type": "markdown",
   "metadata": {},
   "source": [
    "# PRÁCTICA FINAL\n",
    "## SIGNATURA: Machine Learning\n",
    "### Autor: Lucía Saiz Lapique, Raquel Fort Serra, María Carrasco Meléndez \n"
   ]
  },
  {
   "cell_type": "markdown",
   "metadata": {},
   "source": [
    "## Introducción:\n",
    "\n",
    "En los últimos diez años, han sido numerosos los incendios que han tenido lugar en la Amazonía, especialmente durante la estación seca, y en su mayoría iniciados deliberadamente con el fin de desforestar ilegalmente las tierras para la cría de ganado. La destrucción de la Amazonía en Brasil se ha incrementado rápidamente desde que el nuevo presidente brasileño, Jair Bolsonaro, de extrema derecha, asumió el cargo y su gobierno redujo los esfuerzos para combatir la tala, la ganadería y la minería ilegales. \n",
    "\n",
    "Estos incendios continuados se han convertido en un negocio millonario, prenderle fuego a un área de mil hectáreas equivale a unos 220 000 €. El bosque amazónico tiene un gran impacto en el ecosistema, dentro pero también fuera de la región amazónica ya que despierta los intereses tanto del comercio internacional como del mercado financiero. Mientras el primero busca una mayor producción de carne y soja, empresas y fondos de inversión muestran su preocupación por el impacto financiero que la deforestación en la Amzonia pueda tener en las empresas, lo que podría aumentar los riesgos de reputación, operatorios y regulatorios. \n",
    "\n",
    "Este estudio pretende plantear las posibles relaciones causales que puedan existir entre esta sucesión de incendios y su repercusión económica, concretamente en el Producto Interior Bruto (PIB), el Índice de Precios al Consumo (CPI), el desempleo y la población. \n"
   ]
  },
  {
   "cell_type": "markdown",
   "metadata": {},
   "source": [
    "## Problema de negocio: KPI \n",
    "\n",
    "En base a nuestro criterio, se espera que los incendios tengan un impacto directo en estas variables económicas\n"
   ]
  },
  {
   "cell_type": "code",
   "execution_count": 1,
   "metadata": {},
   "outputs": [],
   "source": [
    "# importamos las librerias necesarias para el estudio\n",
    "from __future__ import division\n",
    "\n",
    "import pandas as pd\n",
    "import numpy as np\n",
    "import matplotlib.pyplot as plt\n",
    "import seaborn as sns\n",
    "from numpy import loadtxt\n",
    "from matplotlib import pyplot\n",
    "from sklearn.metrics import r2_score # R^2\n",
    "from sklearn.metrics import mean_squared_error # MSE\n",
    "from sklearn.preprocessing import StandardScaler # estandarization\n",
    "from math import sqrt # sqrt\n",
    "import random\n",
    "from IPython.core.pylabtools import figsize\n",
    "\n",
    "sns.set_style(\"whitegrid\")\n",
    "sns.set_palette(\"colorblind\")\n",
    "\n",
    "from sklearn.utils import resample\n",
    "import dowhy\n",
    "from dowhy import CausalModel\n",
    "from causalimpact import CausalImpact"
   ]
  },
  {
   "cell_type": "code",
   "execution_count": 2,
   "metadata": {},
   "outputs": [],
   "source": [
    "# cargamos las bases de datos\n",
    "fuegos = pd.read_csv('./data/fuegos_brasil.csv')\n",
    "desempleo = pd.read_csv('./data/desempleo.csv')\n",
    "cpi = pd.read_csv('./data/cpi.csv')\n",
    "pib = pd.read_csv('./data/pib.csv')\n",
    "poblacion = pd.read_csv('./data/poblacion3.csv', delimiter = ';', index_col = 0)"
   ]
  },
  {
   "cell_type": "markdown",
   "metadata": {},
   "source": [
    "## Análisis descriptivo \n",
    "\n",
    "Los datos están compuestos por una recopilación de cinco bases de datos distintas, de donde se recogen dos variables principales de cada una: la principal de cada base de datos y su fecha asociada. Las dos primeras variables explicadas a continuación son comunes en todos los análisis causales que se van a desarrollar en el presente estudio.\n",
    "* Incendios: Esta variable hace referencia al número de incendios.\n",
    "* Fecha: dividida por año y mes, se incluyen datos que van desde el 2005 al 2015\n",
    "* PIB: Producto Interior Bruto \n",
    "* CPI: Índice de precios al consumidor\n",
    "* Desempleo: Tasa de desempleo \n",
    "* Población: Número total de habitantes\n"
   ]
  },
  {
   "cell_type": "markdown",
   "metadata": {},
   "source": [
    "## EDA \n",
    "\n",
    "Para tratar las cinco bases de datos con las que contamos, seguimos una serie de pasos comunes para todas ellas con la finalidad de poder combinar la base de datos que hace referencia a los incendios en Brasil en los últimos 10 años con todos los paremetros de forma individual.\n",
    "\n",
    "Por una parte, la base de datos que hace referencia a los incendios contaba con diversas columnas que indicaban la ubicación de cada incendio nque se ha decidido eliminar, ya que solo nos interesaba la fecha y el número de incendios. Así mismo se ha decidido descartar algunas observaciones con el fin de estudiar únicamente el impacto de los últimos 10 años. Para series temporales las predicciones resultan más fáciles y efectivas sobre meses que sobre días, es por este motivo por el que se ha decidido transformar los datos diarios a mensuales. \n",
    "\n",
    "Para el PIB, CPI y Desempleo se ha llevado el mismo procedimiento; separamos la fecha por año y mes, y a continuación unimos cada una de ellas a la base de datos de incendios de forma independiente con el fin de estudiarlas por separado. \n"
   ]
  },
  {
   "cell_type": "markdown",
   "metadata": {},
   "source": [
    "### Base de datos desempleo"
   ]
  },
  {
   "cell_type": "code",
   "execution_count": 3,
   "metadata": {},
   "outputs": [
    {
     "data": {
      "text/html": [
       "<div>\n",
       "<style scoped>\n",
       "    .dataframe tbody tr th:only-of-type {\n",
       "        vertical-align: middle;\n",
       "    }\n",
       "\n",
       "    .dataframe tbody tr th {\n",
       "        vertical-align: top;\n",
       "    }\n",
       "\n",
       "    .dataframe thead th {\n",
       "        text-align: right;\n",
       "    }\n",
       "</style>\n",
       "<table border=\"1\" class=\"dataframe\">\n",
       "  <thead>\n",
       "    <tr style=\"text-align: right;\">\n",
       "      <th></th>\n",
       "      <th>DATE</th>\n",
       "      <th>LRUNTTTTBRM156S</th>\n",
       "    </tr>\n",
       "  </thead>\n",
       "  <tbody>\n",
       "    <tr>\n",
       "      <td>0</td>\n",
       "      <td>2005-11-01</td>\n",
       "      <td>10.109956</td>\n",
       "    </tr>\n",
       "    <tr>\n",
       "      <td>1</td>\n",
       "      <td>2005-12-01</td>\n",
       "      <td>9.675369</td>\n",
       "    </tr>\n",
       "    <tr>\n",
       "      <td>2</td>\n",
       "      <td>2006-01-01</td>\n",
       "      <td>9.617917</td>\n",
       "    </tr>\n",
       "    <tr>\n",
       "      <td>3</td>\n",
       "      <td>2006-02-01</td>\n",
       "      <td>9.895424</td>\n",
       "    </tr>\n",
       "    <tr>\n",
       "      <td>4</td>\n",
       "      <td>2006-03-01</td>\n",
       "      <td>9.872679</td>\n",
       "    </tr>\n",
       "  </tbody>\n",
       "</table>\n",
       "</div>"
      ],
      "text/plain": [
       "         DATE  LRUNTTTTBRM156S\n",
       "0  2005-11-01        10.109956\n",
       "1  2005-12-01         9.675369\n",
       "2  2006-01-01         9.617917\n",
       "3  2006-02-01         9.895424\n",
       "4  2006-03-01         9.872679"
      ]
     },
     "execution_count": 3,
     "metadata": {},
     "output_type": "execute_result"
    }
   ],
   "source": [
    "desempleo.head()"
   ]
  },
  {
   "cell_type": "code",
   "execution_count": 4,
   "metadata": {},
   "outputs": [
    {
     "data": {
      "text/plain": [
       "DATE               121\n",
       "LRUNTTTTBRM156S    121\n",
       "dtype: int64"
      ]
     },
     "execution_count": 4,
     "metadata": {},
     "output_type": "execute_result"
    }
   ],
   "source": [
    "desempleo.count()"
   ]
  },
  {
   "cell_type": "code",
   "execution_count": 5,
   "metadata": {},
   "outputs": [
    {
     "data": {
      "text/html": [
       "<div>\n",
       "<style scoped>\n",
       "    .dataframe tbody tr th:only-of-type {\n",
       "        vertical-align: middle;\n",
       "    }\n",
       "\n",
       "    .dataframe tbody tr th {\n",
       "        vertical-align: top;\n",
       "    }\n",
       "\n",
       "    .dataframe thead th {\n",
       "        text-align: right;\n",
       "    }\n",
       "</style>\n",
       "<table border=\"1\" class=\"dataframe\">\n",
       "  <thead>\n",
       "    <tr style=\"text-align: right;\">\n",
       "      <th></th>\n",
       "      <th>DATE</th>\n",
       "      <th>Tasa</th>\n",
       "    </tr>\n",
       "  </thead>\n",
       "  <tbody>\n",
       "    <tr>\n",
       "      <td>0</td>\n",
       "      <td>2005-11-01</td>\n",
       "      <td>10.11</td>\n",
       "    </tr>\n",
       "    <tr>\n",
       "      <td>1</td>\n",
       "      <td>2005-12-01</td>\n",
       "      <td>9.68</td>\n",
       "    </tr>\n",
       "    <tr>\n",
       "      <td>2</td>\n",
       "      <td>2006-01-01</td>\n",
       "      <td>9.62</td>\n",
       "    </tr>\n",
       "    <tr>\n",
       "      <td>3</td>\n",
       "      <td>2006-02-01</td>\n",
       "      <td>9.90</td>\n",
       "    </tr>\n",
       "    <tr>\n",
       "      <td>4</td>\n",
       "      <td>2006-03-01</td>\n",
       "      <td>9.87</td>\n",
       "    </tr>\n",
       "  </tbody>\n",
       "</table>\n",
       "</div>"
      ],
      "text/plain": [
       "         DATE   Tasa\n",
       "0  2005-11-01  10.11\n",
       "1  2005-12-01   9.68\n",
       "2  2006-01-01   9.62\n",
       "3  2006-02-01   9.90\n",
       "4  2006-03-01   9.87"
      ]
     },
     "execution_count": 5,
     "metadata": {},
     "output_type": "execute_result"
    }
   ],
   "source": [
    "desempleo = desempleo.rename(columns = {'LRUNTTTTBRM156S':'Tasa'})\n",
    "desempleo.Tasa = round(desempleo.Tasa, 2)\n",
    "desempleo.head()"
   ]
  },
  {
   "cell_type": "code",
   "execution_count": 6,
   "metadata": {},
   "outputs": [
    {
     "data": {
      "text/html": [
       "<div>\n",
       "<style scoped>\n",
       "    .dataframe tbody tr th:only-of-type {\n",
       "        vertical-align: middle;\n",
       "    }\n",
       "\n",
       "    .dataframe tbody tr th {\n",
       "        vertical-align: top;\n",
       "    }\n",
       "\n",
       "    .dataframe thead th {\n",
       "        text-align: right;\n",
       "    }\n",
       "</style>\n",
       "<table border=\"1\" class=\"dataframe\">\n",
       "  <thead>\n",
       "    <tr style=\"text-align: right;\">\n",
       "      <th></th>\n",
       "      <th>0</th>\n",
       "      <th>1</th>\n",
       "    </tr>\n",
       "  </thead>\n",
       "  <tbody>\n",
       "    <tr>\n",
       "      <td>0</td>\n",
       "      <td>2005</td>\n",
       "      <td>11</td>\n",
       "    </tr>\n",
       "    <tr>\n",
       "      <td>1</td>\n",
       "      <td>2005</td>\n",
       "      <td>12</td>\n",
       "    </tr>\n",
       "    <tr>\n",
       "      <td>2</td>\n",
       "      <td>2006</td>\n",
       "      <td>01</td>\n",
       "    </tr>\n",
       "    <tr>\n",
       "      <td>3</td>\n",
       "      <td>2006</td>\n",
       "      <td>02</td>\n",
       "    </tr>\n",
       "    <tr>\n",
       "      <td>4</td>\n",
       "      <td>2006</td>\n",
       "      <td>03</td>\n",
       "    </tr>\n",
       "  </tbody>\n",
       "</table>\n",
       "</div>"
      ],
      "text/plain": [
       "      0   1\n",
       "0  2005  11\n",
       "1  2005  12\n",
       "2  2006  01\n",
       "3  2006  02\n",
       "4  2006  03"
      ]
     },
     "execution_count": 6,
     "metadata": {},
     "output_type": "execute_result"
    }
   ],
   "source": [
    "fechas = desempleo.DATE.str.split(\"-\", expand = True)\n",
    "fechas.pop(2)\n",
    "fechas.head()"
   ]
  },
  {
   "cell_type": "code",
   "execution_count": 7,
   "metadata": {},
   "outputs": [
    {
     "data": {
      "text/html": [
       "<div>\n",
       "<style scoped>\n",
       "    .dataframe tbody tr th:only-of-type {\n",
       "        vertical-align: middle;\n",
       "    }\n",
       "\n",
       "    .dataframe tbody tr th {\n",
       "        vertical-align: top;\n",
       "    }\n",
       "\n",
       "    .dataframe thead th {\n",
       "        text-align: right;\n",
       "    }\n",
       "</style>\n",
       "<table border=\"1\" class=\"dataframe\">\n",
       "  <thead>\n",
       "    <tr style=\"text-align: right;\">\n",
       "      <th></th>\n",
       "      <th>Tasa</th>\n",
       "      <th>year</th>\n",
       "      <th>month</th>\n",
       "    </tr>\n",
       "  </thead>\n",
       "  <tbody>\n",
       "    <tr>\n",
       "      <td>0</td>\n",
       "      <td>10.11</td>\n",
       "      <td>2005</td>\n",
       "      <td>11</td>\n",
       "    </tr>\n",
       "    <tr>\n",
       "      <td>1</td>\n",
       "      <td>9.68</td>\n",
       "      <td>2005</td>\n",
       "      <td>12</td>\n",
       "    </tr>\n",
       "    <tr>\n",
       "      <td>2</td>\n",
       "      <td>9.62</td>\n",
       "      <td>2006</td>\n",
       "      <td>01</td>\n",
       "    </tr>\n",
       "    <tr>\n",
       "      <td>3</td>\n",
       "      <td>9.90</td>\n",
       "      <td>2006</td>\n",
       "      <td>02</td>\n",
       "    </tr>\n",
       "    <tr>\n",
       "      <td>4</td>\n",
       "      <td>9.87</td>\n",
       "      <td>2006</td>\n",
       "      <td>03</td>\n",
       "    </tr>\n",
       "  </tbody>\n",
       "</table>\n",
       "</div>"
      ],
      "text/plain": [
       "    Tasa  year month\n",
       "0  10.11  2005    11\n",
       "1   9.68  2005    12\n",
       "2   9.62  2006    01\n",
       "3   9.90  2006    02\n",
       "4   9.87  2006    03"
      ]
     },
     "execution_count": 7,
     "metadata": {},
     "output_type": "execute_result"
    }
   ],
   "source": [
    "desempleo = pd.concat([desempleo, fechas], axis = 1, sort = False)\n",
    "desempleo.pop('DATE')\n",
    "desempleo = desempleo.rename(columns = {0:'year', 1: 'month'})\n",
    "desempleo.head()"
   ]
  },
  {
   "cell_type": "code",
   "execution_count": 8,
   "metadata": {
    "scrolled": true
   },
   "outputs": [
    {
     "data": {
      "text/html": [
       "<div>\n",
       "<style scoped>\n",
       "    .dataframe tbody tr th:only-of-type {\n",
       "        vertical-align: middle;\n",
       "    }\n",
       "\n",
       "    .dataframe tbody tr th {\n",
       "        vertical-align: top;\n",
       "    }\n",
       "\n",
       "    .dataframe thead th {\n",
       "        text-align: right;\n",
       "    }\n",
       "</style>\n",
       "<table border=\"1\" class=\"dataframe\">\n",
       "  <thead>\n",
       "    <tr style=\"text-align: right;\">\n",
       "      <th></th>\n",
       "      <th>Tasa</th>\n",
       "      <th>year</th>\n",
       "      <th>month</th>\n",
       "      <th>Fecha</th>\n",
       "    </tr>\n",
       "  </thead>\n",
       "  <tbody>\n",
       "    <tr>\n",
       "      <td>0</td>\n",
       "      <td>10.11</td>\n",
       "      <td>2005</td>\n",
       "      <td>11</td>\n",
       "      <td>200511</td>\n",
       "    </tr>\n",
       "    <tr>\n",
       "      <td>1</td>\n",
       "      <td>9.68</td>\n",
       "      <td>2005</td>\n",
       "      <td>12</td>\n",
       "      <td>200512</td>\n",
       "    </tr>\n",
       "    <tr>\n",
       "      <td>2</td>\n",
       "      <td>9.62</td>\n",
       "      <td>2006</td>\n",
       "      <td>01</td>\n",
       "      <td>200601</td>\n",
       "    </tr>\n",
       "    <tr>\n",
       "      <td>3</td>\n",
       "      <td>9.90</td>\n",
       "      <td>2006</td>\n",
       "      <td>02</td>\n",
       "      <td>200602</td>\n",
       "    </tr>\n",
       "    <tr>\n",
       "      <td>4</td>\n",
       "      <td>9.87</td>\n",
       "      <td>2006</td>\n",
       "      <td>03</td>\n",
       "      <td>200603</td>\n",
       "    </tr>\n",
       "  </tbody>\n",
       "</table>\n",
       "</div>"
      ],
      "text/plain": [
       "    Tasa  year month   Fecha\n",
       "0  10.11  2005    11  200511\n",
       "1   9.68  2005    12  200512\n",
       "2   9.62  2006    01  200601\n",
       "3   9.90  2006    02  200602\n",
       "4   9.87  2006    03  200603"
      ]
     },
     "execution_count": 8,
     "metadata": {},
     "output_type": "execute_result"
    }
   ],
   "source": [
    "desempleo['Fecha'] = desempleo.year + desempleo.month\n",
    "desempleo.head()"
   ]
  },
  {
   "cell_type": "code",
   "execution_count": 89,
   "metadata": {},
   "outputs": [
    {
     "data": {
      "text/plain": [
       "<matplotlib.axes._subplots.AxesSubplot at 0x1b128c57b88>"
      ]
     },
     "execution_count": 89,
     "metadata": {},
     "output_type": "execute_result"
    },
    {
     "data": {
      "image/png": "[encoded data removed]",
      "text/plain": [
       "<Figure size 432x288 with 1 Axes>"
      ]
     },
     "metadata": {
      "needs_background": "light"
     },
     "output_type": "display_data"
    }
   ],
   "source": [
    "desempleo.year = np.int64(desempleo.year)\n",
    "desempleo.plot('year', 'Tasa')"
   ]
  },
  {
   "cell_type": "markdown",
   "metadata": {},
   "source": [
    "### Base de datos CPI"
   ]
  },
  {
   "cell_type": "code",
   "execution_count": 10,
   "metadata": {},
   "outputs": [
    {
     "data": {
      "text/html": [
       "<div>\n",
       "<style scoped>\n",
       "    .dataframe tbody tr th:only-of-type {\n",
       "        vertical-align: middle;\n",
       "    }\n",
       "\n",
       "    .dataframe tbody tr th {\n",
       "        vertical-align: top;\n",
       "    }\n",
       "\n",
       "    .dataframe thead th {\n",
       "        text-align: right;\n",
       "    }\n",
       "</style>\n",
       "<table border=\"1\" class=\"dataframe\">\n",
       "  <thead>\n",
       "    <tr style=\"text-align: right;\">\n",
       "      <th></th>\n",
       "      <th>DATE</th>\n",
       "      <th>BRACPIALLMINMEI</th>\n",
       "    </tr>\n",
       "  </thead>\n",
       "  <tbody>\n",
       "    <tr>\n",
       "      <td>0</td>\n",
       "      <td>2005-11-01</td>\n",
       "      <td>58.613449</td>\n",
       "    </tr>\n",
       "    <tr>\n",
       "      <td>1</td>\n",
       "      <td>2005-12-01</td>\n",
       "      <td>58.824348</td>\n",
       "    </tr>\n",
       "    <tr>\n",
       "      <td>2</td>\n",
       "      <td>2006-01-01</td>\n",
       "      <td>59.171438</td>\n",
       "    </tr>\n",
       "    <tr>\n",
       "      <td>3</td>\n",
       "      <td>2006-02-01</td>\n",
       "      <td>59.414123</td>\n",
       "    </tr>\n",
       "    <tr>\n",
       "      <td>4</td>\n",
       "      <td>2006-03-01</td>\n",
       "      <td>59.669568</td>\n",
       "    </tr>\n",
       "  </tbody>\n",
       "</table>\n",
       "</div>"
      ],
      "text/plain": [
       "         DATE  BRACPIALLMINMEI\n",
       "0  2005-11-01        58.613449\n",
       "1  2005-12-01        58.824348\n",
       "2  2006-01-01        59.171438\n",
       "3  2006-02-01        59.414123\n",
       "4  2006-03-01        59.669568"
      ]
     },
     "execution_count": 10,
     "metadata": {},
     "output_type": "execute_result"
    }
   ],
   "source": [
    "cpi.head()"
   ]
  },
  {
   "cell_type": "code",
   "execution_count": 11,
   "metadata": {},
   "outputs": [
    {
     "data": {
      "text/html": [
       "<div>\n",
       "<style scoped>\n",
       "    .dataframe tbody tr th:only-of-type {\n",
       "        vertical-align: middle;\n",
       "    }\n",
       "\n",
       "    .dataframe tbody tr th {\n",
       "        vertical-align: top;\n",
       "    }\n",
       "\n",
       "    .dataframe thead th {\n",
       "        text-align: right;\n",
       "    }\n",
       "</style>\n",
       "<table border=\"1\" class=\"dataframe\">\n",
       "  <thead>\n",
       "    <tr style=\"text-align: right;\">\n",
       "      <th></th>\n",
       "      <th>DATE</th>\n",
       "      <th>CPI</th>\n",
       "    </tr>\n",
       "  </thead>\n",
       "  <tbody>\n",
       "    <tr>\n",
       "      <td>0</td>\n",
       "      <td>2005-11-01</td>\n",
       "      <td>58.61</td>\n",
       "    </tr>\n",
       "    <tr>\n",
       "      <td>1</td>\n",
       "      <td>2005-12-01</td>\n",
       "      <td>58.82</td>\n",
       "    </tr>\n",
       "    <tr>\n",
       "      <td>2</td>\n",
       "      <td>2006-01-01</td>\n",
       "      <td>59.17</td>\n",
       "    </tr>\n",
       "    <tr>\n",
       "      <td>3</td>\n",
       "      <td>2006-02-01</td>\n",
       "      <td>59.41</td>\n",
       "    </tr>\n",
       "    <tr>\n",
       "      <td>4</td>\n",
       "      <td>2006-03-01</td>\n",
       "      <td>59.67</td>\n",
       "    </tr>\n",
       "  </tbody>\n",
       "</table>\n",
       "</div>"
      ],
      "text/plain": [
       "         DATE    CPI\n",
       "0  2005-11-01  58.61\n",
       "1  2005-12-01  58.82\n",
       "2  2006-01-01  59.17\n",
       "3  2006-02-01  59.41\n",
       "4  2006-03-01  59.67"
      ]
     },
     "execution_count": 11,
     "metadata": {},
     "output_type": "execute_result"
    }
   ],
   "source": [
    "cpi = cpi.rename(columns = {'BRACPIALLMINMEI':'CPI'})\n",
    "cpi.CPI = round(cpi.CPI, 2)\n",
    "cpi.head()"
   ]
  },
  {
   "cell_type": "code",
   "execution_count": 12,
   "metadata": {},
   "outputs": [
    {
     "data": {
      "text/html": [
       "<div>\n",
       "<style scoped>\n",
       "    .dataframe tbody tr th:only-of-type {\n",
       "        vertical-align: middle;\n",
       "    }\n",
       "\n",
       "    .dataframe tbody tr th {\n",
       "        vertical-align: top;\n",
       "    }\n",
       "\n",
       "    .dataframe thead th {\n",
       "        text-align: right;\n",
       "    }\n",
       "</style>\n",
       "<table border=\"1\" class=\"dataframe\">\n",
       "  <thead>\n",
       "    <tr style=\"text-align: right;\">\n",
       "      <th></th>\n",
       "      <th>year</th>\n",
       "      <th>month</th>\n",
       "    </tr>\n",
       "  </thead>\n",
       "  <tbody>\n",
       "    <tr>\n",
       "      <td>0</td>\n",
       "      <td>2005</td>\n",
       "      <td>11</td>\n",
       "    </tr>\n",
       "    <tr>\n",
       "      <td>1</td>\n",
       "      <td>2005</td>\n",
       "      <td>12</td>\n",
       "    </tr>\n",
       "    <tr>\n",
       "      <td>2</td>\n",
       "      <td>2006</td>\n",
       "      <td>01</td>\n",
       "    </tr>\n",
       "    <tr>\n",
       "      <td>3</td>\n",
       "      <td>2006</td>\n",
       "      <td>02</td>\n",
       "    </tr>\n",
       "    <tr>\n",
       "      <td>4</td>\n",
       "      <td>2006</td>\n",
       "      <td>03</td>\n",
       "    </tr>\n",
       "  </tbody>\n",
       "</table>\n",
       "</div>"
      ],
      "text/plain": [
       "   year month\n",
       "0  2005    11\n",
       "1  2005    12\n",
       "2  2006    01\n",
       "3  2006    02\n",
       "4  2006    03"
      ]
     },
     "execution_count": 12,
     "metadata": {},
     "output_type": "execute_result"
    }
   ],
   "source": [
    "fechas2 = cpi.DATE.str.split(\"-\", expand = True)\n",
    "fechas2 = fechas2.rename(columns = {0: 'year', 1: 'month'})\n",
    "fechas2.pop(2)\n",
    "fechas2.head()"
   ]
  },
  {
   "cell_type": "code",
   "execution_count": 13,
   "metadata": {},
   "outputs": [
    {
     "data": {
      "text/html": [
       "<div>\n",
       "<style scoped>\n",
       "    .dataframe tbody tr th:only-of-type {\n",
       "        vertical-align: middle;\n",
       "    }\n",
       "\n",
       "    .dataframe tbody tr th {\n",
       "        vertical-align: top;\n",
       "    }\n",
       "\n",
       "    .dataframe thead th {\n",
       "        text-align: right;\n",
       "    }\n",
       "</style>\n",
       "<table border=\"1\" class=\"dataframe\">\n",
       "  <thead>\n",
       "    <tr style=\"text-align: right;\">\n",
       "      <th></th>\n",
       "      <th>CPI</th>\n",
       "      <th>year</th>\n",
       "      <th>month</th>\n",
       "    </tr>\n",
       "  </thead>\n",
       "  <tbody>\n",
       "    <tr>\n",
       "      <td>0</td>\n",
       "      <td>58.61</td>\n",
       "      <td>2005</td>\n",
       "      <td>11</td>\n",
       "    </tr>\n",
       "    <tr>\n",
       "      <td>1</td>\n",
       "      <td>58.82</td>\n",
       "      <td>2005</td>\n",
       "      <td>12</td>\n",
       "    </tr>\n",
       "    <tr>\n",
       "      <td>2</td>\n",
       "      <td>59.17</td>\n",
       "      <td>2006</td>\n",
       "      <td>01</td>\n",
       "    </tr>\n",
       "    <tr>\n",
       "      <td>3</td>\n",
       "      <td>59.41</td>\n",
       "      <td>2006</td>\n",
       "      <td>02</td>\n",
       "    </tr>\n",
       "    <tr>\n",
       "      <td>4</td>\n",
       "      <td>59.67</td>\n",
       "      <td>2006</td>\n",
       "      <td>03</td>\n",
       "    </tr>\n",
       "  </tbody>\n",
       "</table>\n",
       "</div>"
      ],
      "text/plain": [
       "     CPI  year month\n",
       "0  58.61  2005    11\n",
       "1  58.82  2005    12\n",
       "2  59.17  2006    01\n",
       "3  59.41  2006    02\n",
       "4  59.67  2006    03"
      ]
     },
     "execution_count": 13,
     "metadata": {},
     "output_type": "execute_result"
    }
   ],
   "source": [
    "cpi = pd.concat([cpi, fechas2], axis = 1, sort = False)\n",
    "cpi.pop('DATE')\n",
    "cpi.head()"
   ]
  },
  {
   "cell_type": "code",
   "execution_count": 14,
   "metadata": {
    "scrolled": true
   },
   "outputs": [
    {
     "data": {
      "text/html": [
       "<div>\n",
       "<style scoped>\n",
       "    .dataframe tbody tr th:only-of-type {\n",
       "        vertical-align: middle;\n",
       "    }\n",
       "\n",
       "    .dataframe tbody tr th {\n",
       "        vertical-align: top;\n",
       "    }\n",
       "\n",
       "    .dataframe thead th {\n",
       "        text-align: right;\n",
       "    }\n",
       "</style>\n",
       "<table border=\"1\" class=\"dataframe\">\n",
       "  <thead>\n",
       "    <tr style=\"text-align: right;\">\n",
       "      <th></th>\n",
       "      <th>CPI</th>\n",
       "      <th>year</th>\n",
       "      <th>month</th>\n",
       "      <th>Fecha</th>\n",
       "    </tr>\n",
       "  </thead>\n",
       "  <tbody>\n",
       "    <tr>\n",
       "      <td>0</td>\n",
       "      <td>58.61</td>\n",
       "      <td>2005</td>\n",
       "      <td>11</td>\n",
       "      <td>200511</td>\n",
       "    </tr>\n",
       "    <tr>\n",
       "      <td>1</td>\n",
       "      <td>58.82</td>\n",
       "      <td>2005</td>\n",
       "      <td>12</td>\n",
       "      <td>200512</td>\n",
       "    </tr>\n",
       "    <tr>\n",
       "      <td>2</td>\n",
       "      <td>59.17</td>\n",
       "      <td>2006</td>\n",
       "      <td>01</td>\n",
       "      <td>200601</td>\n",
       "    </tr>\n",
       "    <tr>\n",
       "      <td>3</td>\n",
       "      <td>59.41</td>\n",
       "      <td>2006</td>\n",
       "      <td>02</td>\n",
       "      <td>200602</td>\n",
       "    </tr>\n",
       "    <tr>\n",
       "      <td>4</td>\n",
       "      <td>59.67</td>\n",
       "      <td>2006</td>\n",
       "      <td>03</td>\n",
       "      <td>200603</td>\n",
       "    </tr>\n",
       "  </tbody>\n",
       "</table>\n",
       "</div>"
      ],
      "text/plain": [
       "     CPI  year month   Fecha\n",
       "0  58.61  2005    11  200511\n",
       "1  58.82  2005    12  200512\n",
       "2  59.17  2006    01  200601\n",
       "3  59.41  2006    02  200602\n",
       "4  59.67  2006    03  200603"
      ]
     },
     "execution_count": 14,
     "metadata": {},
     "output_type": "execute_result"
    }
   ],
   "source": [
    "cpi['Fecha'] = cpi.year + cpi.month\n",
    "cpi.head()"
   ]
  },
  {
   "cell_type": "code",
   "execution_count": 90,
   "metadata": {},
   "outputs": [
    {
     "data": {
      "text/plain": [
       "<matplotlib.axes._subplots.AxesSubplot at 0x1b128cd55c8>"
      ]
     },
     "execution_count": 90,
     "metadata": {},
     "output_type": "execute_result"
    },
    {
     "data": {
      "image/png": "[encoded data removed]",
      "text/plain": [
       "<Figure size 432x288 with 1 Axes>"
      ]
     },
     "metadata": {
      "needs_background": "light"
     },
     "output_type": "display_data"
    }
   ],
   "source": [
    "cpi.year = np.int64(cpi.year)\n",
    "cpi.plot('year', 'CPI')"
   ]
  },
  {
   "cell_type": "markdown",
   "metadata": {},
   "source": [
    "### Base de datos PIB"
   ]
  },
  {
   "cell_type": "code",
   "execution_count": 16,
   "metadata": {},
   "outputs": [
    {
     "data": {
      "text/html": [
       "<div>\n",
       "<style scoped>\n",
       "    .dataframe tbody tr th:only-of-type {\n",
       "        vertical-align: middle;\n",
       "    }\n",
       "\n",
       "    .dataframe tbody tr th {\n",
       "        vertical-align: top;\n",
       "    }\n",
       "\n",
       "    .dataframe thead th {\n",
       "        text-align: right;\n",
       "    }\n",
       "</style>\n",
       "<table border=\"1\" class=\"dataframe\">\n",
       "  <thead>\n",
       "    <tr style=\"text-align: right;\">\n",
       "      <th></th>\n",
       "      <th>DATE</th>\n",
       "      <th>BRALORSGPNOSTSAM</th>\n",
       "    </tr>\n",
       "  </thead>\n",
       "  <tbody>\n",
       "    <tr>\n",
       "      <td>0</td>\n",
       "      <td>2005-11-01</td>\n",
       "      <td>99.257355</td>\n",
       "    </tr>\n",
       "    <tr>\n",
       "      <td>1</td>\n",
       "      <td>2005-12-01</td>\n",
       "      <td>99.264442</td>\n",
       "    </tr>\n",
       "    <tr>\n",
       "      <td>2</td>\n",
       "      <td>2006-01-01</td>\n",
       "      <td>99.288699</td>\n",
       "    </tr>\n",
       "    <tr>\n",
       "      <td>3</td>\n",
       "      <td>2006-02-01</td>\n",
       "      <td>99.303834</td>\n",
       "    </tr>\n",
       "    <tr>\n",
       "      <td>4</td>\n",
       "      <td>2006-03-01</td>\n",
       "      <td>99.294399</td>\n",
       "    </tr>\n",
       "  </tbody>\n",
       "</table>\n",
       "</div>"
      ],
      "text/plain": [
       "         DATE  BRALORSGPNOSTSAM\n",
       "0  2005-11-01         99.257355\n",
       "1  2005-12-01         99.264442\n",
       "2  2006-01-01         99.288699\n",
       "3  2006-02-01         99.303834\n",
       "4  2006-03-01         99.294399"
      ]
     },
     "execution_count": 16,
     "metadata": {},
     "output_type": "execute_result"
    }
   ],
   "source": [
    "pib.head()"
   ]
  },
  {
   "cell_type": "code",
   "execution_count": 17,
   "metadata": {},
   "outputs": [
    {
     "data": {
      "text/html": [
       "<div>\n",
       "<style scoped>\n",
       "    .dataframe tbody tr th:only-of-type {\n",
       "        vertical-align: middle;\n",
       "    }\n",
       "\n",
       "    .dataframe tbody tr th {\n",
       "        vertical-align: top;\n",
       "    }\n",
       "\n",
       "    .dataframe thead th {\n",
       "        text-align: right;\n",
       "    }\n",
       "</style>\n",
       "<table border=\"1\" class=\"dataframe\">\n",
       "  <thead>\n",
       "    <tr style=\"text-align: right;\">\n",
       "      <th></th>\n",
       "      <th>DATE</th>\n",
       "      <th>PIB</th>\n",
       "    </tr>\n",
       "  </thead>\n",
       "  <tbody>\n",
       "    <tr>\n",
       "      <td>0</td>\n",
       "      <td>2005-11-01</td>\n",
       "      <td>99.26</td>\n",
       "    </tr>\n",
       "    <tr>\n",
       "      <td>1</td>\n",
       "      <td>2005-12-01</td>\n",
       "      <td>99.26</td>\n",
       "    </tr>\n",
       "    <tr>\n",
       "      <td>2</td>\n",
       "      <td>2006-01-01</td>\n",
       "      <td>99.29</td>\n",
       "    </tr>\n",
       "    <tr>\n",
       "      <td>3</td>\n",
       "      <td>2006-02-01</td>\n",
       "      <td>99.30</td>\n",
       "    </tr>\n",
       "    <tr>\n",
       "      <td>4</td>\n",
       "      <td>2006-03-01</td>\n",
       "      <td>99.29</td>\n",
       "    </tr>\n",
       "  </tbody>\n",
       "</table>\n",
       "</div>"
      ],
      "text/plain": [
       "         DATE    PIB\n",
       "0  2005-11-01  99.26\n",
       "1  2005-12-01  99.26\n",
       "2  2006-01-01  99.29\n",
       "3  2006-02-01  99.30\n",
       "4  2006-03-01  99.29"
      ]
     },
     "execution_count": 17,
     "metadata": {},
     "output_type": "execute_result"
    }
   ],
   "source": [
    "pib = pib.rename(columns = {'BRALORSGPNOSTSAM':'PIB'})\n",
    "pib.PIB = round(pib.PIB, 2)\n",
    "pib.head()"
   ]
  },
  {
   "cell_type": "code",
   "execution_count": 18,
   "metadata": {},
   "outputs": [
    {
     "data": {
      "text/html": [
       "<div>\n",
       "<style scoped>\n",
       "    .dataframe tbody tr th:only-of-type {\n",
       "        vertical-align: middle;\n",
       "    }\n",
       "\n",
       "    .dataframe tbody tr th {\n",
       "        vertical-align: top;\n",
       "    }\n",
       "\n",
       "    .dataframe thead th {\n",
       "        text-align: right;\n",
       "    }\n",
       "</style>\n",
       "<table border=\"1\" class=\"dataframe\">\n",
       "  <thead>\n",
       "    <tr style=\"text-align: right;\">\n",
       "      <th></th>\n",
       "      <th>year</th>\n",
       "      <th>month</th>\n",
       "    </tr>\n",
       "  </thead>\n",
       "  <tbody>\n",
       "    <tr>\n",
       "      <td>0</td>\n",
       "      <td>2005</td>\n",
       "      <td>11</td>\n",
       "    </tr>\n",
       "    <tr>\n",
       "      <td>1</td>\n",
       "      <td>2005</td>\n",
       "      <td>12</td>\n",
       "    </tr>\n",
       "    <tr>\n",
       "      <td>2</td>\n",
       "      <td>2006</td>\n",
       "      <td>01</td>\n",
       "    </tr>\n",
       "    <tr>\n",
       "      <td>3</td>\n",
       "      <td>2006</td>\n",
       "      <td>02</td>\n",
       "    </tr>\n",
       "    <tr>\n",
       "      <td>4</td>\n",
       "      <td>2006</td>\n",
       "      <td>03</td>\n",
       "    </tr>\n",
       "  </tbody>\n",
       "</table>\n",
       "</div>"
      ],
      "text/plain": [
       "   year month\n",
       "0  2005    11\n",
       "1  2005    12\n",
       "2  2006    01\n",
       "3  2006    02\n",
       "4  2006    03"
      ]
     },
     "execution_count": 18,
     "metadata": {},
     "output_type": "execute_result"
    }
   ],
   "source": [
    "fechas3 = pib.DATE.str.split(\"-\", expand = True)\n",
    "fechas3 = fechas3.rename(columns = {0: 'year', 1: 'month'})\n",
    "fechas3.pop(2)\n",
    "fechas3.head()"
   ]
  },
  {
   "cell_type": "code",
   "execution_count": 19,
   "metadata": {},
   "outputs": [
    {
     "data": {
      "text/html": [
       "<div>\n",
       "<style scoped>\n",
       "    .dataframe tbody tr th:only-of-type {\n",
       "        vertical-align: middle;\n",
       "    }\n",
       "\n",
       "    .dataframe tbody tr th {\n",
       "        vertical-align: top;\n",
       "    }\n",
       "\n",
       "    .dataframe thead th {\n",
       "        text-align: right;\n",
       "    }\n",
       "</style>\n",
       "<table border=\"1\" class=\"dataframe\">\n",
       "  <thead>\n",
       "    <tr style=\"text-align: right;\">\n",
       "      <th></th>\n",
       "      <th>PIB</th>\n",
       "      <th>year</th>\n",
       "      <th>month</th>\n",
       "    </tr>\n",
       "  </thead>\n",
       "  <tbody>\n",
       "    <tr>\n",
       "      <td>0</td>\n",
       "      <td>99.26</td>\n",
       "      <td>2005</td>\n",
       "      <td>11</td>\n",
       "    </tr>\n",
       "    <tr>\n",
       "      <td>1</td>\n",
       "      <td>99.26</td>\n",
       "      <td>2005</td>\n",
       "      <td>12</td>\n",
       "    </tr>\n",
       "    <tr>\n",
       "      <td>2</td>\n",
       "      <td>99.29</td>\n",
       "      <td>2006</td>\n",
       "      <td>01</td>\n",
       "    </tr>\n",
       "    <tr>\n",
       "      <td>3</td>\n",
       "      <td>99.30</td>\n",
       "      <td>2006</td>\n",
       "      <td>02</td>\n",
       "    </tr>\n",
       "    <tr>\n",
       "      <td>4</td>\n",
       "      <td>99.29</td>\n",
       "      <td>2006</td>\n",
       "      <td>03</td>\n",
       "    </tr>\n",
       "  </tbody>\n",
       "</table>\n",
       "</div>"
      ],
      "text/plain": [
       "     PIB  year month\n",
       "0  99.26  2005    11\n",
       "1  99.26  2005    12\n",
       "2  99.29  2006    01\n",
       "3  99.30  2006    02\n",
       "4  99.29  2006    03"
      ]
     },
     "execution_count": 19,
     "metadata": {},
     "output_type": "execute_result"
    }
   ],
   "source": [
    "pib = pd.concat([pib, fechas3], axis = 1, sort = False)\n",
    "pib.pop('DATE')\n",
    "pib.head()"
   ]
  },
  {
   "cell_type": "code",
   "execution_count": 20,
   "metadata": {
    "scrolled": true
   },
   "outputs": [
    {
     "data": {
      "text/html": [
       "<div>\n",
       "<style scoped>\n",
       "    .dataframe tbody tr th:only-of-type {\n",
       "        vertical-align: middle;\n",
       "    }\n",
       "\n",
       "    .dataframe tbody tr th {\n",
       "        vertical-align: top;\n",
       "    }\n",
       "\n",
       "    .dataframe thead th {\n",
       "        text-align: right;\n",
       "    }\n",
       "</style>\n",
       "<table border=\"1\" class=\"dataframe\">\n",
       "  <thead>\n",
       "    <tr style=\"text-align: right;\">\n",
       "      <th></th>\n",
       "      <th>PIB</th>\n",
       "      <th>year</th>\n",
       "      <th>month</th>\n",
       "      <th>Fecha</th>\n",
       "    </tr>\n",
       "  </thead>\n",
       "  <tbody>\n",
       "    <tr>\n",
       "      <td>0</td>\n",
       "      <td>99.26</td>\n",
       "      <td>2005</td>\n",
       "      <td>11</td>\n",
       "      <td>200511</td>\n",
       "    </tr>\n",
       "    <tr>\n",
       "      <td>1</td>\n",
       "      <td>99.26</td>\n",
       "      <td>2005</td>\n",
       "      <td>12</td>\n",
       "      <td>200512</td>\n",
       "    </tr>\n",
       "    <tr>\n",
       "      <td>2</td>\n",
       "      <td>99.29</td>\n",
       "      <td>2006</td>\n",
       "      <td>01</td>\n",
       "      <td>200601</td>\n",
       "    </tr>\n",
       "    <tr>\n",
       "      <td>3</td>\n",
       "      <td>99.30</td>\n",
       "      <td>2006</td>\n",
       "      <td>02</td>\n",
       "      <td>200602</td>\n",
       "    </tr>\n",
       "    <tr>\n",
       "      <td>4</td>\n",
       "      <td>99.29</td>\n",
       "      <td>2006</td>\n",
       "      <td>03</td>\n",
       "      <td>200603</td>\n",
       "    </tr>\n",
       "  </tbody>\n",
       "</table>\n",
       "</div>"
      ],
      "text/plain": [
       "     PIB  year month   Fecha\n",
       "0  99.26  2005    11  200511\n",
       "1  99.26  2005    12  200512\n",
       "2  99.29  2006    01  200601\n",
       "3  99.30  2006    02  200602\n",
       "4  99.29  2006    03  200603"
      ]
     },
     "execution_count": 20,
     "metadata": {},
     "output_type": "execute_result"
    }
   ],
   "source": [
    "pib['Fecha'] = pib.year + pib.month\n",
    "pib.head()"
   ]
  },
  {
   "cell_type": "code",
   "execution_count": 91,
   "metadata": {
    "scrolled": true
   },
   "outputs": [
    {
     "data": {
      "text/plain": [
       "<matplotlib.axes._subplots.AxesSubplot at 0x1b128d25788>"
      ]
     },
     "execution_count": 91,
     "metadata": {},
     "output_type": "execute_result"
    },
    {
     "data": {
      "image/png": "[encoded data removed]",
      "text/plain": [
       "<Figure size 432x288 with 1 Axes>"
      ]
     },
     "metadata": {
      "needs_background": "light"
     },
     "output_type": "display_data"
    }
   ],
   "source": [
    "pib.year = np.int64(pib.year)\n",
    "pib.plot('year', 'PIB')"
   ]
  },
  {
   "cell_type": "markdown",
   "metadata": {},
   "source": [
    "### Base de datos población"
   ]
  },
  {
   "cell_type": "code",
   "execution_count": 22,
   "metadata": {
    "scrolled": true
   },
   "outputs": [
    {
     "data": {
      "text/html": [
       "<div>\n",
       "<style scoped>\n",
       "    .dataframe tbody tr th:only-of-type {\n",
       "        vertical-align: middle;\n",
       "    }\n",
       "\n",
       "    .dataframe tbody tr th {\n",
       "        vertical-align: top;\n",
       "    }\n",
       "\n",
       "    .dataframe thead th {\n",
       "        text-align: right;\n",
       "    }\n",
       "</style>\n",
       "<table border=\"1\" class=\"dataframe\">\n",
       "  <thead>\n",
       "    <tr style=\"text-align: right;\">\n",
       "      <th></th>\n",
       "      <th>month</th>\n",
       "      <th>year</th>\n",
       "      <th>Total</th>\n",
       "    </tr>\n",
       "  </thead>\n",
       "  <tbody>\n",
       "    <tr>\n",
       "      <td>0</td>\n",
       "      <td>1</td>\n",
       "      <td>2005</td>\n",
       "      <td>186127103</td>\n",
       "    </tr>\n",
       "    <tr>\n",
       "      <td>1</td>\n",
       "      <td>2</td>\n",
       "      <td>2005</td>\n",
       "      <td>186127103</td>\n",
       "    </tr>\n",
       "    <tr>\n",
       "      <td>2</td>\n",
       "      <td>3</td>\n",
       "      <td>2005</td>\n",
       "      <td>186127103</td>\n",
       "    </tr>\n",
       "    <tr>\n",
       "      <td>3</td>\n",
       "      <td>4</td>\n",
       "      <td>2005</td>\n",
       "      <td>186127103</td>\n",
       "    </tr>\n",
       "    <tr>\n",
       "      <td>4</td>\n",
       "      <td>5</td>\n",
       "      <td>2005</td>\n",
       "      <td>186127103</td>\n",
       "    </tr>\n",
       "    <tr>\n",
       "      <td>...</td>\n",
       "      <td>...</td>\n",
       "      <td>...</td>\n",
       "      <td>...</td>\n",
       "    </tr>\n",
       "    <tr>\n",
       "      <td>127</td>\n",
       "      <td>8</td>\n",
       "      <td>2015</td>\n",
       "      <td>204471769</td>\n",
       "    </tr>\n",
       "    <tr>\n",
       "      <td>128</td>\n",
       "      <td>9</td>\n",
       "      <td>2015</td>\n",
       "      <td>204471769</td>\n",
       "    </tr>\n",
       "    <tr>\n",
       "      <td>129</td>\n",
       "      <td>10</td>\n",
       "      <td>2015</td>\n",
       "      <td>204471769</td>\n",
       "    </tr>\n",
       "    <tr>\n",
       "      <td>130</td>\n",
       "      <td>11</td>\n",
       "      <td>2015</td>\n",
       "      <td>204471769</td>\n",
       "    </tr>\n",
       "    <tr>\n",
       "      <td>131</td>\n",
       "      <td>12</td>\n",
       "      <td>2015</td>\n",
       "      <td>204471769</td>\n",
       "    </tr>\n",
       "  </tbody>\n",
       "</table>\n",
       "<p>132 rows × 3 columns</p>\n",
       "</div>"
      ],
      "text/plain": [
       "     month  year      Total\n",
       "0        1  2005  186127103\n",
       "1        2  2005  186127103\n",
       "2        3  2005  186127103\n",
       "3        4  2005  186127103\n",
       "4        5  2005  186127103\n",
       "..     ...   ...        ...\n",
       "127      8  2015  204471769\n",
       "128      9  2015  204471769\n",
       "129     10  2015  204471769\n",
       "130     11  2015  204471769\n",
       "131     12  2015  204471769\n",
       "\n",
       "[132 rows x 3 columns]"
      ]
     },
     "execution_count": 22,
     "metadata": {},
     "output_type": "execute_result"
    }
   ],
   "source": [
    "poblacion.pop('Unnamed: 4')\n",
    "poblacion.pop('Unnamed: 5')\n",
    "poblacion.pop('Unnamed: 6')\n",
    "poblacion.pop('Unnamed: 7')\n",
    "poblacion.pop('Unnamed: 8')\n",
    "poblacion.pop('Unnamed: 9')\n",
    "poblacion.pop('Unnamed: 10')\n",
    "poblacion.pop('Unnamed: 11')\n",
    "poblacion.pop('Unnamed: 12')\n",
    "poblacion"
   ]
  },
  {
   "cell_type": "code",
   "execution_count": 26,
   "metadata": {
    "scrolled": true
   },
   "outputs": [],
   "source": [
    "poblacion.drop(poblacion[(poblacion.year == 2005) & (poblacion.month < 11)].index, inplace = True)"
   ]
  },
  {
   "cell_type": "code",
   "execution_count": 27,
   "metadata": {
    "scrolled": true
   },
   "outputs": [],
   "source": [
    "poblacion['year'] = poblacion['year'].astype(str)\n",
    "poblacion['month'] = poblacion['month'].astype(str)"
   ]
  },
  {
   "cell_type": "code",
   "execution_count": 28,
   "metadata": {},
   "outputs": [],
   "source": [
    "poblacion['month'] = np.where(poblacion['month'] == '1', '01', poblacion['month'].values)\n",
    "poblacion['month'] = np.where(poblacion['month'] == '2', '02', poblacion['month'].values)\n",
    "poblacion['month'] = np.where(poblacion['month'] == '3', '03', poblacion['month'].values)\n",
    "poblacion['month'] = np.where(poblacion['month'] == '4', '04', poblacion['month'].values)\n",
    "poblacion['month'] = np.where(poblacion['month'] == '5', '05', poblacion['month'].values)\n",
    "poblacion['month'] = np.where(poblacion['month'] == '6', '06', poblacion['month'].values)\n",
    "poblacion['month'] = np.where(poblacion['month'] == '7', '07', poblacion['month'].values)\n",
    "poblacion['month'] = np.where(poblacion['month'] == '8', '08', poblacion['month'].values)\n",
    "poblacion['month'] = np.where(poblacion['month'] == '9', '09', poblacion['month'].values)"
   ]
  },
  {
   "cell_type": "code",
   "execution_count": 29,
   "metadata": {
    "scrolled": false
   },
   "outputs": [
    {
     "data": {
      "text/html": [
       "<div>\n",
       "<style scoped>\n",
       "    .dataframe tbody tr th:only-of-type {\n",
       "        vertical-align: middle;\n",
       "    }\n",
       "\n",
       "    .dataframe tbody tr th {\n",
       "        vertical-align: top;\n",
       "    }\n",
       "\n",
       "    .dataframe thead th {\n",
       "        text-align: right;\n",
       "    }\n",
       "</style>\n",
       "<table border=\"1\" class=\"dataframe\">\n",
       "  <thead>\n",
       "    <tr style=\"text-align: right;\">\n",
       "      <th></th>\n",
       "      <th>month</th>\n",
       "      <th>year</th>\n",
       "      <th>Total</th>\n",
       "      <th>Fecha</th>\n",
       "    </tr>\n",
       "  </thead>\n",
       "  <tbody>\n",
       "    <tr>\n",
       "      <td>10</td>\n",
       "      <td>11</td>\n",
       "      <td>2005</td>\n",
       "      <td>186127103</td>\n",
       "      <td>200511</td>\n",
       "    </tr>\n",
       "    <tr>\n",
       "      <td>11</td>\n",
       "      <td>12</td>\n",
       "      <td>2005</td>\n",
       "      <td>186127103</td>\n",
       "      <td>200512</td>\n",
       "    </tr>\n",
       "    <tr>\n",
       "      <td>12</td>\n",
       "      <td>01</td>\n",
       "      <td>2006</td>\n",
       "      <td>188167356</td>\n",
       "      <td>200601</td>\n",
       "    </tr>\n",
       "    <tr>\n",
       "      <td>13</td>\n",
       "      <td>02</td>\n",
       "      <td>2006</td>\n",
       "      <td>188167356</td>\n",
       "      <td>200602</td>\n",
       "    </tr>\n",
       "    <tr>\n",
       "      <td>14</td>\n",
       "      <td>03</td>\n",
       "      <td>2006</td>\n",
       "      <td>188167356</td>\n",
       "      <td>200603</td>\n",
       "    </tr>\n",
       "  </tbody>\n",
       "</table>\n",
       "</div>"
      ],
      "text/plain": [
       "   month  year      Total   Fecha\n",
       "10    11  2005  186127103  200511\n",
       "11    12  2005  186127103  200512\n",
       "12    01  2006  188167356  200601\n",
       "13    02  2006  188167356  200602\n",
       "14    03  2006  188167356  200603"
      ]
     },
     "execution_count": 29,
     "metadata": {},
     "output_type": "execute_result"
    }
   ],
   "source": [
    "poblacion['Fecha'] = poblacion.year + poblacion.month\n",
    "poblacion.head()"
   ]
  },
  {
   "cell_type": "code",
   "execution_count": 92,
   "metadata": {},
   "outputs": [
    {
     "data": {
      "text/plain": [
       "<matplotlib.axes._subplots.AxesSubplot at 0x1b127fe22c8>"
      ]
     },
     "execution_count": 92,
     "metadata": {},
     "output_type": "execute_result"
    },
    {
     "data": {
      "image/png": "[encoded data removed]",
      "text/plain": [
       "<Figure size 432x288 with 1 Axes>"
      ]
     },
     "metadata": {
      "needs_background": "light"
     },
     "output_type": "display_data"
    }
   ],
   "source": [
    "poblacion.year = np.int64(poblacion.year)\n",
    "poblacion.plot('year', 'Total')"
   ]
  },
  {
   "cell_type": "markdown",
   "metadata": {},
   "source": [
    "### Base de datos fuegos"
   ]
  },
  {
   "cell_type": "code",
   "execution_count": 30,
   "metadata": {},
   "outputs": [
    {
     "name": "stdout",
     "output_type": "stream",
     "text": [
      "<class 'pandas.core.frame.DataFrame'>\n",
      "RangeIndex: 2104 entries, 0 to 2103\n",
      "Data columns (total 6 columns):\n",
      "year         2104 non-null int64\n",
      "month        2104 non-null int64\n",
      "state        2104 non-null object\n",
      "latitude     2104 non-null float64\n",
      "longitude    2104 non-null float64\n",
      "firespots    2104 non-null int64\n",
      "dtypes: float64(2), int64(3), object(1)\n",
      "memory usage: 98.8+ KB\n"
     ]
    }
   ],
   "source": [
    "fuegos.info()"
   ]
  },
  {
   "cell_type": "code",
   "execution_count": 31,
   "metadata": {},
   "outputs": [
    {
     "data": {
      "text/html": [
       "<div>\n",
       "<style scoped>\n",
       "    .dataframe tbody tr th:only-of-type {\n",
       "        vertical-align: middle;\n",
       "    }\n",
       "\n",
       "    .dataframe tbody tr th {\n",
       "        vertical-align: top;\n",
       "    }\n",
       "\n",
       "    .dataframe thead th {\n",
       "        text-align: right;\n",
       "    }\n",
       "</style>\n",
       "<table border=\"1\" class=\"dataframe\">\n",
       "  <thead>\n",
       "    <tr style=\"text-align: right;\">\n",
       "      <th></th>\n",
       "      <th>year</th>\n",
       "      <th>month</th>\n",
       "      <th>state</th>\n",
       "      <th>latitude</th>\n",
       "      <th>longitude</th>\n",
       "      <th>firespots</th>\n",
       "    </tr>\n",
       "  </thead>\n",
       "  <tbody>\n",
       "    <tr>\n",
       "      <td>0</td>\n",
       "      <td>1999</td>\n",
       "      <td>1</td>\n",
       "      <td>AMAZONAS</td>\n",
       "      <td>-2.371113</td>\n",
       "      <td>-59.899933</td>\n",
       "      <td>3</td>\n",
       "    </tr>\n",
       "    <tr>\n",
       "      <td>1</td>\n",
       "      <td>1999</td>\n",
       "      <td>1</td>\n",
       "      <td>MARANHAO</td>\n",
       "      <td>-2.257395</td>\n",
       "      <td>-45.487831</td>\n",
       "      <td>36</td>\n",
       "    </tr>\n",
       "    <tr>\n",
       "      <td>2</td>\n",
       "      <td>1999</td>\n",
       "      <td>1</td>\n",
       "      <td>MATO GROSSO</td>\n",
       "      <td>-12.660633</td>\n",
       "      <td>-55.057989</td>\n",
       "      <td>18</td>\n",
       "    </tr>\n",
       "    <tr>\n",
       "      <td>3</td>\n",
       "      <td>1999</td>\n",
       "      <td>1</td>\n",
       "      <td>PARA</td>\n",
       "      <td>-2.474820</td>\n",
       "      <td>-48.546967</td>\n",
       "      <td>87</td>\n",
       "    </tr>\n",
       "    <tr>\n",
       "      <td>4</td>\n",
       "      <td>1999</td>\n",
       "      <td>1</td>\n",
       "      <td>RONDONIA</td>\n",
       "      <td>-12.861700</td>\n",
       "      <td>-60.513100</td>\n",
       "      <td>1</td>\n",
       "    </tr>\n",
       "  </tbody>\n",
       "</table>\n",
       "</div>"
      ],
      "text/plain": [
       "   year  month        state   latitude  longitude  firespots\n",
       "0  1999      1     AMAZONAS  -2.371113 -59.899933          3\n",
       "1  1999      1     MARANHAO  -2.257395 -45.487831         36\n",
       "2  1999      1  MATO GROSSO -12.660633 -55.057989         18\n",
       "3  1999      1         PARA  -2.474820 -48.546967         87\n",
       "4  1999      1     RONDONIA -12.861700 -60.513100          1"
      ]
     },
     "execution_count": 31,
     "metadata": {},
     "output_type": "execute_result"
    }
   ],
   "source": [
    "fuegos.head()"
   ]
  },
  {
   "cell_type": "code",
   "execution_count": 32,
   "metadata": {},
   "outputs": [],
   "source": [
    "fuegos.drop([\"state\", \"latitude\", \"longitude\"], axis = 1, inplace = True)"
   ]
  },
  {
   "cell_type": "code",
   "execution_count": 33,
   "metadata": {},
   "outputs": [],
   "source": [
    "fuegos.drop(fuegos[fuegos.year < 2005].index, inplace = True)"
   ]
  },
  {
   "cell_type": "code",
   "execution_count": 34,
   "metadata": {},
   "outputs": [],
   "source": [
    "fuegos.drop(fuegos[(fuegos.year == 2005) & (fuegos.month < 11)].index, inplace = True)"
   ]
  },
  {
   "cell_type": "code",
   "execution_count": 35,
   "metadata": {},
   "outputs": [
    {
     "data": {
      "text/html": [
       "<div>\n",
       "<style scoped>\n",
       "    .dataframe tbody tr th:only-of-type {\n",
       "        vertical-align: middle;\n",
       "    }\n",
       "\n",
       "    .dataframe tbody tr th {\n",
       "        vertical-align: top;\n",
       "    }\n",
       "\n",
       "    .dataframe thead th {\n",
       "        text-align: right;\n",
       "    }\n",
       "</style>\n",
       "<table border=\"1\" class=\"dataframe\">\n",
       "  <thead>\n",
       "    <tr style=\"text-align: right;\">\n",
       "      <th></th>\n",
       "      <th>year</th>\n",
       "      <th>month</th>\n",
       "      <th>firespots</th>\n",
       "    </tr>\n",
       "  </thead>\n",
       "  <tbody>\n",
       "    <tr>\n",
       "      <td>644</td>\n",
       "      <td>2005</td>\n",
       "      <td>11</td>\n",
       "      <td>27</td>\n",
       "    </tr>\n",
       "    <tr>\n",
       "      <td>645</td>\n",
       "      <td>2005</td>\n",
       "      <td>11</td>\n",
       "      <td>1054</td>\n",
       "    </tr>\n",
       "    <tr>\n",
       "      <td>646</td>\n",
       "      <td>2005</td>\n",
       "      <td>11</td>\n",
       "      <td>833</td>\n",
       "    </tr>\n",
       "    <tr>\n",
       "      <td>647</td>\n",
       "      <td>2005</td>\n",
       "      <td>11</td>\n",
       "      <td>3498</td>\n",
       "    </tr>\n",
       "    <tr>\n",
       "      <td>648</td>\n",
       "      <td>2005</td>\n",
       "      <td>11</td>\n",
       "      <td>1136</td>\n",
       "    </tr>\n",
       "    <tr>\n",
       "      <td>...</td>\n",
       "      <td>...</td>\n",
       "      <td>...</td>\n",
       "      <td>...</td>\n",
       "    </tr>\n",
       "    <tr>\n",
       "      <td>2099</td>\n",
       "      <td>2019</td>\n",
       "      <td>12</td>\n",
       "      <td>148</td>\n",
       "    </tr>\n",
       "    <tr>\n",
       "      <td>2100</td>\n",
       "      <td>2019</td>\n",
       "      <td>12</td>\n",
       "      <td>1280</td>\n",
       "    </tr>\n",
       "    <tr>\n",
       "      <td>2101</td>\n",
       "      <td>2019</td>\n",
       "      <td>12</td>\n",
       "      <td>42</td>\n",
       "    </tr>\n",
       "    <tr>\n",
       "      <td>2102</td>\n",
       "      <td>2019</td>\n",
       "      <td>12</td>\n",
       "      <td>27</td>\n",
       "    </tr>\n",
       "    <tr>\n",
       "      <td>2103</td>\n",
       "      <td>2019</td>\n",
       "      <td>12</td>\n",
       "      <td>21</td>\n",
       "    </tr>\n",
       "  </tbody>\n",
       "</table>\n",
       "<p>1460 rows × 3 columns</p>\n",
       "</div>"
      ],
      "text/plain": [
       "      year  month  firespots\n",
       "644   2005     11         27\n",
       "645   2005     11       1054\n",
       "646   2005     11        833\n",
       "647   2005     11       3498\n",
       "648   2005     11       1136\n",
       "...    ...    ...        ...\n",
       "2099  2019     12        148\n",
       "2100  2019     12       1280\n",
       "2101  2019     12         42\n",
       "2102  2019     12         27\n",
       "2103  2019     12         21\n",
       "\n",
       "[1460 rows x 3 columns]"
      ]
     },
     "execution_count": 35,
     "metadata": {},
     "output_type": "execute_result"
    }
   ],
   "source": [
    "fuegos.sort_values(by = ['year', 'month'], ascending = True)"
   ]
  },
  {
   "cell_type": "code",
   "execution_count": 36,
   "metadata": {
    "scrolled": true
   },
   "outputs": [],
   "source": [
    "fuegos['year'] = fuegos['year'].astype(str)\n",
    "fuegos['month'] = fuegos['month'].astype(str)"
   ]
  },
  {
   "cell_type": "code",
   "execution_count": 37,
   "metadata": {},
   "outputs": [
    {
     "data": {
      "text/plain": [
       "array(['11', '12', '1', '2', '3', '4', '5', '6', '7', '8', '9', '10'],\n",
       "      dtype=object)"
      ]
     },
     "execution_count": 37,
     "metadata": {},
     "output_type": "execute_result"
    }
   ],
   "source": [
    "fuegos.month.unique()"
   ]
  },
  {
   "cell_type": "code",
   "execution_count": 38,
   "metadata": {},
   "outputs": [],
   "source": [
    "fuegos['month'] = np.where(fuegos['month'] == '1', '01', fuegos['month'].values)\n",
    "fuegos['month'] = np.where(fuegos['month'] == '2', '02', fuegos['month'].values)\n",
    "fuegos['month'] = np.where(fuegos['month'] == '3', '03', fuegos['month'].values)\n",
    "fuegos['month'] = np.where(fuegos['month'] == '4', '04', fuegos['month'].values)\n",
    "fuegos['month'] = np.where(fuegos['month'] == '5', '05', fuegos['month'].values)\n",
    "fuegos['month'] = np.where(fuegos['month'] == '6', '06', fuegos['month'].values)\n",
    "fuegos['month'] = np.where(fuegos['month'] == '7', '07', fuegos['month'].values)\n",
    "fuegos['month'] = np.where(fuegos['month'] == '8', '08', fuegos['month'].values)\n",
    "fuegos['month'] = np.where(fuegos['month'] == '9', '09', fuegos['month'].values)"
   ]
  },
  {
   "cell_type": "code",
   "execution_count": 39,
   "metadata": {},
   "outputs": [
    {
     "data": {
      "text/plain": [
       "array(['11', '12', '01', '02', '03', '04', '05', '06', '07', '08', '09',\n",
       "       '10'], dtype=object)"
      ]
     },
     "execution_count": 39,
     "metadata": {},
     "output_type": "execute_result"
    }
   ],
   "source": [
    "fuegos.month.unique()"
   ]
  },
  {
   "cell_type": "code",
   "execution_count": 40,
   "metadata": {},
   "outputs": [],
   "source": [
    "fuegos['Fecha'] = fuegos.year + fuegos.month"
   ]
  },
  {
   "cell_type": "code",
   "execution_count": 41,
   "metadata": {
    "scrolled": true
   },
   "outputs": [
    {
     "data": {
      "text/html": [
       "<div>\n",
       "<style scoped>\n",
       "    .dataframe tbody tr th:only-of-type {\n",
       "        vertical-align: middle;\n",
       "    }\n",
       "\n",
       "    .dataframe tbody tr th {\n",
       "        vertical-align: top;\n",
       "    }\n",
       "\n",
       "    .dataframe thead th {\n",
       "        text-align: right;\n",
       "    }\n",
       "</style>\n",
       "<table border=\"1\" class=\"dataframe\">\n",
       "  <thead>\n",
       "    <tr style=\"text-align: right;\">\n",
       "      <th></th>\n",
       "      <th></th>\n",
       "      <th></th>\n",
       "      <th>firespots</th>\n",
       "    </tr>\n",
       "    <tr>\n",
       "      <th>year</th>\n",
       "      <th>month</th>\n",
       "      <th>Fecha</th>\n",
       "      <th></th>\n",
       "    </tr>\n",
       "  </thead>\n",
       "  <tbody>\n",
       "    <tr>\n",
       "      <td rowspan=\"2\" valign=\"top\">2005</td>\n",
       "      <td>11</td>\n",
       "      <td>200511</td>\n",
       "      <td>16790</td>\n",
       "    </tr>\n",
       "    <tr>\n",
       "      <td>12</td>\n",
       "      <td>200512</td>\n",
       "      <td>6966</td>\n",
       "    </tr>\n",
       "    <tr>\n",
       "      <td rowspan=\"3\" valign=\"top\">2006</td>\n",
       "      <td>01</td>\n",
       "      <td>200601</td>\n",
       "      <td>1973</td>\n",
       "    </tr>\n",
       "    <tr>\n",
       "      <td>02</td>\n",
       "      <td>200602</td>\n",
       "      <td>879</td>\n",
       "    </tr>\n",
       "    <tr>\n",
       "      <td>03</td>\n",
       "      <td>200603</td>\n",
       "      <td>903</td>\n",
       "    </tr>\n",
       "  </tbody>\n",
       "</table>\n",
       "</div>"
      ],
      "text/plain": [
       "                   firespots\n",
       "year month Fecha            \n",
       "2005 11    200511      16790\n",
       "     12    200512       6966\n",
       "2006 01    200601       1973\n",
       "     02    200602        879\n",
       "     03    200603        903"
      ]
     },
     "execution_count": 41,
     "metadata": {},
     "output_type": "execute_result"
    }
   ],
   "source": [
    "fuegos_grupo = pd.DataFrame(fuegos.groupby(['year', 'month', 'Fecha']).sum())\n",
    "fuegos_grupo.head()"
   ]
  },
  {
   "cell_type": "code",
   "execution_count": 42,
   "metadata": {
    "scrolled": true
   },
   "outputs": [
    {
     "name": "stdout",
     "output_type": "stream",
     "text": [
      "<class 'pandas.core.frame.DataFrame'>\n",
      "MultiIndex: 170 entries, (2005, 11, 200511) to (2019, 12, 201912)\n",
      "Data columns (total 1 columns):\n",
      "firespots    170 non-null int64\n",
      "dtypes: int64(1)\n",
      "memory usage: 3.7+ KB\n"
     ]
    }
   ],
   "source": [
    "fuegos_grupo.info()"
   ]
  },
  {
   "cell_type": "code",
   "execution_count": 93,
   "metadata": {},
   "outputs": [
    {
     "data": {
      "text/plain": [
       "<matplotlib.axes._subplots.AxesSubplot at 0x1b128034208>"
      ]
     },
     "execution_count": 93,
     "metadata": {},
     "output_type": "execute_result"
    },
    {
     "data": {
      "image/png": "[encoded data removed]",
      "text/plain": [
       "<Figure size 432x288 with 1 Axes>"
      ]
     },
     "metadata": {
      "needs_background": "light"
     },
     "output_type": "display_data"
    }
   ],
   "source": [
    "fuegos.year = np.int64(fuegos.year)\n",
    "fuegos.plot('year', 'firespots')"
   ]
  },
  {
   "cell_type": "markdown",
   "metadata": {},
   "source": [
    "## BBDD finales"
   ]
  },
  {
   "cell_type": "code",
   "execution_count": 44,
   "metadata": {
    "scrolled": true
   },
   "outputs": [
    {
     "data": {
      "text/html": [
       "<div>\n",
       "<style scoped>\n",
       "    .dataframe tbody tr th:only-of-type {\n",
       "        vertical-align: middle;\n",
       "    }\n",
       "\n",
       "    .dataframe tbody tr th {\n",
       "        vertical-align: top;\n",
       "    }\n",
       "\n",
       "    .dataframe thead th {\n",
       "        text-align: right;\n",
       "    }\n",
       "</style>\n",
       "<table border=\"1\" class=\"dataframe\">\n",
       "  <thead>\n",
       "    <tr style=\"text-align: right;\">\n",
       "      <th></th>\n",
       "      <th>firespots</th>\n",
       "      <th>Tasa</th>\n",
       "      <th>year</th>\n",
       "      <th>month</th>\n",
       "    </tr>\n",
       "  </thead>\n",
       "  <tbody>\n",
       "    <tr>\n",
       "      <td>0</td>\n",
       "      <td>16790</td>\n",
       "      <td>10.11</td>\n",
       "      <td>2005</td>\n",
       "      <td>11</td>\n",
       "    </tr>\n",
       "    <tr>\n",
       "      <td>1</td>\n",
       "      <td>6966</td>\n",
       "      <td>9.68</td>\n",
       "      <td>2005</td>\n",
       "      <td>12</td>\n",
       "    </tr>\n",
       "    <tr>\n",
       "      <td>2</td>\n",
       "      <td>1973</td>\n",
       "      <td>9.62</td>\n",
       "      <td>2006</td>\n",
       "      <td>01</td>\n",
       "    </tr>\n",
       "    <tr>\n",
       "      <td>3</td>\n",
       "      <td>879</td>\n",
       "      <td>9.90</td>\n",
       "      <td>2006</td>\n",
       "      <td>02</td>\n",
       "    </tr>\n",
       "    <tr>\n",
       "      <td>4</td>\n",
       "      <td>903</td>\n",
       "      <td>9.87</td>\n",
       "      <td>2006</td>\n",
       "      <td>03</td>\n",
       "    </tr>\n",
       "    <tr>\n",
       "      <td>...</td>\n",
       "      <td>...</td>\n",
       "      <td>...</td>\n",
       "      <td>...</td>\n",
       "      <td>...</td>\n",
       "    </tr>\n",
       "    <tr>\n",
       "      <td>116</td>\n",
       "      <td>2817</td>\n",
       "      <td>7.31</td>\n",
       "      <td>2015</td>\n",
       "      <td>07</td>\n",
       "    </tr>\n",
       "    <tr>\n",
       "      <td>117</td>\n",
       "      <td>20471</td>\n",
       "      <td>7.44</td>\n",
       "      <td>2015</td>\n",
       "      <td>08</td>\n",
       "    </tr>\n",
       "    <tr>\n",
       "      <td>118</td>\n",
       "      <td>29326</td>\n",
       "      <td>7.54</td>\n",
       "      <td>2015</td>\n",
       "      <td>09</td>\n",
       "    </tr>\n",
       "    <tr>\n",
       "      <td>119</td>\n",
       "      <td>19469</td>\n",
       "      <td>8.00</td>\n",
       "      <td>2015</td>\n",
       "      <td>10</td>\n",
       "    </tr>\n",
       "    <tr>\n",
       "      <td>120</td>\n",
       "      <td>16935</td>\n",
       "      <td>8.01</td>\n",
       "      <td>2015</td>\n",
       "      <td>11</td>\n",
       "    </tr>\n",
       "  </tbody>\n",
       "</table>\n",
       "<p>121 rows × 4 columns</p>\n",
       "</div>"
      ],
      "text/plain": [
       "     firespots   Tasa  year month\n",
       "0        16790  10.11  2005    11\n",
       "1         6966   9.68  2005    12\n",
       "2         1973   9.62  2006    01\n",
       "3          879   9.90  2006    02\n",
       "4          903   9.87  2006    03\n",
       "..         ...    ...   ...   ...\n",
       "116       2817   7.31  2015    07\n",
       "117      20471   7.44  2015    08\n",
       "118      29326   7.54  2015    09\n",
       "119      19469   8.00  2015    10\n",
       "120      16935   8.01  2015    11\n",
       "\n",
       "[121 rows x 4 columns]"
      ]
     },
     "execution_count": 44,
     "metadata": {},
     "output_type": "execute_result"
    }
   ],
   "source": [
    "fueg_desemp = pd.merge(fuegos_grupo, desempleo, on = 'Fecha', how = 'inner')\n",
    "fueg_desemp.pop('Fecha')\n",
    "fueg_desemp"
   ]
  },
  {
   "cell_type": "code",
   "execution_count": 45,
   "metadata": {},
   "outputs": [
    {
     "data": {
      "text/plain": [
       "array([[1.        , 0.17902051],\n",
       "       [0.17902051, 1.        ]])"
      ]
     },
     "execution_count": 45,
     "metadata": {},
     "output_type": "execute_result"
    }
   ],
   "source": [
    "np.corrcoef(fueg_desemp['firespots'], fueg_desemp['Tasa'])"
   ]
  },
  {
   "cell_type": "markdown",
   "metadata": {},
   "source": [
    "Entre la tasa de desempleo y el número de incendios en los últimos años, existe un 18% de correlación. "
   ]
  },
  {
   "cell_type": "code",
   "execution_count": 46,
   "metadata": {
    "scrolled": true
   },
   "outputs": [
    {
     "data": {
      "text/html": [
       "<div>\n",
       "<style scoped>\n",
       "    .dataframe tbody tr th:only-of-type {\n",
       "        vertical-align: middle;\n",
       "    }\n",
       "\n",
       "    .dataframe tbody tr th {\n",
       "        vertical-align: top;\n",
       "    }\n",
       "\n",
       "    .dataframe thead th {\n",
       "        text-align: right;\n",
       "    }\n",
       "</style>\n",
       "<table border=\"1\" class=\"dataframe\">\n",
       "  <thead>\n",
       "    <tr style=\"text-align: right;\">\n",
       "      <th></th>\n",
       "      <th>Tasa</th>\n",
       "      <th>firespots</th>\n",
       "      <th>year</th>\n",
       "      <th>month</th>\n",
       "    </tr>\n",
       "  </thead>\n",
       "  <tbody>\n",
       "    <tr>\n",
       "      <td>0</td>\n",
       "      <td>10.11</td>\n",
       "      <td>16790</td>\n",
       "      <td>2005</td>\n",
       "      <td>11</td>\n",
       "    </tr>\n",
       "    <tr>\n",
       "      <td>1</td>\n",
       "      <td>9.68</td>\n",
       "      <td>6966</td>\n",
       "      <td>2005</td>\n",
       "      <td>12</td>\n",
       "    </tr>\n",
       "    <tr>\n",
       "      <td>2</td>\n",
       "      <td>9.62</td>\n",
       "      <td>1973</td>\n",
       "      <td>2006</td>\n",
       "      <td>01</td>\n",
       "    </tr>\n",
       "    <tr>\n",
       "      <td>3</td>\n",
       "      <td>9.90</td>\n",
       "      <td>879</td>\n",
       "      <td>2006</td>\n",
       "      <td>02</td>\n",
       "    </tr>\n",
       "    <tr>\n",
       "      <td>4</td>\n",
       "      <td>9.87</td>\n",
       "      <td>903</td>\n",
       "      <td>2006</td>\n",
       "      <td>03</td>\n",
       "    </tr>\n",
       "  </tbody>\n",
       "</table>\n",
       "</div>"
      ],
      "text/plain": [
       "    Tasa  firespots  year month\n",
       "0  10.11      16790  2005    11\n",
       "1   9.68       6966  2005    12\n",
       "2   9.62       1973  2006    01\n",
       "3   9.90        879  2006    02\n",
       "4   9.87        903  2006    03"
      ]
     },
     "execution_count": 46,
     "metadata": {},
     "output_type": "execute_result"
    }
   ],
   "source": [
    "fueg_desemp = fueg_desemp[['Tasa', 'firespots', 'year', 'month']]\n",
    "fueg_desemp.head()"
   ]
  },
  {
   "cell_type": "code",
   "execution_count": 47,
   "metadata": {},
   "outputs": [
    {
     "data": {
      "text/html": [
       "<div>\n",
       "<style scoped>\n",
       "    .dataframe tbody tr th:only-of-type {\n",
       "        vertical-align: middle;\n",
       "    }\n",
       "\n",
       "    .dataframe tbody tr th {\n",
       "        vertical-align: top;\n",
       "    }\n",
       "\n",
       "    .dataframe thead th {\n",
       "        text-align: right;\n",
       "    }\n",
       "</style>\n",
       "<table border=\"1\" class=\"dataframe\">\n",
       "  <thead>\n",
       "    <tr style=\"text-align: right;\">\n",
       "      <th></th>\n",
       "      <th>CPI</th>\n",
       "      <th>firespots</th>\n",
       "      <th>year</th>\n",
       "      <th>month</th>\n",
       "    </tr>\n",
       "  </thead>\n",
       "  <tbody>\n",
       "    <tr>\n",
       "      <td>0</td>\n",
       "      <td>58.61</td>\n",
       "      <td>16790</td>\n",
       "      <td>2005</td>\n",
       "      <td>11</td>\n",
       "    </tr>\n",
       "    <tr>\n",
       "      <td>1</td>\n",
       "      <td>58.82</td>\n",
       "      <td>6966</td>\n",
       "      <td>2005</td>\n",
       "      <td>12</td>\n",
       "    </tr>\n",
       "    <tr>\n",
       "      <td>2</td>\n",
       "      <td>59.17</td>\n",
       "      <td>1973</td>\n",
       "      <td>2006</td>\n",
       "      <td>01</td>\n",
       "    </tr>\n",
       "    <tr>\n",
       "      <td>3</td>\n",
       "      <td>59.41</td>\n",
       "      <td>879</td>\n",
       "      <td>2006</td>\n",
       "      <td>02</td>\n",
       "    </tr>\n",
       "    <tr>\n",
       "      <td>4</td>\n",
       "      <td>59.67</td>\n",
       "      <td>903</td>\n",
       "      <td>2006</td>\n",
       "      <td>03</td>\n",
       "    </tr>\n",
       "    <tr>\n",
       "      <td>...</td>\n",
       "      <td>...</td>\n",
       "      <td>...</td>\n",
       "      <td>...</td>\n",
       "      <td>...</td>\n",
       "    </tr>\n",
       "    <tr>\n",
       "      <td>116</td>\n",
       "      <td>100.63</td>\n",
       "      <td>2817</td>\n",
       "      <td>2015</td>\n",
       "      <td>07</td>\n",
       "    </tr>\n",
       "    <tr>\n",
       "      <td>117</td>\n",
       "      <td>100.85</td>\n",
       "      <td>20471</td>\n",
       "      <td>2015</td>\n",
       "      <td>08</td>\n",
       "    </tr>\n",
       "    <tr>\n",
       "      <td>118</td>\n",
       "      <td>101.39</td>\n",
       "      <td>29326</td>\n",
       "      <td>2015</td>\n",
       "      <td>09</td>\n",
       "    </tr>\n",
       "    <tr>\n",
       "      <td>119</td>\n",
       "      <td>102.22</td>\n",
       "      <td>19469</td>\n",
       "      <td>2015</td>\n",
       "      <td>10</td>\n",
       "    </tr>\n",
       "    <tr>\n",
       "      <td>120</td>\n",
       "      <td>103.26</td>\n",
       "      <td>16935</td>\n",
       "      <td>2015</td>\n",
       "      <td>11</td>\n",
       "    </tr>\n",
       "  </tbody>\n",
       "</table>\n",
       "<p>121 rows × 4 columns</p>\n",
       "</div>"
      ],
      "text/plain": [
       "        CPI  firespots  year month\n",
       "0     58.61      16790  2005    11\n",
       "1     58.82       6966  2005    12\n",
       "2     59.17       1973  2006    01\n",
       "3     59.41        879  2006    02\n",
       "4     59.67        903  2006    03\n",
       "..      ...        ...   ...   ...\n",
       "116  100.63       2817  2015    07\n",
       "117  100.85      20471  2015    08\n",
       "118  101.39      29326  2015    09\n",
       "119  102.22      19469  2015    10\n",
       "120  103.26      16935  2015    11\n",
       "\n",
       "[121 rows x 4 columns]"
      ]
     },
     "execution_count": 47,
     "metadata": {},
     "output_type": "execute_result"
    }
   ],
   "source": [
    "fueg_cpi = pd.merge(fuegos_grupo, cpi, on = 'Fecha', how = 'inner')\n",
    "fueg_cpi.pop('Fecha')\n",
    "fueg_cpi = fueg_cpi[['CPI', 'firespots', 'year', 'month']]\n",
    "fueg_cpi"
   ]
  },
  {
   "cell_type": "code",
   "execution_count": 48,
   "metadata": {
    "scrolled": true
   },
   "outputs": [
    {
     "data": {
      "text/plain": [
       "array([[ 1.        , -0.11364116],\n",
       "       [-0.11364116,  1.        ]])"
      ]
     },
     "execution_count": 48,
     "metadata": {},
     "output_type": "execute_result"
    }
   ],
   "source": [
    "np.corrcoef(fueg_cpi['firespots'], fueg_cpi['CPI'])"
   ]
  },
  {
   "cell_type": "markdown",
   "metadata": {},
   "source": [
    "Entre la tasa de inflación y el número de incendios en los últimos años, existe un -11% de correlación. "
   ]
  },
  {
   "cell_type": "code",
   "execution_count": 49,
   "metadata": {
    "scrolled": true
   },
   "outputs": [
    {
     "data": {
      "text/html": [
       "<div>\n",
       "<style scoped>\n",
       "    .dataframe tbody tr th:only-of-type {\n",
       "        vertical-align: middle;\n",
       "    }\n",
       "\n",
       "    .dataframe tbody tr th {\n",
       "        vertical-align: top;\n",
       "    }\n",
       "\n",
       "    .dataframe thead th {\n",
       "        text-align: right;\n",
       "    }\n",
       "</style>\n",
       "<table border=\"1\" class=\"dataframe\">\n",
       "  <thead>\n",
       "    <tr style=\"text-align: right;\">\n",
       "      <th></th>\n",
       "      <th>PIB</th>\n",
       "      <th>firespots</th>\n",
       "      <th>year</th>\n",
       "      <th>month</th>\n",
       "    </tr>\n",
       "  </thead>\n",
       "  <tbody>\n",
       "    <tr>\n",
       "      <td>0</td>\n",
       "      <td>99.26</td>\n",
       "      <td>16790</td>\n",
       "      <td>2005</td>\n",
       "      <td>11</td>\n",
       "    </tr>\n",
       "    <tr>\n",
       "      <td>1</td>\n",
       "      <td>99.26</td>\n",
       "      <td>6966</td>\n",
       "      <td>2005</td>\n",
       "      <td>12</td>\n",
       "    </tr>\n",
       "    <tr>\n",
       "      <td>2</td>\n",
       "      <td>99.29</td>\n",
       "      <td>1973</td>\n",
       "      <td>2006</td>\n",
       "      <td>01</td>\n",
       "    </tr>\n",
       "    <tr>\n",
       "      <td>3</td>\n",
       "      <td>99.30</td>\n",
       "      <td>879</td>\n",
       "      <td>2006</td>\n",
       "      <td>02</td>\n",
       "    </tr>\n",
       "    <tr>\n",
       "      <td>4</td>\n",
       "      <td>99.29</td>\n",
       "      <td>903</td>\n",
       "      <td>2006</td>\n",
       "      <td>03</td>\n",
       "    </tr>\n",
       "    <tr>\n",
       "      <td>...</td>\n",
       "      <td>...</td>\n",
       "      <td>...</td>\n",
       "      <td>...</td>\n",
       "      <td>...</td>\n",
       "    </tr>\n",
       "    <tr>\n",
       "      <td>116</td>\n",
       "      <td>99.03</td>\n",
       "      <td>2817</td>\n",
       "      <td>2015</td>\n",
       "      <td>07</td>\n",
       "    </tr>\n",
       "    <tr>\n",
       "      <td>117</td>\n",
       "      <td>98.70</td>\n",
       "      <td>20471</td>\n",
       "      <td>2015</td>\n",
       "      <td>08</td>\n",
       "    </tr>\n",
       "    <tr>\n",
       "      <td>118</td>\n",
       "      <td>98.43</td>\n",
       "      <td>29326</td>\n",
       "      <td>2015</td>\n",
       "      <td>09</td>\n",
       "    </tr>\n",
       "    <tr>\n",
       "      <td>119</td>\n",
       "      <td>98.21</td>\n",
       "      <td>19469</td>\n",
       "      <td>2015</td>\n",
       "      <td>10</td>\n",
       "    </tr>\n",
       "    <tr>\n",
       "      <td>120</td>\n",
       "      <td>98.02</td>\n",
       "      <td>16935</td>\n",
       "      <td>2015</td>\n",
       "      <td>11</td>\n",
       "    </tr>\n",
       "  </tbody>\n",
       "</table>\n",
       "<p>121 rows × 4 columns</p>\n",
       "</div>"
      ],
      "text/plain": [
       "       PIB  firespots  year month\n",
       "0    99.26      16790  2005    11\n",
       "1    99.26       6966  2005    12\n",
       "2    99.29       1973  2006    01\n",
       "3    99.30        879  2006    02\n",
       "4    99.29        903  2006    03\n",
       "..     ...        ...   ...   ...\n",
       "116  99.03       2817  2015    07\n",
       "117  98.70      20471  2015    08\n",
       "118  98.43      29326  2015    09\n",
       "119  98.21      19469  2015    10\n",
       "120  98.02      16935  2015    11\n",
       "\n",
       "[121 rows x 4 columns]"
      ]
     },
     "execution_count": 49,
     "metadata": {},
     "output_type": "execute_result"
    }
   ],
   "source": [
    "fueg_pib = pd.merge(fuegos_grupo, pib, on = 'Fecha', how = 'inner')\n",
    "fueg_pib.pop('Fecha')\n",
    "fueg_pib = fueg_pib[['PIB', 'firespots', 'year', 'month']]\n",
    "fueg_pib"
   ]
  },
  {
   "cell_type": "code",
   "execution_count": 50,
   "metadata": {
    "scrolled": false
   },
   "outputs": [
    {
     "data": {
      "text/plain": [
       "array([[ 1.        , -0.05197448],\n",
       "       [-0.05197448,  1.        ]])"
      ]
     },
     "execution_count": 50,
     "metadata": {},
     "output_type": "execute_result"
    }
   ],
   "source": [
    "np.corrcoef(fueg_pib['firespots'], fueg_pib['PIB'])"
   ]
  },
  {
   "cell_type": "markdown",
   "metadata": {},
   "source": [
    "Entre el producto interior bruto y el número de incendios en los últimos años, existe un 5,2% de correlación. "
   ]
  },
  {
   "cell_type": "code",
   "execution_count": 51,
   "metadata": {},
   "outputs": [
    {
     "data": {
      "text/html": [
       "<div>\n",
       "<style scoped>\n",
       "    .dataframe tbody tr th:only-of-type {\n",
       "        vertical-align: middle;\n",
       "    }\n",
       "\n",
       "    .dataframe tbody tr th {\n",
       "        vertical-align: top;\n",
       "    }\n",
       "\n",
       "    .dataframe thead th {\n",
       "        text-align: right;\n",
       "    }\n",
       "</style>\n",
       "<table border=\"1\" class=\"dataframe\">\n",
       "  <thead>\n",
       "    <tr style=\"text-align: right;\">\n",
       "      <th></th>\n",
       "      <th>Total</th>\n",
       "      <th>firespots</th>\n",
       "      <th>year</th>\n",
       "      <th>month</th>\n",
       "    </tr>\n",
       "  </thead>\n",
       "  <tbody>\n",
       "    <tr>\n",
       "      <td>0</td>\n",
       "      <td>186127103</td>\n",
       "      <td>16790</td>\n",
       "      <td>2005</td>\n",
       "      <td>11</td>\n",
       "    </tr>\n",
       "    <tr>\n",
       "      <td>1</td>\n",
       "      <td>186127103</td>\n",
       "      <td>6966</td>\n",
       "      <td>2005</td>\n",
       "      <td>12</td>\n",
       "    </tr>\n",
       "    <tr>\n",
       "      <td>2</td>\n",
       "      <td>188167356</td>\n",
       "      <td>1973</td>\n",
       "      <td>2006</td>\n",
       "      <td>01</td>\n",
       "    </tr>\n",
       "    <tr>\n",
       "      <td>3</td>\n",
       "      <td>188167356</td>\n",
       "      <td>879</td>\n",
       "      <td>2006</td>\n",
       "      <td>02</td>\n",
       "    </tr>\n",
       "    <tr>\n",
       "      <td>4</td>\n",
       "      <td>188167356</td>\n",
       "      <td>903</td>\n",
       "      <td>2006</td>\n",
       "      <td>03</td>\n",
       "    </tr>\n",
       "    <tr>\n",
       "      <td>...</td>\n",
       "      <td>...</td>\n",
       "      <td>...</td>\n",
       "      <td>...</td>\n",
       "      <td>...</td>\n",
       "    </tr>\n",
       "    <tr>\n",
       "      <td>117</td>\n",
       "      <td>204471769</td>\n",
       "      <td>20471</td>\n",
       "      <td>2015</td>\n",
       "      <td>08</td>\n",
       "    </tr>\n",
       "    <tr>\n",
       "      <td>118</td>\n",
       "      <td>204471769</td>\n",
       "      <td>29326</td>\n",
       "      <td>2015</td>\n",
       "      <td>09</td>\n",
       "    </tr>\n",
       "    <tr>\n",
       "      <td>119</td>\n",
       "      <td>204471769</td>\n",
       "      <td>19469</td>\n",
       "      <td>2015</td>\n",
       "      <td>10</td>\n",
       "    </tr>\n",
       "    <tr>\n",
       "      <td>120</td>\n",
       "      <td>204471769</td>\n",
       "      <td>16935</td>\n",
       "      <td>2015</td>\n",
       "      <td>11</td>\n",
       "    </tr>\n",
       "    <tr>\n",
       "      <td>121</td>\n",
       "      <td>204471769</td>\n",
       "      <td>11303</td>\n",
       "      <td>2015</td>\n",
       "      <td>12</td>\n",
       "    </tr>\n",
       "  </tbody>\n",
       "</table>\n",
       "<p>122 rows × 4 columns</p>\n",
       "</div>"
      ],
      "text/plain": [
       "         Total  firespots  year month\n",
       "0    186127103      16790  2005    11\n",
       "1    186127103       6966  2005    12\n",
       "2    188167356       1973  2006    01\n",
       "3    188167356        879  2006    02\n",
       "4    188167356        903  2006    03\n",
       "..         ...        ...   ...   ...\n",
       "117  204471769      20471  2015    08\n",
       "118  204471769      29326  2015    09\n",
       "119  204471769      19469  2015    10\n",
       "120  204471769      16935  2015    11\n",
       "121  204471769      11303  2015    12\n",
       "\n",
       "[122 rows x 4 columns]"
      ]
     },
     "execution_count": 51,
     "metadata": {},
     "output_type": "execute_result"
    }
   ],
   "source": [
    "fueg_pob = pd.merge(fuegos_grupo, poblacion, on = 'Fecha', how = 'inner')\n",
    "fueg_pob.pop('Fecha')\n",
    "fueg_pob = fueg_pob[['Total', 'firespots', 'year', 'month']]\n",
    "fueg_pob"
   ]
  },
  {
   "cell_type": "code",
   "execution_count": 52,
   "metadata": {
    "scrolled": true
   },
   "outputs": [
    {
     "data": {
      "text/plain": [
       "array([[ 1.        , -0.16611381],\n",
       "       [-0.16611381,  1.        ]])"
      ]
     },
     "execution_count": 52,
     "metadata": {},
     "output_type": "execute_result"
    }
   ],
   "source": [
    "np.corrcoef(fueg_pob['firespots'], fueg_pob['Total'])"
   ]
  },
  {
   "cell_type": "markdown",
   "metadata": {},
   "source": [
    "Entre la población y el número de incendios en los últimos años, existe un -17,04% de correlación. "
   ]
  },
  {
   "cell_type": "markdown",
   "metadata": {},
   "source": [
    "## Estudio causalidad"
   ]
  },
  {
   "cell_type": "markdown",
   "metadata": {},
   "source": [
    "## Impacto causal entre PIB e incendios"
   ]
  },
  {
   "cell_type": "markdown",
   "metadata": {},
   "source": [
    "En primer lugar, debemos tener todos los obejetos de tipo numérico para poder aplicar el modelo. Se observa que las variables \"month\" y \"year\" no lo son, así que se procede en primer lugar a su conversión."
   ]
  },
  {
   "cell_type": "code",
   "execution_count": 53,
   "metadata": {},
   "outputs": [],
   "source": [
    "#!pip install pycausalimpact\n",
    "fueg_pib.year = np.int64(fueg_pib.year)\n",
    "fueg_pib.month = np.int64(fueg_pib.month)"
   ]
  },
  {
   "cell_type": "markdown",
   "metadata": {},
   "source": [
    "Para estimar un efecto causal, comenzamos especificando qué período en los datos debe usarse para entrenar el modelo (período previo a la intervención) y qué período para calcular una predicción contrafactual (período posterior a la intervención). \n",
    "De esta forma se decide utilizar los 90 primeros meses para el entrenamiento y los últimos 30 meses se utilizarán en la obtención de predicciones. "
   ]
  },
  {
   "cell_type": "code",
   "execution_count": 54,
   "metadata": {
    "scrolled": true
   },
   "outputs": [
    {
     "name": "stderr",
     "output_type": "stream",
     "text": [
      "C:\\Users\\Luli\\Documents\\Anaconda\\lib\\site-packages\\statsmodels\\tsa\\base\\tsa_model.py:215: ValueWarning: An unsupported index was provided and will be ignored when e.g. forecasting.\n",
      "  ' ignored when e.g. forecasting.', ValueWarning)\n"
     ]
    }
   ],
   "source": [
    "random.seed(123)\n",
    "pre_period = [0, 90]\n",
    "post_period = [91, 120]\n",
    "ci_pib = CausalImpact(fueg_pib, pre_period, post_period, prior_level_sd = None)"
   ]
  },
  {
   "cell_type": "markdown",
   "metadata": {},
   "source": [
    "Con esta función \"CausalImpact()\", se ejecuta un modelo de serie temporal estructural, se realiza la inferencia posterior y calcula estimaciones del efecto causal. "
   ]
  },
  {
   "cell_type": "code",
   "execution_count": 55,
   "metadata": {},
   "outputs": [
    {
     "data": {
      "image/png": "[encoded data removed]",
      "text/plain": [
       "<Figure size 1080x864 with 3 Axes>"
      ]
     },
     "metadata": {
      "needs_background": "light"
     },
     "output_type": "display_data"
    }
   ],
   "source": [
    "ci_pib.plot()"
   ]
  },
  {
   "cell_type": "markdown",
   "metadata": {},
   "source": [
    "El gráfico contiene tres paneles. El primero muestra los datos junto con la predicción contrafactual con los datos del período posterior al tratamiento. \n",
    "El segundo panel muestra la diferencia entre los datos observados y las predicciones contrafácticas. Este es el efecto causal puntual, según lo estimado por el modelo. \n",
    "El tercer panel suma las contribuciones puntuales del segundo panel, lo que resulta en una gráfica del efecto acumulativo de la intervención."
   ]
  },
  {
   "cell_type": "code",
   "execution_count": 56,
   "metadata": {},
   "outputs": [
    {
     "name": "stdout",
     "output_type": "stream",
     "text": [
      "Posterior Inference {Causal Impact}\n",
      "                          Average            Cumulative\n",
      "Actual                    101.15             3034.49\n",
      "Prediction (s.d.)         102.24 (0.83)      3067.32 (24.94)\n",
      "95% CI                    [100.67, 103.93]   [3020.09, 3117.84]\n",
      "\n",
      "Absolute effect (s.d.)    -1.09 (0.83)       -32.83 (24.94)\n",
      "95% CI                    [-2.78, 0.48]      [-83.35, 14.4]\n",
      "\n",
      "Relative effect (s.d.)    -1.07% (0.81%)     -1.07% (0.81%)\n",
      "95% CI                    [-2.72%, 0.47%]    [-2.72%, 0.47%]\n",
      "\n",
      "Posterior tail-area probability p: 0.08\n",
      "Posterior prob. of a causal effect: 91.71%\n",
      "\n",
      "For more details run the command: print(impact.summary('report'))\n"
     ]
    }
   ],
   "source": [
    "print(ci_pib.summary())"
   ]
  },
  {
   "cell_type": "markdown",
   "metadata": {},
   "source": [
    "La columna \"Average\" habla sobre el promedio (a través del tiempo) durante el período posterior a la intervención (últimos 30 meses). La columna acumulativa (\"Cumulative\") resume puntos de tiempo individuales, que es una perspectiva útil si la variable de respuesta representa una cantidad de flujo (como consultas, clics, visitas, instalaciones, ventas o ingresos) en lugar de una cantidad de existencias (como el número de usuarios o precio de mercado).\n",
    "\n",
    "Podemos observar que el efecto causal promedio estimado del tratamiento fue de -1.09. El intervalo posterior del 95% del efecto promedio es [-2.7, 0.44]. Como esto incluye 0, concluimos que la intervención no tuvo un efecto causal en la variable de respuesta."
   ]
  },
  {
   "cell_type": "code",
   "execution_count": 57,
   "metadata": {
    "scrolled": true
   },
   "outputs": [
    {
     "name": "stdout",
     "output_type": "stream",
     "text": [
      "Analysis report {CausalImpact}\n",
      "\n",
      "\n",
      "During the post-intervention period, the response variable had\n",
      "an average value of approx. 101.15. In the absence of an\n",
      "intervention, we would have expected an average response of 102.24.\n",
      "The 95% interval of this counterfactual prediction is [100.67, 103.93].\n",
      "Subtracting this prediction from the observed response yields\n",
      "an estimate of the causal effect the intervention had on the\n",
      "response variable. This effect is -1.09 with a 95% interval of\n",
      "[-2.78, 0.48]. For a discussion of the significance of this effect,\n",
      "see below.\n",
      "\n",
      "\n",
      "Summing up the individual data points during the post-intervention\n",
      "period (which can only sometimes be meaningfully interpreted), the\n",
      "response variable had an overall value of 3034.49.\n",
      "Had the intervention not taken place, we would have expected\n",
      "a sum of 3067.32. The 95% interval of this prediction is [3020.09, 3117.84].\n",
      "\n",
      "\n",
      "The above results are given in terms of absolute numbers. In relative\n",
      "terms, the response variable showed a decrease of -1.07%. The 95%\n",
      "interval of this percentage is [-2.72%, 0.47%].\n",
      "This means that, although it may look as though the intervention has\n",
      "exerted a negative effect on the response variable when considering\n",
      "the intervention period as a whole, this effect is not statistically\n",
      "significant and so cannot be meaningfully interpreted.\n",
      "\n",
      "\n",
      "The apparent effect could be the result of random fluctuations that\n",
      "are unrelated to the intervention. This is often the case when the\n",
      "intervention period is very long and includes much of the time when\n",
      "the effect has already worn off. It can also be the case when the\n",
      "intervention period is too short to distinguish the signal from the\n",
      "noise. Finally, failing to find a significant effect can happen when\n",
      "there are not enough control variables or when these variables do not\n",
      "correlate well with the response variable during the learning period.\n",
      "\n",
      "\n",
      "The probability of obtaining this effect by chance is p = 8.29%.\n",
      "This means the effect may be spurious and would generally not be\n",
      "considered statistically significant.\n"
     ]
    }
   ],
   "source": [
    "print(ci_pib.summary(output='report'))\n"
   ]
  },
  {
   "cell_type": "markdown",
   "metadata": {},
   "source": [
    "El efecto aparente podría ser el resultado de fluctuaciones aleatorias que no están relacionados con la intervención. Este suele darse cuando el período de intervención es muy largo e incluye la mayor parte del tiempo, cuando el efecto ya ha desaparecido. También puede ser el caso cuando el período de intervención es demasiado corto para distinguir la señal de ruido. Finalmente, no encontrar un efecto significativo puede ocurrir cuando no hay suficientes variables de control o cuando estas variables no se correlacionan bien con la variable de respuesta durante el período de aprendizaje.\n",
    "La probabilidad de obtener este efecto por casualidad es p = 8.69%. Esto significa que el efecto puede ser engañoso y generalmente no sería considerado estadísticamente significativo."
   ]
  },
  {
   "cell_type": "code",
   "execution_count": 58,
   "metadata": {
    "scrolled": false
   },
   "outputs": [
    {
     "data": {
      "text/html": [
       "<div>\n",
       "<style scoped>\n",
       "    .dataframe tbody tr th:only-of-type {\n",
       "        vertical-align: middle;\n",
       "    }\n",
       "\n",
       "    .dataframe tbody tr th {\n",
       "        vertical-align: top;\n",
       "    }\n",
       "\n",
       "    .dataframe thead th {\n",
       "        text-align: right;\n",
       "    }\n",
       "</style>\n",
       "<table border=\"1\" class=\"dataframe\">\n",
       "  <thead>\n",
       "    <tr style=\"text-align: right;\">\n",
       "      <th></th>\n",
       "      <th>post_cum_y</th>\n",
       "      <th>preds</th>\n",
       "      <th>post_preds</th>\n",
       "      <th>post_preds_lower</th>\n",
       "      <th>post_preds_upper</th>\n",
       "      <th>preds_lower</th>\n",
       "      <th>preds_upper</th>\n",
       "      <th>post_cum_pred</th>\n",
       "      <th>post_cum_pred_lower</th>\n",
       "      <th>post_cum_pred_upper</th>\n",
       "      <th>point_effects</th>\n",
       "      <th>point_effects_lower</th>\n",
       "      <th>point_effects_upper</th>\n",
       "      <th>post_cum_effects</th>\n",
       "      <th>post_cum_effects_lower</th>\n",
       "      <th>post_cum_effects_upper</th>\n",
       "    </tr>\n",
       "  </thead>\n",
       "  <tbody>\n",
       "    <tr>\n",
       "      <td>0</td>\n",
       "      <td>NaN</td>\n",
       "      <td>98.832591</td>\n",
       "      <td>NaN</td>\n",
       "      <td>NaN</td>\n",
       "      <td>NaN</td>\n",
       "      <td>-2389.613880</td>\n",
       "      <td>2587.279062</td>\n",
       "      <td>NaN</td>\n",
       "      <td>NaN</td>\n",
       "      <td>NaN</td>\n",
       "      <td>0.427409</td>\n",
       "      <td>-2488.019062</td>\n",
       "      <td>2488.873880</td>\n",
       "      <td>NaN</td>\n",
       "      <td>NaN</td>\n",
       "      <td>NaN</td>\n",
       "    </tr>\n",
       "    <tr>\n",
       "      <td>1</td>\n",
       "      <td>NaN</td>\n",
       "      <td>99.288428</td>\n",
       "      <td>NaN</td>\n",
       "      <td>NaN</td>\n",
       "      <td>NaN</td>\n",
       "      <td>98.778273</td>\n",
       "      <td>99.798583</td>\n",
       "      <td>NaN</td>\n",
       "      <td>NaN</td>\n",
       "      <td>NaN</td>\n",
       "      <td>-0.028428</td>\n",
       "      <td>-0.538583</td>\n",
       "      <td>0.481727</td>\n",
       "      <td>NaN</td>\n",
       "      <td>NaN</td>\n",
       "      <td>NaN</td>\n",
       "    </tr>\n",
       "    <tr>\n",
       "      <td>2</td>\n",
       "      <td>NaN</td>\n",
       "      <td>99.267525</td>\n",
       "      <td>NaN</td>\n",
       "      <td>NaN</td>\n",
       "      <td>NaN</td>\n",
       "      <td>98.757370</td>\n",
       "      <td>99.777680</td>\n",
       "      <td>NaN</td>\n",
       "      <td>NaN</td>\n",
       "      <td>NaN</td>\n",
       "      <td>0.022475</td>\n",
       "      <td>-0.487680</td>\n",
       "      <td>0.532630</td>\n",
       "      <td>NaN</td>\n",
       "      <td>NaN</td>\n",
       "      <td>NaN</td>\n",
       "    </tr>\n",
       "    <tr>\n",
       "      <td>3</td>\n",
       "      <td>NaN</td>\n",
       "      <td>99.319970</td>\n",
       "      <td>NaN</td>\n",
       "      <td>NaN</td>\n",
       "      <td>NaN</td>\n",
       "      <td>98.809815</td>\n",
       "      <td>99.830125</td>\n",
       "      <td>NaN</td>\n",
       "      <td>NaN</td>\n",
       "      <td>NaN</td>\n",
       "      <td>-0.019970</td>\n",
       "      <td>-0.530125</td>\n",
       "      <td>0.490185</td>\n",
       "      <td>NaN</td>\n",
       "      <td>NaN</td>\n",
       "      <td>NaN</td>\n",
       "    </tr>\n",
       "    <tr>\n",
       "      <td>4</td>\n",
       "      <td>NaN</td>\n",
       "      <td>99.330168</td>\n",
       "      <td>NaN</td>\n",
       "      <td>NaN</td>\n",
       "      <td>NaN</td>\n",
       "      <td>98.820013</td>\n",
       "      <td>99.840323</td>\n",
       "      <td>NaN</td>\n",
       "      <td>NaN</td>\n",
       "      <td>NaN</td>\n",
       "      <td>-0.040168</td>\n",
       "      <td>-0.550323</td>\n",
       "      <td>0.469987</td>\n",
       "      <td>NaN</td>\n",
       "      <td>NaN</td>\n",
       "      <td>NaN</td>\n",
       "    </tr>\n",
       "  </tbody>\n",
       "</table>\n",
       "</div>"
      ],
      "text/plain": [
       "   post_cum_y      preds  post_preds  post_preds_lower  post_preds_upper  \\\n",
       "0         NaN  98.832591         NaN               NaN               NaN   \n",
       "1         NaN  99.288428         NaN               NaN               NaN   \n",
       "2         NaN  99.267525         NaN               NaN               NaN   \n",
       "3         NaN  99.319970         NaN               NaN               NaN   \n",
       "4         NaN  99.330168         NaN               NaN               NaN   \n",
       "\n",
       "   preds_lower  preds_upper  post_cum_pred  post_cum_pred_lower  \\\n",
       "0 -2389.613880  2587.279062            NaN                  NaN   \n",
       "1    98.778273    99.798583            NaN                  NaN   \n",
       "2    98.757370    99.777680            NaN                  NaN   \n",
       "3    98.809815    99.830125            NaN                  NaN   \n",
       "4    98.820013    99.840323            NaN                  NaN   \n",
       "\n",
       "   post_cum_pred_upper  point_effects  point_effects_lower  \\\n",
       "0                  NaN       0.427409         -2488.019062   \n",
       "1                  NaN      -0.028428            -0.538583   \n",
       "2                  NaN       0.022475            -0.487680   \n",
       "3                  NaN      -0.019970            -0.530125   \n",
       "4                  NaN      -0.040168            -0.550323   \n",
       "\n",
       "   point_effects_upper  post_cum_effects  post_cum_effects_lower  \\\n",
       "0          2488.873880               NaN                     NaN   \n",
       "1             0.481727               NaN                     NaN   \n",
       "2             0.532630               NaN                     NaN   \n",
       "3             0.490185               NaN                     NaN   \n",
       "4             0.469987               NaN                     NaN   \n",
       "\n",
       "   post_cum_effects_upper  \n",
       "0                     NaN  \n",
       "1                     NaN  \n",
       "2                     NaN  \n",
       "3                     NaN  \n",
       "4                     NaN  "
      ]
     },
     "execution_count": 58,
     "metadata": {},
     "output_type": "execute_result"
    }
   ],
   "source": [
    "ci_pib.inferences.head()"
   ]
  },
  {
   "cell_type": "markdown",
   "metadata": {},
   "source": [
    "## Impacto causal entre CPI e incendios"
   ]
  },
  {
   "cell_type": "markdown",
   "metadata": {},
   "source": [
    "En primer lugar, convertimos a integer nuestras variables 'year' y 'month' para poder utilizarlos en el modelo."
   ]
  },
  {
   "cell_type": "code",
   "execution_count": 59,
   "metadata": {},
   "outputs": [],
   "source": [
    "fueg_cpi.year = np.int64(fueg_cpi.year)\n",
    "fueg_cpi.month = np.int64(fueg_cpi.month)"
   ]
  },
  {
   "cell_type": "markdown",
   "metadata": {},
   "source": [
    "Repetimos la misma acción para la inflación. Especificamos en los datos que periodo debe utilizarse tanto para entrenar al modelo como el contrafactual; empleando 90 meses para el entrenamiento y los restantes 30 para obtener predicciones."
   ]
  },
  {
   "cell_type": "code",
   "execution_count": 60,
   "metadata": {
    "scrolled": true
   },
   "outputs": [
    {
     "name": "stderr",
     "output_type": "stream",
     "text": [
      "C:\\Users\\Luli\\Documents\\Anaconda\\lib\\site-packages\\statsmodels\\tsa\\base\\tsa_model.py:215: ValueWarning: An unsupported index was provided and will be ignored when e.g. forecasting.\n",
      "  ' ignored when e.g. forecasting.', ValueWarning)\n"
     ]
    }
   ],
   "source": [
    "random.seed(123)\n",
    "pre_period2 = [0, 90]\n",
    "post_period2 = [91, 120]\n",
    "ci_cpi = CausalImpact(fueg_cpi, pre_period2, post_period2, prior_level_sd = None)"
   ]
  },
  {
   "cell_type": "code",
   "execution_count": 61,
   "metadata": {},
   "outputs": [
    {
     "data": {
      "image/png": "[encoded data removed]",
      "text/plain": [
       "<Figure size 1080x864 with 3 Axes>"
      ]
     },
     "metadata": {
      "needs_background": "light"
     },
     "output_type": "display_data"
    }
   ],
   "source": [
    "ci_cpi.plot()"
   ]
  },
  {
   "cell_type": "code",
   "execution_count": 62,
   "metadata": {},
   "outputs": [
    {
     "name": "stdout",
     "output_type": "stream",
     "text": [
      "Posterior Inference {Causal Impact}\n",
      "                          Average            Cumulative\n",
      "Actual                    93.52              2805.48\n",
      "Prediction (s.d.)         90.64 (0.51)       2719.08 (15.33)\n",
      "95% CI                    [89.65, 91.65]     [2689.39, 2749.5]\n",
      "\n",
      "Absolute effect (s.d.)    2.88 (0.51)        86.4 (15.33)\n",
      "95% CI                    [1.87, 3.87]       [55.98, 116.09]\n",
      "\n",
      "Relative effect (s.d.)    3.18% (0.56%)      3.18% (0.56%)\n",
      "95% CI                    [2.06%, 4.27%]     [2.06%, 4.27%]\n",
      "\n",
      "Posterior tail-area probability p: 0.0\n",
      "Posterior prob. of a causal effect: 100.0%\n",
      "\n",
      "For more details run the command: print(impact.summary('report'))\n"
     ]
    }
   ],
   "source": [
    "print(ci_cpi.summary())"
   ]
  },
  {
   "cell_type": "markdown",
   "metadata": {},
   "source": [
    "Podemos observar que el efecto causal promedio estimado del tratamiento fue de 2.88. El intervalo posterior del 95% del efecto promedio es [1.91, 3.88] . Como esto excluye 0, concluimos que la intervención tuvo un efecto causal en la variable de respuesta."
   ]
  },
  {
   "cell_type": "code",
   "execution_count": 63,
   "metadata": {
    "scrolled": true
   },
   "outputs": [
    {
     "name": "stdout",
     "output_type": "stream",
     "text": [
      "Analysis report {CausalImpact}\n",
      "\n",
      "\n",
      "During the post-intervention period, the response variable had\n",
      "an average value of approx. 93.52. By contrast, in the absence of an\n",
      "intervention, we would have expected an average response of 90.64.\n",
      "The 95% interval of this counterfactual prediction is [89.65, 91.65].\n",
      "Subtracting this prediction from the observed response yields\n",
      "an estimate of the causal effect the intervention had on the\n",
      "response variable. This effect is 2.88 with a 95% interval of\n",
      "[1.87, 3.87]. For a discussion of the significance of this effect,\n",
      "see below.\n",
      "\n",
      "\n",
      "Summing up the individual data points during the post-intervention\n",
      "period (which can only sometimes be meaningfully interpreted), the\n",
      "response variable had an overall value of 2805.48.\n",
      "By contrast, had the intervention not taken place, we would have expected\n",
      "a sum of 2719.08. The 95% interval of this prediction is [2689.39, 2749.5].\n",
      "\n",
      "\n",
      "The above results are given in terms of absolute numbers. In relative\n",
      "terms, the response variable showed an increase of +3.18%. The 95%\n",
      "interval of this percentage is [2.06%, 4.27%].\n",
      "\n",
      "\n",
      "This means that the positive effect observed during the intervention\n",
      "period is statistically significant and unlikely to be due to random\n",
      "fluctuations. It should be noted, however, that the question of whether\n",
      "this increase also bears substantive significance can only be answered\n",
      "by comparing the absolute effect (2.88) to the original goal\n",
      "of the underlying intervention.\n",
      "\n",
      "\n",
      "The probability of obtaining this effect by chance is very small\n",
      "(Bayesian one-sided tail-area probability p = 0.0).\n",
      "This means the causal effect can be considered statistically\n",
      "significant.\n"
     ]
    }
   ],
   "source": [
    "print(ci_cpi.summary(output='report'))\n"
   ]
  },
  {
   "cell_type": "markdown",
   "metadata": {},
   "source": [
    "Esto significa que el efecto positivo observado durante la intervención el período es estadísticamente significativo y es poco probable que se deba a un azar fluctuaciones. La probabilidad de área de cola unilateral bayesiana p = 0.0.\n",
    "Esto significa que el efecto causal puede considerarse estadísticamente significativo."
   ]
  },
  {
   "cell_type": "code",
   "execution_count": 64,
   "metadata": {
    "scrolled": true
   },
   "outputs": [
    {
     "data": {
      "text/html": [
       "<div>\n",
       "<style scoped>\n",
       "    .dataframe tbody tr th:only-of-type {\n",
       "        vertical-align: middle;\n",
       "    }\n",
       "\n",
       "    .dataframe tbody tr th {\n",
       "        vertical-align: top;\n",
       "    }\n",
       "\n",
       "    .dataframe thead th {\n",
       "        text-align: right;\n",
       "    }\n",
       "</style>\n",
       "<table border=\"1\" class=\"dataframe\">\n",
       "  <thead>\n",
       "    <tr style=\"text-align: right;\">\n",
       "      <th></th>\n",
       "      <th>post_cum_y</th>\n",
       "      <th>preds</th>\n",
       "      <th>post_preds</th>\n",
       "      <th>post_preds_lower</th>\n",
       "      <th>post_preds_upper</th>\n",
       "      <th>preds_lower</th>\n",
       "      <th>preds_upper</th>\n",
       "      <th>post_cum_pred</th>\n",
       "      <th>post_cum_pred_lower</th>\n",
       "      <th>post_cum_pred_upper</th>\n",
       "      <th>point_effects</th>\n",
       "      <th>point_effects_lower</th>\n",
       "      <th>point_effects_upper</th>\n",
       "      <th>post_cum_effects</th>\n",
       "      <th>post_cum_effects_lower</th>\n",
       "      <th>post_cum_effects_upper</th>\n",
       "    </tr>\n",
       "  </thead>\n",
       "  <tbody>\n",
       "    <tr>\n",
       "      <td>0</td>\n",
       "      <td>NaN</td>\n",
       "      <td>56.472127</td>\n",
       "      <td>NaN</td>\n",
       "      <td>NaN</td>\n",
       "      <td>NaN</td>\n",
       "      <td>-15712.130948</td>\n",
       "      <td>15825.075203</td>\n",
       "      <td>NaN</td>\n",
       "      <td>NaN</td>\n",
       "      <td>NaN</td>\n",
       "      <td>2.137873</td>\n",
       "      <td>-15766.465203</td>\n",
       "      <td>15770.740948</td>\n",
       "      <td>NaN</td>\n",
       "      <td>NaN</td>\n",
       "      <td>NaN</td>\n",
       "    </tr>\n",
       "    <tr>\n",
       "      <td>1</td>\n",
       "      <td>NaN</td>\n",
       "      <td>58.934618</td>\n",
       "      <td>NaN</td>\n",
       "      <td>NaN</td>\n",
       "      <td>NaN</td>\n",
       "      <td>58.628408</td>\n",
       "      <td>59.240829</td>\n",
       "      <td>NaN</td>\n",
       "      <td>NaN</td>\n",
       "      <td>NaN</td>\n",
       "      <td>-0.114618</td>\n",
       "      <td>-0.420829</td>\n",
       "      <td>0.191592</td>\n",
       "      <td>NaN</td>\n",
       "      <td>NaN</td>\n",
       "      <td>NaN</td>\n",
       "    </tr>\n",
       "    <tr>\n",
       "      <td>2</td>\n",
       "      <td>NaN</td>\n",
       "      <td>59.266781</td>\n",
       "      <td>NaN</td>\n",
       "      <td>NaN</td>\n",
       "      <td>NaN</td>\n",
       "      <td>58.960571</td>\n",
       "      <td>59.572992</td>\n",
       "      <td>NaN</td>\n",
       "      <td>NaN</td>\n",
       "      <td>NaN</td>\n",
       "      <td>-0.096781</td>\n",
       "      <td>-0.402992</td>\n",
       "      <td>0.209429</td>\n",
       "      <td>NaN</td>\n",
       "      <td>NaN</td>\n",
       "      <td>NaN</td>\n",
       "    </tr>\n",
       "    <tr>\n",
       "      <td>3</td>\n",
       "      <td>NaN</td>\n",
       "      <td>59.464873</td>\n",
       "      <td>NaN</td>\n",
       "      <td>NaN</td>\n",
       "      <td>NaN</td>\n",
       "      <td>59.158663</td>\n",
       "      <td>59.771084</td>\n",
       "      <td>NaN</td>\n",
       "      <td>NaN</td>\n",
       "      <td>NaN</td>\n",
       "      <td>-0.054873</td>\n",
       "      <td>-0.361084</td>\n",
       "      <td>0.251337</td>\n",
       "      <td>NaN</td>\n",
       "      <td>NaN</td>\n",
       "      <td>NaN</td>\n",
       "    </tr>\n",
       "    <tr>\n",
       "      <td>4</td>\n",
       "      <td>NaN</td>\n",
       "      <td>59.701064</td>\n",
       "      <td>NaN</td>\n",
       "      <td>NaN</td>\n",
       "      <td>NaN</td>\n",
       "      <td>59.394854</td>\n",
       "      <td>60.007274</td>\n",
       "      <td>NaN</td>\n",
       "      <td>NaN</td>\n",
       "      <td>NaN</td>\n",
       "      <td>-0.031064</td>\n",
       "      <td>-0.337274</td>\n",
       "      <td>0.275146</td>\n",
       "      <td>NaN</td>\n",
       "      <td>NaN</td>\n",
       "      <td>NaN</td>\n",
       "    </tr>\n",
       "  </tbody>\n",
       "</table>\n",
       "</div>"
      ],
      "text/plain": [
       "   post_cum_y      preds  post_preds  post_preds_lower  post_preds_upper  \\\n",
       "0         NaN  56.472127         NaN               NaN               NaN   \n",
       "1         NaN  58.934618         NaN               NaN               NaN   \n",
       "2         NaN  59.266781         NaN               NaN               NaN   \n",
       "3         NaN  59.464873         NaN               NaN               NaN   \n",
       "4         NaN  59.701064         NaN               NaN               NaN   \n",
       "\n",
       "    preds_lower   preds_upper  post_cum_pred  post_cum_pred_lower  \\\n",
       "0 -15712.130948  15825.075203            NaN                  NaN   \n",
       "1     58.628408     59.240829            NaN                  NaN   \n",
       "2     58.960571     59.572992            NaN                  NaN   \n",
       "3     59.158663     59.771084            NaN                  NaN   \n",
       "4     59.394854     60.007274            NaN                  NaN   \n",
       "\n",
       "   post_cum_pred_upper  point_effects  point_effects_lower  \\\n",
       "0                  NaN       2.137873        -15766.465203   \n",
       "1                  NaN      -0.114618            -0.420829   \n",
       "2                  NaN      -0.096781            -0.402992   \n",
       "3                  NaN      -0.054873            -0.361084   \n",
       "4                  NaN      -0.031064            -0.337274   \n",
       "\n",
       "   point_effects_upper  post_cum_effects  post_cum_effects_lower  \\\n",
       "0         15770.740948               NaN                     NaN   \n",
       "1             0.191592               NaN                     NaN   \n",
       "2             0.209429               NaN                     NaN   \n",
       "3             0.251337               NaN                     NaN   \n",
       "4             0.275146               NaN                     NaN   \n",
       "\n",
       "   post_cum_effects_upper  \n",
       "0                     NaN  \n",
       "1                     NaN  \n",
       "2                     NaN  \n",
       "3                     NaN  \n",
       "4                     NaN  "
      ]
     },
     "execution_count": 64,
     "metadata": {},
     "output_type": "execute_result"
    }
   ],
   "source": [
    "ci_cpi.inferences.head()"
   ]
  },
  {
   "cell_type": "markdown",
   "metadata": {},
   "source": [
    "## Impacto causal entre desempleo e incendios"
   ]
  },
  {
   "cell_type": "markdown",
   "metadata": {},
   "source": [
    "En primer lugar, convertimos a integer nuestras variables 'year' y 'month' para poder utilizarlos en el modelo."
   ]
  },
  {
   "cell_type": "code",
   "execution_count": 65,
   "metadata": {},
   "outputs": [],
   "source": [
    "fueg_desemp.year = np.int64(fueg_desemp.year)\n",
    "fueg_desemp.month = np.int64(fueg_desemp.month)"
   ]
  },
  {
   "cell_type": "markdown",
   "metadata": {},
   "source": [
    "Repetimos la misma acción para el desempleo. Especificamos en los datos que periodo debe utilizarse tanto para entrenar al modelo como el contrafactual; empleando 90 meses para el entrenamiento y los restantes 30 para obtener predicciones."
   ]
  },
  {
   "cell_type": "code",
   "execution_count": 66,
   "metadata": {
    "scrolled": true
   },
   "outputs": [
    {
     "name": "stderr",
     "output_type": "stream",
     "text": [
      "C:\\Users\\Luli\\Documents\\Anaconda\\lib\\site-packages\\statsmodels\\tsa\\base\\tsa_model.py:215: ValueWarning: An unsupported index was provided and will be ignored when e.g. forecasting.\n",
      "  ' ignored when e.g. forecasting.', ValueWarning)\n"
     ]
    }
   ],
   "source": [
    "random.seed(123)\n",
    "pre_period3 = [0, 90]\n",
    "post_period3 = [91, 120]\n",
    "ci_des = CausalImpact(fueg_desemp, pre_period3, post_period3, prior_level_sd = None)"
   ]
  },
  {
   "cell_type": "code",
   "execution_count": 67,
   "metadata": {},
   "outputs": [
    {
     "data": {
      "image/png": "[encoded data removed]",
      "text/plain": [
       "<Figure size 1080x864 with 3 Axes>"
      ]
     },
     "metadata": {
      "needs_background": "light"
     },
     "output_type": "display_data"
    }
   ],
   "source": [
    "ci_des.plot()"
   ]
  },
  {
   "cell_type": "code",
   "execution_count": 68,
   "metadata": {
    "scrolled": true
   },
   "outputs": [
    {
     "name": "stdout",
     "output_type": "stream",
     "text": [
      "Posterior Inference {Causal Impact}\n",
      "                          Average            Cumulative\n",
      "Actual                    5.67               170.03\n",
      "Prediction (s.d.)         4.73 (0.58)        141.86 (17.41)\n",
      "95% CI                    [3.6, 5.88]        [108.14, 176.4]\n",
      "\n",
      "Absolute effect (s.d.)    0.94 (0.58)        28.17 (17.41)\n",
      "95% CI                    [-0.21, 2.06]      [-6.37, 61.89]\n",
      "\n",
      "Relative effect (s.d.)    19.86% (12.27%)    19.86% (12.27%)\n",
      "95% CI                    [-4.49%, 43.63%]   [-4.49%, 43.63%]\n",
      "\n",
      "Posterior tail-area probability p: 0.06\n",
      "Posterior prob. of a causal effect: 94.11%\n",
      "\n",
      "For more details run the command: print(impact.summary('report'))\n"
     ]
    }
   ],
   "source": [
    "print(ci_des.summary())"
   ]
  },
  {
   "cell_type": "markdown",
   "metadata": {},
   "source": [
    "Podemos observar que el efecto causal promedio estimado del tratamiento fue de 0.94. El intervalo posterior del 95% del efecto promedio es [-0.17, 2.1] . Como esto incluye 0, concluimos que la intervención no tuvo un efecto causal en la variable de respuesta."
   ]
  },
  {
   "cell_type": "code",
   "execution_count": 69,
   "metadata": {
    "scrolled": true
   },
   "outputs": [
    {
     "name": "stdout",
     "output_type": "stream",
     "text": [
      "Analysis report {CausalImpact}\n",
      "\n",
      "\n",
      "During the post-intervention period, the response variable had\n",
      "an average value of approx. 5.67. In the absence of an\n",
      "intervention, we would have expected an average response of 4.73.\n",
      "The 95% interval of this counterfactual prediction is [3.6, 5.88].\n",
      "Subtracting this prediction from the observed response yields\n",
      "an estimate of the causal effect the intervention had on the\n",
      "response variable. This effect is 0.94 with a 95% interval of\n",
      "[-0.21, 2.06]. For a discussion of the significance of this effect,\n",
      "see below.\n",
      "\n",
      "\n",
      "Summing up the individual data points during the post-intervention\n",
      "period (which can only sometimes be meaningfully interpreted), the\n",
      "response variable had an overall value of 170.03.\n",
      "Had the intervention not taken place, we would have expected\n",
      "a sum of 141.86. The 95% interval of this prediction is [108.14, 176.4].\n",
      "\n",
      "\n",
      "The above results are given in terms of absolute numbers. In relative\n",
      "terms, the response variable showed an increase of +19.86%. The 95%\n",
      "interval of this percentage is [-4.49%, 43.63%].\n",
      "\n",
      "\n",
      "This means that, although the intervention appears to have caused a\n",
      "positive effect, this effect is not statistically significant when\n",
      "considering the entire post-intervention period as a whole. Individual\n",
      "days or shorter stretches within the intervention period may of course\n",
      "still have had a significant effect, as indicated whenever the lower\n",
      "limit of the impact time series (lower plot) was above zero.\n",
      "\n",
      "\n",
      "The apparent effect could be the result of random fluctuations that\n",
      "are unrelated to the intervention. This is often the case when the\n",
      "intervention period is very long and includes much of the time when\n",
      "the effect has already worn off. It can also be the case when the\n",
      "intervention period is too short to distinguish the signal from the\n",
      "noise. Finally, failing to find a significant effect can happen when\n",
      "there are not enough control variables or when these variables do not\n",
      "correlate well with the response variable during the learning period.\n",
      "\n",
      "\n",
      "The probability of obtaining this effect by chance is p = 5.89%.\n",
      "This means the effect may be spurious and would generally not be\n",
      "considered statistically significant.\n"
     ]
    }
   ],
   "source": [
    "print(ci_des.summary(output='report'))\n"
   ]
  },
  {
   "cell_type": "markdown",
   "metadata": {},
   "source": [
    "La probabilidad de obtener este efecto por casualidad es p = 5.09%. Esto significa que el efecto puede ser espurio y generalmente no lo sería considerado estadísticamente significativo."
   ]
  },
  {
   "cell_type": "code",
   "execution_count": 70,
   "metadata": {
    "scrolled": false
   },
   "outputs": [
    {
     "data": {
      "text/html": [
       "<div>\n",
       "<style scoped>\n",
       "    .dataframe tbody tr th:only-of-type {\n",
       "        vertical-align: middle;\n",
       "    }\n",
       "\n",
       "    .dataframe tbody tr th {\n",
       "        vertical-align: top;\n",
       "    }\n",
       "\n",
       "    .dataframe thead th {\n",
       "        text-align: right;\n",
       "    }\n",
       "</style>\n",
       "<table border=\"1\" class=\"dataframe\">\n",
       "  <thead>\n",
       "    <tr style=\"text-align: right;\">\n",
       "      <th></th>\n",
       "      <th>post_cum_y</th>\n",
       "      <th>preds</th>\n",
       "      <th>post_preds</th>\n",
       "      <th>post_preds_lower</th>\n",
       "      <th>post_preds_upper</th>\n",
       "      <th>preds_lower</th>\n",
       "      <th>preds_upper</th>\n",
       "      <th>post_cum_pred</th>\n",
       "      <th>post_cum_pred_lower</th>\n",
       "      <th>post_cum_pred_upper</th>\n",
       "      <th>point_effects</th>\n",
       "      <th>point_effects_lower</th>\n",
       "      <th>point_effects_upper</th>\n",
       "      <th>post_cum_effects</th>\n",
       "      <th>post_cum_effects_lower</th>\n",
       "      <th>post_cum_effects_upper</th>\n",
       "    </tr>\n",
       "  </thead>\n",
       "  <tbody>\n",
       "    <tr>\n",
       "      <td>0</td>\n",
       "      <td>NaN</td>\n",
       "      <td>9.837850</td>\n",
       "      <td>NaN</td>\n",
       "      <td>NaN</td>\n",
       "      <td>NaN</td>\n",
       "      <td>-3205.804592</td>\n",
       "      <td>3225.480292</td>\n",
       "      <td>NaN</td>\n",
       "      <td>NaN</td>\n",
       "      <td>NaN</td>\n",
       "      <td>0.272150</td>\n",
       "      <td>-3215.370292</td>\n",
       "      <td>3215.914592</td>\n",
       "      <td>NaN</td>\n",
       "      <td>NaN</td>\n",
       "      <td>NaN</td>\n",
       "    </tr>\n",
       "    <tr>\n",
       "      <td>1</td>\n",
       "      <td>NaN</td>\n",
       "      <td>10.059506</td>\n",
       "      <td>NaN</td>\n",
       "      <td>NaN</td>\n",
       "      <td>NaN</td>\n",
       "      <td>9.628853</td>\n",
       "      <td>10.490158</td>\n",
       "      <td>NaN</td>\n",
       "      <td>NaN</td>\n",
       "      <td>NaN</td>\n",
       "      <td>-0.379506</td>\n",
       "      <td>-0.810158</td>\n",
       "      <td>0.051147</td>\n",
       "      <td>NaN</td>\n",
       "      <td>NaN</td>\n",
       "      <td>NaN</td>\n",
       "    </tr>\n",
       "    <tr>\n",
       "      <td>2</td>\n",
       "      <td>NaN</td>\n",
       "      <td>9.751679</td>\n",
       "      <td>NaN</td>\n",
       "      <td>NaN</td>\n",
       "      <td>NaN</td>\n",
       "      <td>9.327431</td>\n",
       "      <td>10.175927</td>\n",
       "      <td>NaN</td>\n",
       "      <td>NaN</td>\n",
       "      <td>NaN</td>\n",
       "      <td>-0.131679</td>\n",
       "      <td>-0.555927</td>\n",
       "      <td>0.292569</td>\n",
       "      <td>NaN</td>\n",
       "      <td>NaN</td>\n",
       "      <td>NaN</td>\n",
       "    </tr>\n",
       "    <tr>\n",
       "      <td>3</td>\n",
       "      <td>NaN</td>\n",
       "      <td>9.588302</td>\n",
       "      <td>NaN</td>\n",
       "      <td>NaN</td>\n",
       "      <td>NaN</td>\n",
       "      <td>9.164250</td>\n",
       "      <td>10.012354</td>\n",
       "      <td>NaN</td>\n",
       "      <td>NaN</td>\n",
       "      <td>NaN</td>\n",
       "      <td>0.311698</td>\n",
       "      <td>-0.112354</td>\n",
       "      <td>0.735750</td>\n",
       "      <td>NaN</td>\n",
       "      <td>NaN</td>\n",
       "      <td>NaN</td>\n",
       "    </tr>\n",
       "    <tr>\n",
       "      <td>4</td>\n",
       "      <td>NaN</td>\n",
       "      <td>9.789175</td>\n",
       "      <td>NaN</td>\n",
       "      <td>NaN</td>\n",
       "      <td>NaN</td>\n",
       "      <td>9.365129</td>\n",
       "      <td>10.213220</td>\n",
       "      <td>NaN</td>\n",
       "      <td>NaN</td>\n",
       "      <td>NaN</td>\n",
       "      <td>0.080825</td>\n",
       "      <td>-0.343220</td>\n",
       "      <td>0.504871</td>\n",
       "      <td>NaN</td>\n",
       "      <td>NaN</td>\n",
       "      <td>NaN</td>\n",
       "    </tr>\n",
       "  </tbody>\n",
       "</table>\n",
       "</div>"
      ],
      "text/plain": [
       "   post_cum_y      preds  post_preds  post_preds_lower  post_preds_upper  \\\n",
       "0         NaN   9.837850         NaN               NaN               NaN   \n",
       "1         NaN  10.059506         NaN               NaN               NaN   \n",
       "2         NaN   9.751679         NaN               NaN               NaN   \n",
       "3         NaN   9.588302         NaN               NaN               NaN   \n",
       "4         NaN   9.789175         NaN               NaN               NaN   \n",
       "\n",
       "   preds_lower  preds_upper  post_cum_pred  post_cum_pred_lower  \\\n",
       "0 -3205.804592  3225.480292            NaN                  NaN   \n",
       "1     9.628853    10.490158            NaN                  NaN   \n",
       "2     9.327431    10.175927            NaN                  NaN   \n",
       "3     9.164250    10.012354            NaN                  NaN   \n",
       "4     9.365129    10.213220            NaN                  NaN   \n",
       "\n",
       "   post_cum_pred_upper  point_effects  point_effects_lower  \\\n",
       "0                  NaN       0.272150         -3215.370292   \n",
       "1                  NaN      -0.379506            -0.810158   \n",
       "2                  NaN      -0.131679            -0.555927   \n",
       "3                  NaN       0.311698            -0.112354   \n",
       "4                  NaN       0.080825            -0.343220   \n",
       "\n",
       "   point_effects_upper  post_cum_effects  post_cum_effects_lower  \\\n",
       "0          3215.914592               NaN                     NaN   \n",
       "1             0.051147               NaN                     NaN   \n",
       "2             0.292569               NaN                     NaN   \n",
       "3             0.735750               NaN                     NaN   \n",
       "4             0.504871               NaN                     NaN   \n",
       "\n",
       "   post_cum_effects_upper  \n",
       "0                     NaN  \n",
       "1                     NaN  \n",
       "2                     NaN  \n",
       "3                     NaN  \n",
       "4                     NaN  "
      ]
     },
     "execution_count": 70,
     "metadata": {},
     "output_type": "execute_result"
    }
   ],
   "source": [
    "ci_des.inferences.head()"
   ]
  },
  {
   "cell_type": "markdown",
   "metadata": {},
   "source": [
    "## Impacto causal entre población e incendios"
   ]
  },
  {
   "cell_type": "markdown",
   "metadata": {},
   "source": [
    "En primer lugar, convertimos a integer nuestras variables 'year' y 'month' para poder utilizarlos en el modelo."
   ]
  },
  {
   "cell_type": "code",
   "execution_count": 71,
   "metadata": {},
   "outputs": [],
   "source": [
    "fueg_pob.year = np.int64(fueg_pob.year)\n",
    "fueg_pob.month = np.int64(fueg_pob.month)"
   ]
  },
  {
   "cell_type": "code",
   "execution_count": 72,
   "metadata": {},
   "outputs": [
    {
     "data": {
      "text/plain": [
       "Total        122\n",
       "firespots    122\n",
       "year         122\n",
       "month        122\n",
       "dtype: int64"
      ]
     },
     "execution_count": 72,
     "metadata": {},
     "output_type": "execute_result"
    }
   ],
   "source": [
    "fueg_pob.count()"
   ]
  },
  {
   "cell_type": "markdown",
   "metadata": {},
   "source": [
    "Repetimos la misma acción para la población. Especificamos en los datos que periodo debe utilizarse tanto para entrenar al modelo como el contrafactual; empleando 90 meses para el entrenamiento y los restantes 30 para obtener predicciones."
   ]
  },
  {
   "cell_type": "code",
   "execution_count": 73,
   "metadata": {},
   "outputs": [
    {
     "name": "stderr",
     "output_type": "stream",
     "text": [
      "C:\\Users\\Luli\\Documents\\Anaconda\\lib\\site-packages\\statsmodels\\tsa\\base\\tsa_model.py:215: ValueWarning: An unsupported index was provided and will be ignored when e.g. forecasting.\n",
      "  ' ignored when e.g. forecasting.', ValueWarning)\n"
     ]
    }
   ],
   "source": [
    "random.seed(123)\n",
    "pre_period4 = [0, 90]\n",
    "post_period4 = [91,120]\n",
    "ci_pob = CausalImpact(fueg_pob, pre_period4, post_period4, prior_level_sd = None)"
   ]
  },
  {
   "cell_type": "code",
   "execution_count": 74,
   "metadata": {},
   "outputs": [
    {
     "data": {
      "image/png": "[encoded data removed]",
      "text/plain": [
       "<Figure size 1080x864 with 3 Axes>"
      ]
     },
     "metadata": {
      "needs_background": "light"
     },
     "output_type": "display_data"
    }
   ],
   "source": [
    "ci_pob.plot()"
   ]
  },
  {
   "cell_type": "code",
   "execution_count": 75,
   "metadata": {},
   "outputs": [
    {
     "name": "stdout",
     "output_type": "stream",
     "text": [
      "Posterior Inference {Causal Impact}\n",
      "                          Average            Cumulative\n",
      "Actual                    202986853.33       6089605600.0\n",
      "Prediction (s.d.)         203146809.03 (86233.46)6094404270.8 (2587003.66)\n",
      "95% CI                    [202975839.74, 203313868.68][6089275192.35, 6099416060.35]\n",
      "\n",
      "Absolute effect (s.d.)    -159955.69 (86233.46)-4798670.8 (2587003.66)\n",
      "95% CI                    [-327015.34, 11013.59][-9810460.35, 330407.65]\n",
      "\n",
      "Relative effect (s.d.)    -0.08% (0.04%)     -0.08% (0.04%)\n",
      "95% CI                    [-0.16%, 0.01%]    [-0.16%, 0.01%]\n",
      "\n",
      "Posterior tail-area probability p: 0.03\n",
      "Posterior prob. of a causal effect: 96.7%\n",
      "\n",
      "For more details run the command: print(impact.summary('report'))\n"
     ]
    }
   ],
   "source": [
    "print(ci_pob.summary())"
   ]
  },
  {
   "cell_type": "markdown",
   "metadata": {},
   "source": [
    "Podemos observar que el efecto causal promedio estimado del tratamiento fue de -159955.69. El intervalo posterior del 95% del efecto promedio es [-338644.64, 23708.44]. Como esto incluye 0, concluimos que la intervención tuvo un efecto causal en la variable de respuesta."
   ]
  },
  {
   "cell_type": "code",
   "execution_count": 76,
   "metadata": {
    "scrolled": true
   },
   "outputs": [
    {
     "name": "stdout",
     "output_type": "stream",
     "text": [
      "Analysis report {CausalImpact}\n",
      "\n",
      "\n",
      "During the post-intervention period, the response variable had\n",
      "an average value of approx. 202986853.33. In the absence of an\n",
      "intervention, we would have expected an average response of 203146809.03.\n",
      "The 95% interval of this counterfactual prediction is [202975839.74, 203313868.68].\n",
      "Subtracting this prediction from the observed response yields\n",
      "an estimate of the causal effect the intervention had on the\n",
      "response variable. This effect is -159955.69 with a 95% interval of\n",
      "[-327015.34, 11013.59]. For a discussion of the significance of this effect,\n",
      "see below.\n",
      "\n",
      "\n",
      "Summing up the individual data points during the post-intervention\n",
      "period (which can only sometimes be meaningfully interpreted), the\n",
      "response variable had an overall value of 6089605600.0.\n",
      "Had the intervention not taken place, we would have expected\n",
      "a sum of 6094404270.8. The 95% interval of this prediction is [6089275192.35, 6099416060.35].\n",
      "\n",
      "\n",
      "The above results are given in terms of absolute numbers. In relative\n",
      "terms, the response variable showed a decrease of -0.08%. The 95%\n",
      "interval of this percentage is [-0.16%, 0.01%].\n",
      "This means that, although it may look as though the intervention has\n",
      "exerted a negative effect on the response variable when considering\n",
      "the intervention period as a whole, this effect is not statistically\n",
      "significant and so cannot be meaningfully interpreted.\n",
      "\n",
      "\n",
      "The apparent effect could be the result of random fluctuations that\n",
      "are unrelated to the intervention. This is often the case when the\n",
      "intervention period is very long and includes much of the time when\n",
      "the effect has already worn off. It can also be the case when the\n",
      "intervention period is too short to distinguish the signal from the\n",
      "noise. Finally, failing to find a significant effect can happen when\n",
      "there are not enough control variables or when these variables do not\n",
      "correlate well with the response variable during the learning period.\n",
      "\n",
      "\n",
      "The probability of obtaining this effect by chance is very small\n",
      "(Bayesian one-sided tail-area probability p = 0.03).\n",
      "This means the causal effect can be considered statistically\n",
      "significant.\n"
     ]
    }
   ],
   "source": [
    "print(ci_pob.summary(output='report'))\n"
   ]
  },
  {
   "cell_type": "markdown",
   "metadata": {},
   "source": [
    "La probabilidad de obtener este efecto por casualidad es p = 0.05. Esto significa que el efecto puede ser espurio y generalmente no lo sería considerado estadísticamente significativo."
   ]
  },
  {
   "cell_type": "code",
   "execution_count": 77,
   "metadata": {
    "scrolled": false
   },
   "outputs": [
    {
     "data": {
      "text/html": [
       "<div>\n",
       "<style scoped>\n",
       "    .dataframe tbody tr th:only-of-type {\n",
       "        vertical-align: middle;\n",
       "    }\n",
       "\n",
       "    .dataframe tbody tr th {\n",
       "        vertical-align: top;\n",
       "    }\n",
       "\n",
       "    .dataframe thead th {\n",
       "        text-align: right;\n",
       "    }\n",
       "</style>\n",
       "<table border=\"1\" class=\"dataframe\">\n",
       "  <thead>\n",
       "    <tr style=\"text-align: right;\">\n",
       "      <th></th>\n",
       "      <th>post_cum_y</th>\n",
       "      <th>preds</th>\n",
       "      <th>post_preds</th>\n",
       "      <th>post_preds_lower</th>\n",
       "      <th>post_preds_upper</th>\n",
       "      <th>preds_lower</th>\n",
       "      <th>preds_upper</th>\n",
       "      <th>post_cum_pred</th>\n",
       "      <th>post_cum_pred_lower</th>\n",
       "      <th>post_cum_pred_upper</th>\n",
       "      <th>point_effects</th>\n",
       "      <th>point_effects_lower</th>\n",
       "      <th>point_effects_upper</th>\n",
       "      <th>post_cum_effects</th>\n",
       "      <th>post_cum_effects_lower</th>\n",
       "      <th>post_cum_effects_upper</th>\n",
       "    </tr>\n",
       "  </thead>\n",
       "  <tbody>\n",
       "    <tr>\n",
       "      <td>0</td>\n",
       "      <td>NaN</td>\n",
       "      <td>1.863490e+08</td>\n",
       "      <td>NaN</td>\n",
       "      <td>NaN</td>\n",
       "      <td>NaN</td>\n",
       "      <td>-7.836717e+09</td>\n",
       "      <td>8.209415e+09</td>\n",
       "      <td>NaN</td>\n",
       "      <td>NaN</td>\n",
       "      <td>NaN</td>\n",
       "      <td>-221885.909589</td>\n",
       "      <td>-8.023288e+09</td>\n",
       "      <td>8.022844e+09</td>\n",
       "      <td>NaN</td>\n",
       "      <td>NaN</td>\n",
       "      <td>NaN</td>\n",
       "    </tr>\n",
       "    <tr>\n",
       "      <td>1</td>\n",
       "      <td>NaN</td>\n",
       "      <td>1.861272e+08</td>\n",
       "      <td>NaN</td>\n",
       "      <td>NaN</td>\n",
       "      <td>NaN</td>\n",
       "      <td>1.860728e+08</td>\n",
       "      <td>1.861816e+08</td>\n",
       "      <td>NaN</td>\n",
       "      <td>NaN</td>\n",
       "      <td>NaN</td>\n",
       "      <td>-66.846216</td>\n",
       "      <td>-5.447240e+04</td>\n",
       "      <td>5.433871e+04</td>\n",
       "      <td>NaN</td>\n",
       "      <td>NaN</td>\n",
       "      <td>NaN</td>\n",
       "    </tr>\n",
       "    <tr>\n",
       "      <td>2</td>\n",
       "      <td>NaN</td>\n",
       "      <td>1.879907e+08</td>\n",
       "      <td>NaN</td>\n",
       "      <td>NaN</td>\n",
       "      <td>NaN</td>\n",
       "      <td>1.879363e+08</td>\n",
       "      <td>1.880451e+08</td>\n",
       "      <td>NaN</td>\n",
       "      <td>NaN</td>\n",
       "      <td>NaN</td>\n",
       "      <td>176667.768320</td>\n",
       "      <td>1.222621e+05</td>\n",
       "      <td>2.310734e+05</td>\n",
       "      <td>NaN</td>\n",
       "      <td>NaN</td>\n",
       "      <td>NaN</td>\n",
       "    </tr>\n",
       "    <tr>\n",
       "      <td>3</td>\n",
       "      <td>NaN</td>\n",
       "      <td>1.881672e+08</td>\n",
       "      <td>NaN</td>\n",
       "      <td>NaN</td>\n",
       "      <td>NaN</td>\n",
       "      <td>1.881128e+08</td>\n",
       "      <td>1.882216e+08</td>\n",
       "      <td>NaN</td>\n",
       "      <td>NaN</td>\n",
       "      <td>NaN</td>\n",
       "      <td>141.530370</td>\n",
       "      <td>-5.426410e+04</td>\n",
       "      <td>5.454716e+04</td>\n",
       "      <td>NaN</td>\n",
       "      <td>NaN</td>\n",
       "      <td>NaN</td>\n",
       "    </tr>\n",
       "    <tr>\n",
       "      <td>4</td>\n",
       "      <td>NaN</td>\n",
       "      <td>1.881673e+08</td>\n",
       "      <td>NaN</td>\n",
       "      <td>NaN</td>\n",
       "      <td>NaN</td>\n",
       "      <td>1.881129e+08</td>\n",
       "      <td>1.882217e+08</td>\n",
       "      <td>NaN</td>\n",
       "      <td>NaN</td>\n",
       "      <td>NaN</td>\n",
       "      <td>68.847107</td>\n",
       "      <td>-5.433678e+04</td>\n",
       "      <td>5.447447e+04</td>\n",
       "      <td>NaN</td>\n",
       "      <td>NaN</td>\n",
       "      <td>NaN</td>\n",
       "    </tr>\n",
       "  </tbody>\n",
       "</table>\n",
       "</div>"
      ],
      "text/plain": [
       "   post_cum_y         preds  post_preds  post_preds_lower  post_preds_upper  \\\n",
       "0         NaN  1.863490e+08         NaN               NaN               NaN   \n",
       "1         NaN  1.861272e+08         NaN               NaN               NaN   \n",
       "2         NaN  1.879907e+08         NaN               NaN               NaN   \n",
       "3         NaN  1.881672e+08         NaN               NaN               NaN   \n",
       "4         NaN  1.881673e+08         NaN               NaN               NaN   \n",
       "\n",
       "    preds_lower   preds_upper  post_cum_pred  post_cum_pred_lower  \\\n",
       "0 -7.836717e+09  8.209415e+09            NaN                  NaN   \n",
       "1  1.860728e+08  1.861816e+08            NaN                  NaN   \n",
       "2  1.879363e+08  1.880451e+08            NaN                  NaN   \n",
       "3  1.881128e+08  1.882216e+08            NaN                  NaN   \n",
       "4  1.881129e+08  1.882217e+08            NaN                  NaN   \n",
       "\n",
       "   post_cum_pred_upper  point_effects  point_effects_lower  \\\n",
       "0                  NaN -221885.909589        -8.023288e+09   \n",
       "1                  NaN     -66.846216        -5.447240e+04   \n",
       "2                  NaN  176667.768320         1.222621e+05   \n",
       "3                  NaN     141.530370        -5.426410e+04   \n",
       "4                  NaN      68.847107        -5.433678e+04   \n",
       "\n",
       "   point_effects_upper  post_cum_effects  post_cum_effects_lower  \\\n",
       "0         8.022844e+09               NaN                     NaN   \n",
       "1         5.433871e+04               NaN                     NaN   \n",
       "2         2.310734e+05               NaN                     NaN   \n",
       "3         5.454716e+04               NaN                     NaN   \n",
       "4         5.447447e+04               NaN                     NaN   \n",
       "\n",
       "   post_cum_effects_upper  \n",
       "0                     NaN  \n",
       "1                     NaN  \n",
       "2                     NaN  \n",
       "3                     NaN  \n",
       "4                     NaN  "
      ]
     },
     "execution_count": 77,
     "metadata": {},
     "output_type": "execute_result"
    }
   ],
   "source": [
    "ci_pob.inferences.head()"
   ]
  },
  {
   "cell_type": "markdown",
   "metadata": {},
   "source": [
    "## Conclusión:"
   ]
  },
  {
   "cell_type": "markdown",
   "metadata": {},
   "source": [
    "Para concluir este estudio, vemos como el único índice que tiene una relación de causalidad con los incendios ocurridos en Brasil en los últimos 10 años es el CPI. A continuación, se genera una posible interpretación de estos resultados aplicados a la economía del país.\n",
    "\n",
    "La relación entre ambos puede deberse a que, debido a los incendios, se pierden recursos en varios sectores, principalmente el de la agricultura. De esta forma, el índice de Precios al Consumo se ve afectado porque el precio de estos productos incrementan y cambian los hábitos de consumo de la población. \n",
    "\n",
    "Vemos además que este hecho ha enviado a la moneda brasileña a su nivel más bajo en 12 años respecto del dólar. \n",
    "\n",
    "En el caso de los demás índices, cabe mencionar también por qué no resultan estar relacionados a los incendios. En el caso de la población, se ve como crece progresivamente con los años, sin verse influenciada por otros aspectos. En el caso del PIB y el desempleo, nos han sorprendido los resultados pues la hipótesis inicial era que sí habría una relación causal importante entre ellos. "
   ]
  },
  {
   "cell_type": "markdown",
   "metadata": {},
   "source": [
    "## Bibliografía:\n",
    "\n",
    "* __World Bank__, _Population, Total for Brazil_ [POPTOTBRA647NWDB], retrieved from FRED, Federal Reserve Bank of St. Louis; https://fred.stlouisfed.org/series/POPTOTBRA647NWDB, January 31, 2020.\n",
    "* __Organization for Economic Co-operation and Development,__ _Consumer Price Index: All Items for Brazil_ [BRACPIALLMINMEI], retrieved from FRED, Federal Reserve Bank of St. Louis; https://fred.stlouisfed.org/series/BRACPIALLMINMEI, January 31, 2020.\n",
    "* __Organization for Economic Co-operation and Development__, _Unemployment Rate: Aged 15 and Over: All Persons for Brazil_ [LRUNTTTTBRM156S], retrieved from FRED, Federal Reserve Bank of St. Louis; https://fred.stlouisfed.org/series/LRUNTTTTBRM156S, January 31, 2020.\n",
    "* __Organization for Economic Co-operation and Development__, _Leading Indicators OECD: Reference series: Gross Domestic Product (GDP): Normalised for Brazil_ [BRALORSGPNOSTSAM], retrieved from FRED, Federal Reserve Bank of St. Louis; https://fred.stlouisfed.org/series/BRALORSGPNOSTSAM, January 31, 2020.\n",
    "* __K. H. Brodersen, A. Hauser__ (2017). _CausalImpact: An R package for causal inference using Bayesian structural time-series models._ Retrieved from GitHub. URL: https://google.github.io/CausalImpact/CausalImpact.html#working-with-dates-and-times\n",
    "* __J. Corellano__ (2019). _INCENDIOS BRASIL_. Lo que se esconde tras los incendios de la Amazonia: es el mercado, amigo. Retrieved from Público. URL: https://www.publico.es/sociedad/incendios-brasil-esconde-incendios-amazonia-mercado-amigo.html\n",
    "* __A. Benites__ (2019). _El millonario negocio de los incendios en la Amazonia_. Retrieved from EL PAÍs. URL: https://elpais.com/internacional/2019/08/27/actualidad/1566864699_526443.html\n",
    "* __A. Castedo__ (2019). _Incendios en el Amazonas: quién se beneficia de la explotación económica de la Amazonía brasileña_. Retrieved from BBC. URL: https://www.bbc.com/mundo/noticias-america-latina-49514582\n",
    "* __A. Symonds__ (2019). _Lo que debes saber sobre el incendio en la Amazonía_. Retrieved from The New York Times; América del Sur. URL: https://www.nytimes.com/es/2019/08/23/espanol/america-latina/incendios-amazonia-bolsonaro.html\n",
    "* __B. Jucá__ (2019). _Un grupo de fondos de inversión eleva la presión sobre la política ambiental de Bolsonaro_. Retrieved from EL PAÍS: Internacional. URL: https://elpais.com/internacional/2019/09/18/actualidad/1568838133_361572.html\n",
    "* __A. Kurmanaev y M. Machicao__ (2019). _A medida que la Amazonía arde, los incendios generan caos en Bolivia_. Retrieved from The New York Times.URL: https://www.infobae.com/america/the-new-york-times/2019/08/26/a-medida-que-la-amazonia-arde-los-incendios-generan-caos-en-bolivia/\n",
    "* __P. Trevisani__ (2015). _La inflación y las altas tasas de interés mantienen a Brasil contra la pared_. Retrieved from The Wall Street Journal; Spanish. URL: https://www.wsj.com/articles/la-inflacion-y-las-altas-tasas-de-interes-mantienen-a-brasil-contra-la-pared-1438056218"
   ]
  }
 ],
 "metadata": {
  "kernelspec": {
   "display_name": "Python 3",
   "language": "python",
   "name": "python3"
  },
  "language_info": {
   "codemirror_mode": {
    "name": "ipython",
    "version": 3
   },
   "file_extension": ".py",
   "mimetype": "text/x-python",
   "name": "python",
   "nbconvert_exporter": "python",
   "pygments_lexer": "ipython3",
   "version": "3.7.4"
  }
 },
 "nbformat": 4,
 "nbformat_minor": 2
}
